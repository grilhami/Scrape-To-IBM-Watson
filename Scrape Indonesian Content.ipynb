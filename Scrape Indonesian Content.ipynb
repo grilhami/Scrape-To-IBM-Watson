{
 "cells": [
  {
   "cell_type": "code",
   "execution_count": 1,
   "metadata": {},
   "outputs": [],
   "source": [
    "# CNN Indonesia\n",
    "# Kompas\n",
    "# Kontan\n",
    "# liputan6\n",
    "# tribunews\n",
    "# the jakarta post"
   ]
  },
  {
   "cell_type": "code",
   "execution_count": 1,
   "metadata": {},
   "outputs": [],
   "source": [
    "from bs4 import BeautifulSoup\n",
    "from googletrans import Translator; translator = Translator();\n",
    "from tqdm import tqdm\n",
    "from urllib.request import urlopen, Request\n",
    "from urllib.parse import urlparse\n",
    "\n",
    "import requests\n",
    "import datefinder\n",
    "import dateutil.parser\n",
    "import datetime\n",
    "import time"
   ]
  },
  {
   "cell_type": "code",
   "execution_count": 2,
   "metadata": {},
   "outputs": [],
   "source": [
    "month_id = [\"Januari\", \"Februari\", \"Maret\", \"April\", \"Mei\", \n",
    "            \"Juni\", \"Juli\", \"Agustus\", \"September\", \"Oktober\", \n",
    "            \"November\", \"Desember\"]\n",
    "month_dict = {month: translator.translate(month, src=\"id\", dest=\"en\").text for month in month_id}\n",
    "month_dict_shrt= {month[:3]: translator.translate(month, src=\"id\", dest=\"en\").text[:3] for month in month_id}"
   ]
  },
  {
   "cell_type": "code",
   "execution_count": 3,
   "metadata": {},
   "outputs": [],
   "source": [
    "def get_date_year(url, html_tag, attribute, element):\n",
    "    assert isinstance(url, str), \"Argument given not a str, but a {}\".format(type(url))\n",
    "    MAX_RETRIES = 20\n",
    "    headers = {'User-Agent': 'Mozilla/5.0 (Macintosh; Intel Mac OS X 10_11_5) AppleWebKit/537.36 (KHTML, like Gecko) Chrome/50.0.2661.102 Safari/537.36'}\n",
    "\n",
    "    session = requests.Session()\n",
    "    adapter = requests.adapters.HTTPAdapter(max_retries=MAX_RETRIES)\n",
    "    session.mount('https://', adapter)\n",
    "    session.mount('http://', adapter)\n",
    "\n",
    "    r = session.get(url, headers=headers)\n",
    "    \n",
    "    month_dict = {'Januari': 'January',\n",
    "                 'Februari': 'February',\n",
    "                 'Maret': 'March',\n",
    "                 'April': 'April',\n",
    "                 'Mei': 'May',\n",
    "                 'Juni': 'June',\n",
    "                 'Juli': 'July',  \n",
    "                 'Agustus': 'August',\n",
    "                 'September': 'September',\n",
    "                 'Oktober': 'October',\n",
    "                 'November': 'November',\n",
    "                 'Desember': 'December'}\n",
    "    \n",
    "    month_dict_shrt = {'Jan': 'Jan',\n",
    "                         'Feb': 'Feb',\n",
    "                         'Mar': 'Mar',\n",
    "                         'Apr': 'Apr',\n",
    "                         'Mei': 'May',\n",
    "                         'Jun': 'Jun',\n",
    "                         'Jul': 'Jul',\n",
    "                         'Agu': 'Aug',\n",
    "                         'Sep': 'Sep',\n",
    "                         'Okt': 'Oct',\n",
    "                         'Nov': 'Nov',\n",
    "                         'Des': 'Dec'}\n",
    "    \n",
    "\n",
    "    soup = BeautifulSoup(r.content)\n",
    "    \n",
    "    txt = soup.find(html_tag, {attribute: element}).text\n",
    "    \n",
    "    for month in month_dict.keys():\n",
    "    \n",
    "        if month in txt:\n",
    "            txt = txt.replace(month, month_dict[month])\n",
    "        else:\n",
    "            pass\n",
    "\n",
    "    for month in month_dict_shrt.keys():\n",
    "\n",
    "        if month in txt:\n",
    "            txt = txt.replace(month, month_dict_shrt[month])\n",
    "        else:\n",
    "            pass\n",
    "#     txt = translator.translate(txt, src=\"id\", dest=\"en\")\n",
    "    print(txt)\n",
    "    match = dateutil.parser.parse(txt, fuzzy=True).year\n",
    "    return match\n",
    "    \n",
    "#     try:\n",
    "#         matches = datefinder.find_dates(txt)\n",
    "#     else:\n",
    "#         raise "
   ]
  },
  {
   "cell_type": "code",
   "execution_count": 4,
   "metadata": {},
   "outputs": [],
   "source": [
    "from selenium import webdriver\n",
    "from selenium.webdriver.common.keys import Keys\n",
    "from selenium.webdriver.common.by import By\n",
    "from selenium.webdriver.support.ui import WebDriverWait\n",
    "from selenium.webdriver.support import expected_conditions as EC\n",
    "from tqdm import tqdm\n",
    "import time"
   ]
  },
  {
   "cell_type": "code",
   "execution_count": 5,
   "metadata": {},
   "outputs": [],
   "source": [
    "from selenium.webdriver.chrome.options import Options\n",
    "options = Options()\n",
    "options.headless = True"
   ]
  },
  {
   "cell_type": "markdown",
   "metadata": {},
   "source": [
    "# Detik Section"
   ]
  },
  {
   "cell_type": "code",
   "execution_count": 7,
   "metadata": {},
   "outputs": [],
   "source": [
    "chromedriver_path = \"/mnt/c/Users/Gilang R Ilhami/Desktop/personal_projects/ibm_stuff/chromedriver.exe\"\n",
    "driver = webdriver.Chrome(executable_path=chromedriver_path, options=options)"
   ]
  },
  {
   "cell_type": "code",
   "execution_count": 8,
   "metadata": {},
   "outputs": [],
   "source": [
    "def detik_scraper(driver, first_year, second_year, keyword):\n",
    "    driver.get(\"https://www.detik.com/\")\n",
    "    driver.implicitly_wait(20)\n",
    "\n",
    "    driver.implicitly_wait(10)\n",
    "    input_search = driver.find_element_by_xpath(\"//*[@id='search_navbar']/input[1]\")\n",
    "    input_search.send_keys(keyword.lower())\n",
    "    input_search.send_keys(Keys.RETURN)\n",
    "    \n",
    "    driver.implicitly_wait(10)\n",
    "    news_list = driver.find_element_by_xpath(\"/html/body/div[2]/div/div[2]\")\n",
    "    link_list = news_list.find_elements_by_tag_name(\"a\")\n",
    "    link_list = [link.get_attribute(\"href\") for link in link_list if link.get_attribute(\"href\") is not None]\n",
    "    \n",
    "    if bool(link_list) is False:\n",
    "        return None\n",
    "\n",
    "    last_idx = -1\n",
    "    for _ in range(len(link_list)):\n",
    "        print(\"Last Index\", last_idx)\n",
    "        try:\n",
    "            last_news_year = get_date_year(link_list[last_idx], \"div\", \"class\", \"date\")\n",
    "            break\n",
    "        except Exception as e:\n",
    "            print(e)\n",
    "        last_idx -= 1\n",
    "        \n",
    "    if last_news_year < first_year:\n",
    "        all_link_list = link_list\n",
    "    else:\n",
    "        all_link_list = []\n",
    "        \n",
    "    while last_news_year >= first_year:\n",
    "        print(\"Getting links...\")\n",
    "\n",
    "        # Wait to load page\n",
    "        time.sleep(5)\n",
    "\n",
    "        driver.implicitly_wait(10)\n",
    "        news_list = driver.find_element_by_xpath(\"/html/body/div[2]/div/div[2]\")\n",
    "        link_list = news_list.find_elements_by_tag_name(\"a\")\n",
    "        link_list = [link.get_attribute(\"href\") for link in link_list if link.get_attribute(\"href\") is not None]\n",
    "\n",
    "        all_link_list.extend(link_list)\n",
    "\n",
    "        last_idx = -1\n",
    "\n",
    "        for _ in range(len(link_list)):\n",
    "            try:\n",
    "                last_news_year = get_date_year(link_list[last_idx], \"div\", \"class\", \"date\")\n",
    "                break\n",
    "            except Exception as e:\n",
    "                print(e)\n",
    "            last_idx -= 1\n",
    "        \n",
    "        try:\n",
    "            page_list = driver.find_element_by_tag_name(\"div[class*='paging text_center']\")\n",
    "            current_page = page_list.find_element_by_tag_name(\"a[class*='selected']\")\n",
    "            current_page_num = int(current_page.text)\n",
    "            current_page_link = current_page.get_attribute(\"href\")\n",
    "        except Exception as e:\n",
    "            print(\"Something went wrong while going to next page.\")\n",
    "            print(e)\n",
    "            \n",
    "            print(\"Going back\")\n",
    "            driver.execute_script(\"window.history.go(-1)\")\n",
    "            \n",
    "            print(\"Skipping next page\")\n",
    "            next_next_page = current_page_num + 2\n",
    "            next_next_link = current_page_link[:-1] + str(next_next_page)\n",
    "            driver.get(next_next_link)\n",
    "        else:\n",
    "            next_page = page_list.find_elements_by_tag_name(\"a\")[-1]\n",
    "            next_page.click()\n",
    "        \n",
    "    link_list = all_link_list.copy()\n",
    "    first_year_contents = []\n",
    "    second_year_contetns = []\n",
    "\n",
    "    all_index = set(map(link_list.index, link_list))\n",
    "\n",
    "    error_dates_index = set()\n",
    "\n",
    "    for link in link_list:\n",
    "        try:\n",
    "            date = get_date_year(link,\"div\", \"class\", \"date\")\n",
    "        except Exception as e:\n",
    "            print(link)\n",
    "            print(e, end=\"\\n\\n\")\n",
    "            error_idx = link_list.index(link)\n",
    "            error_dates_index.add(error_idx)\n",
    "\n",
    "    can_get_dates_index = list(all_index - error_dates_index)\n",
    "\n",
    "    current_date = datetime.datetime.now()\n",
    "    current_year = current_date.year\n",
    "\n",
    "    for content_index in can_get_dates_index:\n",
    "\n",
    "        # News Publish Date\n",
    "        content_date = get_date_year(link_list[content_index],\"div\", \"class\", \"date\")\n",
    "        print(content_date)\n",
    "\n",
    "        # First year news\n",
    "        if content_date >= first_year and content_date < second_year:\n",
    "            first_year_contents.append(link_list[content_index])\n",
    "        elif content_date >= second_year and content_date < current_year:\n",
    "            second_year_contetns.append(link_list[content_index])\n",
    "        else:\n",
    "            pass\n",
    "        \n",
    "    return first_year_contents, second_year_contetns"
   ]
  },
  {
   "cell_type": "code",
   "execution_count": 10,
   "metadata": {
    "scrolled": true
   },
   "outputs": [
    {
     "ename": "MaxRetryError",
     "evalue": "HTTPConnectionPool(host='127.0.0.1', port=57475): Max retries exceeded with url: /session/bf295679a0146ff67f06dffec3084e7a/url (Caused by NewConnectionError('<urllib3.connection.HTTPConnection object at 0x7fad7f158400>: Failed to establish a new connection: [Errno 111] Connection refused',))",
     "output_type": "error",
     "traceback": [
      "\u001b[0;31m---------------------------------------------------------------------------\u001b[0m",
      "\u001b[0;31mConnectionRefusedError\u001b[0m                    Traceback (most recent call last)",
      "\u001b[0;32m/mnt/c/Users/Gilang R Ilhami/Desktop/personal_projects/ibm_stuff/ibmenv/lib/python3.6/site-packages/urllib3/connection.py\u001b[0m in \u001b[0;36m_new_conn\u001b[0;34m(self)\u001b[0m\n\u001b[1;32m    159\u001b[0m             conn = connection.create_connection(\n\u001b[0;32m--> 160\u001b[0;31m                 (self._dns_host, self.port), self.timeout, **extra_kw)\n\u001b[0m\u001b[1;32m    161\u001b[0m \u001b[0;34m\u001b[0m\u001b[0m\n",
      "\u001b[0;32m/mnt/c/Users/Gilang R Ilhami/Desktop/personal_projects/ibm_stuff/ibmenv/lib/python3.6/site-packages/urllib3/util/connection.py\u001b[0m in \u001b[0;36mcreate_connection\u001b[0;34m(address, timeout, source_address, socket_options)\u001b[0m\n\u001b[1;32m     79\u001b[0m     \u001b[0;32mif\u001b[0m \u001b[0merr\u001b[0m \u001b[0;32mis\u001b[0m \u001b[0;32mnot\u001b[0m \u001b[0;32mNone\u001b[0m\u001b[0;34m:\u001b[0m\u001b[0;34m\u001b[0m\u001b[0;34m\u001b[0m\u001b[0m\n\u001b[0;32m---> 80\u001b[0;31m         \u001b[0;32mraise\u001b[0m \u001b[0merr\u001b[0m\u001b[0;34m\u001b[0m\u001b[0;34m\u001b[0m\u001b[0m\n\u001b[0m\u001b[1;32m     81\u001b[0m \u001b[0;34m\u001b[0m\u001b[0m\n",
      "\u001b[0;32m/mnt/c/Users/Gilang R Ilhami/Desktop/personal_projects/ibm_stuff/ibmenv/lib/python3.6/site-packages/urllib3/util/connection.py\u001b[0m in \u001b[0;36mcreate_connection\u001b[0;34m(address, timeout, source_address, socket_options)\u001b[0m\n\u001b[1;32m     69\u001b[0m                 \u001b[0msock\u001b[0m\u001b[0;34m.\u001b[0m\u001b[0mbind\u001b[0m\u001b[0;34m(\u001b[0m\u001b[0msource_address\u001b[0m\u001b[0;34m)\u001b[0m\u001b[0;34m\u001b[0m\u001b[0;34m\u001b[0m\u001b[0m\n\u001b[0;32m---> 70\u001b[0;31m             \u001b[0msock\u001b[0m\u001b[0;34m.\u001b[0m\u001b[0mconnect\u001b[0m\u001b[0;34m(\u001b[0m\u001b[0msa\u001b[0m\u001b[0;34m)\u001b[0m\u001b[0;34m\u001b[0m\u001b[0;34m\u001b[0m\u001b[0m\n\u001b[0m\u001b[1;32m     71\u001b[0m             \u001b[0;32mreturn\u001b[0m \u001b[0msock\u001b[0m\u001b[0;34m\u001b[0m\u001b[0;34m\u001b[0m\u001b[0m\n",
      "\u001b[0;31mConnectionRefusedError\u001b[0m: [Errno 111] Connection refused",
      "\nDuring handling of the above exception, another exception occurred:\n",
      "\u001b[0;31mNewConnectionError\u001b[0m                        Traceback (most recent call last)",
      "\u001b[0;32m/mnt/c/Users/Gilang R Ilhami/Desktop/personal_projects/ibm_stuff/ibmenv/lib/python3.6/site-packages/urllib3/connectionpool.py\u001b[0m in \u001b[0;36murlopen\u001b[0;34m(self, method, url, body, headers, retries, redirect, assert_same_host, timeout, pool_timeout, release_conn, chunked, body_pos, **response_kw)\u001b[0m\n\u001b[1;32m    602\u001b[0m                                                   \u001b[0mbody\u001b[0m\u001b[0;34m=\u001b[0m\u001b[0mbody\u001b[0m\u001b[0;34m,\u001b[0m \u001b[0mheaders\u001b[0m\u001b[0;34m=\u001b[0m\u001b[0mheaders\u001b[0m\u001b[0;34m,\u001b[0m\u001b[0;34m\u001b[0m\u001b[0;34m\u001b[0m\u001b[0m\n\u001b[0;32m--> 603\u001b[0;31m                                                   chunked=chunked)\n\u001b[0m\u001b[1;32m    604\u001b[0m \u001b[0;34m\u001b[0m\u001b[0m\n",
      "\u001b[0;32m/mnt/c/Users/Gilang R Ilhami/Desktop/personal_projects/ibm_stuff/ibmenv/lib/python3.6/site-packages/urllib3/connectionpool.py\u001b[0m in \u001b[0;36m_make_request\u001b[0;34m(self, conn, method, url, timeout, chunked, **httplib_request_kw)\u001b[0m\n\u001b[1;32m    354\u001b[0m         \u001b[0;32melse\u001b[0m\u001b[0;34m:\u001b[0m\u001b[0;34m\u001b[0m\u001b[0;34m\u001b[0m\u001b[0m\n\u001b[0;32m--> 355\u001b[0;31m             \u001b[0mconn\u001b[0m\u001b[0;34m.\u001b[0m\u001b[0mrequest\u001b[0m\u001b[0;34m(\u001b[0m\u001b[0mmethod\u001b[0m\u001b[0;34m,\u001b[0m \u001b[0murl\u001b[0m\u001b[0;34m,\u001b[0m \u001b[0;34m**\u001b[0m\u001b[0mhttplib_request_kw\u001b[0m\u001b[0;34m)\u001b[0m\u001b[0;34m\u001b[0m\u001b[0;34m\u001b[0m\u001b[0m\n\u001b[0m\u001b[1;32m    356\u001b[0m \u001b[0;34m\u001b[0m\u001b[0m\n",
      "\u001b[0;32m/usr/lib/python3.6/http/client.py\u001b[0m in \u001b[0;36mrequest\u001b[0;34m(self, method, url, body, headers, encode_chunked)\u001b[0m\n\u001b[1;32m   1238\u001b[0m         \u001b[0;34m\"\"\"Send a complete request to the server.\"\"\"\u001b[0m\u001b[0;34m\u001b[0m\u001b[0;34m\u001b[0m\u001b[0m\n\u001b[0;32m-> 1239\u001b[0;31m         \u001b[0mself\u001b[0m\u001b[0;34m.\u001b[0m\u001b[0m_send_request\u001b[0m\u001b[0;34m(\u001b[0m\u001b[0mmethod\u001b[0m\u001b[0;34m,\u001b[0m \u001b[0murl\u001b[0m\u001b[0;34m,\u001b[0m \u001b[0mbody\u001b[0m\u001b[0;34m,\u001b[0m \u001b[0mheaders\u001b[0m\u001b[0;34m,\u001b[0m \u001b[0mencode_chunked\u001b[0m\u001b[0;34m)\u001b[0m\u001b[0;34m\u001b[0m\u001b[0;34m\u001b[0m\u001b[0m\n\u001b[0m\u001b[1;32m   1240\u001b[0m \u001b[0;34m\u001b[0m\u001b[0m\n",
      "\u001b[0;32m/usr/lib/python3.6/http/client.py\u001b[0m in \u001b[0;36m_send_request\u001b[0;34m(self, method, url, body, headers, encode_chunked)\u001b[0m\n\u001b[1;32m   1284\u001b[0m             \u001b[0mbody\u001b[0m \u001b[0;34m=\u001b[0m \u001b[0m_encode\u001b[0m\u001b[0;34m(\u001b[0m\u001b[0mbody\u001b[0m\u001b[0;34m,\u001b[0m \u001b[0;34m'body'\u001b[0m\u001b[0;34m)\u001b[0m\u001b[0;34m\u001b[0m\u001b[0;34m\u001b[0m\u001b[0m\n\u001b[0;32m-> 1285\u001b[0;31m         \u001b[0mself\u001b[0m\u001b[0;34m.\u001b[0m\u001b[0mendheaders\u001b[0m\u001b[0;34m(\u001b[0m\u001b[0mbody\u001b[0m\u001b[0;34m,\u001b[0m \u001b[0mencode_chunked\u001b[0m\u001b[0;34m=\u001b[0m\u001b[0mencode_chunked\u001b[0m\u001b[0;34m)\u001b[0m\u001b[0;34m\u001b[0m\u001b[0;34m\u001b[0m\u001b[0m\n\u001b[0m\u001b[1;32m   1286\u001b[0m \u001b[0;34m\u001b[0m\u001b[0m\n",
      "\u001b[0;32m/usr/lib/python3.6/http/client.py\u001b[0m in \u001b[0;36mendheaders\u001b[0;34m(self, message_body, encode_chunked)\u001b[0m\n\u001b[1;32m   1233\u001b[0m             \u001b[0;32mraise\u001b[0m \u001b[0mCannotSendHeader\u001b[0m\u001b[0;34m(\u001b[0m\u001b[0;34m)\u001b[0m\u001b[0;34m\u001b[0m\u001b[0;34m\u001b[0m\u001b[0m\n\u001b[0;32m-> 1234\u001b[0;31m         \u001b[0mself\u001b[0m\u001b[0;34m.\u001b[0m\u001b[0m_send_output\u001b[0m\u001b[0;34m(\u001b[0m\u001b[0mmessage_body\u001b[0m\u001b[0;34m,\u001b[0m \u001b[0mencode_chunked\u001b[0m\u001b[0;34m=\u001b[0m\u001b[0mencode_chunked\u001b[0m\u001b[0;34m)\u001b[0m\u001b[0;34m\u001b[0m\u001b[0;34m\u001b[0m\u001b[0m\n\u001b[0m\u001b[1;32m   1235\u001b[0m \u001b[0;34m\u001b[0m\u001b[0m\n",
      "\u001b[0;32m/usr/lib/python3.6/http/client.py\u001b[0m in \u001b[0;36m_send_output\u001b[0;34m(self, message_body, encode_chunked)\u001b[0m\n\u001b[1;32m   1025\u001b[0m         \u001b[0;32mdel\u001b[0m \u001b[0mself\u001b[0m\u001b[0;34m.\u001b[0m\u001b[0m_buffer\u001b[0m\u001b[0;34m[\u001b[0m\u001b[0;34m:\u001b[0m\u001b[0;34m]\u001b[0m\u001b[0;34m\u001b[0m\u001b[0;34m\u001b[0m\u001b[0m\n\u001b[0;32m-> 1026\u001b[0;31m         \u001b[0mself\u001b[0m\u001b[0;34m.\u001b[0m\u001b[0msend\u001b[0m\u001b[0;34m(\u001b[0m\u001b[0mmsg\u001b[0m\u001b[0;34m)\u001b[0m\u001b[0;34m\u001b[0m\u001b[0;34m\u001b[0m\u001b[0m\n\u001b[0m\u001b[1;32m   1027\u001b[0m \u001b[0;34m\u001b[0m\u001b[0m\n",
      "\u001b[0;32m/usr/lib/python3.6/http/client.py\u001b[0m in \u001b[0;36msend\u001b[0;34m(self, data)\u001b[0m\n\u001b[1;32m    963\u001b[0m             \u001b[0;32mif\u001b[0m \u001b[0mself\u001b[0m\u001b[0;34m.\u001b[0m\u001b[0mauto_open\u001b[0m\u001b[0;34m:\u001b[0m\u001b[0;34m\u001b[0m\u001b[0;34m\u001b[0m\u001b[0m\n\u001b[0;32m--> 964\u001b[0;31m                 \u001b[0mself\u001b[0m\u001b[0;34m.\u001b[0m\u001b[0mconnect\u001b[0m\u001b[0;34m(\u001b[0m\u001b[0;34m)\u001b[0m\u001b[0;34m\u001b[0m\u001b[0;34m\u001b[0m\u001b[0m\n\u001b[0m\u001b[1;32m    965\u001b[0m             \u001b[0;32melse\u001b[0m\u001b[0;34m:\u001b[0m\u001b[0;34m\u001b[0m\u001b[0;34m\u001b[0m\u001b[0m\n",
      "\u001b[0;32m/mnt/c/Users/Gilang R Ilhami/Desktop/personal_projects/ibm_stuff/ibmenv/lib/python3.6/site-packages/urllib3/connection.py\u001b[0m in \u001b[0;36mconnect\u001b[0;34m(self)\u001b[0m\n\u001b[1;32m    182\u001b[0m     \u001b[0;32mdef\u001b[0m \u001b[0mconnect\u001b[0m\u001b[0;34m(\u001b[0m\u001b[0mself\u001b[0m\u001b[0;34m)\u001b[0m\u001b[0;34m:\u001b[0m\u001b[0;34m\u001b[0m\u001b[0;34m\u001b[0m\u001b[0m\n\u001b[0;32m--> 183\u001b[0;31m         \u001b[0mconn\u001b[0m \u001b[0;34m=\u001b[0m \u001b[0mself\u001b[0m\u001b[0;34m.\u001b[0m\u001b[0m_new_conn\u001b[0m\u001b[0;34m(\u001b[0m\u001b[0;34m)\u001b[0m\u001b[0;34m\u001b[0m\u001b[0;34m\u001b[0m\u001b[0m\n\u001b[0m\u001b[1;32m    184\u001b[0m         \u001b[0mself\u001b[0m\u001b[0;34m.\u001b[0m\u001b[0m_prepare_conn\u001b[0m\u001b[0;34m(\u001b[0m\u001b[0mconn\u001b[0m\u001b[0;34m)\u001b[0m\u001b[0;34m\u001b[0m\u001b[0;34m\u001b[0m\u001b[0m\n",
      "\u001b[0;32m/mnt/c/Users/Gilang R Ilhami/Desktop/personal_projects/ibm_stuff/ibmenv/lib/python3.6/site-packages/urllib3/connection.py\u001b[0m in \u001b[0;36m_new_conn\u001b[0;34m(self)\u001b[0m\n\u001b[1;32m    168\u001b[0m             raise NewConnectionError(\n\u001b[0;32m--> 169\u001b[0;31m                 self, \"Failed to establish a new connection: %s\" % e)\n\u001b[0m\u001b[1;32m    170\u001b[0m \u001b[0;34m\u001b[0m\u001b[0m\n",
      "\u001b[0;31mNewConnectionError\u001b[0m: <urllib3.connection.HTTPConnection object at 0x7fad7f158400>: Failed to establish a new connection: [Errno 111] Connection refused",
      "\nDuring handling of the above exception, another exception occurred:\n",
      "\u001b[0;31mMaxRetryError\u001b[0m                             Traceback (most recent call last)",
      "\u001b[0;32m<ipython-input-10-8a7843184847>\u001b[0m in \u001b[0;36m<module>\u001b[0;34m\u001b[0m\n\u001b[0;32m----> 1\u001b[0;31m \u001b[0murls_detik\u001b[0m \u001b[0;34m=\u001b[0m \u001b[0mdetik_scraper\u001b[0m\u001b[0;34m(\u001b[0m\u001b[0mdriver\u001b[0m\u001b[0;34m,\u001b[0m \u001b[0;36m2017\u001b[0m\u001b[0;34m,\u001b[0m \u001b[0;36m2018\u001b[0m\u001b[0;34m,\u001b[0m \u001b[0;34m\"tenaga nuklir\"\u001b[0m\u001b[0;34m)\u001b[0m\u001b[0;34m\u001b[0m\u001b[0;34m\u001b[0m\u001b[0m\n\u001b[0m",
      "\u001b[0;32m<ipython-input-8-f08cb47e6a14>\u001b[0m in \u001b[0;36mdetik_scraper\u001b[0;34m(driver, first_year, second_year, keyword)\u001b[0m\n\u001b[1;32m      1\u001b[0m \u001b[0;32mdef\u001b[0m \u001b[0mdetik_scraper\u001b[0m\u001b[0;34m(\u001b[0m\u001b[0mdriver\u001b[0m\u001b[0;34m,\u001b[0m \u001b[0mfirst_year\u001b[0m\u001b[0;34m,\u001b[0m \u001b[0msecond_year\u001b[0m\u001b[0;34m,\u001b[0m \u001b[0mkeyword\u001b[0m\u001b[0;34m)\u001b[0m\u001b[0;34m:\u001b[0m\u001b[0;34m\u001b[0m\u001b[0;34m\u001b[0m\u001b[0m\n\u001b[0;32m----> 2\u001b[0;31m     \u001b[0mdriver\u001b[0m\u001b[0;34m.\u001b[0m\u001b[0mget\u001b[0m\u001b[0;34m(\u001b[0m\u001b[0;34m\"https://www.detik.com/\"\u001b[0m\u001b[0;34m)\u001b[0m\u001b[0;34m\u001b[0m\u001b[0;34m\u001b[0m\u001b[0m\n\u001b[0m\u001b[1;32m      3\u001b[0m     \u001b[0mdriver\u001b[0m\u001b[0;34m.\u001b[0m\u001b[0mimplicitly_wait\u001b[0m\u001b[0;34m(\u001b[0m\u001b[0;36m20\u001b[0m\u001b[0;34m)\u001b[0m\u001b[0;34m\u001b[0m\u001b[0;34m\u001b[0m\u001b[0m\n\u001b[1;32m      4\u001b[0m \u001b[0;34m\u001b[0m\u001b[0m\n\u001b[1;32m      5\u001b[0m     \u001b[0mdriver\u001b[0m\u001b[0;34m.\u001b[0m\u001b[0mimplicitly_wait\u001b[0m\u001b[0;34m(\u001b[0m\u001b[0;36m10\u001b[0m\u001b[0;34m)\u001b[0m\u001b[0;34m\u001b[0m\u001b[0;34m\u001b[0m\u001b[0m\n",
      "\u001b[0;32m/mnt/c/Users/Gilang R Ilhami/Desktop/personal_projects/ibm_stuff/ibmenv/lib/python3.6/site-packages/selenium/webdriver/remote/webdriver.py\u001b[0m in \u001b[0;36mget\u001b[0;34m(self, url)\u001b[0m\n\u001b[1;32m    331\u001b[0m         \u001b[0mLoads\u001b[0m \u001b[0ma\u001b[0m \u001b[0mweb\u001b[0m \u001b[0mpage\u001b[0m \u001b[0;32min\u001b[0m \u001b[0mthe\u001b[0m \u001b[0mcurrent\u001b[0m \u001b[0mbrowser\u001b[0m \u001b[0msession\u001b[0m\u001b[0;34m.\u001b[0m\u001b[0;34m\u001b[0m\u001b[0;34m\u001b[0m\u001b[0m\n\u001b[1;32m    332\u001b[0m         \"\"\"\n\u001b[0;32m--> 333\u001b[0;31m         \u001b[0mself\u001b[0m\u001b[0;34m.\u001b[0m\u001b[0mexecute\u001b[0m\u001b[0;34m(\u001b[0m\u001b[0mCommand\u001b[0m\u001b[0;34m.\u001b[0m\u001b[0mGET\u001b[0m\u001b[0;34m,\u001b[0m \u001b[0;34m{\u001b[0m\u001b[0;34m'url'\u001b[0m\u001b[0;34m:\u001b[0m \u001b[0murl\u001b[0m\u001b[0;34m}\u001b[0m\u001b[0;34m)\u001b[0m\u001b[0;34m\u001b[0m\u001b[0;34m\u001b[0m\u001b[0m\n\u001b[0m\u001b[1;32m    334\u001b[0m \u001b[0;34m\u001b[0m\u001b[0m\n\u001b[1;32m    335\u001b[0m     \u001b[0;34m@\u001b[0m\u001b[0mproperty\u001b[0m\u001b[0;34m\u001b[0m\u001b[0;34m\u001b[0m\u001b[0m\n",
      "\u001b[0;32m/mnt/c/Users/Gilang R Ilhami/Desktop/personal_projects/ibm_stuff/ibmenv/lib/python3.6/site-packages/selenium/webdriver/remote/webdriver.py\u001b[0m in \u001b[0;36mexecute\u001b[0;34m(self, driver_command, params)\u001b[0m\n\u001b[1;32m    317\u001b[0m \u001b[0;34m\u001b[0m\u001b[0m\n\u001b[1;32m    318\u001b[0m         \u001b[0mparams\u001b[0m \u001b[0;34m=\u001b[0m \u001b[0mself\u001b[0m\u001b[0;34m.\u001b[0m\u001b[0m_wrap_value\u001b[0m\u001b[0;34m(\u001b[0m\u001b[0mparams\u001b[0m\u001b[0;34m)\u001b[0m\u001b[0;34m\u001b[0m\u001b[0;34m\u001b[0m\u001b[0m\n\u001b[0;32m--> 319\u001b[0;31m         \u001b[0mresponse\u001b[0m \u001b[0;34m=\u001b[0m \u001b[0mself\u001b[0m\u001b[0;34m.\u001b[0m\u001b[0mcommand_executor\u001b[0m\u001b[0;34m.\u001b[0m\u001b[0mexecute\u001b[0m\u001b[0;34m(\u001b[0m\u001b[0mdriver_command\u001b[0m\u001b[0;34m,\u001b[0m \u001b[0mparams\u001b[0m\u001b[0;34m)\u001b[0m\u001b[0;34m\u001b[0m\u001b[0;34m\u001b[0m\u001b[0m\n\u001b[0m\u001b[1;32m    320\u001b[0m         \u001b[0;32mif\u001b[0m \u001b[0mresponse\u001b[0m\u001b[0;34m:\u001b[0m\u001b[0;34m\u001b[0m\u001b[0;34m\u001b[0m\u001b[0m\n\u001b[1;32m    321\u001b[0m             \u001b[0mself\u001b[0m\u001b[0;34m.\u001b[0m\u001b[0merror_handler\u001b[0m\u001b[0;34m.\u001b[0m\u001b[0mcheck_response\u001b[0m\u001b[0;34m(\u001b[0m\u001b[0mresponse\u001b[0m\u001b[0;34m)\u001b[0m\u001b[0;34m\u001b[0m\u001b[0;34m\u001b[0m\u001b[0m\n",
      "\u001b[0;32m/mnt/c/Users/Gilang R Ilhami/Desktop/personal_projects/ibm_stuff/ibmenv/lib/python3.6/site-packages/selenium/webdriver/remote/remote_connection.py\u001b[0m in \u001b[0;36mexecute\u001b[0;34m(self, command, params)\u001b[0m\n\u001b[1;32m    372\u001b[0m         \u001b[0mdata\u001b[0m \u001b[0;34m=\u001b[0m \u001b[0mutils\u001b[0m\u001b[0;34m.\u001b[0m\u001b[0mdump_json\u001b[0m\u001b[0;34m(\u001b[0m\u001b[0mparams\u001b[0m\u001b[0;34m)\u001b[0m\u001b[0;34m\u001b[0m\u001b[0;34m\u001b[0m\u001b[0m\n\u001b[1;32m    373\u001b[0m         \u001b[0murl\u001b[0m \u001b[0;34m=\u001b[0m \u001b[0;34m'%s%s'\u001b[0m \u001b[0;34m%\u001b[0m \u001b[0;34m(\u001b[0m\u001b[0mself\u001b[0m\u001b[0;34m.\u001b[0m\u001b[0m_url\u001b[0m\u001b[0;34m,\u001b[0m \u001b[0mpath\u001b[0m\u001b[0;34m)\u001b[0m\u001b[0;34m\u001b[0m\u001b[0;34m\u001b[0m\u001b[0m\n\u001b[0;32m--> 374\u001b[0;31m         \u001b[0;32mreturn\u001b[0m \u001b[0mself\u001b[0m\u001b[0;34m.\u001b[0m\u001b[0m_request\u001b[0m\u001b[0;34m(\u001b[0m\u001b[0mcommand_info\u001b[0m\u001b[0;34m[\u001b[0m\u001b[0;36m0\u001b[0m\u001b[0;34m]\u001b[0m\u001b[0;34m,\u001b[0m \u001b[0murl\u001b[0m\u001b[0;34m,\u001b[0m \u001b[0mbody\u001b[0m\u001b[0;34m=\u001b[0m\u001b[0mdata\u001b[0m\u001b[0;34m)\u001b[0m\u001b[0;34m\u001b[0m\u001b[0;34m\u001b[0m\u001b[0m\n\u001b[0m\u001b[1;32m    375\u001b[0m \u001b[0;34m\u001b[0m\u001b[0m\n\u001b[1;32m    376\u001b[0m     \u001b[0;32mdef\u001b[0m \u001b[0m_request\u001b[0m\u001b[0;34m(\u001b[0m\u001b[0mself\u001b[0m\u001b[0;34m,\u001b[0m \u001b[0mmethod\u001b[0m\u001b[0;34m,\u001b[0m \u001b[0murl\u001b[0m\u001b[0;34m,\u001b[0m \u001b[0mbody\u001b[0m\u001b[0;34m=\u001b[0m\u001b[0;32mNone\u001b[0m\u001b[0;34m)\u001b[0m\u001b[0;34m:\u001b[0m\u001b[0;34m\u001b[0m\u001b[0;34m\u001b[0m\u001b[0m\n",
      "\u001b[0;32m/mnt/c/Users/Gilang R Ilhami/Desktop/personal_projects/ibm_stuff/ibmenv/lib/python3.6/site-packages/selenium/webdriver/remote/remote_connection.py\u001b[0m in \u001b[0;36m_request\u001b[0;34m(self, method, url, body)\u001b[0m\n\u001b[1;32m    395\u001b[0m \u001b[0;34m\u001b[0m\u001b[0m\n\u001b[1;32m    396\u001b[0m         \u001b[0;32mif\u001b[0m \u001b[0mself\u001b[0m\u001b[0;34m.\u001b[0m\u001b[0mkeep_alive\u001b[0m\u001b[0;34m:\u001b[0m\u001b[0;34m\u001b[0m\u001b[0;34m\u001b[0m\u001b[0m\n\u001b[0;32m--> 397\u001b[0;31m             \u001b[0mresp\u001b[0m \u001b[0;34m=\u001b[0m \u001b[0mself\u001b[0m\u001b[0;34m.\u001b[0m\u001b[0m_conn\u001b[0m\u001b[0;34m.\u001b[0m\u001b[0mrequest\u001b[0m\u001b[0;34m(\u001b[0m\u001b[0mmethod\u001b[0m\u001b[0;34m,\u001b[0m \u001b[0murl\u001b[0m\u001b[0;34m,\u001b[0m \u001b[0mbody\u001b[0m\u001b[0;34m=\u001b[0m\u001b[0mbody\u001b[0m\u001b[0;34m,\u001b[0m \u001b[0mheaders\u001b[0m\u001b[0;34m=\u001b[0m\u001b[0mheaders\u001b[0m\u001b[0;34m)\u001b[0m\u001b[0;34m\u001b[0m\u001b[0;34m\u001b[0m\u001b[0m\n\u001b[0m\u001b[1;32m    398\u001b[0m \u001b[0;34m\u001b[0m\u001b[0m\n\u001b[1;32m    399\u001b[0m             \u001b[0mstatuscode\u001b[0m \u001b[0;34m=\u001b[0m \u001b[0mresp\u001b[0m\u001b[0;34m.\u001b[0m\u001b[0mstatus\u001b[0m\u001b[0;34m\u001b[0m\u001b[0;34m\u001b[0m\u001b[0m\n",
      "\u001b[0;32m/mnt/c/Users/Gilang R Ilhami/Desktop/personal_projects/ibm_stuff/ibmenv/lib/python3.6/site-packages/urllib3/request.py\u001b[0m in \u001b[0;36mrequest\u001b[0;34m(self, method, url, fields, headers, **urlopen_kw)\u001b[0m\n\u001b[1;32m     70\u001b[0m             return self.request_encode_body(method, url, fields=fields,\n\u001b[1;32m     71\u001b[0m                                             \u001b[0mheaders\u001b[0m\u001b[0;34m=\u001b[0m\u001b[0mheaders\u001b[0m\u001b[0;34m,\u001b[0m\u001b[0;34m\u001b[0m\u001b[0;34m\u001b[0m\u001b[0m\n\u001b[0;32m---> 72\u001b[0;31m                                             **urlopen_kw)\n\u001b[0m\u001b[1;32m     73\u001b[0m \u001b[0;34m\u001b[0m\u001b[0m\n\u001b[1;32m     74\u001b[0m     def request_encode_url(self, method, url, fields=None, headers=None,\n",
      "\u001b[0;32m/mnt/c/Users/Gilang R Ilhami/Desktop/personal_projects/ibm_stuff/ibmenv/lib/python3.6/site-packages/urllib3/request.py\u001b[0m in \u001b[0;36mrequest_encode_body\u001b[0;34m(self, method, url, fields, headers, encode_multipart, multipart_boundary, **urlopen_kw)\u001b[0m\n\u001b[1;32m    148\u001b[0m         \u001b[0mextra_kw\u001b[0m\u001b[0;34m.\u001b[0m\u001b[0mupdate\u001b[0m\u001b[0;34m(\u001b[0m\u001b[0murlopen_kw\u001b[0m\u001b[0;34m)\u001b[0m\u001b[0;34m\u001b[0m\u001b[0;34m\u001b[0m\u001b[0m\n\u001b[1;32m    149\u001b[0m \u001b[0;34m\u001b[0m\u001b[0m\n\u001b[0;32m--> 150\u001b[0;31m         \u001b[0;32mreturn\u001b[0m \u001b[0mself\u001b[0m\u001b[0;34m.\u001b[0m\u001b[0murlopen\u001b[0m\u001b[0;34m(\u001b[0m\u001b[0mmethod\u001b[0m\u001b[0;34m,\u001b[0m \u001b[0murl\u001b[0m\u001b[0;34m,\u001b[0m \u001b[0;34m**\u001b[0m\u001b[0mextra_kw\u001b[0m\u001b[0;34m)\u001b[0m\u001b[0;34m\u001b[0m\u001b[0;34m\u001b[0m\u001b[0m\n\u001b[0m",
      "\u001b[0;32m/mnt/c/Users/Gilang R Ilhami/Desktop/personal_projects/ibm_stuff/ibmenv/lib/python3.6/site-packages/urllib3/poolmanager.py\u001b[0m in \u001b[0;36murlopen\u001b[0;34m(self, method, url, redirect, **kw)\u001b[0m\n\u001b[1;32m    324\u001b[0m             \u001b[0mresponse\u001b[0m \u001b[0;34m=\u001b[0m \u001b[0mconn\u001b[0m\u001b[0;34m.\u001b[0m\u001b[0murlopen\u001b[0m\u001b[0;34m(\u001b[0m\u001b[0mmethod\u001b[0m\u001b[0;34m,\u001b[0m \u001b[0murl\u001b[0m\u001b[0;34m,\u001b[0m \u001b[0;34m**\u001b[0m\u001b[0mkw\u001b[0m\u001b[0;34m)\u001b[0m\u001b[0;34m\u001b[0m\u001b[0;34m\u001b[0m\u001b[0m\n\u001b[1;32m    325\u001b[0m         \u001b[0;32melse\u001b[0m\u001b[0;34m:\u001b[0m\u001b[0;34m\u001b[0m\u001b[0;34m\u001b[0m\u001b[0m\n\u001b[0;32m--> 326\u001b[0;31m             \u001b[0mresponse\u001b[0m \u001b[0;34m=\u001b[0m \u001b[0mconn\u001b[0m\u001b[0;34m.\u001b[0m\u001b[0murlopen\u001b[0m\u001b[0;34m(\u001b[0m\u001b[0mmethod\u001b[0m\u001b[0;34m,\u001b[0m \u001b[0mu\u001b[0m\u001b[0;34m.\u001b[0m\u001b[0mrequest_uri\u001b[0m\u001b[0;34m,\u001b[0m \u001b[0;34m**\u001b[0m\u001b[0mkw\u001b[0m\u001b[0;34m)\u001b[0m\u001b[0;34m\u001b[0m\u001b[0;34m\u001b[0m\u001b[0m\n\u001b[0m\u001b[1;32m    327\u001b[0m \u001b[0;34m\u001b[0m\u001b[0m\n\u001b[1;32m    328\u001b[0m         \u001b[0mredirect_location\u001b[0m \u001b[0;34m=\u001b[0m \u001b[0mredirect\u001b[0m \u001b[0;32mand\u001b[0m \u001b[0mresponse\u001b[0m\u001b[0;34m.\u001b[0m\u001b[0mget_redirect_location\u001b[0m\u001b[0;34m(\u001b[0m\u001b[0;34m)\u001b[0m\u001b[0;34m\u001b[0m\u001b[0;34m\u001b[0m\u001b[0m\n",
      "\u001b[0;32m/mnt/c/Users/Gilang R Ilhami/Desktop/personal_projects/ibm_stuff/ibmenv/lib/python3.6/site-packages/urllib3/connectionpool.py\u001b[0m in \u001b[0;36murlopen\u001b[0;34m(self, method, url, body, headers, retries, redirect, assert_same_host, timeout, pool_timeout, release_conn, chunked, body_pos, **response_kw)\u001b[0m\n\u001b[1;32m    668\u001b[0m                                 \u001b[0mtimeout\u001b[0m\u001b[0;34m=\u001b[0m\u001b[0mtimeout\u001b[0m\u001b[0;34m,\u001b[0m \u001b[0mpool_timeout\u001b[0m\u001b[0;34m=\u001b[0m\u001b[0mpool_timeout\u001b[0m\u001b[0;34m,\u001b[0m\u001b[0;34m\u001b[0m\u001b[0;34m\u001b[0m\u001b[0m\n\u001b[1;32m    669\u001b[0m                                 \u001b[0mrelease_conn\u001b[0m\u001b[0;34m=\u001b[0m\u001b[0mrelease_conn\u001b[0m\u001b[0;34m,\u001b[0m \u001b[0mbody_pos\u001b[0m\u001b[0;34m=\u001b[0m\u001b[0mbody_pos\u001b[0m\u001b[0;34m,\u001b[0m\u001b[0;34m\u001b[0m\u001b[0;34m\u001b[0m\u001b[0m\n\u001b[0;32m--> 670\u001b[0;31m                                 **response_kw)\n\u001b[0m\u001b[1;32m    671\u001b[0m \u001b[0;34m\u001b[0m\u001b[0m\n\u001b[1;32m    672\u001b[0m         \u001b[0;32mdef\u001b[0m \u001b[0mdrain_and_release_conn\u001b[0m\u001b[0;34m(\u001b[0m\u001b[0mresponse\u001b[0m\u001b[0;34m)\u001b[0m\u001b[0;34m:\u001b[0m\u001b[0;34m\u001b[0m\u001b[0;34m\u001b[0m\u001b[0m\n",
      "\u001b[0;32m/mnt/c/Users/Gilang R Ilhami/Desktop/personal_projects/ibm_stuff/ibmenv/lib/python3.6/site-packages/urllib3/connectionpool.py\u001b[0m in \u001b[0;36murlopen\u001b[0;34m(self, method, url, body, headers, retries, redirect, assert_same_host, timeout, pool_timeout, release_conn, chunked, body_pos, **response_kw)\u001b[0m\n\u001b[1;32m    668\u001b[0m                                 \u001b[0mtimeout\u001b[0m\u001b[0;34m=\u001b[0m\u001b[0mtimeout\u001b[0m\u001b[0;34m,\u001b[0m \u001b[0mpool_timeout\u001b[0m\u001b[0;34m=\u001b[0m\u001b[0mpool_timeout\u001b[0m\u001b[0;34m,\u001b[0m\u001b[0;34m\u001b[0m\u001b[0;34m\u001b[0m\u001b[0m\n\u001b[1;32m    669\u001b[0m                                 \u001b[0mrelease_conn\u001b[0m\u001b[0;34m=\u001b[0m\u001b[0mrelease_conn\u001b[0m\u001b[0;34m,\u001b[0m \u001b[0mbody_pos\u001b[0m\u001b[0;34m=\u001b[0m\u001b[0mbody_pos\u001b[0m\u001b[0;34m,\u001b[0m\u001b[0;34m\u001b[0m\u001b[0;34m\u001b[0m\u001b[0m\n\u001b[0;32m--> 670\u001b[0;31m                                 **response_kw)\n\u001b[0m\u001b[1;32m    671\u001b[0m \u001b[0;34m\u001b[0m\u001b[0m\n\u001b[1;32m    672\u001b[0m         \u001b[0;32mdef\u001b[0m \u001b[0mdrain_and_release_conn\u001b[0m\u001b[0;34m(\u001b[0m\u001b[0mresponse\u001b[0m\u001b[0;34m)\u001b[0m\u001b[0;34m:\u001b[0m\u001b[0;34m\u001b[0m\u001b[0;34m\u001b[0m\u001b[0m\n",
      "\u001b[0;32m/mnt/c/Users/Gilang R Ilhami/Desktop/personal_projects/ibm_stuff/ibmenv/lib/python3.6/site-packages/urllib3/connectionpool.py\u001b[0m in \u001b[0;36murlopen\u001b[0;34m(self, method, url, body, headers, retries, redirect, assert_same_host, timeout, pool_timeout, release_conn, chunked, body_pos, **response_kw)\u001b[0m\n\u001b[1;32m    668\u001b[0m                                 \u001b[0mtimeout\u001b[0m\u001b[0;34m=\u001b[0m\u001b[0mtimeout\u001b[0m\u001b[0;34m,\u001b[0m \u001b[0mpool_timeout\u001b[0m\u001b[0;34m=\u001b[0m\u001b[0mpool_timeout\u001b[0m\u001b[0;34m,\u001b[0m\u001b[0;34m\u001b[0m\u001b[0;34m\u001b[0m\u001b[0m\n\u001b[1;32m    669\u001b[0m                                 \u001b[0mrelease_conn\u001b[0m\u001b[0;34m=\u001b[0m\u001b[0mrelease_conn\u001b[0m\u001b[0;34m,\u001b[0m \u001b[0mbody_pos\u001b[0m\u001b[0;34m=\u001b[0m\u001b[0mbody_pos\u001b[0m\u001b[0;34m,\u001b[0m\u001b[0;34m\u001b[0m\u001b[0;34m\u001b[0m\u001b[0m\n\u001b[0;32m--> 670\u001b[0;31m                                 **response_kw)\n\u001b[0m\u001b[1;32m    671\u001b[0m \u001b[0;34m\u001b[0m\u001b[0m\n\u001b[1;32m    672\u001b[0m         \u001b[0;32mdef\u001b[0m \u001b[0mdrain_and_release_conn\u001b[0m\u001b[0;34m(\u001b[0m\u001b[0mresponse\u001b[0m\u001b[0;34m)\u001b[0m\u001b[0;34m:\u001b[0m\u001b[0;34m\u001b[0m\u001b[0;34m\u001b[0m\u001b[0m\n",
      "\u001b[0;32m/mnt/c/Users/Gilang R Ilhami/Desktop/personal_projects/ibm_stuff/ibmenv/lib/python3.6/site-packages/urllib3/connectionpool.py\u001b[0m in \u001b[0;36murlopen\u001b[0;34m(self, method, url, body, headers, retries, redirect, assert_same_host, timeout, pool_timeout, release_conn, chunked, body_pos, **response_kw)\u001b[0m\n\u001b[1;32m    639\u001b[0m \u001b[0;34m\u001b[0m\u001b[0m\n\u001b[1;32m    640\u001b[0m             retries = retries.increment(method, url, error=e, _pool=self,\n\u001b[0;32m--> 641\u001b[0;31m                                         _stacktrace=sys.exc_info()[2])\n\u001b[0m\u001b[1;32m    642\u001b[0m             \u001b[0mretries\u001b[0m\u001b[0;34m.\u001b[0m\u001b[0msleep\u001b[0m\u001b[0;34m(\u001b[0m\u001b[0;34m)\u001b[0m\u001b[0;34m\u001b[0m\u001b[0;34m\u001b[0m\u001b[0m\n\u001b[1;32m    643\u001b[0m \u001b[0;34m\u001b[0m\u001b[0m\n",
      "\u001b[0;32m/mnt/c/Users/Gilang R Ilhami/Desktop/personal_projects/ibm_stuff/ibmenv/lib/python3.6/site-packages/urllib3/util/retry.py\u001b[0m in \u001b[0;36mincrement\u001b[0;34m(self, method, url, response, error, _pool, _stacktrace)\u001b[0m\n\u001b[1;32m    397\u001b[0m \u001b[0;34m\u001b[0m\u001b[0m\n\u001b[1;32m    398\u001b[0m         \u001b[0;32mif\u001b[0m \u001b[0mnew_retry\u001b[0m\u001b[0;34m.\u001b[0m\u001b[0mis_exhausted\u001b[0m\u001b[0;34m(\u001b[0m\u001b[0;34m)\u001b[0m\u001b[0;34m:\u001b[0m\u001b[0;34m\u001b[0m\u001b[0;34m\u001b[0m\u001b[0m\n\u001b[0;32m--> 399\u001b[0;31m             \u001b[0;32mraise\u001b[0m \u001b[0mMaxRetryError\u001b[0m\u001b[0;34m(\u001b[0m\u001b[0m_pool\u001b[0m\u001b[0;34m,\u001b[0m \u001b[0murl\u001b[0m\u001b[0;34m,\u001b[0m \u001b[0merror\u001b[0m \u001b[0;32mor\u001b[0m \u001b[0mResponseError\u001b[0m\u001b[0;34m(\u001b[0m\u001b[0mcause\u001b[0m\u001b[0;34m)\u001b[0m\u001b[0;34m)\u001b[0m\u001b[0;34m\u001b[0m\u001b[0;34m\u001b[0m\u001b[0m\n\u001b[0m\u001b[1;32m    400\u001b[0m \u001b[0;34m\u001b[0m\u001b[0m\n\u001b[1;32m    401\u001b[0m         \u001b[0mlog\u001b[0m\u001b[0;34m.\u001b[0m\u001b[0mdebug\u001b[0m\u001b[0;34m(\u001b[0m\u001b[0;34m\"Incremented Retry for (url='%s'): %r\"\u001b[0m\u001b[0;34m,\u001b[0m \u001b[0murl\u001b[0m\u001b[0;34m,\u001b[0m \u001b[0mnew_retry\u001b[0m\u001b[0;34m)\u001b[0m\u001b[0;34m\u001b[0m\u001b[0;34m\u001b[0m\u001b[0m\n",
      "\u001b[0;31mMaxRetryError\u001b[0m: HTTPConnectionPool(host='127.0.0.1', port=57475): Max retries exceeded with url: /session/bf295679a0146ff67f06dffec3084e7a/url (Caused by NewConnectionError('<urllib3.connection.HTTPConnection object at 0x7fad7f158400>: Failed to establish a new connection: [Errno 111] Connection refused',))"
     ]
    }
   ],
   "source": [
    "urls_detik = detik_scraper(driver, 2017, 2018, \"tenaga nuklir\")"
   ]
  },
  {
   "cell_type": "code",
   "execution_count": 38,
   "metadata": {},
   "outputs": [
    {
     "data": {
      "text/plain": [
       "['https://finance.detik.com/foto-bisnis/d-4323338/adhi-karya-peroleh-kontrak-baru-rp-126-t-hingga-november-2018',\n",
       " 'https://finance.detik.com/foto-bisnis/d-4227265/anak-usaha-adhi-karya-bikin-apartemen-tod',\n",
       " 'https://foto.detik.com/readfoto/2018/09/19/100014/4218560/464/1/ini-dia-rumah-transisi-untuk-korban-gempa-lombok',\n",
       " 'https://finance.detik.com/infrastruktur/d-4365614/kereta-lrt-jabodebek-uji-coba-cawang-cibubur-april-2019',\n",
       " 'https://finance.detik.com/berita-ekonomi-bisnis/d-4365554/22-bumn-bentuk-yayasan-sosial',\n",
       " 'https://finance.detik.com/infrastruktur/d-4365549/hingga-akhir-2018-proyek-lrt-jabodebek-sudah-setengah-jadi',\n",
       " 'https://finance.detik.com/berita-ekonomi-bisnis/d-4365342/jokowi-teken-aturan-holding-infrastruktur-awal-2019',\n",
       " 'https://finance.detik.com/loker/d-4360523/buruan-lamar-adhi-karya-buka-lowongan--buat-yang-baru-lulus',\n",
       " 'https://finance.detik.com/infrastruktur/d-4359942/alat-berat-dikerahkan-tanggulangi-dampak-tsunami-selat-sunda',\n",
       " 'https://travel.detik.com/travel-news/d-4357288/kondisi-terkini-tempat-wisata--akomodasi-di-banten',\n",
       " 'https://news.detik.com/berita/d-4351957/eks-sekjen-kemendagri-dipanggil-kpk-soal-korupsi-gedung-ipdn',\n",
       " 'https://finance.detik.com/loker/d-4351324/bumn-percetakan-beton-buka-3-lowongan-kerja-cek-syaratnya-di-sini',\n",
       " 'https://finance.detik.com/berita-ekonomi-bisnis/d-4338533/dpr-kumpulkan-bos-bos-bumn-konstruksi-dan-tol-bahas-proyek-mangkrak',\n",
       " 'https://finance.detik.com/properti/d-4337642/rusun-nempel-stasiun-rawa-buntu-mulai-dibangun-kapan-bisa-dipesan',\n",
       " 'https://news.detik.com/berita/d-4337315/kpk-incar-bumn-di-balik-kasus-korupsi-gedung-ipdn',\n",
       " 'https://news.detik.com/berita/d-4337185/kpk-tetapkan-eks-pejabat-kemendagri-tersangka-korupsi-gedung-ipdn',\n",
       " 'https://finance.detik.com/properti/d-4336570/rumah-nempel-stasiun-di-rawa-buntu-dijual-mulai-rp-250-jutaan',\n",
       " 'https://finance.detik.com/properti/d-4336560/pt-hk-investasi-rp-21-t-buat-rumah-nempel-stasiun-jurangmangu',\n",
       " 'https://finance.detik.com/properti/d-4336523/dear-milenial-ada-640-unit-rumah-subsidi-nempel-stasiun-cisauk',\n",
       " 'https://finance.detik.com/properti/d-4336355/sudah-tahu-3-stasiun-di-tangerang-ini-bakal-dilengkapi-rusun',\n",
       " 'https://finance.detik.com/infrastruktur/d-4323374/adhi-karya-bakal-dapat-rp-28-t-dari-pembayaran-lrt-jabodebek-fase-ii',\n",
       " 'https://finance.detik.com/infrastruktur/d-4322959/kurangi-macet-pekerjaan-lrt-jabodebek-dimulai-jam-10-malam-5-pagi',\n",
       " 'https://finance.detik.com/infrastruktur/d-4322912/adhi-karya-kantongi-kontrak-baru--rp-126-t-hingga-november',\n",
       " 'https://finance.detik.com/infrastruktur/d-4322636/dpr-sambangi-tiga-proyek-besar-jokowi',\n",
       " 'https://finance.detik.com/infrastruktur/d-4319297/soal-proyek-di-tol-japek-menhub-dari-awal-tidak-membatalkan',\n",
       " 'https://finance.detik.com/berita-ekonomi-bisnis/d-4317182/di-hut-damri-budi-karya-paparkan-soal-teknologi-sektor-transportasi',\n",
       " 'https://finance.detik.com/berita-ekonomi-bisnis/d-4315689/jam-operasional-lrt-palembang-akan-dikaji-ulang',\n",
       " 'https://finance.detik.com/industri/d-4314165/pakai-baja-krakatau-steel-bumn-karya-beli-harga-pasar',\n",
       " 'https://finance.detik.com/industri/d-4314092/bumn-karya-garap-infrastruktur-pakai-baja-lokal',\n",
       " 'https://finance.detik.com/infrastruktur/d-4313722/soal-macet-di-tol-japek-adhi-karya-pekerjaan-lrt-tak-berhenti',\n",
       " 'https://finance.detik.com/infrastruktur/d-4312934/proyek-lrt-dan-kereta-cepat-ditunda-pengamat-pasti-tetap-macet',\n",
       " 'https://finance.detik.com/infrastruktur/d-4312595/soal-proyek-lrt-dan-kereta-cepat-menhub-tak-dihentikan-membabi-buta',\n",
       " 'https://finance.detik.com/infrastruktur/d-4311271/jangan-korbankan-proyek-transportasi-umum-demi-jalan-tol',\n",
       " 'https://finance.detik.com/infrastruktur/d-4310936/proyek-lrt-dan-kereta-cepat-yang-ditunda-kemenhub-hanya-di-lokasi-ini',\n",
       " 'https://finance.detik.com/infrastruktur/d-4310785/proyek-lrt-jabodebek-bisa-dilanjut-asal-tak-bikin-macet',\n",
       " 'https://finance.detik.com/infrastruktur/d-4310651/menhub-minta-proyek-lrt-jabodebek-ditunda-ini-kata-adhi-karya',\n",
       " 'https://finance.detik.com/berita-ekonomi-bisnis/d-4304153/holding-bumn-infrastruktur-mau-dibentuk-hk-jadi-induk',\n",
       " 'https://finance.detik.com/berita-ekonomi-bisnis/d-4303528/pemerintah-mulai-proses-holding-2-sektor-bumn-ini-akhir-2018',\n",
       " 'https://finance.detik.com/bursa-dan-valas/d-4298333/ipo-pengembang-ini-tawarkan-sahamnya-hingga-rp-1250lembar',\n",
       " 'https://finance.detik.com/infrastruktur/d-4281016/jokowi-buka-program-sertifikasi-10000-tenaga-kerja-konstruksi',\n",
       " 'https://finance.detik.com/energi/d-4280418/rumah-nempel-stasiun-bakal-dilengkapi-jargas-pgn',\n",
       " 'https://finance.detik.com/infrastruktur/d-4266640/ragam-isu-proyek-lrt-dari-kecelakaan-kerja-hingga-sindiran-prabowo',\n",
       " 'https://finance.detik.com/infrastruktur/d-4257462/stasiun-tugu-diy-akan-dikembangkan-bisa-tampung-14000-penumpang',\n",
       " 'https://finance.detik.com/moneter/d-4255071/ri-raih-investasi-energi-terbarukan-hingga-jalan-tol-rp-47-t',\n",
       " 'https://finance.detik.com/infrastruktur/d-4247898/kerja-sama-proyek-infrastruktur-non-apbn-diteken-ini-rinciannya',\n",
       " 'https://news.detik.com/berita/d-4246572/ada-proyek-lrt-flyover-pancoran-arah-slipi-tutup-malam-hari',\n",
       " 'https://finance.detik.com/infrastruktur/d-4245517/pembangunan-bendung-karet-semarang-dikebut-target-rampung-awal-2019',\n",
       " 'https://finance.detik.com/infrastruktur/d-4238200/kontraktor-putar-otak-cari-sumber-pendanaan-proyek-infrastruktur',\n",
       " 'https://news.detik.com/berita-jawa-timur/d-4229830/keren-pt-inka-akan-produksi-kereta-api-tanpa-masinis',\n",
       " 'https://finance.detik.com/properti/d-4224453/kpr-khusus-milenial-akan-diluncurkan-awal-oktober-2018',\n",
       " 'https://finance.detik.com/properti/d-4223940/bingung-akhir-pekan-mau-ke-mana-yuk-berburu-rumah-dp-1-di-sini',\n",
       " 'https://news.detik.com/berita/d-4218707/wn-china-yang-ukur-tanah-di-bekasi-tak-minta-izin-ke-lurah',\n",
       " 'https://news.detik.com/berita/d-4218252/polisi-wn-china-yang-ukur-tanah-di-bekasi-kemungkinan-salah-lokasi',\n",
       " 'https://news.detik.com/berita/d-4218082/dirut-pertamina-serahkan-250-unit-rumah-transisi-di-lombok',\n",
       " 'https://finance.detik.com/berita-ekonomi-bisnis/d-4211354/melihat-pabrik-rinnai-kompor-yang-sudah-30-tahun-ada-di-dapur-ri',\n",
       " 'https://finance.detik.com/infrastruktur/d-4211260/pastikan-kelar-2019-menteri-basuki-cek-progres-tol-kunciran-serpong',\n",
       " 'https://news.detik.com/berita-jawa-barat/d-4210388/bangun-jabar-ridwan-kamil-jajaki-investasi-lewat-kpbu',\n",
       " 'https://finance.detik.com/infrastruktur/d-4205663/jalur-kereta-ke-bandara-kulon-progo-tak-dibangun-melayang',\n",
       " 'https://finance.detik.com/infrastruktur/d-4191861/dolar-as-perkasa-proyek-lrt-jabodebek-kena-dampak',\n",
       " 'https://finance.detik.com/infrastruktur/d-4191596/ini-proyek-proyek-infrastruktur-yang-terkena-amukan-dolar-as',\n",
       " 'https://finance.detik.com/infrastruktur/d-4191337/dolar-as-perkasa-kontraktor-minta-penyesuaian-harga-proyek',\n",
       " 'https://finance.detik.com/infrastruktur/d-4189440/saat-rini-soemarno-blusukan-10-jam-susur-tol-trans-sumatera',\n",
       " 'https://finance.detik.com/infrastruktur/d-4189250/bisa-dipakai-2019-ini-rute-bakauheni-ke-palembang-lewat-tol',\n",
       " 'https://news.detik.com/adv-nhl-detikcom/d-4181718/bumn-hadir-untuk-negeri-program-kenalkan-peran-bumn-ke-masyarakat',\n",
       " 'https://finance.detik.com/infrastruktur/d-4178872/pertama-di-ri-jalan-tol-akan-dibangun-di-atas-tanggul',\n",
       " 'https://finance.detik.com/berita-ekonomi-bisnis/d-4175889/jasa-marga-mau-kelola-seluruh-tol-trans-jawa',\n",
       " 'https://finance.detik.com/berita-ekonomi-bisnis/d-4175714/jasa-marga-putar-otak-cari-duit-bangun-ribuan-km-jalan-tol',\n",
       " 'https://finance.detik.com/infrastruktur/d-4174477/mau-kelola-tol-yogya-solo-adhi-karya-siapkan-rp-19-t',\n",
       " 'https://finance.detik.com/infrastruktur/d-4173986/pupr-renovasi-pasar-dan-stadion-senilai-rp-739-miliar',\n",
       " 'https://finance.detik.com/infrastruktur/d-4171241/adhi-karya-bidik-konsesi-jalan-tol-yogya-solo',\n",
       " 'https://news.detik.com/berita/d-4163869/alasan-sofjan-wanandi-asingkan-diri-ke-assaat-habibie-berkuasa',\n",
       " 'https://news.detik.com/berita/d-4163335/pengusaha-sofjan-wanandi-di-balik-duet-sby-jk-dan-jokowi-jk',\n",
       " 'https://finance.detik.com/bursa-dan-valas/d-4147799/jokowi-tunda-proyek-infrastruktur-saham-bumn-karya-tetap-kinclong',\n",
       " 'https://finance.detik.com/infrastruktur/d-4137416/lahan-pramuka-untuk-lrt-adhyaksa-dault-belum-ada-ganti-rugi',\n",
       " 'https://news.detik.com/berita/d-4135169/jaksa-kpk-minta-ma-tolak-permohonan-pk-anas',\n",
       " 'https://finance.detik.com/bursa-dan-valas/d-4133349/5-perusahaan-dicoret-dari-daftar-45-saham-unggulan',\n",
       " 'https://finance.detik.com/properti/d-4127034/mau-beli-rumah-nempel-lrt-rp-260-juta',\n",
       " 'https://finance.detik.com/properti/d-4126752/rumah-nempel-stasiun-lrt-dijual-mulai-rp-260-juta',\n",
       " 'https://finance.detik.com/properti/d-4126514/penjualan-hunian-nempel-stasiun-ditargetkan-rp-1-t-tahun-ini',\n",
       " 'https://finance.detik.com/infrastruktur/d-4126413/adhi-karya-bangun-hunian-nempel-stasiun-lrt-di-7-lokasi-ini',\n",
       " 'https://finance.detik.com/infrastruktur/d-4118010/lrt-jabodebek-ditarget-mulai-uji-coba-pertengahan-2019',\n",
       " 'https://finance.detik.com/infrastruktur/d-4117878/lrt-jabodebek-pakai-rel-dari-jepang',\n",
       " 'https://finance.detik.com/infrastruktur/d-4117808/pekerjaan-lrt-jabodebek-mandek-di-setiabudi-ada-apa',\n",
       " 'https://finance.detik.com/infrastruktur/d-4116788/mengintip-perkembangan-proyek-lrt-jabodebek-kuningan-dukuh-atas',\n",
       " 'https://news.detik.com/berita/d-4114087/pemprov-dki-ditugasi-jk-rapikan-trotoar-kuningan',\n",
       " 'https://finance.detik.com/infrastruktur/d-4110580/sudah-40-lrt-jabodebek-operasi-2019',\n",
       " 'https://finance.detik.com/infrastruktur/d-4109370/baru-40-kapan-lrt-jabodebek-bisa-beroperasi',\n",
       " 'https://finance.detik.com/infrastruktur/d-4109293/dikerjakan-sejak-2015-fisik-lrt-jabodebek-kini-40',\n",
       " 'https://finance.detik.com/infrastruktur/d-4108799/luhut-rapat-bahas-lahan-kwarnas-pramuka-untuk-lrt-jabodebek',\n",
       " 'https://news.detik.com/berita/d-4104157/terjatuh-di-sungai-musi-pekerja-adhi-karya-ditemukan-tewas',\n",
       " 'https://news.detik.com/berita/d-4100388/pekerja-adhi-karya-terjatuh-di-sungai-musi-dan-belum-ditemukan',\n",
       " 'https://finance.detik.com/berita-ekonomi-bisnis/d-4091393/gelar-open-house-rumah-rini-soemarno-diserbu-bos-bos-bumn',\n",
       " 'https://finance.detik.com/infrastruktur/d-4084501/untungnya-lrt-dibangun-tak-sejajar-dengan-tanah',\n",
       " 'https://finance.detik.com/infrastruktur/d-4084457/ini-selisih-biaya-bangun-lrt-melayang-nempel-dan-bawah-tanah',\n",
       " 'https://finance.detik.com/infrastruktur/d-4084323/lrt-jabodebek-pakai-tiang-begini-penjelasan-kontraktor',\n",
       " 'https://finance.detik.com/infrastruktur/d-4083683/kenapa-lrt-dibangun-tidak-nempel-tanah-ini-jawabannya',\n",
       " 'https://finance.detik.com/berita-ekonomi-bisnis/d-4061502/ditjen-perhubungan-udara-santuni-anak-yatim-rp-132-m',\n",
       " 'https://news.detik.com/berita/d-4060588/eks-anak-buah-nazaruddin-mengaku-dipaksa-bikin-bap-palsu-untuk-anas',\n",
       " 'https://news.detik.com/berita/d-4060415/saksi-di-sidang-pk-saya-salah-tulis-nama-anas-urbaningrum-di-bon',\n",
       " 'https://news.detik.com/berita/d-4060162/eks-bos-pt-ak-bantah-hadiahi-anas-mobil-harrier',\n",
       " 'https://finance.detik.com/berita-ekonomi-bisnis/d-4056763/pemerintah-klaim-kinerja-6-bumn-karya-kinclong-ini-rinciannya',\n",
       " 'https://finance.detik.com/berita-ekonomi-bisnis/d-4056740/utang-bumn-rp-4800-t-kementerian-mari-dilihat-secara-terbuka',\n",
       " 'https://finance.detik.com/infrastruktur/d-4056019/luhut-rapat-soal-transmisi-listrik-proyek-lrt-dan-kereta-cepat',\n",
       " 'https://finance.detik.com/berita-ekonomi-bisnis/d-4051080/utang-bumn-penugasan-terpantau-meningkat-drastis',\n",
       " 'https://finance.detik.com/berita-ekonomi-bisnis/d-4050909/jadi-perhatian-sri-mulyani-begini-kondisi-keuangan-bumn-penugasan',\n",
       " 'https://finance.detik.com/berita-ekonomi-bisnis/d-4042288/sri-mulyani-pantau-kesehatan-keuangan-bumn-penugasan',\n",
       " 'https://news.detik.com/berita/d-4040498/misteri-sosok-minke-dalam-bumi-manusia',\n",
       " 'https://finance.detik.com/properti/d-4039241/apa-kabar-proyek-apartemen-nempel-stasiun-lrt-jabodebek-di-bekasi',\n",
       " 'https://news.detik.com/berita/d-4037368/kpk-yakin-tak-ada-bukti-baru-di-pk-anas-urbaningrum',\n",
       " 'https://news.detik.com/berita/d-4037034/ajukan-pk-kasus-hambalang-ini-novum-yang-diajukan-anas',\n",
       " 'https://finance.detik.com/infrastruktur/d-4035074/pembebasan-lahan-untuk-proyek-lrt-jabodebek-capai-80',\n",
       " 'https://finance.detik.com/bursa-dan-valas/d-4033403/mantan-menteri-bumn-jadi-komisaris-utama-bank-bukopin',\n",
       " 'https://finance.detik.com/infrastruktur/d-4023711/pemerintah-ingin-jakarta-loop-line-dibangun-tanpa-apbn',\n",
       " 'https://finance.detik.com/infrastruktur/d-4023317/jakarta-loop-line-cita-cita-lama-yang-nggak-jalan-jalan',\n",
       " 'https://finance.detik.com/infrastruktur/d-4022953/jakarta-loop-line-bakal-dibangun-di-atas-jalur-kereta-eksisting',\n",
       " 'https://finance.detik.com/infrastruktur/d-4022994/bangun-jakarta-loop-line-duitnya-dari-mana',\n",
       " 'https://finance.detik.com/infrastruktur/d-4022808/kereta-layang-jakarta-bisa-mulai-konstruksi-akhir-2019',\n",
       " 'https://finance.detik.com/infrastruktur/d-4022757/menanti-proyek-kereta-layang-yang-terlupakan',\n",
       " 'https://finance.detik.com/berita-ekonomi-bisnis/d-4022514/rencana-kereta-layang-jakarta-sudah-makin-dekat',\n",
       " 'https://finance.detik.com/infrastruktur/d-4021890/kereta-layang-di-jkt-bisa-berkecepatan-90-kmjam-tanpa-masinis',\n",
       " 'https://finance.detik.com/infrastruktur/d-4021765/kereta-layang-jakarta-bakal-punya-15-sampai-20-stasiun',\n",
       " 'https://finance.detik.com/infrastruktur/d-4021605/bangun-kereta-layang-26-km-di-jakarta-bisa-kelar-dalam-5-tahun',\n",
       " 'https://finance.detik.com/infrastruktur/d-4021508/mau-bangun-kereta-layang-adhi-karya-butuh-rp-13-triliun',\n",
       " 'https://finance.detik.com/infrastruktur/d-4021476/proyek-kereta-layang-di-jakarta-ditaksir-adhi-karya',\n",
       " 'https://finance.detik.com/energi/d-4021351/adhi-karya-minta-karyawan-tak-posting-ujaran-kebencian-di-medsos',\n",
       " 'https://finance.detik.com/berita-ekonomi-bisnis/d-4015513/mengintip-utang-bumn-konstruksi-yang-meningkat-sejak-2014',\n",
       " 'https://finance.detik.com/berita-ekonomi-bisnis/d-4012172/pertamina-bangun-rumah-sakit-rp-180-miliar-di-tarakan',\n",
       " 'https://finance.detik.com/berita-ekonomi-bisnis/d-4008683/bi-isei-bahas-industri-padat-karya-berorientasi-ekspor-di-yogya',\n",
       " 'https://finance.detik.com/infrastruktur/d-4005413/ada-libur-panjang-lebaran-proyek-lrt-jabodebek-tetap-jalan',\n",
       " 'https://finance.detik.com/bursa-dan-valas/d-4005296/adhi-karya-bikin-anak-usaha-garap-rusun-nempel-stasiun-lrt',\n",
       " 'https://finance.detik.com/infrastruktur/d-3996852/ada-lrt-menhub-2023-jakarta-nggak-macet',\n",
       " 'https://news.detik.com/berita/d-3996801/marak-atribut-2019gantipresiden-di-cfd-lrt-atasi-macet-jakarta-2023',\n",
       " 'https://finance.detik.com/infrastruktur/d-3996517/sambil-jongkok-budi-karya-cek-proyek-lrt-di-pancoran',\n",
       " 'https://finance.detik.com/energi/d-3995948/lahan-bekas-limbah-tambang-freeport-disulap-jadi-perkebunan',\n",
       " 'https://news.detik.com/berita-jawa-barat/d-3995399/dosen-geologi-itb-budi-brahmantyo-meninggal-dunia',\n",
       " 'https://news.detik.com/berita-jawa-timur/d-3989378/asyik-lewat-tol-ngawi-wilangan-gratis-hingga-akhir-april',\n",
       " 'https://finance.detik.com/infrastruktur/d-3983745/menteri-basuki-ungkap-tantangan-dalam-memelihara-infrastruktur',\n",
       " 'https://finance.detik.com/infrastruktur/d-3977870/penlok-lrt-jabodebek-di-setiabudi-masih-tunggu-izin-anies',\n",
       " 'https://finance.detik.com/infrastruktur/d-3974185/begini-progres-terkini-proyek-tanggul-laut-pengaman-jakarta',\n",
       " 'https://finance.detik.com/infrastruktur/d-3974051/pramuka-kukuh-minta-ganti-rugi-lahannya-dibangun-lrt-jabodebek',\n",
       " 'https://finance.detik.com/infrastruktur/d-3973908/pelabuhan-patimban-di-subang-mulai-dibangun-juni-2018',\n",
       " 'https://finance.detik.com/infrastruktur/d-3973746/menhub-tiga-bumn-ikut-tender-pelabuhan-patimban',\n",
       " 'https://finance.detik.com/infrastruktur/d-3973659/sambangi-istana-menhub-lapor-proses-tender-pelabuhan-patimban',\n",
       " 'https://finance.detik.com/berita-ekonomi-bisnis/d-3971081/ke-bogor-rini-rayakan-hut-ke-20-kementerian-bumn',\n",
       " 'https://finance.detik.com/infrastruktur/d-3970802/pembebasan-lahan-untuk-depo-lrt-di-bekasi-ditarget-selesai-mei',\n",
       " 'https://finance.detik.com/bursa-dan-valas/d-3970674/proyek-lrt-jabodebek-dibayar-ini-dampaknya-ke-adhi-karya',\n",
       " 'https://finance.detik.com/infrastruktur/d-3970571/lrt-jabodebek-akan-terhubung-mrt-krl-hingga-kereta-bandara',\n",
       " 'https://finance.detik.com/bursa-dan-valas/d-3970425/adhi-karya-sebar-dividen-rp-103-miliar',\n",
       " 'https://finance.detik.com/bursa-dan-valas/d-3970271/direksi-adhi-karya-dirombak',\n",
       " 'https://news.detik.com/berita/d-3966348/lrt-jakarta-belum-dapat-dipakai-saat-asian-games',\n",
       " 'https://finance.detik.com/infrastruktur/d-3966296/pembebasan-lahan-untuk-depo-lrt-jabodebek-di-bekasi-ditolak-warga',\n",
       " 'https://finance.detik.com/infrastruktur/d-3966188/luhut-gelar-rapat-update-proyek-lrt-jabodebek-ini-hasilnya',\n",
       " 'https://finance.detik.com/infrastruktur/d-3961183/11-april-2018-dari-mampang-ke-kuningan-nggak-kena-lampu-merah',\n",
       " 'https://finance.detik.com/infrastruktur/d-3961079/jelang-open-traffic-begini-kondisi-underpass-mampang-kuningan',\n",
       " 'https://finance.detik.com/berita-ekonomi-bisnis/d-3960071/besok-dirut-baru-waskita-resmi-ngantor-apa-yang-bakal-dikerjakan',\n",
       " 'https://finance.detik.com/berita-ekonomi-bisnis/d-3959856/copot-dirut-waskita-rini-supaya-proyek-konstruksi-selamat',\n",
       " 'https://finance.detik.com/bursa-dan-valas/d-3957662/dirombak-ini-jajaran-direksi-baru-waskita-karya',\n",
       " 'https://finance.detik.com/infrastruktur/d-3949769/proyek-lrt-jabodebek-capai-35',\n",
       " 'https://news.detik.com/berita-jawa-timur/d-3946572/uji-coba-seksi-1-tol-ngawi-kertosono-dilalui-4200-kendaraan',\n",
       " 'https://finance.detik.com/properti/d-3944251/bakal-ada-rusun-dan-kantor-nempel-stasiun-lrt-di-mt-haryono',\n",
       " 'https://finance.detik.com/infrastruktur/d-3943502/tempelkan-e-toll-jokowi-buka-tol-ngawi-wilangan-52-km',\n",
       " 'https://finance.detik.com/bursa-dan-valas/d-3930440/utang-bumn-karya-naik-untuk-bangun-infrastruktur',\n",
       " 'https://finance.detik.com/infrastruktur/d-3929317/utang-pemerintah-tembus-rp-4000-t-benarkah-demi-infrastruktur',\n",
       " 'https://finance.detik.com/infrastruktur/d-3924981/proyek-jalur-ka-makassar-parepare-ditawarkan-ke-swasta',\n",
       " 'https://news.detik.com/berita/d-3921079/cek-underpass-mampang-sandiaga-fokus-penanganan-pipa-gas-dan-air',\n",
       " 'https://finance.detik.com/infrastruktur/d-3920662/begini-kronologi-pipa-gas-pgn-yang-bocor-2-kali-karena-proyek-lrt',\n",
       " 'https://finance.detik.com/infrastruktur/d-3920562/salahkah-pemerintah-kejar-tayang-proyek-infrastruktur',\n",
       " 'https://finance.detik.com/infrastruktur/d-3920234/proyek-lrt-jabodebek-kejar-tayang-kontraktor-abaikan-peta-utilitas',\n",
       " 'https://finance.detik.com/infrastruktur/d-3920244/pipa-gas-di-cawang-bocor-karena-proyek-lrt-kejar-tayang',\n",
       " 'https://finance.detik.com/infrastruktur/d-3919978/siang-ini-kemenhub-panggil-adhi-karya-dan-pgn-soal-pipa-gas-bocor',\n",
       " 'https://news.detik.com/berita/d-3919002/cegah-pipa-gas-bocor-terulang-sandiaga-ingin-dki-buat-peta-utilitas',\n",
       " 'https://finance.detik.com/infrastruktur/d-3918731/pipa-gas-bocor-di-proyek-lrt-pupr-adhi-karya-pegang-peta-utilitas',\n",
       " 'https://news.detik.com/berita/d-3918434/pipa-gas-bocor-di-depan-bnn-polisi-cek-unsur-kelalaian',\n",
       " 'https://finance.detik.com/infrastruktur/d-3918258/pipa-gas-bocor-karena-proyek-lrt-menhub-panggil-dirut-adhi-karya',\n",
       " 'https://finance.detik.com/infrastruktur/d-3918013/sri-mulyani-kalau-pakai-apbn-lrt-jabodebek-bisa-selesai-12-tahun',\n",
       " 'https://news.detik.com/berita/d-3917727/pemprov-akan-pantau-proyek-lrt-yang-sebabkan-pipa-bocor-di-cawang',\n",
       " 'https://news.detik.com/berita/d-3917393/dua-kali-gas-bocor-kontraktor-lrt-akan-diperiksa-polisi',\n",
       " 'https://news.detik.com/berita/d-3917242/2-kali-gas-bocor-pgn-duga-pekerja-proyek-tak-tahu-lokasi-pipa',\n",
       " 'https://news.detik.com/berita/d-3917231/penjelasan-pt-adhi-karya-soal-pipa-gas-bocor-2-kali-di-depan-bnn',\n",
       " 'https://finance.detik.com/infrastruktur/d-3916704/swasta-kontraktor-utama-proyek-infrastruktur-jokowi-bisakah',\n",
       " 'https://finance.detik.com/infrastruktur/d-3916616/pengusaha-presiden-genjot-infrastruktur-kita-kurang-dilibatkan',\n",
       " 'https://finance.detik.com/berita-ekonomi-bisnis/d-3916284/5-ha-lahan-lrt-jabodebek-di-bekasi-belum-bebas',\n",
       " 'https://finance.detik.com/infrastruktur/d-3916237/pengusaha-dan-bumn-kumpul-bahas-infrastruktur-era-jokowi',\n",
       " 'https://finance.detik.com/infrastruktur/d-3915951/luhut-panggil-kontraktor-hingga-bpn-bahas-lahan-lrt-jabodebek',\n",
       " 'https://finance.detik.com/bursa-dan-valas/d-3915666/laba-bersih-adhi-karya-melonjak-64-jadi-rp-515-miliar',\n",
       " 'https://finance.detik.com/infrastruktur/d-3915423/6-permintaan-basuki-ke-rini-buntut-maraknya-kecelakaan-konstruksi',\n",
       " 'https://finance.detik.com/infrastruktur/d-3914662/soal-pencopotan-direksi-waskita-rini-soemarno-tunggu-rups',\n",
       " 'https://finance.detik.com/infrastruktur/d-3914623/basuki-minta-rini-soemarno-copot-direksi-waskita',\n",
       " 'https://news.detik.com/berita/d-3914502/petugas-gali-lokasi-pipa-gas-pgn-bocor-di-depan-bnn',\n",
       " 'https://news.detik.com/berita/d-3914218/garis-polisi-dibuka-petugas-perbaiki-pipa-gas-bocor-di-depan-bnn',\n",
       " 'https://news.detik.com/kolom/d-3911618/pertamina-garuda-dan-lokomotif-yang-tersendat',\n",
       " 'https://finance.detik.com/bursa-dan-valas/d-3909010/melihat-pergerakan-saham-matahari-sebelum-ditinggal-sang-pendiri',\n",
       " 'https://finance.detik.com/bursa-dan-valas/d-3908175/adhi-karya-akan-jual-saham-2-anak-usaha-di-pasar-modal',\n",
       " 'https://news.detik.com/berita/d-3908044/jokowi-minta-kontraktor-bentuk-pengawas-keselamatan-kerja',\n",
       " 'https://finance.detik.com/infrastruktur/d-3907786/adhi-karya-terima-pembayaran-kontrak-lrt-jabodebek-rp-34-t',\n",
       " 'https://finance.detik.com/infrastruktur/d-3895505/sempat-disetop-proyek-lrt-jabodebek-kembali-digeber',\n",
       " 'https://finance.detik.com/infrastruktur/d-3880747/daftar-36-proyek-yang-dievaluasi-pemerintah',\n",
       " 'https://finance.detik.com/infrastruktur/d-3880455/ada-36-proyek-layang-yang-dievaluasi-agar-tak-ambruk',\n",
       " 'https://finance.detik.com/moneter/d-3879764/begini-cara-ajukan-kpr-bunga-355',\n",
       " 'https://finance.detik.com/moneter/d-3879665/bank-bumn-ini-tawarkan-bunga-kpr-355-minat',\n",
       " 'https://finance.detik.com/infrastruktur/d-3877026/konstruksi-lrt-jabodebek-tetap-jalan-tapi-non-layang',\n",
       " 'https://finance.detik.com/infrastruktur/d-3876736/pemerintah-bentuk-tim-evaluasi-konstruksi-ketuanya-dirut-adhi-karya',\n",
       " 'https://finance.detik.com/bursa-dan-valas/d-3876630/proyek-konstruksi-layang-dihentikan-saham-konstruksi-masih-menarik',\n",
       " 'https://finance.detik.com/bursa-dan-valas/d-3876115/selain-waskita-saham-saham-bumn-konstruksi-juga-berjatuhan',\n",
       " 'https://finance.detik.com/infrastruktur/d-3873778/lrt-jabodebek-bakal-operasikan-31-rangkaian-kereta',\n",
       " 'https://finance.detik.com/infrastruktur/d-3872440/mengintip-perkembangan-proyek-lrt-jabodebek',\n",
       " 'https://finance.detik.com/infrastruktur/d-3872115/sudah-sampai-kuningan-begini-progres-terkini-lrt-jabodebek',\n",
       " 'https://finance.detik.com/infrastruktur/d-3872012/lrt-jabodebek-bakal-punya-31-rangkaian-kereta',\n",
       " 'https://finance.detik.com/infrastruktur/d-3871968/beroperasi-tahun-depan-kereta-lrt-jabodebek-datang-maret-2019',\n",
       " 'https://finance.detik.com/infrastruktur/d-3871902/dibangun-sejak-2015-fisik-proyek-lrt-jabodebek-kini-sudah-34',\n",
       " 'https://finance.detik.com/infrastruktur/d-3871791/lrt-jabodebek-di-rasuna-said-tak-gunakan-beton-eks-monorel',\n",
       " 'https://finance.detik.com/infrastruktur/d-3871843/beton-mangkrak-eks-monorel-bakal-dipakai-untuk-hal-ini',\n",
       " 'https://finance.detik.com/infrastruktur/d-3871713/lrt-jabodebek-akan-melintas-di-atas-tol-dalam-kota',\n",
       " 'https://finance.detik.com/infrastruktur/d-3871580/menengok-perkembangan-proyek-lrt-jabodebek-di--rasuna-said',\n",
       " 'https://finance.detik.com/infrastruktur/d-3857704/pembangunan-lrt-jabodebek-masih-terkendala-lahan-di-bekasi',\n",
       " 'https://news.detik.com/berita/d-3857502/waskita-karya-ditegur-gara-gara-kecelakaan-di-proyek-infrastruktur',\n",
       " 'https://finance.detik.com/infrastruktur/d-3844413/dibangun-ahok-underpass-mampang-kuningan-rampung-di-era-anies',\n",
       " 'https://finance.detik.com/infrastruktur/d-3844384/underpass-mampang-kuningan-bisa-dipakai-dua-bulan-lagi',\n",
       " 'https://finance.detik.com/infrastruktur/d-3844151/kebut-underpass-mampang-kuningan-alat-berat-dan-pekerja-ditambah',\n",
       " 'https://finance.detik.com/infrastruktur/d-3844112/hampir-beres-pembangunan-underpass-mampang-kuningan-sudah-86',\n",
       " 'https://news.detik.com/berita/d-3835953/polisi-sebut-flyover-pancoran-kurangi-kemacetan-90-persen',\n",
       " 'https://finance.detik.com/bursa-dan-valas/d-3833334/4-perusahaan-didepak-ini-daftar-saham-lq45-yang-baru',\n",
       " 'https://finance.detik.com/bursa-dan-valas/d-3831498/lelah-cetak-rekor-ihsg-melemah-ke-6615',\n",
       " 'https://finance.detik.com/properti/d-3830936/100-hari-anies-sandi-program-rumah-dp-rp-0-dimulai',\n",
       " 'https://finance.detik.com/properti/d-3820943/21-pengembang-siap-bangun-rumah-dp-rp-0',\n",
       " 'https://sport.detik.com/sepakbola/liga-indonesia/d-3814125/presiden-jokowi-resmikan-sugbk-malam-ini',\n",
       " 'https://sport.detik.com/sepakbola/liga-indonesia/d-3813320/toilet-canggih-untuk-dicoba-presiden-jokowi-di-gbk',\n",
       " 'https://sport.detik.com/sepakbola/liga-indonesia/d-3813209/kerennya-ruang-ganti-pemain-di-stadion-utama-gbk',\n",
       " 'https://sport.detik.com/sepakbola/liga-indonesia/d-3811830/bioskop-bukan-ini-ruang-jumpa-pers-di-stadion-utama-gbk',\n",
       " 'https://finance.detik.com/infrastruktur/d-3811779/pembebasan-lahan-depo-lrt-jabodebek-rampung-april-2018',\n",
       " 'https://sport.detik.com/sport-lain/d-3811739/stadion-utama-gbk-sudah-lebih-ramah-disabilitas',\n",
       " 'https://sport.detik.com/sepakbola/liga-indonesia/d-3811762/stadion-utama-gbk-sudah-lebih-ramah-disabilitas',\n",
       " 'https://finance.detik.com/infrastruktur/d-3811590/telan-rp-770-miliar-renovasi-gbk-rampung-16-bulan',\n",
       " 'https://sport.detik.com/sepakbola/liga-indonesia/d-3811199/stadion-utama-gbk-sudah-siap-100',\n",
       " 'https://finance.detik.com/bursa-dan-valas/d-3806113/waktunya-koleksi-saham-bumn-konstruksi-ini-target-harganya',\n",
       " 'https://finance.detik.com/bursa-dan-valas/d-3806001/saham-bumn-konstruksi-mulai-bangkit',\n",
       " 'https://finance.detik.com/infrastruktur/d-3805505/naik-lrt-cibubur-ke-dukuh-atas-hanya-30-menit',\n",
       " 'https://finance.detik.com/infrastruktur/d-3805474/lrt-jabodebek-ditargetkan-uji-coba-januari-2019',\n",
       " 'https://finance.detik.com/wawancara-khusus/d-3805420/menanti-meluncurnya-lrt-jabodebek',\n",
       " 'https://finance.detik.com/infrastruktur/d-3803371/ratu-prabu-bangun-lrt-rp-405-t-budi-karya-harus-gandeng-operator',\n",
       " 'https://finance.detik.com/infrastruktur/d-3803290/lrt-ratu-prabu-rp-405-t-menhub-bombastis',\n",
       " 'https://finance.detik.com/infrastruktur/d-3803167/naik-motor-trail-menteri-basuki-cek-bendungan-raknamo',\n",
       " 'https://finance.detik.com/infrastruktur/d-3802388/ratu-prabu-mau-bangun-lrt-rp-405-t-ini-kata-adhi-karya-dan-jakpro',\n",
       " 'https://finance.detik.com/bursa-dan-valas/d-3799140/masih-rugi-pegang-saham-ini-jangan-buru-buru-dijual',\n",
       " 'https://finance.detik.com/energi/d-3795030/jakarta-hingga-banten-mati-listrik-pln-minta-maaf',\n",
       " 'https://news.detik.com/berita/d-3794926/jakarta-sampai-banten-gangguan-listrik-ini-daftar-lokasi-terdampak']"
      ]
     },
     "execution_count": 38,
     "metadata": {},
     "output_type": "execute_result"
    }
   ],
   "source": [
    "urls_detik[1]"
   ]
  },
  {
   "cell_type": "code",
   "execution_count": null,
   "metadata": {},
   "outputs": [],
   "source": []
  },
  {
   "cell_type": "markdown",
   "metadata": {},
   "source": [
    "# Liputan 6 Section"
   ]
  },
  {
   "cell_type": "code",
   "execution_count": 12,
   "metadata": {},
   "outputs": [],
   "source": [
    "chromedriver_path = \"/mnt/c/Users/Gilang R Ilhami/Desktop/personal_projects/ibm_stuff/chromedriver.exe\"\n",
    "driver = webdriver.Chrome(executable_path=chromedriver_path)"
   ]
  },
  {
   "cell_type": "code",
   "execution_count": 6,
   "metadata": {},
   "outputs": [],
   "source": [
    "def liputan6_scraper(driver, first_year, second_year, keyword):\n",
    "    driver.get(\"https:///www.liputan6.com/\")\n",
    "    driver.implicitly_wait(20)\n",
    "    \n",
    "    driver.implicitly_wait(10)\n",
    "    input_search = driver.find_element_by_xpath(\"//*[@id='q']\")\n",
    "    input_search.send_keys(keyword.lower())\n",
    "    input_search.send_keys(Keys.RETURN)\n",
    "    \n",
    "    driver.implicitly_wait(10)\n",
    "    news_list = driver.find_element_by_xpath(\"//*[@id='main']/div[3]/div/article/div/section\")\n",
    "    link_list = news_list.find_elements_by_tag_name(\"h4\")\n",
    "    link_list = [title.find_element_by_tag_name(\"a\") for title in link_list]\n",
    "    link_list = [link.get_attribute(\"href\") for link in link_list if link.get_attribute(\"href\") is not None]\n",
    "    \n",
    "    if bool(link_list) is False:\n",
    "        return None\n",
    "    \n",
    "    last_idx = -1\n",
    "    for _ in range(len(link_list)):\n",
    "        print(\"Last Index\", last_idx)\n",
    "        try:\n",
    "            last_news_year = get_date_year(link_list[last_idx], \"time\", \"class\", \"read-page--header--author__datetime updated\")\n",
    "            break\n",
    "        except Exception as e:\n",
    "            print(e)\n",
    "        last_idx -= 1\n",
    "        \n",
    "    \n",
    "    page_height = driver.execute_script(\"return document.documentElement.scrollHeight\")\n",
    "    \n",
    "    # Sroll to the desired number of contents\n",
    "    while last_news_year >= first_year:\n",
    "        print(\"Scrolling down\")\n",
    "        # Wait to load page\n",
    "        time.sleep(5)\n",
    "            \n",
    "        driver.implicitly_wait(10)\n",
    "        news_list = driver.find_element_by_xpath(\"//*[@id='main']/div[3]/div/article/div/section\")\n",
    "        link_list = news_list.find_elements_by_tag_name(\"h4\")\n",
    "        link_list = [title.find_element_by_tag_name(\"a\") for title in link_list]\n",
    "        link_list = [link.get_attribute(\"href\") for link in link_list if link.get_attribute(\"href\") is not None]\n",
    "        \n",
    "        last_idx = -1\n",
    "        \n",
    "        for _ in range(len(link_list)):\n",
    "            try:\n",
    "                last_news_year = get_date_year(link_list[last_idx],\"time\", \"class\", \"read-page--header--author__datetime updated\")\n",
    "                break\n",
    "            except:\n",
    "                pass\n",
    "            last_idx -= 1\n",
    "    driver.implicitly_wait(10)\n",
    "    news_list = driver.find_element_by_xpath(\"//*[@id='main']/div[3]/div/article/div/section\")\n",
    "    link_list = news_list.find_elements_by_tag_name(\"h4\")\n",
    "    link_list = [title.find_element_by_tag_name(\"a\") for title in link_list]\n",
    "    link_list = [link.get_attribute(\"href\") for link in link_list if link.get_attribute(\"href\") is not None]\n",
    "                \n",
    "#     driver.close()\n",
    "#     return link_list\n",
    "        \n",
    "    first_year_contents = []\n",
    "    second_year_contetns = []\n",
    "    \n",
    "    all_index = set(map(link_list.index, link_list))\n",
    "    \n",
    "    error_dates_index = set()\n",
    "    \n",
    "    for link in link_list:\n",
    "        try:\n",
    "            date = get_date_year(link,\"time\", \"class\", \"read-page--header--author__datetime updated\")\n",
    "        except Exception as e:\n",
    "            print(link)\n",
    "            print(e, end=\"\\n\\n\")\n",
    "            error_idx = link_list.index(link)\n",
    "            error_dates_index.add(error_idx)\n",
    "            \n",
    "    can_get_dates_index = list(all_index - error_dates_index)\n",
    "    \n",
    "    current_date = datetime.datetime.now()\n",
    "    current_year = current_date.year\n",
    "    \n",
    "    for content_index in can_get_dates_index:\n",
    "        \n",
    "        # News Publish Date\n",
    "        content_date = get_date_year(link_list[content_index],\"time\", \"class\", \"read-page--header--author__datetime updated\")\n",
    "        print(content_date)\n",
    "        \n",
    "        # First year news\n",
    "        if content_date >= first_year and content_date < second_year:\n",
    "            first_year_contents.append(link_list[content_index])\n",
    "        elif content_date >= second_year and content_date < current_year:\n",
    "            second_year_contetns.append(link_list[content_index])\n",
    "        else:\n",
    "            pass\n",
    "            \n",
    "    return first_year_contents, second_year_contetns\n"
   ]
  },
  {
   "cell_type": "code",
   "execution_count": 46,
   "metadata": {
    "scrolled": true
   },
   "outputs": [],
   "source": [
    "urls_liputan6 = liputan6_scraper(driver, 2017, 2018, \"rv;ewo;goaergbr\")"
   ]
  },
  {
   "cell_type": "code",
   "execution_count": 48,
   "metadata": {},
   "outputs": [],
   "source": [
    "urls_liputan6"
   ]
  },
  {
   "cell_type": "code",
   "execution_count": null,
   "metadata": {},
   "outputs": [],
   "source": [
    "urls_liputan6"
   ]
  },
  {
   "cell_type": "code",
   "execution_count": 35,
   "metadata": {},
   "outputs": [
    {
     "ename": "KeyboardInterrupt",
     "evalue": "",
     "output_type": "error",
     "traceback": [
      "\u001b[0;31m---------------------------------------------------------------------------\u001b[0m",
      "\u001b[0;31mNameError\u001b[0m                                 Traceback (most recent call last)",
      "\u001b[0;32m<ipython-input-35-0b0ea52ead4f>\u001b[0m in \u001b[0;36m<module>\u001b[0;34m\u001b[0m\n\u001b[1;32m      4\u001b[0m     \u001b[0;32mtry\u001b[0m\u001b[0;34m:\u001b[0m\u001b[0;34m\u001b[0m\u001b[0;34m\u001b[0m\u001b[0m\n\u001b[0;32m----> 5\u001b[0;31m         \u001b[0murls_liputan6\u001b[0m \u001b[0;34m=\u001b[0m \u001b[0mliputan6_scraper\u001b[0m\u001b[0;34m(\u001b[0m\u001b[0mdriver\u001b[0m\u001b[0;34m)\u001b[0m\u001b[0;34m\u001b[0m\u001b[0;34m\u001b[0m\u001b[0m\n\u001b[0m\u001b[1;32m      6\u001b[0m         \u001b[0mliputan6_scraped\u001b[0m \u001b[0;34m=\u001b[0m \u001b[0;32mTrue\u001b[0m\u001b[0;34m\u001b[0m\u001b[0;34m\u001b[0m\u001b[0m\n",
      "\u001b[0;31mNameError\u001b[0m: name 'driver' is not defined",
      "\nDuring handling of the above exception, another exception occurred:\n",
      "\u001b[0;31mKeyboardInterrupt\u001b[0m                         Traceback (most recent call last)",
      "\u001b[0;32m<ipython-input-35-0b0ea52ead4f>\u001b[0m in \u001b[0;36m<module>\u001b[0;34m\u001b[0m\n\u001b[1;32m      3\u001b[0m \u001b[0;32mwhile\u001b[0m \u001b[0mliputan6_scraped\u001b[0m \u001b[0;32mis\u001b[0m \u001b[0;32mFalse\u001b[0m\u001b[0;34m:\u001b[0m\u001b[0;34m\u001b[0m\u001b[0;34m\u001b[0m\u001b[0m\n\u001b[1;32m      4\u001b[0m     \u001b[0;32mtry\u001b[0m\u001b[0;34m:\u001b[0m\u001b[0;34m\u001b[0m\u001b[0;34m\u001b[0m\u001b[0m\n\u001b[0;32m----> 5\u001b[0;31m         \u001b[0murls_liputan6\u001b[0m \u001b[0;34m=\u001b[0m \u001b[0mliputan6_scraper\u001b[0m\u001b[0;34m(\u001b[0m\u001b[0mdriver\u001b[0m\u001b[0;34m)\u001b[0m\u001b[0;34m\u001b[0m\u001b[0;34m\u001b[0m\u001b[0m\n\u001b[0m\u001b[1;32m      6\u001b[0m         \u001b[0mliputan6_scraped\u001b[0m \u001b[0;34m=\u001b[0m \u001b[0;32mTrue\u001b[0m\u001b[0;34m\u001b[0m\u001b[0;34m\u001b[0m\u001b[0m\n\u001b[1;32m      7\u001b[0m     \u001b[0;32mexcept\u001b[0m\u001b[0;34m:\u001b[0m\u001b[0;34m\u001b[0m\u001b[0;34m\u001b[0m\u001b[0m\n",
      "\u001b[0;31mKeyboardInterrupt\u001b[0m: "
     ]
    }
   ],
   "source": [
    "liputan6_scraped = False\n",
    "\n",
    "while liputan6_scraped is False:\n",
    "    try:\n",
    "        urls_liputan6 = liputan6_scraper(driver)\n",
    "        liputan6_scraped = True\n",
    "    except Exception as e:\n",
    "        print(e)\n",
    "        pass"
   ]
  },
  {
   "cell_type": "code",
   "execution_count": 5,
   "metadata": {},
   "outputs": [
    {
     "data": {
      "text/plain": [
       "['https://www.liputan6.com/bisnis/read/3481756/dalam-3-bulan-penyaluran-kredit-bank-bca-tembus-rp-470-triliun?source=search',\n",
       " 'https://www.liputan6.com/news/read/3407171/ruko-bank-bca-melawai-terbakar-ini-penyebabnya?source=search',\n",
       " 'https://www.liputan6.com/photo/read/2450639/laba-bank-bca-tumbuh-93-pada-2015?source=search',\n",
       " 'https://www.liputan6.com/bisnis/read/2107040/biaya-transaksi-via-atm-bank-bca-tak-naik?source=search',\n",
       " 'https://www.liputan6.com/bisnis/read/2097772/bunga-deposito-bank-bca-turun-05-awal-september?source=search',\n",
       " 'https://www.liputan6.com/buser/read/404243/nasabah-bank-bca-bekasi-dirampok?source=search',\n",
       " 'https://www.liputan6.com/video/read/637873/nasabah-bank-bca-bekasi-dirampok?source=search',\n",
       " 'https://www.liputan6.com/buser/read/359788/pembunuh-satpam-bank-bca-ditangkap?source=search',\n",
       " 'https://www.liputan6.com/video/read/653332/pembunuh-satpam-bank-bca-ditangkap?source=search',\n",
       " 'https://www.liputan6.com/video/read/653668/perampokan-di-bank-bca-kopo-terekam-cctv?source=search',\n",
       " 'https://www.liputan6.com/buser/read/359080/perampokan-di-bank-bca-kopo-terekam-cctv?source=search',\n",
       " 'https://www.liputan6.com/photo/read/595521/dua-polisi-tertembak-di-bank-bca-palu?source=search',\n",
       " 'https://www.liputan6.com/video/read/664350/dua-polisi-tertembak-di-bank-bca-palu?source=search',\n",
       " 'https://www.liputan6.com/photo/read/580357/bripda-edward-saat-dilarikan-ke-rs-bhayangkara-setelah-terkena-tembakan-di-kantor-bank-bca-palu-rabu-255-dua-polisi-tewas-dan-satu-luka-berat-pada-penyerangan-di-kantor-bank-bcaantara?source=search',\n",
       " 'https://www.liputan6.com/buser/read/63266/enam-perampok-menggasak-uang-nasabah-bank-bca?source=search',\n",
       " 'https://www.liputan6.com/news/read/16489/divestasi-bank-bca-dikecam?source=search']"
      ]
     },
     "execution_count": 5,
     "metadata": {},
     "output_type": "execute_result"
    }
   ],
   "source": [
    "urls_liputan6"
   ]
  },
  {
   "cell_type": "markdown",
   "metadata": {},
   "source": [
    "# Kompas Section"
   ]
  },
  {
   "cell_type": "code",
   "execution_count": 6,
   "metadata": {},
   "outputs": [],
   "source": [
    "chromedriver_path = \"/mnt/c/Users/Gilang R Ilhami/Desktop/personal_projects/ibm_stuff/chromedriver.exe\"\n",
    "driver = webdriver.Chrome(executable_path=chromedriver_path)"
   ]
  },
  {
   "cell_type": "code",
   "execution_count": 7,
   "metadata": {},
   "outputs": [],
   "source": [
    "def kompas_scraper(driver, first_year, second_year, keyword):\n",
    "    driver.get(\"https://www.kompas.com/\")\n",
    "    \n",
    "    driver.implicitly_wait(10)\n",
    "    input_search = driver.find_element_by_xpath(\"//*[@id='search']\")\n",
    "    input_search.send_keys(keyword.lower())\n",
    "    input_search.send_keys(Keys.RETURN)\n",
    "    \n",
    "#     sort_options = driver.find_element_by_xpath('//*[@id=\"___gcse_0\"]/div/div/div/div[3]/table/tbody/tr/td[2]/div/div[2]/div[1]/div[1]')\n",
    "#     sort_options.click()\n",
    "    \n",
    "#     select_date = driver.find_element_by_xpath('//*[@id=\"___gcse_0\"]/div/div/div/div[3]/table/tbody/tr/td[2]/div/div[2]/div[2]/div[2]/div')\n",
    "#     select_date.click()\n",
    "    try:\n",
    "        pagination_element = driver.find_element_by_tag_name(\"div[class*='gsc-cursor']\")\n",
    "        pages = pagination_element.find_elements_by_tag_name(\"div[class*='gsc-cursor-page']\")\n",
    "    except Exception as e:\n",
    "        print(\"No pagination element\")\n",
    "        time.sleep(5)\n",
    "        news_list = driver.find_element_by_xpath(\"//*[@id='___gcse_0']/div/div/div/div[5]/div[2]/div/div\")\n",
    "        link_list = news_list.find_elements_by_tag_name(\"a[class*='gs-title']\")\n",
    "        time.sleep(5)\n",
    "        link_list = [link.get_attribute(\"href\") for link in link_list if link.get_attribute(\"href\") is not None]\n",
    "        \n",
    "        pages = None\n",
    "        \n",
    "        if bool(link_list) is False:\n",
    "            return None\n",
    "        else:\n",
    "            all_link_list = link_list\n",
    "    \n",
    "    if pages is not None:\n",
    "        all_links_list = []\n",
    "        for page_idx in tqdm(range(1, len(pages) + 1)):\n",
    "\n",
    "            if page_idx != 1:\n",
    "                # Handling element when not loaded\n",
    "                cannot_click = True\n",
    "                attempt = 0\n",
    "\n",
    "                # While element is not clicked\n",
    "                while cannot_click:\n",
    "                    try:\n",
    "                        print(\"Looking for element.\")\n",
    "                        element_xpath = f\"//*[@id='___gcse_0']/div/div/div/div[5]/div[2]/div/div/div[2]/div[11]/div/div[{page_idx}]\"\n",
    "\n",
    "                        # Wait untill element exists\n",
    "                        element = WebDriverWait(driver, 10).until(\n",
    "                                lambda driver : driver.find_element_by_xpath(element_xpath)\n",
    "                        )\n",
    "\n",
    "                        # Get element \n",
    "                        next_page = driver.find_element_by_xpath(element_xpath)\n",
    "\n",
    "                    except Exception as element_error:\n",
    "\n",
    "                        print(\"Element checking failed. Something went wrong.\\n\", element_error)\n",
    "\n",
    "                        attempt += 1\n",
    "\n",
    "                        print(f\"Element failed. Repeating process. Currently attempt {attempt}\")\n",
    "\n",
    "                    else:\n",
    "                        print(\"Element found. Waiting to be clickable.\")\n",
    "                        try:\n",
    "                            clickable = WebDriverWait(driver, 10).until(\n",
    "                                EC.element_to_be_clickable((By.XPATH, element_xpath))\n",
    "                            )\n",
    "                            next_page.click()\n",
    "                            cannot_click = False\n",
    "                        except Exception as clickable_error:\n",
    "                            print(\"Clickalbe checking failed. Something went wrong.\\n\", clickable_error, end =\"\\n\\n\")\n",
    "                            attempt += 1\n",
    "                            print(f\"Clicking failed. Repeating process. Currently attempt {attempt}\")\n",
    "\n",
    "            time.sleep(5)\n",
    "            news_list = driver.find_element_by_xpath(\"//*[@id='___gcse_0']/div/div/div/div[5]/div[2]/div/div\")\n",
    "            link_list = news_list.find_elements_by_tag_name(\"a[class*='gs-title']\")\n",
    "            time.sleep(5)\n",
    "            link_list = [link.get_attribute(\"href\") for link in link_list if link.get_attribute(\"href\") is not None]\n",
    "\n",
    "            urls = list(set(link_list))\n",
    "            urls = list(filter(None, urls))\n",
    "\n",
    "            all_links_list.extend(urls)\n",
    "\n",
    "            pagination_check = driver.find_element_by_tag_name(\"div[class*='gsc-cursor']\")\n",
    "            pagination_check = pagination_check.find_elements_by_tag_name(\"div[class*='gsc-cursor-page']\")\n",
    "            if page_idx == len(pagination_check):\n",
    "                break\n",
    "    \n",
    "    link_list = all_links_list\n",
    "    first_year_contents = []\n",
    "    second_year_contetns = []\n",
    "    \n",
    "    all_index = set(map(link_list.index, link_list))\n",
    "    \n",
    "    error_dates_index = set()\n",
    "    \n",
    "    for link in tqdm(link_list):\n",
    "        try:\n",
    "            date = get_date_year(link,\"div\", \"class\", \"read__time\")\n",
    "        except Exception as e:\n",
    "            print(link)\n",
    "            print(e, end=\"\\n\\n\")\n",
    "            error_idx = link_list.index(link)\n",
    "            error_dates_index.add(error_idx)\n",
    "            \n",
    "    can_get_dates_index = list(all_index - error_dates_index)\n",
    "    \n",
    "    current_date = datetime.datetime.now()\n",
    "    current_year = current_date.year\n",
    "    \n",
    "    for content_index in tqdm(can_get_dates_index):\n",
    "        \n",
    "        # News Publish Date\n",
    "        content_date = get_date_year(link_list[content_index],\"div\", \"class\", \"read__time\")\n",
    "        print(content_date)\n",
    "        \n",
    "        # First year news\n",
    "        if content_date >= first_year and content_date < second_year:\n",
    "            first_year_contents.append(link_list[content_index])\n",
    "        elif content_date >= second_year and content_date < current_year:\n",
    "            second_year_contetns.append(link_list[content_index])\n",
    "        else:\n",
    "            pass\n",
    "    \n",
    "    \n",
    "    return first_year_contents, second_year_contetns"
   ]
  },
  {
   "cell_type": "code",
   "execution_count": 64,
   "metadata": {
    "scrolled": true
   },
   "outputs": [
    {
     "name": "stderr",
     "output_type": "stream",
     "text": [
      "\n",
      "\n",
      "\n",
      "\n",
      "\n",
      "\n",
      "\n",
      "\n",
      "  0%|          | 0/10 [00:00<?, ?it/s]\u001b[A\u001b[A\u001b[A\u001b[A\u001b[A\u001b[A\u001b[A\u001b[A\n",
      "\n",
      "\n",
      "\n",
      "\n",
      "\n",
      "\n",
      "\n",
      " 10%|█         | 1/10 [00:10<01:34, 10.53s/it]\u001b[A\u001b[A\u001b[A\u001b[A\u001b[A\u001b[A\u001b[A\u001b[A"
     ]
    },
    {
     "name": "stdout",
     "output_type": "stream",
     "text": [
      "Looking for element.\n",
      "Element found. Waiting to be clickable.\n"
     ]
    },
    {
     "name": "stderr",
     "output_type": "stream",
     "text": [
      "\n",
      "\n",
      "\n",
      "\n",
      "\n",
      "\n",
      "\n",
      "\n",
      " 20%|██        | 2/10 [00:21<01:25, 10.72s/it]\u001b[A\u001b[A\u001b[A\u001b[A\u001b[A\u001b[A\u001b[A\u001b[A"
     ]
    },
    {
     "name": "stdout",
     "output_type": "stream",
     "text": [
      "Looking for element.\n",
      "Element found. Waiting to be clickable.\n"
     ]
    },
    {
     "name": "stderr",
     "output_type": "stream",
     "text": [
      "\n",
      "\n",
      "\n",
      "\n",
      "\n",
      "\n",
      "\n",
      "\n",
      " 30%|███       | 3/10 [00:32<01:15, 10.83s/it]\u001b[A\u001b[A\u001b[A\u001b[A\u001b[A\u001b[A\u001b[A\u001b[A"
     ]
    },
    {
     "name": "stdout",
     "output_type": "stream",
     "text": [
      "Looking for element.\n",
      "Element found. Waiting to be clickable.\n"
     ]
    },
    {
     "name": "stderr",
     "output_type": "stream",
     "text": [
      "\n",
      "\n",
      "\n",
      "\n",
      "\n",
      "\n",
      "\n",
      "\n",
      " 40%|████      | 4/10 [00:43<01:05, 10.93s/it]\u001b[A\u001b[A\u001b[A\u001b[A\u001b[A\u001b[A\u001b[A\u001b[A"
     ]
    },
    {
     "name": "stdout",
     "output_type": "stream",
     "text": [
      "Looking for element.\n",
      "Element found. Waiting to be clickable.\n"
     ]
    },
    {
     "name": "stderr",
     "output_type": "stream",
     "text": [
      "\n",
      "\n",
      "\n",
      "\n",
      "\n",
      "\n",
      "\n",
      "\n",
      "\n",
      "  0%|          | 0/47 [00:00<?, ?it/s]\u001b[A\u001b[A\u001b[A\u001b[A\u001b[A\u001b[A\u001b[A\u001b[A\u001b[A\n",
      "\n",
      "\n",
      "\n",
      "\n",
      "\n",
      "\n",
      "\n",
      "\n",
      "  2%|▏         | 1/47 [00:16<12:24, 16.19s/it]\u001b[A\u001b[A\u001b[A\u001b[A\u001b[A\u001b[A\u001b[A\u001b[A\u001b[A"
     ]
    },
    {
     "name": "stdout",
     "output_type": "stream",
     "text": [
      "https://money.kompas.com/read/2016/12/14/125144926/sawit.sumbermas.sarana.bangun.dua.pabrik.kelapa.sawit.tahun.depan\n",
      "Exceeded 30 redirects.\n",
      "\n"
     ]
    },
    {
     "name": "stderr",
     "output_type": "stream",
     "text": [
      "/mnt/c/Users/Gilang R Ilhami/Desktop/personal_projects/ibm_stuff/ibmenv/lib/python3.6/site-packages/dateutil/parser/_parser.py:1206: UnknownTimezoneWarning: tzname WIB identified but not understood.  Pass `tzinfos` argument in order to correctly return a timezone-aware datetime.  In a future version, this will raise an exception.\n",
      "  category=UnknownTimezoneWarning)\n",
      "\n",
      "\n",
      "\n",
      "\n",
      "\n",
      "\n",
      "\n",
      "\n",
      "\n",
      "  4%|▍         | 2/47 [00:18<09:01, 12.03s/it]\u001b[A\u001b[A\u001b[A\u001b[A\u001b[A\u001b[A\u001b[A\u001b[A\u001b[A"
     ]
    },
    {
     "name": "stdout",
     "output_type": "stream",
     "text": [
      "Kompas.com - 28/12/2017, 14:43 WIB\n"
     ]
    },
    {
     "name": "stderr",
     "output_type": "stream",
     "text": [
      "\n",
      "\n",
      "\n",
      "\n",
      "\n",
      "\n",
      "\n",
      "\n",
      "\n",
      "  6%|▋         | 3/47 [00:32<09:14, 12.61s/it]\u001b[A\u001b[A\u001b[A\u001b[A\u001b[A\u001b[A\u001b[A\u001b[A\u001b[A"
     ]
    },
    {
     "name": "stdout",
     "output_type": "stream",
     "text": [
      "https://money.kompas.com/read/2016/08/31/170104326/melalui.akuisisi.sawit.sumbermas.sarana.tambah.luas.tanam.sawit\n",
      "Exceeded 30 redirects.\n",
      "\n"
     ]
    },
    {
     "name": "stderr",
     "output_type": "stream",
     "text": [
      "\n",
      "\n",
      "\n",
      "\n",
      "\n",
      "\n",
      "\n",
      "\n",
      "\n",
      "  9%|▊         | 4/47 [00:33<06:37,  9.24s/it]\u001b[A\u001b[A\u001b[A\u001b[A\u001b[A\u001b[A\u001b[A\u001b[A\u001b[A"
     ]
    },
    {
     "name": "stdout",
     "output_type": "stream",
     "text": [
      "Kompas.com - 28/12/2017, 13:15 WIB\n"
     ]
    },
    {
     "name": "stderr",
     "output_type": "stream",
     "text": [
      "\n",
      "\n",
      "\n",
      "\n",
      "\n",
      "\n",
      "\n",
      "\n",
      "\n",
      " 11%|█         | 5/47 [00:47<07:25, 10.60s/it]\u001b[A\u001b[A\u001b[A\u001b[A\u001b[A\u001b[A\u001b[A\u001b[A\u001b[A"
     ]
    },
    {
     "name": "stdout",
     "output_type": "stream",
     "text": [
      "https://money.kompas.com/read/2016/10/20/112734226/riset.ekonomi.rapuh.para.petani.kelapa.sawit\n",
      "Exceeded 30 redirects.\n",
      "\n"
     ]
    },
    {
     "name": "stderr",
     "output_type": "stream",
     "text": [
      "\n",
      "\n",
      "\n",
      "\n",
      "\n",
      "\n",
      "\n",
      "\n",
      "\n",
      " 13%|█▎        | 6/47 [00:50<05:39,  8.27s/it]\u001b[A\u001b[A\u001b[A\u001b[A\u001b[A\u001b[A\u001b[A\u001b[A\u001b[A"
     ]
    },
    {
     "name": "stdout",
     "output_type": "stream",
     "text": [
      "Kompas.com - 28/12/2017, 18:12 WIB\n"
     ]
    },
    {
     "name": "stderr",
     "output_type": "stream",
     "text": [
      "\n",
      "\n",
      "\n",
      "\n",
      "\n",
      "\n",
      "\n",
      "\n",
      "\n",
      " 15%|█▍        | 7/47 [00:52<04:18,  6.45s/it]\u001b[A\u001b[A\u001b[A\u001b[A\u001b[A\u001b[A\u001b[A\u001b[A\u001b[A"
     ]
    },
    {
     "name": "stdout",
     "output_type": "stream",
     "text": [
      "Kompas.com - 07/06/2018, 17:38 WIB\n"
     ]
    },
    {
     "name": "stderr",
     "output_type": "stream",
     "text": [
      "\n",
      "\n",
      "\n",
      "\n",
      "\n",
      "\n",
      "\n",
      "\n",
      "\n",
      " 17%|█▋        | 8/47 [01:06<05:43,  8.80s/it]\u001b[A\u001b[A\u001b[A\u001b[A\u001b[A\u001b[A\u001b[A\u001b[A\u001b[A"
     ]
    },
    {
     "name": "stdout",
     "output_type": "stream",
     "text": [
      "https://money.kompas.com/read/2016/08/31/140920226/sawit.sumbermas.sarana.umumkan.pergantian.direksi\n",
      "Exceeded 30 redirects.\n",
      "\n"
     ]
    },
    {
     "name": "stderr",
     "output_type": "stream",
     "text": [
      "\n",
      "\n",
      "\n",
      "\n",
      "\n",
      "\n",
      "\n",
      "\n",
      "\n",
      " 19%|█▉        | 9/47 [01:10<04:33,  7.21s/it]\u001b[A\u001b[A\u001b[A\u001b[A\u001b[A\u001b[A\u001b[A\u001b[A\u001b[A"
     ]
    },
    {
     "name": "stdout",
     "output_type": "stream",
     "text": [
      "https://www.kompas.com/tag/pt-sawit-sumbermas-sarana-tbk\n",
      "'NoneType' object has no attribute 'text'\n",
      "\n"
     ]
    },
    {
     "name": "stderr",
     "output_type": "stream",
     "text": [
      "\n",
      "\n",
      "\n",
      "\n",
      "\n",
      "\n",
      "\n",
      "\n",
      "\n",
      " 21%|██▏       | 10/47 [01:26<06:03,  9.81s/it]\u001b[A\u001b[A\u001b[A\u001b[A\u001b[A\u001b[A\u001b[A\u001b[A\u001b[A"
     ]
    },
    {
     "name": "stdout",
     "output_type": "stream",
     "text": [
      "https://ekonomi.kompas.com/read/2016/12/21/171140926/asian.agri.beri.insentif.rp.2.6.miliar.kepada.kud.petani.sawit\n",
      "Exceeded 30 redirects.\n",
      "\n"
     ]
    },
    {
     "name": "stderr",
     "output_type": "stream",
     "text": [
      "\n",
      "\n",
      "\n",
      "\n",
      "\n",
      "\n",
      "\n",
      "\n",
      "\n",
      " 23%|██▎       | 11/47 [01:40<06:37, 11.05s/it]\u001b[A\u001b[A\u001b[A\u001b[A\u001b[A\u001b[A\u001b[A\u001b[A\u001b[A"
     ]
    },
    {
     "name": "stdout",
     "output_type": "stream",
     "text": [
      "https://money.kompas.com/read/2016/12/23/213049126/rajawali.group.jual.37.persen.saham.ehp.ke.felda.malaysia.\n",
      "Exceeded 30 redirects.\n",
      "\n"
     ]
    },
    {
     "name": "stderr",
     "output_type": "stream",
     "text": [
      "\n",
      "\n",
      "\n",
      "\n",
      "\n",
      "\n",
      "\n",
      "\n",
      "\n",
      " 26%|██▌       | 12/47 [01:54<07:05, 12.15s/it]\u001b[A\u001b[A\u001b[A\u001b[A\u001b[A\u001b[A\u001b[A\u001b[A\u001b[A"
     ]
    },
    {
     "name": "stdout",
     "output_type": "stream",
     "text": [
      "https://money.kompas.com/read/2016/12/14/191210526/pengusaha.kelapa.sawit.nasional.dukung.pengesahan.ruu.perkelapasawitan\n",
      "Exceeded 30 redirects.\n",
      "\n"
     ]
    },
    {
     "name": "stderr",
     "output_type": "stream",
     "text": [
      "\n",
      "\n",
      "\n",
      "\n",
      "\n",
      "\n",
      "\n",
      "\n",
      "\n",
      " 28%|██▊       | 13/47 [01:57<05:16,  9.32s/it]\u001b[A\u001b[A\u001b[A\u001b[A\u001b[A\u001b[A\u001b[A\u001b[A\u001b[A"
     ]
    },
    {
     "name": "stdout",
     "output_type": "stream",
     "text": [
      "Kompas.com - 05/05/2014, 09:31 WIB\n"
     ]
    },
    {
     "name": "stderr",
     "output_type": "stream",
     "text": [
      "\n",
      "\n",
      "\n",
      "\n",
      "\n",
      "\n",
      "\n",
      "\n",
      "\n",
      " 30%|██▉       | 14/47 [02:03<04:32,  8.26s/it]\u001b[A\u001b[A\u001b[A\u001b[A\u001b[A\u001b[A\u001b[A\u001b[A\u001b[A"
     ]
    },
    {
     "name": "stdout",
     "output_type": "stream",
     "text": [
      "Selasa, 3 July 2018 | 13:42 WIB\n"
     ]
    },
    {
     "name": "stderr",
     "output_type": "stream",
     "text": [
      "\n",
      "\n",
      "\n",
      "\n",
      "\n",
      "\n",
      "\n",
      "\n",
      "\n",
      " 32%|███▏      | 15/47 [02:06<03:33,  6.66s/it]\u001b[A\u001b[A\u001b[A\u001b[A\u001b[A\u001b[A\u001b[A\u001b[A\u001b[A"
     ]
    },
    {
     "name": "stdout",
     "output_type": "stream",
     "text": [
      "Kompas.com - 12/12/2013, 09:31 WIB\n"
     ]
    },
    {
     "name": "stderr",
     "output_type": "stream",
     "text": [
      "\n",
      "\n",
      "\n",
      "\n",
      "\n",
      "\n",
      "\n",
      "\n",
      "\n",
      " 34%|███▍      | 16/47 [02:20<04:37,  8.95s/it]\u001b[A\u001b[A\u001b[A\u001b[A\u001b[A\u001b[A\u001b[A\u001b[A\u001b[A"
     ]
    },
    {
     "name": "stdout",
     "output_type": "stream",
     "text": [
      "https://money.kompas.com/read/2016/08/04/151019426/terhantam.cuaca.laba.bersih.emiten.sawit.ini.turun.39.persen\n",
      "Exceeded 30 redirects.\n",
      "\n"
     ]
    },
    {
     "name": "stderr",
     "output_type": "stream",
     "text": [
      "\n",
      "\n",
      "\n",
      "\n",
      "\n",
      "\n",
      "\n",
      "\n",
      "\n",
      " 36%|███▌      | 17/47 [02:26<03:57,  7.90s/it]\u001b[A\u001b[A\u001b[A\u001b[A\u001b[A\u001b[A\u001b[A\u001b[A\u001b[A"
     ]
    },
    {
     "name": "stdout",
     "output_type": "stream",
     "text": [
      "Kompas.com - 10/01/2017, 20:30 WIB\n"
     ]
    },
    {
     "name": "stderr",
     "output_type": "stream",
     "text": [
      "\n",
      "\n",
      "\n",
      "\n",
      "\n",
      "\n",
      "\n",
      "\n",
      "\n",
      " 38%|███▊      | 18/47 [02:29<03:07,  6.46s/it]\u001b[A\u001b[A\u001b[A\u001b[A\u001b[A\u001b[A\u001b[A\u001b[A\u001b[A"
     ]
    },
    {
     "name": "stdout",
     "output_type": "stream",
     "text": [
      "Kompas.com - 24/10/2014, 09:35 WIB\n"
     ]
    },
    {
     "name": "stderr",
     "output_type": "stream",
     "text": [
      "\n",
      "\n",
      "\n",
      "\n",
      "\n",
      "\n",
      "\n",
      "\n",
      "\n",
      " 40%|████      | 19/47 [02:31<02:27,  5.26s/it]\u001b[A\u001b[A\u001b[A\u001b[A\u001b[A\u001b[A\u001b[A\u001b[A\u001b[A"
     ]
    },
    {
     "name": "stdout",
     "output_type": "stream",
     "text": [
      "Kompas.com - 12/08/2014, 09:28 WIB\n"
     ]
    },
    {
     "name": "stderr",
     "output_type": "stream",
     "text": [
      "\n",
      "\n",
      "\n",
      "\n",
      "\n",
      "\n",
      "\n",
      "\n",
      "\n",
      " 43%|████▎     | 20/47 [02:35<02:08,  4.75s/it]\u001b[A\u001b[A\u001b[A\u001b[A\u001b[A\u001b[A\u001b[A\u001b[A\u001b[A"
     ]
    },
    {
     "name": "stdout",
     "output_type": "stream",
     "text": [
      "Kompas.com - 07/02/2014, 09:19 WIB\n"
     ]
    },
    {
     "name": "stderr",
     "output_type": "stream",
     "text": [
      "\n",
      "\n",
      "\n",
      "\n",
      "\n",
      "\n",
      "\n",
      "\n",
      "\n",
      " 45%|████▍     | 21/47 [02:40<02:04,  4.79s/it]\u001b[A\u001b[A\u001b[A\u001b[A\u001b[A\u001b[A\u001b[A\u001b[A\u001b[A"
     ]
    },
    {
     "name": "stdout",
     "output_type": "stream",
     "text": [
      "Kompas.com - 30/06/2014, 09:34 WIB\n"
     ]
    },
    {
     "name": "stderr",
     "output_type": "stream",
     "text": [
      "\n",
      "\n",
      "\n",
      "\n",
      "\n",
      "\n",
      "\n",
      "\n",
      "\n",
      " 47%|████▋     | 22/47 [02:42<01:44,  4.19s/it]\u001b[A\u001b[A\u001b[A\u001b[A\u001b[A\u001b[A\u001b[A\u001b[A\u001b[A"
     ]
    },
    {
     "name": "stdout",
     "output_type": "stream",
     "text": [
      "Kompas.com - 28/12/2015, 16:30 WIB\n"
     ]
    },
    {
     "name": "stderr",
     "output_type": "stream",
     "text": [
      "\n",
      "\n",
      "\n",
      "\n",
      "\n",
      "\n",
      "\n",
      "\n",
      "\n",
      " 49%|████▉     | 23/47 [02:44<01:24,  3.53s/it]\u001b[A\u001b[A\u001b[A\u001b[A\u001b[A\u001b[A\u001b[A\u001b[A\u001b[A"
     ]
    },
    {
     "name": "stdout",
     "output_type": "stream",
     "text": [
      "Kompas.com - 03/06/2014, 09:25 WIB\n"
     ]
    },
    {
     "name": "stderr",
     "output_type": "stream",
     "text": [
      "\n",
      "\n",
      "\n",
      "\n",
      "\n",
      "\n",
      "\n",
      "\n",
      "\n",
      " 51%|█████     | 24/47 [02:47<01:14,  3.24s/it]\u001b[A\u001b[A\u001b[A\u001b[A\u001b[A\u001b[A\u001b[A\u001b[A\u001b[A"
     ]
    },
    {
     "name": "stdout",
     "output_type": "stream",
     "text": [
      "Jumat, 23 October 2015 | 11:52 WIB\n"
     ]
    },
    {
     "name": "stderr",
     "output_type": "stream",
     "text": [
      "\n",
      "\n",
      "\n",
      "\n",
      "\n",
      "\n",
      "\n",
      "\n",
      "\n",
      " 53%|█████▎    | 25/47 [03:02<02:32,  6.91s/it]\u001b[A\u001b[A\u001b[A\u001b[A\u001b[A\u001b[A\u001b[A\u001b[A\u001b[A"
     ]
    },
    {
     "name": "stdout",
     "output_type": "stream",
     "text": [
      "https://ekonomi.kompas.com/read/2017/01/17/133603926/sesi.i.ihsg.berakhir.naik.0.22.persen\n",
      "Exceeded 30 redirects.\n",
      "\n"
     ]
    },
    {
     "name": "stderr",
     "output_type": "stream",
     "text": [
      "\n",
      "\n",
      "\n",
      "\n",
      "\n",
      "\n",
      "\n",
      "\n",
      "\n",
      " 55%|█████▌    | 26/47 [03:07<02:10,  6.20s/it]\u001b[A\u001b[A\u001b[A\u001b[A\u001b[A\u001b[A\u001b[A\u001b[A\u001b[A"
     ]
    },
    {
     "name": "stdout",
     "output_type": "stream",
     "text": [
      "Kompas.com - 20/08/2018, 12:42 WIB\n"
     ]
    },
    {
     "name": "stderr",
     "output_type": "stream",
     "text": [
      "\n",
      "\n",
      "\n",
      "\n",
      "\n",
      "\n",
      "\n",
      "\n",
      "\n",
      " 57%|█████▋    | 27/47 [03:19<02:40,  8.04s/it]\u001b[A\u001b[A\u001b[A\u001b[A\u001b[A\u001b[A\u001b[A\u001b[A\u001b[A"
     ]
    },
    {
     "name": "stdout",
     "output_type": "stream",
     "text": [
      "https://money.kompas.com/read/2017/02/02/133000626/ini.solusi.menko.darmin.agar.produk.sawit.tak.selalu.disudutkan\n",
      "Exceeded 30 redirects.\n",
      "\n"
     ]
    },
    {
     "name": "stderr",
     "output_type": "stream",
     "text": [
      "\n",
      "\n",
      "\n",
      "\n",
      "\n",
      "\n",
      "\n",
      "\n",
      "\n",
      " 60%|█████▉    | 28/47 [03:22<02:02,  6.47s/it]\u001b[A\u001b[A\u001b[A\u001b[A\u001b[A\u001b[A\u001b[A\u001b[A\u001b[A"
     ]
    },
    {
     "name": "stdout",
     "output_type": "stream",
     "text": [
      "Kompas.com - 22/08/2014, 16:26 WIB\n"
     ]
    },
    {
     "name": "stderr",
     "output_type": "stream",
     "text": [
      "\n",
      "\n",
      "\n",
      "\n",
      "\n",
      "\n",
      "\n",
      "\n",
      "\n",
      " 62%|██████▏   | 29/47 [03:25<01:38,  5.50s/it]\u001b[A\u001b[A\u001b[A\u001b[A\u001b[A\u001b[A\u001b[A\u001b[A\u001b[A"
     ]
    },
    {
     "name": "stdout",
     "output_type": "stream",
     "text": [
      "Kompas.com - 14/10/2014, 09:36 WIB\n"
     ]
    },
    {
     "name": "stderr",
     "output_type": "stream",
     "text": [
      "\n",
      "\n",
      "\n",
      "\n",
      "\n",
      "\n",
      "\n",
      "\n",
      "\n",
      " 64%|██████▍   | 30/47 [03:28<01:19,  4.66s/it]\u001b[A\u001b[A\u001b[A\u001b[A\u001b[A\u001b[A\u001b[A\u001b[A\u001b[A"
     ]
    },
    {
     "name": "stdout",
     "output_type": "stream",
     "text": [
      "Kompas.com - 20/11/2014, 09:35 WIB\n"
     ]
    },
    {
     "name": "stderr",
     "output_type": "stream",
     "text": [
      "\n",
      "\n",
      "\n",
      "\n",
      "\n",
      "\n",
      "\n",
      "\n",
      "\n",
      " 66%|██████▌   | 31/47 [03:41<01:52,  7.06s/it]\u001b[A\u001b[A\u001b[A\u001b[A\u001b[A\u001b[A\u001b[A\u001b[A\u001b[A"
     ]
    },
    {
     "name": "stdout",
     "output_type": "stream",
     "text": [
      "https://ekonomi.kompas.com/read/2016/04/19/072746826/IHSG.Berpotensi.Menguat.Ini.Saham-saham.yang.Bisa.Dipertimbangkan\n",
      "Exceeded 30 redirects.\n",
      "\n"
     ]
    },
    {
     "name": "stderr",
     "output_type": "stream",
     "text": [
      "\n",
      "\n",
      "\n",
      "\n",
      "\n",
      "\n",
      "\n",
      "\n",
      "\n",
      " 68%|██████▊   | 32/47 [03:45<01:33,  6.25s/it]\u001b[A\u001b[A\u001b[A\u001b[A\u001b[A\u001b[A\u001b[A\u001b[A\u001b[A"
     ]
    },
    {
     "name": "stdout",
     "output_type": "stream",
     "text": [
      "Kompas.com - 19/11/2014, 09:32 WIB\n"
     ]
    },
    {
     "name": "stderr",
     "output_type": "stream",
     "text": [
      "\n",
      "\n",
      "\n",
      "\n",
      "\n",
      "\n",
      "\n",
      "\n",
      "\n",
      " 70%|███████   | 33/47 [03:47<01:10,  5.05s/it]\u001b[A\u001b[A\u001b[A\u001b[A\u001b[A\u001b[A\u001b[A\u001b[A\u001b[A"
     ]
    },
    {
     "name": "stdout",
     "output_type": "stream",
     "text": [
      "Kompas.com - 05/12/2014, 17:00 WIB\n"
     ]
    },
    {
     "name": "stderr",
     "output_type": "stream",
     "text": [
      "\n",
      "\n",
      "\n",
      "\n",
      "\n",
      "\n",
      "\n",
      "\n",
      "\n",
      " 72%|███████▏  | 34/47 [04:01<01:38,  7.60s/it]\u001b[A\u001b[A\u001b[A\u001b[A\u001b[A\u001b[A\u001b[A\u001b[A\u001b[A"
     ]
    },
    {
     "name": "stdout",
     "output_type": "stream",
     "text": [
      "https://money.kompas.com/read/2016/12/14/161800326/dpr.ruu.perkelapasawitan.akan.akomodasi.semua.pihak\n",
      "Exceeded 30 redirects.\n",
      "\n"
     ]
    },
    {
     "name": "stderr",
     "output_type": "stream",
     "text": [
      "\n",
      "\n",
      "\n",
      "\n",
      "\n",
      "\n",
      "\n",
      "\n",
      "\n",
      " 74%|███████▍  | 35/47 [04:04<01:15,  6.28s/it]\u001b[A\u001b[A\u001b[A\u001b[A\u001b[A\u001b[A\u001b[A\u001b[A\u001b[A"
     ]
    },
    {
     "name": "stdout",
     "output_type": "stream",
     "text": [
      "Kompas.com - 12/12/2013, 12:22 WIB\n"
     ]
    },
    {
     "name": "stderr",
     "output_type": "stream",
     "text": [
      "\n",
      "\n",
      "\n",
      "\n",
      "\n",
      "\n",
      "\n",
      "\n",
      "\n",
      " 77%|███████▋  | 36/47 [04:08<00:59,  5.42s/it]\u001b[A\u001b[A\u001b[A\u001b[A\u001b[A\u001b[A\u001b[A\u001b[A\u001b[A"
     ]
    },
    {
     "name": "stdout",
     "output_type": "stream",
     "text": [
      "Kompas.com - 19/12/2013, 09:32 WIB\n"
     ]
    },
    {
     "name": "stderr",
     "output_type": "stream",
     "text": [
      "\n",
      "\n",
      "\n",
      "\n",
      "\n",
      "\n",
      "\n",
      "\n",
      "\n",
      " 79%|███████▊  | 37/47 [04:10<00:46,  4.64s/it]\u001b[A\u001b[A\u001b[A\u001b[A\u001b[A\u001b[A\u001b[A\u001b[A\u001b[A"
     ]
    },
    {
     "name": "stdout",
     "output_type": "stream",
     "text": [
      "Kompas.com - 19/06/2014, 16:22 WIB\n"
     ]
    },
    {
     "name": "stderr",
     "output_type": "stream",
     "text": [
      "\n",
      "\n",
      "\n",
      "\n",
      "\n",
      "\n",
      "\n",
      "\n",
      "\n",
      " 81%|████████  | 38/47 [04:13<00:35,  3.92s/it]\u001b[A\u001b[A\u001b[A\u001b[A\u001b[A\u001b[A\u001b[A\u001b[A\u001b[A"
     ]
    },
    {
     "name": "stdout",
     "output_type": "stream",
     "text": [
      "Kompas.com - 15/07/2014, 09:18 WIB\n"
     ]
    },
    {
     "name": "stderr",
     "output_type": "stream",
     "text": [
      "\n",
      "\n",
      "\n",
      "\n",
      "\n",
      "\n",
      "\n",
      "\n",
      "\n",
      " 83%|████████▎ | 39/47 [04:15<00:28,  3.51s/it]\u001b[A\u001b[A\u001b[A\u001b[A\u001b[A\u001b[A\u001b[A\u001b[A\u001b[A"
     ]
    },
    {
     "name": "stdout",
     "output_type": "stream",
     "text": [
      "Kompas.com - 25/07/2019, 15:20 WIB\n"
     ]
    },
    {
     "name": "stderr",
     "output_type": "stream",
     "text": [
      "\n",
      "\n",
      "\n",
      "\n",
      "\n",
      "\n",
      "\n",
      "\n",
      "\n",
      " 85%|████████▌ | 40/47 [04:18<00:23,  3.37s/it]\u001b[A\u001b[A\u001b[A\u001b[A\u001b[A\u001b[A\u001b[A\u001b[A\u001b[A"
     ]
    },
    {
     "name": "stdout",
     "output_type": "stream",
     "text": [
      "Kompas.com - 18/11/2014, 16:18 WIB\n"
     ]
    },
    {
     "name": "stderr",
     "output_type": "stream",
     "text": [
      "\n",
      "\n",
      "\n",
      "\n",
      "\n",
      "\n",
      "\n",
      "\n",
      "\n",
      " 87%|████████▋ | 41/47 [04:22<00:21,  3.57s/it]\u001b[A\u001b[A\u001b[A\u001b[A\u001b[A\u001b[A\u001b[A\u001b[A\u001b[A"
     ]
    },
    {
     "name": "stdout",
     "output_type": "stream",
     "text": [
      "Kompas.com - 24/03/2019, 15:20 WIB\n"
     ]
    },
    {
     "name": "stderr",
     "output_type": "stream",
     "text": [
      "\n",
      "\n",
      "\n",
      "\n",
      "\n",
      "\n",
      "\n",
      "\n",
      "\n",
      " 89%|████████▉ | 42/47 [04:23<00:14,  2.87s/it]\u001b[A\u001b[A\u001b[A\u001b[A\u001b[A\u001b[A\u001b[A\u001b[A\u001b[A"
     ]
    },
    {
     "name": "stdout",
     "output_type": "stream",
     "text": [
      "Kompas.com - 03/07/2018, 13:42 WIB\n"
     ]
    },
    {
     "name": "stderr",
     "output_type": "stream",
     "text": [
      "\n",
      "\n",
      "\n",
      "\n",
      "\n",
      "\n",
      "\n",
      "\n",
      "\n",
      " 91%|█████████▏| 43/47 [04:27<00:12,  3.00s/it]\u001b[A\u001b[A\u001b[A\u001b[A\u001b[A\u001b[A\u001b[A\u001b[A\u001b[A"
     ]
    },
    {
     "name": "stdout",
     "output_type": "stream",
     "text": [
      "Kompas.com - 09/02/2018, 21:18 WIB\n"
     ]
    },
    {
     "name": "stderr",
     "output_type": "stream",
     "text": [
      "\n",
      "\n",
      "\n",
      "\n",
      "\n",
      "\n",
      "\n",
      "\n",
      "\n",
      " 94%|█████████▎| 44/47 [04:29<00:08,  2.89s/it]\u001b[A\u001b[A\u001b[A\u001b[A\u001b[A\u001b[A\u001b[A\u001b[A\u001b[A"
     ]
    },
    {
     "name": "stdout",
     "output_type": "stream",
     "text": [
      "Kompas.com - 22/05/2017, 16:19 WIB\n"
     ]
    },
    {
     "name": "stderr",
     "output_type": "stream",
     "text": [
      "\n",
      "\n",
      "\n",
      "\n",
      "\n",
      "\n",
      "\n",
      "\n",
      "\n",
      " 96%|█████████▌| 45/47 [04:33<00:06,  3.06s/it]\u001b[A\u001b[A\u001b[A\u001b[A\u001b[A\u001b[A\u001b[A\u001b[A\u001b[A"
     ]
    },
    {
     "name": "stdout",
     "output_type": "stream",
     "text": [
      "Kompas.com - 23/10/2015, 11:52 WIB\n"
     ]
    },
    {
     "name": "stderr",
     "output_type": "stream",
     "text": [
      "\n",
      "\n",
      "\n",
      "\n",
      "\n",
      "\n",
      "\n",
      "\n",
      "\n",
      " 98%|█████████▊| 46/47 [04:36<00:03,  3.17s/it]\u001b[A\u001b[A\u001b[A\u001b[A\u001b[A\u001b[A\u001b[A\u001b[A\u001b[A"
     ]
    },
    {
     "name": "stdout",
     "output_type": "stream",
     "text": [
      "Kompas.com - 09/11/2009, 20:03 WIB\n"
     ]
    },
    {
     "name": "stderr",
     "output_type": "stream",
     "text": [
      "\n",
      "\n",
      "\n",
      "\n",
      "\n",
      "\n",
      "\n",
      "\n",
      "\n",
      "100%|██████████| 47/47 [04:38<00:00,  2.82s/it]\u001b[A\u001b[A\u001b[A\u001b[A\u001b[A\u001b[A\u001b[A\u001b[A\u001b[A\n",
      "\n",
      "\n",
      "\n",
      "\n",
      "\n",
      "\n",
      "\n",
      "\n",
      "  0%|          | 0/34 [00:00<?, ?it/s]\u001b[A\u001b[A\u001b[A\u001b[A\u001b[A\u001b[A\u001b[A\u001b[A\u001b[A"
     ]
    },
    {
     "name": "stdout",
     "output_type": "stream",
     "text": [
      "Kompas.com - 22/06/2017, 07:30 WIB\n"
     ]
    },
    {
     "name": "stderr",
     "output_type": "stream",
     "text": [
      "\n",
      "\n",
      "\n",
      "\n",
      "\n",
      "\n",
      "\n",
      "\n",
      "\n",
      "  3%|▎         | 1/34 [00:01<01:05,  1.98s/it]\u001b[A\u001b[A\u001b[A\u001b[A\u001b[A\u001b[A\u001b[A\u001b[A\u001b[A"
     ]
    },
    {
     "name": "stdout",
     "output_type": "stream",
     "text": [
      "Kompas.com - 28/12/2017, 14:43 WIB\n",
      "2017\n"
     ]
    },
    {
     "name": "stderr",
     "output_type": "stream",
     "text": [
      "\n",
      "\n",
      "\n",
      "\n",
      "\n",
      "\n",
      "\n",
      "\n",
      "\n",
      "  6%|▌         | 2/34 [00:03<01:00,  1.91s/it]\u001b[A\u001b[A\u001b[A\u001b[A\u001b[A\u001b[A\u001b[A\u001b[A\u001b[A"
     ]
    },
    {
     "name": "stdout",
     "output_type": "stream",
     "text": [
      "Kompas.com - 28/12/2017, 13:15 WIB\n",
      "2017\n"
     ]
    },
    {
     "name": "stderr",
     "output_type": "stream",
     "text": [
      "\n",
      "\n",
      "\n",
      "\n",
      "\n",
      "\n",
      "\n",
      "\n",
      "\n",
      "  9%|▉         | 3/34 [00:04<00:48,  1.56s/it]\u001b[A\u001b[A\u001b[A\u001b[A\u001b[A\u001b[A\u001b[A\u001b[A\u001b[A"
     ]
    },
    {
     "name": "stdout",
     "output_type": "stream",
     "text": [
      "Kompas.com - 28/12/2017, 18:12 WIB\n",
      "2017\n"
     ]
    },
    {
     "name": "stderr",
     "output_type": "stream",
     "text": [
      "\n",
      "\n",
      "\n",
      "\n",
      "\n",
      "\n",
      "\n",
      "\n",
      "\n",
      " 12%|█▏        | 4/34 [00:05<00:42,  1.40s/it]\u001b[A\u001b[A\u001b[A\u001b[A\u001b[A\u001b[A\u001b[A\u001b[A\u001b[A"
     ]
    },
    {
     "name": "stdout",
     "output_type": "stream",
     "text": [
      "Kompas.com - 07/06/2018, 17:38 WIB\n",
      "2018\n"
     ]
    },
    {
     "name": "stderr",
     "output_type": "stream",
     "text": [
      "\n",
      "\n",
      "\n",
      "\n",
      "\n",
      "\n",
      "\n",
      "\n",
      "\n",
      " 15%|█▍        | 5/34 [00:08<00:54,  1.89s/it]\u001b[A\u001b[A\u001b[A\u001b[A\u001b[A\u001b[A\u001b[A\u001b[A\u001b[A"
     ]
    },
    {
     "name": "stdout",
     "output_type": "stream",
     "text": [
      "Kompas.com - 05/05/2014, 09:31 WIB\n",
      "2014\n"
     ]
    },
    {
     "name": "stderr",
     "output_type": "stream",
     "text": [
      "\n",
      "\n",
      "\n",
      "\n",
      "\n",
      "\n",
      "\n",
      "\n",
      "\n",
      " 18%|█▊        | 6/34 [00:10<00:53,  1.90s/it]\u001b[A\u001b[A\u001b[A\u001b[A\u001b[A\u001b[A\u001b[A\u001b[A\u001b[A"
     ]
    },
    {
     "name": "stdout",
     "output_type": "stream",
     "text": [
      "Selasa, 3 July 2018 | 13:42 WIB\n",
      "2018\n"
     ]
    },
    {
     "name": "stderr",
     "output_type": "stream",
     "text": [
      "\n",
      "\n",
      "\n",
      "\n",
      "\n",
      "\n",
      "\n",
      "\n",
      "\n",
      " 21%|██        | 7/34 [00:12<00:50,  1.86s/it]\u001b[A\u001b[A\u001b[A\u001b[A\u001b[A\u001b[A\u001b[A\u001b[A\u001b[A"
     ]
    },
    {
     "name": "stdout",
     "output_type": "stream",
     "text": [
      "Kompas.com - 12/12/2013, 09:31 WIB\n",
      "2013\n"
     ]
    },
    {
     "name": "stderr",
     "output_type": "stream",
     "text": [
      "\n",
      "\n",
      "\n",
      "\n",
      "\n",
      "\n",
      "\n",
      "\n",
      "\n",
      " 24%|██▎       | 8/34 [00:15<00:57,  2.20s/it]\u001b[A\u001b[A\u001b[A\u001b[A\u001b[A\u001b[A\u001b[A\u001b[A\u001b[A"
     ]
    },
    {
     "name": "stdout",
     "output_type": "stream",
     "text": [
      "Kompas.com - 10/01/2017, 20:30 WIB\n",
      "2017\n"
     ]
    },
    {
     "name": "stderr",
     "output_type": "stream",
     "text": [
      "\n",
      "\n",
      "\n",
      "\n",
      "\n",
      "\n",
      "\n",
      "\n",
      "\n",
      " 26%|██▋       | 9/34 [00:17<00:59,  2.36s/it]\u001b[A\u001b[A\u001b[A\u001b[A\u001b[A\u001b[A\u001b[A\u001b[A\u001b[A"
     ]
    },
    {
     "name": "stdout",
     "output_type": "stream",
     "text": [
      "Kompas.com - 24/10/2014, 09:35 WIB\n",
      "2014\n"
     ]
    },
    {
     "name": "stderr",
     "output_type": "stream",
     "text": [
      "\n",
      "\n",
      "\n",
      "\n",
      "\n",
      "\n",
      "\n",
      "\n",
      "\n",
      " 29%|██▉       | 10/34 [00:20<00:55,  2.31s/it]\u001b[A\u001b[A\u001b[A\u001b[A\u001b[A\u001b[A\u001b[A\u001b[A\u001b[A"
     ]
    },
    {
     "name": "stdout",
     "output_type": "stream",
     "text": [
      "Kompas.com - 12/08/2014, 09:28 WIB\n",
      "2014\n"
     ]
    },
    {
     "name": "stderr",
     "output_type": "stream",
     "text": [
      "\n",
      "\n",
      "\n",
      "\n",
      "\n",
      "\n",
      "\n",
      "\n",
      "\n",
      " 32%|███▏      | 11/34 [00:24<01:08,  3.00s/it]\u001b[A\u001b[A\u001b[A\u001b[A\u001b[A\u001b[A\u001b[A\u001b[A\u001b[A"
     ]
    },
    {
     "name": "stdout",
     "output_type": "stream",
     "text": [
      "Kompas.com - 07/02/2014, 09:19 WIB\n",
      "2014\n"
     ]
    },
    {
     "name": "stderr",
     "output_type": "stream",
     "text": [
      "\n",
      "\n",
      "\n",
      "\n",
      "\n",
      "\n",
      "\n",
      "\n",
      "\n",
      " 35%|███▌      | 12/34 [00:27<01:01,  2.78s/it]\u001b[A\u001b[A\u001b[A\u001b[A\u001b[A\u001b[A\u001b[A\u001b[A\u001b[A"
     ]
    },
    {
     "name": "stdout",
     "output_type": "stream",
     "text": [
      "Kompas.com - 30/06/2014, 09:34 WIB\n",
      "2014\n"
     ]
    },
    {
     "name": "stderr",
     "output_type": "stream",
     "text": [
      "\n",
      "\n",
      "\n",
      "\n",
      "\n",
      "\n",
      "\n",
      "\n",
      "\n",
      " 38%|███▊      | 13/34 [00:29<00:53,  2.56s/it]\u001b[A\u001b[A\u001b[A\u001b[A\u001b[A\u001b[A\u001b[A\u001b[A\u001b[A"
     ]
    },
    {
     "name": "stdout",
     "output_type": "stream",
     "text": [
      "Kompas.com - 28/12/2015, 16:30 WIB\n",
      "2015\n"
     ]
    },
    {
     "name": "stderr",
     "output_type": "stream",
     "text": [
      "\n",
      "\n",
      "\n",
      "\n",
      "\n",
      "\n",
      "\n",
      "\n",
      "\n",
      " 41%|████      | 14/34 [00:31<00:48,  2.43s/it]\u001b[A\u001b[A\u001b[A\u001b[A\u001b[A\u001b[A\u001b[A\u001b[A\u001b[A"
     ]
    },
    {
     "name": "stdout",
     "output_type": "stream",
     "text": [
      "Kompas.com - 03/06/2014, 09:25 WIB\n",
      "2014\n"
     ]
    },
    {
     "name": "stderr",
     "output_type": "stream",
     "text": [
      "\n",
      "\n",
      "\n",
      "\n",
      "\n",
      "\n",
      "\n",
      "\n",
      "\n",
      " 44%|████▍     | 15/34 [00:33<00:44,  2.34s/it]\u001b[A\u001b[A\u001b[A\u001b[A\u001b[A\u001b[A\u001b[A\u001b[A\u001b[A"
     ]
    },
    {
     "name": "stdout",
     "output_type": "stream",
     "text": [
      "Jumat, 23 October 2015 | 11:52 WIB\n",
      "2015\n"
     ]
    },
    {
     "name": "stderr",
     "output_type": "stream",
     "text": [
      "\n",
      "\n",
      "\n",
      "\n",
      "\n",
      "\n",
      "\n",
      "\n",
      "\n",
      " 47%|████▋     | 16/34 [00:35<00:40,  2.26s/it]\u001b[A\u001b[A\u001b[A\u001b[A\u001b[A\u001b[A\u001b[A\u001b[A\u001b[A"
     ]
    },
    {
     "name": "stdout",
     "output_type": "stream",
     "text": [
      "Kompas.com - 20/08/2018, 12:42 WIB\n",
      "2018\n"
     ]
    },
    {
     "name": "stderr",
     "output_type": "stream",
     "text": [
      "\n",
      "\n",
      "\n",
      "\n",
      "\n",
      "\n",
      "\n",
      "\n",
      "\n",
      " 50%|█████     | 17/34 [00:37<00:36,  2.16s/it]\u001b[A\u001b[A\u001b[A\u001b[A\u001b[A\u001b[A\u001b[A\u001b[A\u001b[A"
     ]
    },
    {
     "name": "stdout",
     "output_type": "stream",
     "text": [
      "Kompas.com - 22/08/2014, 16:26 WIB\n",
      "2014\n"
     ]
    },
    {
     "name": "stderr",
     "output_type": "stream",
     "text": [
      "\n",
      "\n",
      "\n",
      "\n",
      "\n",
      "\n",
      "\n",
      "\n",
      "\n",
      " 53%|█████▎    | 18/34 [00:39<00:32,  2.05s/it]\u001b[A\u001b[A\u001b[A\u001b[A\u001b[A\u001b[A\u001b[A\u001b[A\u001b[A"
     ]
    },
    {
     "name": "stdout",
     "output_type": "stream",
     "text": [
      "Kompas.com - 14/10/2014, 09:36 WIB\n",
      "2014\n"
     ]
    },
    {
     "name": "stderr",
     "output_type": "stream",
     "text": [
      "\n",
      "\n",
      "\n",
      "\n",
      "\n",
      "\n",
      "\n",
      "\n",
      "\n",
      " 56%|█████▌    | 19/34 [00:41<00:32,  2.13s/it]\u001b[A\u001b[A\u001b[A\u001b[A\u001b[A\u001b[A\u001b[A\u001b[A\u001b[A"
     ]
    },
    {
     "name": "stdout",
     "output_type": "stream",
     "text": [
      "Kompas.com - 20/11/2014, 09:35 WIB\n",
      "2014\n"
     ]
    },
    {
     "name": "stderr",
     "output_type": "stream",
     "text": [
      "\n",
      "\n",
      "\n",
      "\n",
      "\n",
      "\n",
      "\n",
      "\n",
      "\n",
      " 59%|█████▉    | 20/34 [00:47<00:44,  3.18s/it]\u001b[A\u001b[A\u001b[A\u001b[A\u001b[A\u001b[A\u001b[A\u001b[A\u001b[A"
     ]
    },
    {
     "name": "stdout",
     "output_type": "stream",
     "text": [
      "Kompas.com - 19/11/2014, 09:32 WIB\n",
      "2014\n"
     ]
    },
    {
     "name": "stderr",
     "output_type": "stream",
     "text": [
      "\n",
      "\n",
      "\n",
      "\n",
      "\n",
      "\n",
      "\n",
      "\n",
      "\n",
      " 62%|██████▏   | 21/34 [00:49<00:37,  2.91s/it]\u001b[A\u001b[A\u001b[A\u001b[A\u001b[A\u001b[A\u001b[A\u001b[A\u001b[A"
     ]
    },
    {
     "name": "stdout",
     "output_type": "stream",
     "text": [
      "Kompas.com - 05/12/2014, 17:00 WIB\n",
      "2014\n"
     ]
    },
    {
     "name": "stderr",
     "output_type": "stream",
     "text": [
      "\n",
      "\n",
      "\n",
      "\n",
      "\n",
      "\n",
      "\n",
      "\n",
      "\n",
      " 65%|██████▍   | 22/34 [00:52<00:35,  2.95s/it]\u001b[A\u001b[A\u001b[A\u001b[A\u001b[A\u001b[A\u001b[A\u001b[A\u001b[A"
     ]
    },
    {
     "name": "stdout",
     "output_type": "stream",
     "text": [
      "Kompas.com - 12/12/2013, 12:22 WIB\n",
      "2013\n"
     ]
    },
    {
     "name": "stderr",
     "output_type": "stream",
     "text": [
      "\n",
      "\n",
      "\n",
      "\n",
      "\n",
      "\n",
      "\n",
      "\n",
      "\n",
      " 68%|██████▊   | 23/34 [00:54<00:28,  2.57s/it]\u001b[A\u001b[A\u001b[A\u001b[A\u001b[A\u001b[A\u001b[A\u001b[A\u001b[A"
     ]
    },
    {
     "name": "stdout",
     "output_type": "stream",
     "text": [
      "Kompas.com - 19/12/2013, 09:32 WIB\n",
      "2013\n"
     ]
    },
    {
     "name": "stderr",
     "output_type": "stream",
     "text": [
      "\n",
      "\n",
      "\n",
      "\n",
      "\n",
      "\n",
      "\n",
      "\n",
      "\n",
      " 71%|███████   | 24/34 [00:55<00:22,  2.25s/it]\u001b[A\u001b[A\u001b[A\u001b[A\u001b[A\u001b[A\u001b[A\u001b[A\u001b[A"
     ]
    },
    {
     "name": "stdout",
     "output_type": "stream",
     "text": [
      "Kompas.com - 19/06/2014, 16:22 WIB\n",
      "2014\n"
     ]
    },
    {
     "name": "stderr",
     "output_type": "stream",
     "text": [
      "\n",
      "\n",
      "\n",
      "\n",
      "\n",
      "\n",
      "\n",
      "\n",
      "\n",
      " 74%|███████▎  | 25/34 [00:57<00:20,  2.25s/it]\u001b[A\u001b[A\u001b[A\u001b[A\u001b[A\u001b[A\u001b[A\u001b[A\u001b[A"
     ]
    },
    {
     "name": "stdout",
     "output_type": "stream",
     "text": [
      "Kompas.com - 15/07/2014, 09:18 WIB\n",
      "2014\n"
     ]
    },
    {
     "name": "stderr",
     "output_type": "stream",
     "text": [
      "\n",
      "\n",
      "\n",
      "\n",
      "\n",
      "\n",
      "\n",
      "\n",
      "\n",
      " 76%|███████▋  | 26/34 [01:00<00:18,  2.32s/it]\u001b[A\u001b[A\u001b[A\u001b[A\u001b[A\u001b[A\u001b[A\u001b[A\u001b[A"
     ]
    },
    {
     "name": "stdout",
     "output_type": "stream",
     "text": [
      "Kompas.com - 25/07/2019, 15:20 WIB\n",
      "2019\n"
     ]
    },
    {
     "name": "stderr",
     "output_type": "stream",
     "text": [
      "\n",
      "\n",
      "\n",
      "\n",
      "\n",
      "\n",
      "\n",
      "\n",
      "\n",
      " 79%|███████▉  | 27/34 [01:02<00:16,  2.31s/it]\u001b[A\u001b[A\u001b[A\u001b[A\u001b[A\u001b[A\u001b[A\u001b[A\u001b[A"
     ]
    },
    {
     "name": "stdout",
     "output_type": "stream",
     "text": [
      "Kompas.com - 18/11/2014, 16:18 WIB\n",
      "2014\n"
     ]
    },
    {
     "name": "stderr",
     "output_type": "stream",
     "text": [
      "\n",
      "\n",
      "\n",
      "\n",
      "\n",
      "\n",
      "\n",
      "\n",
      "\n",
      " 82%|████████▏ | 28/34 [01:04<00:13,  2.19s/it]\u001b[A\u001b[A\u001b[A\u001b[A\u001b[A\u001b[A\u001b[A\u001b[A\u001b[A"
     ]
    },
    {
     "name": "stdout",
     "output_type": "stream",
     "text": [
      "Kompas.com - 24/03/2019, 15:20 WIB\n",
      "2019\n"
     ]
    },
    {
     "name": "stderr",
     "output_type": "stream",
     "text": [
      "\n",
      "\n",
      "\n",
      "\n",
      "\n",
      "\n",
      "\n",
      "\n",
      "\n",
      " 85%|████████▌ | 29/34 [01:06<00:10,  2.09s/it]\u001b[A\u001b[A\u001b[A\u001b[A\u001b[A\u001b[A\u001b[A\u001b[A\u001b[A"
     ]
    },
    {
     "name": "stdout",
     "output_type": "stream",
     "text": [
      "Kompas.com - 03/07/2018, 13:42 WIB\n",
      "2018\n"
     ]
    },
    {
     "name": "stderr",
     "output_type": "stream",
     "text": [
      "\n",
      "\n",
      "\n",
      "\n",
      "\n",
      "\n",
      "\n",
      "\n",
      "\n",
      " 88%|████████▊ | 30/34 [01:08<00:08,  2.03s/it]\u001b[A\u001b[A\u001b[A\u001b[A\u001b[A\u001b[A\u001b[A\u001b[A\u001b[A"
     ]
    },
    {
     "name": "stdout",
     "output_type": "stream",
     "text": [
      "Kompas.com - 09/02/2018, 21:18 WIB\n",
      "2018\n"
     ]
    },
    {
     "name": "stderr",
     "output_type": "stream",
     "text": [
      "\n",
      "\n",
      "\n",
      "\n",
      "\n",
      "\n",
      "\n",
      "\n",
      "\n",
      " 91%|█████████ | 31/34 [01:10<00:05,  1.98s/it]\u001b[A\u001b[A\u001b[A\u001b[A\u001b[A\u001b[A\u001b[A\u001b[A\u001b[A"
     ]
    },
    {
     "name": "stdout",
     "output_type": "stream",
     "text": [
      "Kompas.com - 22/05/2017, 16:19 WIB\n",
      "2017\n"
     ]
    },
    {
     "name": "stderr",
     "output_type": "stream",
     "text": [
      "\n",
      "\n",
      "\n",
      "\n",
      "\n",
      "\n",
      "\n",
      "\n",
      "\n",
      " 94%|█████████▍| 32/34 [01:12<00:04,  2.06s/it]\u001b[A\u001b[A\u001b[A\u001b[A\u001b[A\u001b[A\u001b[A\u001b[A\u001b[A"
     ]
    },
    {
     "name": "stdout",
     "output_type": "stream",
     "text": [
      "Kompas.com - 23/10/2015, 11:52 WIB\n",
      "2015\n"
     ]
    },
    {
     "name": "stderr",
     "output_type": "stream",
     "text": [
      "\n",
      "\n",
      "\n",
      "\n",
      "\n",
      "\n",
      "\n",
      "\n",
      "\n",
      " 97%|█████████▋| 33/34 [01:14<00:02,  2.07s/it]\u001b[A\u001b[A\u001b[A\u001b[A\u001b[A\u001b[A\u001b[A\u001b[A\u001b[A"
     ]
    },
    {
     "name": "stdout",
     "output_type": "stream",
     "text": [
      "Kompas.com - 09/11/2009, 20:03 WIB\n",
      "2009\n"
     ]
    },
    {
     "name": "stderr",
     "output_type": "stream",
     "text": [
      "\n",
      "\n",
      "\n",
      "\n",
      "\n",
      "\n",
      "\n",
      "\n",
      "\n",
      "100%|██████████| 34/34 [01:16<00:00,  1.97s/it]\u001b[A\u001b[A\u001b[A\u001b[A\u001b[A\u001b[A\u001b[A\u001b[A\u001b[A"
     ]
    },
    {
     "name": "stdout",
     "output_type": "stream",
     "text": [
      "Kompas.com - 22/06/2017, 07:30 WIB\n",
      "2017\n"
     ]
    }
   ],
   "source": [
    "urls_kompas = kompas_scraper(driver, 2017, 2018, \"Sawit Sumbermas Sarana\")"
   ]
  },
  {
   "cell_type": "code",
   "execution_count": 66,
   "metadata": {},
   "outputs": [],
   "source": [
    "assert urls_kompas is not None"
   ]
  },
  {
   "cell_type": "code",
   "execution_count": 67,
   "metadata": {},
   "outputs": [
    {
     "data": {
      "text/plain": [
       "(['https://ekonomi.kompas.com/read/2017/12/28/144303026/bangun-pabrik-cpo-sawit-sumbermas-anggarkan-rp-270-miliar',\n",
       "  'https://ekonomi.kompas.com/read/2017/12/28/131500426/hingga-september-2017-sawit-sumbermas-catat-penjualan-rp-2-4-triliun',\n",
       "  'https://ekonomi.kompas.com/read/2017/12/28/181200926/bayar-utang-sawit-sumbermas-akan-terbitkan-global-bond-di-singapura',\n",
       "  'https://sains.kompas.com/read/2017/01/10/203056226/read-brandzview.html',\n",
       "  'https://regional.kompas.com/read/2017/05/22/16192851/dilantik.bupati.kotawaringin.barat.jadi.bupati.perempuan.pertama.di.kalteng',\n",
       "  'https://regional.kompas.com/read/2017/06/22/07300011/dilengserkan.karena.selingkuh.mantan.bupati.katingan.tetap.eksis.di.politik'],\n",
       " ['https://ekonomi.kompas.com/read/2018/06/07/173809626/ditutup-menguat-ihsg-kembali-tembus-level-6100',\n",
       "  'https://pemilu.kompas.com/read/2018/07/03/134230526/ihsg-ditutup-melemah-saham-pgas-merosot-tajam',\n",
       "  'https://ekonomi.kompas.com/read/2018/08/20/124224926/sesi-i-ihsg-ditutup-melonjak-99-poin',\n",
       "  'https://ekonomi.kompas.com/read/2018/07/03/134230526/ihsg-ditutup-melemah-saham-pgas-merosot-tajam?page=all',\n",
       "  'https://sains.kompas.com/read/2018/02/09/21180941/todung-orangutan-dan-hutan-gambut-penting-untuk-jaga-biodiversity'])"
      ]
     },
     "execution_count": 67,
     "metadata": {},
     "output_type": "execute_result"
    }
   ],
   "source": [
    "urls_kompas"
   ]
  },
  {
   "cell_type": "code",
   "execution_count": 7,
   "metadata": {},
   "outputs": [],
   "source": [
    "kompas_scraped = False\n",
    "\n",
    "while kompas_scraped is False:\n",
    "    try:\n",
    "        urls_kompas = kompas_scraper(driver)\n",
    "        kompas_scraped = True\n",
    "    except:\n",
    "        pass"
   ]
  },
  {
   "cell_type": "code",
   "execution_count": 8,
   "metadata": {},
   "outputs": [
    {
     "data": {
      "text/plain": [
       "['https://money.kompas.com/read/2019/07/17/183500126/bca--perubahan-zaman-dulu-buka-cabang-40-sekarang-kurang-dari-20',\n",
       " 'https://money.kompas.com/read/2019/07/17/183500126/bca--perubahan-zaman-dulu-buka-cabang-40-sekarang-kurang-dari-20',\n",
       " 'https://money.kompas.com/read/2019/06/30/124400426/bca-raih-penghargaan-bank-terbaik-di-indonesia-dan-asia',\n",
       " 'https://money.kompas.com/read/2019/06/30/124400426/bca-raih-penghargaan-bank-terbaik-di-indonesia-dan-asia',\n",
       " 'https://money.kompas.com/read/2019/05/24/182022426/amankah-penggunaan-vpn-untuk-layanan-perbankan-ponsel-ini-kata-bank-bca',\n",
       " 'https://money.kompas.com/read/2019/05/24/182022426/amankah-penggunaan-vpn-untuk-layanan-perbankan-ponsel-ini-kata-bank-bca',\n",
       " 'https://money.kompas.com/read/2019/05/20/101200826/cara-daftar-mobile-banking-bca?page=all',\n",
       " 'https://money.kompas.com/read/2019/05/20/101200826/cara-daftar-mobile-banking-bca?page=all',\n",
       " 'https://ekonomi.kompas.com/read/2018/12/24/174639826/catat-ini-jadwal-operasional-bca-selama-libur-natal-dan-tahun-baru',\n",
       " 'https://ekonomi.kompas.com/read/2018/12/24/174639826/catat-ini-jadwal-operasional-bca-selama-libur-natal-dan-tahun-baru',\n",
       " 'https://money.kompas.com/read/2019/05/28/164747026/ini-jadwal-operasional-bca-saat-libur-lebaran',\n",
       " 'https://money.kompas.com/read/2019/05/28/164747026/ini-jadwal-operasional-bca-saat-libur-lebaran',\n",
       " 'https://money.kompas.com/read/2019/06/12/165119326/usai-diakuisisi-bank-royal-akan-dimerger-dengan-bca-syariah',\n",
       " 'https://money.kompas.com/read/2019/06/12/165119326/usai-diakuisisi-bank-royal-akan-dimerger-dengan-bca-syariah',\n",
       " 'https://money.kompas.com/read/2019/06/20/070800826/harga-saham-dekati-rp-30.000-bca-belum-kepikiran-stock-split-',\n",
       " 'https://money.kompas.com/read/2019/06/20/070800826/harga-saham-dekati-rp-30.000-bca-belum-kepikiran-stock-split-',\n",
       " 'https://money.kompas.com/read/2019/04/22/174700226/bca-resmi-akuisisi-bank-royal',\n",
       " 'https://money.kompas.com/read/2019/04/22/174700226/bca-resmi-akuisisi-bank-royal',\n",
       " 'https://ekonomi.kompas.com/read/2019/02/24/161318126/dirut-bca-pastikan-proses-akuisisi-bank-rampung-juni-2019',\n",
       " 'https://ekonomi.kompas.com/read/2019/02/24/161318126/dirut-bca-pastikan-proses-akuisisi-bank-rampung-juni-2019']"
      ]
     },
     "execution_count": 8,
     "metadata": {},
     "output_type": "execute_result"
    }
   ],
   "source": [
    "urls_kompas"
   ]
  },
  {
   "cell_type": "markdown",
   "metadata": {},
   "source": [
    "# Kontan Section"
   ]
  },
  {
   "cell_type": "code",
   "execution_count": 9,
   "metadata": {},
   "outputs": [],
   "source": [
    "def kontan_scraper(driver):\n",
    "    driver.get(\"https://www.kontan.co.id/\")\n",
    "    \n",
    "    driver.implicitly_wait(10)\n",
    "    input_search = driver.find_element_by_xpath(\"//*[@id='wrapforleftpush']/header/div[1]/div[2]/div/div[2]/form/div/input\")\n",
    "    input_search.send_keys(\"bank bca\")\n",
    "    input_search.send_keys(Keys.RETURN)\n",
    "    \n",
    "    driver.implicitly_wait(10)\n",
    "    news_list = driver.find_elements_by_tag_name(\"h1\")\n",
    "    link_list = [title.find_element_by_tag_name(\"a\") for title in news_list]\n",
    "    link_list = [link.get_attribute(\"href\") for link in link_list if link.get_attribute(\"href\") is not None]\n",
    "\n",
    "    return link_list"
   ]
  },
  {
   "cell_type": "code",
   "execution_count": 18,
   "metadata": {},
   "outputs": [],
   "source": [
    "\n",
    "chromedriver_path = \"/mnt/c/Users/Gilang R Ilhami/Desktop/personal_projects/ibm_stuff/chromedriver.exe\"\n",
    "driver = webdriver.Chrome(executable_path=chromedriver_path)"
   ]
  },
  {
   "cell_type": "code",
   "execution_count": 19,
   "metadata": {},
   "outputs": [],
   "source": [
    "driver.get(\"https://www.kontan.co.id/\")\n",
    "    \n",
    "driver.implicitly_wait(10)\n",
    "input_search = driver.find_element_by_xpath(\"//*[@id='wrapforleftpush']/header/div[1]/div[2]/div/div[2]/form/div/input\")\n",
    "input_search.send_keys(\"bank indonesia\".lower())\n",
    "input_search.send_keys(Keys.RETURN)\n",
    "\n"
   ]
  },
  {
   "cell_type": "code",
   "execution_count": null,
   "metadata": {},
   "outputs": [],
   "source": [
    "driver.implicitly_wait(10)\n",
    "news_list = driver.find_elements_by_tag_name(\"h1\")\n",
    "link_list = [title.find_element_by_tag_name(\"a\") for title in news_list]\n",
    "link_list = [link.get_attribute(\"href\") for link in link_list if link.get_attribute(\"href\") is not None]\n",
    "\n",
    "all_links_list.extend(link_list)"
   ]
  },
  {
   "cell_type": "code",
   "execution_count": 20,
   "metadata": {},
   "outputs": [
    {
     "ename": "TypeError",
     "evalue": "'WebElement' object does not support indexing",
     "output_type": "error",
     "traceback": [
      "\u001b[0;31m---------------------------------------------------------------------------\u001b[0m",
      "\u001b[0;31mTypeError\u001b[0m                                 Traceback (most recent call last)",
      "\u001b[0;32m<ipython-input-20-17a118d3c11e>\u001b[0m in \u001b[0;36m<module>\u001b[0;34m\u001b[0m\n\u001b[1;32m      1\u001b[0m \u001b[0mpaging\u001b[0m \u001b[0;34m=\u001b[0m \u001b[0mdriver\u001b[0m\u001b[0;34m.\u001b[0m\u001b[0mfind_element_by_xpath\u001b[0m\u001b[0;34m(\u001b[0m\u001b[0;34m\"//*[@id='content_news']/div[2]\"\u001b[0m\u001b[0;34m)\u001b[0m\u001b[0;34m\u001b[0m\u001b[0;34m\u001b[0m\u001b[0m\n\u001b[0;32m----> 2\u001b[0;31m \u001b[0mnext_page\u001b[0m \u001b[0;34m=\u001b[0m \u001b[0mpaging\u001b[0m\u001b[0;34m[\u001b[0m\u001b[0;34m-\u001b[0m\u001b[0;36m1\u001b[0m\u001b[0;34m]\u001b[0m\u001b[0;34m\u001b[0m\u001b[0;34m\u001b[0m\u001b[0m\n\u001b[0m\u001b[1;32m      3\u001b[0m \u001b[0mnext_page\u001b[0m\u001b[0;34m.\u001b[0m\u001b[0mclick\u001b[0m\u001b[0;34m(\u001b[0m\u001b[0;34m)\u001b[0m\u001b[0;34m\u001b[0m\u001b[0;34m\u001b[0m\u001b[0m\n",
      "\u001b[0;31mTypeError\u001b[0m: 'WebElement' object does not support indexing"
     ]
    }
   ],
   "source": [
    "paging = driver.find_element_by_xpath(\"//*[@id='content_news']/div[2]\")\n",
    "next_page = paging[-1]\n",
    "next_page.click()"
   ]
  },
  {
   "cell_type": "code",
   "execution_count": 21,
   "metadata": {},
   "outputs": [],
   "source": [
    "next_page = paging.find_elements_by_tag_name(\"a\")"
   ]
  },
  {
   "cell_type": "code",
   "execution_count": 27,
   "metadata": {},
   "outputs": [],
   "source": [
    "e_text, = [e  for e in next_page if e.text == \"Next\"]\n",
    "e_text.click()"
   ]
  },
  {
   "cell_type": "code",
   "execution_count": 17,
   "metadata": {},
   "outputs": [
    {
     "name": "stdout",
     "output_type": "stream",
     "text": [
      "next page element found\n",
      "next page element found\n",
      "next page element found\n",
      "next page element found\n",
      "next page element found\n",
      "next page element found\n",
      "next page element found\n",
      "next page element found\n",
      "next page element found\n",
      "next page element found\n",
      "next page element found\n",
      "next page element found\n",
      "next page element found\n",
      "next page element found\n",
      "next page element found\n",
      "next page element found\n",
      "next page element found\n",
      "next page element found\n",
      "next page element found\n",
      "next page element found\n",
      "next page element found\n",
      "next page element found\n",
      "next page element found\n",
      "next page element found\n",
      "next page element found\n",
      "next page element found\n",
      "next page element found\n",
      "next page element found\n",
      "next page element found\n",
      "next page element found\n",
      "next page element found\n",
      "next page element found\n",
      "next page element found\n",
      "next page element found\n",
      "next page element found\n",
      "next page element found\n",
      "next page element found\n",
      "next page element found\n",
      "next page element found\n",
      "next page element found\n"
     ]
    },
    {
     "ename": "KeyboardInterrupt",
     "evalue": "",
     "output_type": "error",
     "traceback": [
      "\u001b[0;31m---------------------------------------------------------------------------\u001b[0m",
      "\u001b[0;31mTypeError\u001b[0m                                 Traceback (most recent call last)",
      "\u001b[0;32m/mnt/c/Users/Gilang R Ilhami/Desktop/personal_projects/ibm_stuff/ibmenv/lib/python3.6/site-packages/urllib3/connectionpool.py\u001b[0m in \u001b[0;36m_make_request\u001b[0;34m(self, conn, method, url, timeout, chunked, **httplib_request_kw)\u001b[0m\n\u001b[1;32m    378\u001b[0m                 \u001b[0;31m# Python 2.7, use buffering of HTTP responses\u001b[0m\u001b[0;34m\u001b[0m\u001b[0;34m\u001b[0m\u001b[0;34m\u001b[0m\u001b[0m\n\u001b[0;32m--> 379\u001b[0;31m                 \u001b[0mhttplib_response\u001b[0m \u001b[0;34m=\u001b[0m \u001b[0mconn\u001b[0m\u001b[0;34m.\u001b[0m\u001b[0mgetresponse\u001b[0m\u001b[0;34m(\u001b[0m\u001b[0mbuffering\u001b[0m\u001b[0;34m=\u001b[0m\u001b[0;32mTrue\u001b[0m\u001b[0;34m)\u001b[0m\u001b[0;34m\u001b[0m\u001b[0;34m\u001b[0m\u001b[0m\n\u001b[0m\u001b[1;32m    380\u001b[0m             \u001b[0;32mexcept\u001b[0m \u001b[0mTypeError\u001b[0m\u001b[0;34m:\u001b[0m\u001b[0;34m\u001b[0m\u001b[0;34m\u001b[0m\u001b[0m\n",
      "\u001b[0;31mTypeError\u001b[0m: getresponse() got an unexpected keyword argument 'buffering'",
      "\nDuring handling of the above exception, another exception occurred:\n",
      "\u001b[0;31mKeyboardInterrupt\u001b[0m                         Traceback (most recent call last)",
      "\u001b[0;32m<ipython-input-17-2b8ecf24c548>\u001b[0m in \u001b[0;36m<module>\u001b[0;34m\u001b[0m\n\u001b[1;32m      6\u001b[0m     \u001b[0mdriver\u001b[0m\u001b[0;34m.\u001b[0m\u001b[0mimplicitly_wait\u001b[0m\u001b[0;34m(\u001b[0m\u001b[0;36m10\u001b[0m\u001b[0;34m)\u001b[0m\u001b[0;34m\u001b[0m\u001b[0;34m\u001b[0m\u001b[0m\n\u001b[1;32m      7\u001b[0m     \u001b[0mnews_list\u001b[0m \u001b[0;34m=\u001b[0m \u001b[0mdriver\u001b[0m\u001b[0;34m.\u001b[0m\u001b[0mfind_elements_by_tag_name\u001b[0m\u001b[0;34m(\u001b[0m\u001b[0;34m\"h1\"\u001b[0m\u001b[0;34m)\u001b[0m\u001b[0;34m\u001b[0m\u001b[0;34m\u001b[0m\u001b[0m\n\u001b[0;32m----> 8\u001b[0;31m     \u001b[0mlink_list\u001b[0m \u001b[0;34m=\u001b[0m \u001b[0;34m[\u001b[0m\u001b[0mtitle\u001b[0m\u001b[0;34m.\u001b[0m\u001b[0mfind_element_by_tag_name\u001b[0m\u001b[0;34m(\u001b[0m\u001b[0;34m\"a\"\u001b[0m\u001b[0;34m)\u001b[0m \u001b[0;32mfor\u001b[0m \u001b[0mtitle\u001b[0m \u001b[0;32min\u001b[0m \u001b[0mnews_list\u001b[0m\u001b[0;34m]\u001b[0m\u001b[0;34m\u001b[0m\u001b[0;34m\u001b[0m\u001b[0m\n\u001b[0m\u001b[1;32m      9\u001b[0m     \u001b[0mlink_list\u001b[0m \u001b[0;34m=\u001b[0m \u001b[0;34m[\u001b[0m\u001b[0mlink\u001b[0m\u001b[0;34m.\u001b[0m\u001b[0mget_attribute\u001b[0m\u001b[0;34m(\u001b[0m\u001b[0;34m\"href\"\u001b[0m\u001b[0;34m)\u001b[0m \u001b[0;32mfor\u001b[0m \u001b[0mlink\u001b[0m \u001b[0;32min\u001b[0m \u001b[0mlink_list\u001b[0m \u001b[0;32mif\u001b[0m \u001b[0mlink\u001b[0m\u001b[0;34m.\u001b[0m\u001b[0mget_attribute\u001b[0m\u001b[0;34m(\u001b[0m\u001b[0;34m\"href\"\u001b[0m\u001b[0;34m)\u001b[0m \u001b[0;32mis\u001b[0m \u001b[0;32mnot\u001b[0m \u001b[0;32mNone\u001b[0m\u001b[0;34m]\u001b[0m\u001b[0;34m\u001b[0m\u001b[0;34m\u001b[0m\u001b[0m\n\u001b[1;32m     10\u001b[0m     \u001b[0mall_links_list\u001b[0m\u001b[0;34m.\u001b[0m\u001b[0mextend\u001b[0m\u001b[0;34m(\u001b[0m\u001b[0mlink_list\u001b[0m\u001b[0;34m)\u001b[0m\u001b[0;34m\u001b[0m\u001b[0;34m\u001b[0m\u001b[0m\n",
      "\u001b[0;32m<ipython-input-17-2b8ecf24c548>\u001b[0m in \u001b[0;36m<listcomp>\u001b[0;34m(.0)\u001b[0m\n\u001b[1;32m      6\u001b[0m     \u001b[0mdriver\u001b[0m\u001b[0;34m.\u001b[0m\u001b[0mimplicitly_wait\u001b[0m\u001b[0;34m(\u001b[0m\u001b[0;36m10\u001b[0m\u001b[0;34m)\u001b[0m\u001b[0;34m\u001b[0m\u001b[0;34m\u001b[0m\u001b[0m\n\u001b[1;32m      7\u001b[0m     \u001b[0mnews_list\u001b[0m \u001b[0;34m=\u001b[0m \u001b[0mdriver\u001b[0m\u001b[0;34m.\u001b[0m\u001b[0mfind_elements_by_tag_name\u001b[0m\u001b[0;34m(\u001b[0m\u001b[0;34m\"h1\"\u001b[0m\u001b[0;34m)\u001b[0m\u001b[0;34m\u001b[0m\u001b[0;34m\u001b[0m\u001b[0m\n\u001b[0;32m----> 8\u001b[0;31m     \u001b[0mlink_list\u001b[0m \u001b[0;34m=\u001b[0m \u001b[0;34m[\u001b[0m\u001b[0mtitle\u001b[0m\u001b[0;34m.\u001b[0m\u001b[0mfind_element_by_tag_name\u001b[0m\u001b[0;34m(\u001b[0m\u001b[0;34m\"a\"\u001b[0m\u001b[0;34m)\u001b[0m \u001b[0;32mfor\u001b[0m \u001b[0mtitle\u001b[0m \u001b[0;32min\u001b[0m \u001b[0mnews_list\u001b[0m\u001b[0;34m]\u001b[0m\u001b[0;34m\u001b[0m\u001b[0;34m\u001b[0m\u001b[0m\n\u001b[0m\u001b[1;32m      9\u001b[0m     \u001b[0mlink_list\u001b[0m \u001b[0;34m=\u001b[0m \u001b[0;34m[\u001b[0m\u001b[0mlink\u001b[0m\u001b[0;34m.\u001b[0m\u001b[0mget_attribute\u001b[0m\u001b[0;34m(\u001b[0m\u001b[0;34m\"href\"\u001b[0m\u001b[0;34m)\u001b[0m \u001b[0;32mfor\u001b[0m \u001b[0mlink\u001b[0m \u001b[0;32min\u001b[0m \u001b[0mlink_list\u001b[0m \u001b[0;32mif\u001b[0m \u001b[0mlink\u001b[0m\u001b[0;34m.\u001b[0m\u001b[0mget_attribute\u001b[0m\u001b[0;34m(\u001b[0m\u001b[0;34m\"href\"\u001b[0m\u001b[0;34m)\u001b[0m \u001b[0;32mis\u001b[0m \u001b[0;32mnot\u001b[0m \u001b[0;32mNone\u001b[0m\u001b[0;34m]\u001b[0m\u001b[0;34m\u001b[0m\u001b[0;34m\u001b[0m\u001b[0m\n\u001b[1;32m     10\u001b[0m     \u001b[0mall_links_list\u001b[0m\u001b[0;34m.\u001b[0m\u001b[0mextend\u001b[0m\u001b[0;34m(\u001b[0m\u001b[0mlink_list\u001b[0m\u001b[0;34m)\u001b[0m\u001b[0;34m\u001b[0m\u001b[0;34m\u001b[0m\u001b[0m\n",
      "\u001b[0;32m/mnt/c/Users/Gilang R Ilhami/Desktop/personal_projects/ibm_stuff/ibmenv/lib/python3.6/site-packages/selenium/webdriver/remote/webelement.py\u001b[0m in \u001b[0;36mfind_element_by_tag_name\u001b[0;34m(self, name)\u001b[0m\n\u001b[1;32m    303\u001b[0m             \u001b[0melement\u001b[0m \u001b[0;34m=\u001b[0m \u001b[0melement\u001b[0m\u001b[0;34m.\u001b[0m\u001b[0mfind_element_by_tag_name\u001b[0m\u001b[0;34m(\u001b[0m\u001b[0;34m'h1'\u001b[0m\u001b[0;34m)\u001b[0m\u001b[0;34m\u001b[0m\u001b[0;34m\u001b[0m\u001b[0m\n\u001b[1;32m    304\u001b[0m         \"\"\"\n\u001b[0;32m--> 305\u001b[0;31m         \u001b[0;32mreturn\u001b[0m \u001b[0mself\u001b[0m\u001b[0;34m.\u001b[0m\u001b[0mfind_element\u001b[0m\u001b[0;34m(\u001b[0m\u001b[0mby\u001b[0m\u001b[0;34m=\u001b[0m\u001b[0mBy\u001b[0m\u001b[0;34m.\u001b[0m\u001b[0mTAG_NAME\u001b[0m\u001b[0;34m,\u001b[0m \u001b[0mvalue\u001b[0m\u001b[0;34m=\u001b[0m\u001b[0mname\u001b[0m\u001b[0;34m)\u001b[0m\u001b[0;34m\u001b[0m\u001b[0;34m\u001b[0m\u001b[0m\n\u001b[0m\u001b[1;32m    306\u001b[0m \u001b[0;34m\u001b[0m\u001b[0m\n\u001b[1;32m    307\u001b[0m     \u001b[0;32mdef\u001b[0m \u001b[0mfind_elements_by_tag_name\u001b[0m\u001b[0;34m(\u001b[0m\u001b[0mself\u001b[0m\u001b[0;34m,\u001b[0m \u001b[0mname\u001b[0m\u001b[0;34m)\u001b[0m\u001b[0;34m:\u001b[0m\u001b[0;34m\u001b[0m\u001b[0;34m\u001b[0m\u001b[0m\n",
      "\u001b[0;32m/mnt/c/Users/Gilang R Ilhami/Desktop/personal_projects/ibm_stuff/ibmenv/lib/python3.6/site-packages/selenium/webdriver/remote/webelement.py\u001b[0m in \u001b[0;36mfind_element\u001b[0;34m(self, by, value)\u001b[0m\n\u001b[1;32m    657\u001b[0m \u001b[0;34m\u001b[0m\u001b[0m\n\u001b[1;32m    658\u001b[0m         return self._execute(Command.FIND_CHILD_ELEMENT,\n\u001b[0;32m--> 659\u001b[0;31m                              {\"using\": by, \"value\": value})['value']\n\u001b[0m\u001b[1;32m    660\u001b[0m \u001b[0;34m\u001b[0m\u001b[0m\n\u001b[1;32m    661\u001b[0m     \u001b[0;32mdef\u001b[0m \u001b[0mfind_elements\u001b[0m\u001b[0;34m(\u001b[0m\u001b[0mself\u001b[0m\u001b[0;34m,\u001b[0m \u001b[0mby\u001b[0m\u001b[0;34m=\u001b[0m\u001b[0mBy\u001b[0m\u001b[0;34m.\u001b[0m\u001b[0mID\u001b[0m\u001b[0;34m,\u001b[0m \u001b[0mvalue\u001b[0m\u001b[0;34m=\u001b[0m\u001b[0;32mNone\u001b[0m\u001b[0;34m)\u001b[0m\u001b[0;34m:\u001b[0m\u001b[0;34m\u001b[0m\u001b[0;34m\u001b[0m\u001b[0m\n",
      "\u001b[0;32m/mnt/c/Users/Gilang R Ilhami/Desktop/personal_projects/ibm_stuff/ibmenv/lib/python3.6/site-packages/selenium/webdriver/remote/webelement.py\u001b[0m in \u001b[0;36m_execute\u001b[0;34m(self, command, params)\u001b[0m\n\u001b[1;32m    631\u001b[0m             \u001b[0mparams\u001b[0m \u001b[0;34m=\u001b[0m \u001b[0;34m{\u001b[0m\u001b[0;34m}\u001b[0m\u001b[0;34m\u001b[0m\u001b[0;34m\u001b[0m\u001b[0m\n\u001b[1;32m    632\u001b[0m         \u001b[0mparams\u001b[0m\u001b[0;34m[\u001b[0m\u001b[0;34m'id'\u001b[0m\u001b[0;34m]\u001b[0m \u001b[0;34m=\u001b[0m \u001b[0mself\u001b[0m\u001b[0;34m.\u001b[0m\u001b[0m_id\u001b[0m\u001b[0;34m\u001b[0m\u001b[0;34m\u001b[0m\u001b[0m\n\u001b[0;32m--> 633\u001b[0;31m         \u001b[0;32mreturn\u001b[0m \u001b[0mself\u001b[0m\u001b[0;34m.\u001b[0m\u001b[0m_parent\u001b[0m\u001b[0;34m.\u001b[0m\u001b[0mexecute\u001b[0m\u001b[0;34m(\u001b[0m\u001b[0mcommand\u001b[0m\u001b[0;34m,\u001b[0m \u001b[0mparams\u001b[0m\u001b[0;34m)\u001b[0m\u001b[0;34m\u001b[0m\u001b[0;34m\u001b[0m\u001b[0m\n\u001b[0m\u001b[1;32m    634\u001b[0m \u001b[0;34m\u001b[0m\u001b[0m\n\u001b[1;32m    635\u001b[0m     \u001b[0;32mdef\u001b[0m \u001b[0mfind_element\u001b[0m\u001b[0;34m(\u001b[0m\u001b[0mself\u001b[0m\u001b[0;34m,\u001b[0m \u001b[0mby\u001b[0m\u001b[0;34m=\u001b[0m\u001b[0mBy\u001b[0m\u001b[0;34m.\u001b[0m\u001b[0mID\u001b[0m\u001b[0;34m,\u001b[0m \u001b[0mvalue\u001b[0m\u001b[0;34m=\u001b[0m\u001b[0;32mNone\u001b[0m\u001b[0;34m)\u001b[0m\u001b[0;34m:\u001b[0m\u001b[0;34m\u001b[0m\u001b[0;34m\u001b[0m\u001b[0m\n",
      "\u001b[0;32m/mnt/c/Users/Gilang R Ilhami/Desktop/personal_projects/ibm_stuff/ibmenv/lib/python3.6/site-packages/selenium/webdriver/remote/webdriver.py\u001b[0m in \u001b[0;36mexecute\u001b[0;34m(self, driver_command, params)\u001b[0m\n\u001b[1;32m    317\u001b[0m \u001b[0;34m\u001b[0m\u001b[0m\n\u001b[1;32m    318\u001b[0m         \u001b[0mparams\u001b[0m \u001b[0;34m=\u001b[0m \u001b[0mself\u001b[0m\u001b[0;34m.\u001b[0m\u001b[0m_wrap_value\u001b[0m\u001b[0;34m(\u001b[0m\u001b[0mparams\u001b[0m\u001b[0;34m)\u001b[0m\u001b[0;34m\u001b[0m\u001b[0;34m\u001b[0m\u001b[0m\n\u001b[0;32m--> 319\u001b[0;31m         \u001b[0mresponse\u001b[0m \u001b[0;34m=\u001b[0m \u001b[0mself\u001b[0m\u001b[0;34m.\u001b[0m\u001b[0mcommand_executor\u001b[0m\u001b[0;34m.\u001b[0m\u001b[0mexecute\u001b[0m\u001b[0;34m(\u001b[0m\u001b[0mdriver_command\u001b[0m\u001b[0;34m,\u001b[0m \u001b[0mparams\u001b[0m\u001b[0;34m)\u001b[0m\u001b[0;34m\u001b[0m\u001b[0;34m\u001b[0m\u001b[0m\n\u001b[0m\u001b[1;32m    320\u001b[0m         \u001b[0;32mif\u001b[0m \u001b[0mresponse\u001b[0m\u001b[0;34m:\u001b[0m\u001b[0;34m\u001b[0m\u001b[0;34m\u001b[0m\u001b[0m\n\u001b[1;32m    321\u001b[0m             \u001b[0mself\u001b[0m\u001b[0;34m.\u001b[0m\u001b[0merror_handler\u001b[0m\u001b[0;34m.\u001b[0m\u001b[0mcheck_response\u001b[0m\u001b[0;34m(\u001b[0m\u001b[0mresponse\u001b[0m\u001b[0;34m)\u001b[0m\u001b[0;34m\u001b[0m\u001b[0;34m\u001b[0m\u001b[0m\n",
      "\u001b[0;32m/mnt/c/Users/Gilang R Ilhami/Desktop/personal_projects/ibm_stuff/ibmenv/lib/python3.6/site-packages/selenium/webdriver/remote/remote_connection.py\u001b[0m in \u001b[0;36mexecute\u001b[0;34m(self, command, params)\u001b[0m\n\u001b[1;32m    372\u001b[0m         \u001b[0mdata\u001b[0m \u001b[0;34m=\u001b[0m \u001b[0mutils\u001b[0m\u001b[0;34m.\u001b[0m\u001b[0mdump_json\u001b[0m\u001b[0;34m(\u001b[0m\u001b[0mparams\u001b[0m\u001b[0;34m)\u001b[0m\u001b[0;34m\u001b[0m\u001b[0;34m\u001b[0m\u001b[0m\n\u001b[1;32m    373\u001b[0m         \u001b[0murl\u001b[0m \u001b[0;34m=\u001b[0m \u001b[0;34m'%s%s'\u001b[0m \u001b[0;34m%\u001b[0m \u001b[0;34m(\u001b[0m\u001b[0mself\u001b[0m\u001b[0;34m.\u001b[0m\u001b[0m_url\u001b[0m\u001b[0;34m,\u001b[0m \u001b[0mpath\u001b[0m\u001b[0;34m)\u001b[0m\u001b[0;34m\u001b[0m\u001b[0;34m\u001b[0m\u001b[0m\n\u001b[0;32m--> 374\u001b[0;31m         \u001b[0;32mreturn\u001b[0m \u001b[0mself\u001b[0m\u001b[0;34m.\u001b[0m\u001b[0m_request\u001b[0m\u001b[0;34m(\u001b[0m\u001b[0mcommand_info\u001b[0m\u001b[0;34m[\u001b[0m\u001b[0;36m0\u001b[0m\u001b[0;34m]\u001b[0m\u001b[0;34m,\u001b[0m \u001b[0murl\u001b[0m\u001b[0;34m,\u001b[0m \u001b[0mbody\u001b[0m\u001b[0;34m=\u001b[0m\u001b[0mdata\u001b[0m\u001b[0;34m)\u001b[0m\u001b[0;34m\u001b[0m\u001b[0;34m\u001b[0m\u001b[0m\n\u001b[0m\u001b[1;32m    375\u001b[0m \u001b[0;34m\u001b[0m\u001b[0m\n\u001b[1;32m    376\u001b[0m     \u001b[0;32mdef\u001b[0m \u001b[0m_request\u001b[0m\u001b[0;34m(\u001b[0m\u001b[0mself\u001b[0m\u001b[0;34m,\u001b[0m \u001b[0mmethod\u001b[0m\u001b[0;34m,\u001b[0m \u001b[0murl\u001b[0m\u001b[0;34m,\u001b[0m \u001b[0mbody\u001b[0m\u001b[0;34m=\u001b[0m\u001b[0;32mNone\u001b[0m\u001b[0;34m)\u001b[0m\u001b[0;34m:\u001b[0m\u001b[0;34m\u001b[0m\u001b[0;34m\u001b[0m\u001b[0m\n",
      "\u001b[0;32m/mnt/c/Users/Gilang R Ilhami/Desktop/personal_projects/ibm_stuff/ibmenv/lib/python3.6/site-packages/selenium/webdriver/remote/remote_connection.py\u001b[0m in \u001b[0;36m_request\u001b[0;34m(self, method, url, body)\u001b[0m\n\u001b[1;32m    395\u001b[0m \u001b[0;34m\u001b[0m\u001b[0m\n\u001b[1;32m    396\u001b[0m         \u001b[0;32mif\u001b[0m \u001b[0mself\u001b[0m\u001b[0;34m.\u001b[0m\u001b[0mkeep_alive\u001b[0m\u001b[0;34m:\u001b[0m\u001b[0;34m\u001b[0m\u001b[0;34m\u001b[0m\u001b[0m\n\u001b[0;32m--> 397\u001b[0;31m             \u001b[0mresp\u001b[0m \u001b[0;34m=\u001b[0m \u001b[0mself\u001b[0m\u001b[0;34m.\u001b[0m\u001b[0m_conn\u001b[0m\u001b[0;34m.\u001b[0m\u001b[0mrequest\u001b[0m\u001b[0;34m(\u001b[0m\u001b[0mmethod\u001b[0m\u001b[0;34m,\u001b[0m \u001b[0murl\u001b[0m\u001b[0;34m,\u001b[0m \u001b[0mbody\u001b[0m\u001b[0;34m=\u001b[0m\u001b[0mbody\u001b[0m\u001b[0;34m,\u001b[0m \u001b[0mheaders\u001b[0m\u001b[0;34m=\u001b[0m\u001b[0mheaders\u001b[0m\u001b[0;34m)\u001b[0m\u001b[0;34m\u001b[0m\u001b[0;34m\u001b[0m\u001b[0m\n\u001b[0m\u001b[1;32m    398\u001b[0m \u001b[0;34m\u001b[0m\u001b[0m\n\u001b[1;32m    399\u001b[0m             \u001b[0mstatuscode\u001b[0m \u001b[0;34m=\u001b[0m \u001b[0mresp\u001b[0m\u001b[0;34m.\u001b[0m\u001b[0mstatus\u001b[0m\u001b[0;34m\u001b[0m\u001b[0;34m\u001b[0m\u001b[0m\n",
      "\u001b[0;32m/mnt/c/Users/Gilang R Ilhami/Desktop/personal_projects/ibm_stuff/ibmenv/lib/python3.6/site-packages/urllib3/request.py\u001b[0m in \u001b[0;36mrequest\u001b[0;34m(self, method, url, fields, headers, **urlopen_kw)\u001b[0m\n\u001b[1;32m     70\u001b[0m             return self.request_encode_body(method, url, fields=fields,\n\u001b[1;32m     71\u001b[0m                                             \u001b[0mheaders\u001b[0m\u001b[0;34m=\u001b[0m\u001b[0mheaders\u001b[0m\u001b[0;34m,\u001b[0m\u001b[0;34m\u001b[0m\u001b[0;34m\u001b[0m\u001b[0m\n\u001b[0;32m---> 72\u001b[0;31m                                             **urlopen_kw)\n\u001b[0m\u001b[1;32m     73\u001b[0m \u001b[0;34m\u001b[0m\u001b[0m\n\u001b[1;32m     74\u001b[0m     def request_encode_url(self, method, url, fields=None, headers=None,\n",
      "\u001b[0;32m/mnt/c/Users/Gilang R Ilhami/Desktop/personal_projects/ibm_stuff/ibmenv/lib/python3.6/site-packages/urllib3/request.py\u001b[0m in \u001b[0;36mrequest_encode_body\u001b[0;34m(self, method, url, fields, headers, encode_multipart, multipart_boundary, **urlopen_kw)\u001b[0m\n\u001b[1;32m    148\u001b[0m         \u001b[0mextra_kw\u001b[0m\u001b[0;34m.\u001b[0m\u001b[0mupdate\u001b[0m\u001b[0;34m(\u001b[0m\u001b[0murlopen_kw\u001b[0m\u001b[0;34m)\u001b[0m\u001b[0;34m\u001b[0m\u001b[0;34m\u001b[0m\u001b[0m\n\u001b[1;32m    149\u001b[0m \u001b[0;34m\u001b[0m\u001b[0m\n\u001b[0;32m--> 150\u001b[0;31m         \u001b[0;32mreturn\u001b[0m \u001b[0mself\u001b[0m\u001b[0;34m.\u001b[0m\u001b[0murlopen\u001b[0m\u001b[0;34m(\u001b[0m\u001b[0mmethod\u001b[0m\u001b[0;34m,\u001b[0m \u001b[0murl\u001b[0m\u001b[0;34m,\u001b[0m \u001b[0;34m**\u001b[0m\u001b[0mextra_kw\u001b[0m\u001b[0;34m)\u001b[0m\u001b[0;34m\u001b[0m\u001b[0;34m\u001b[0m\u001b[0m\n\u001b[0m",
      "\u001b[0;32m/mnt/c/Users/Gilang R Ilhami/Desktop/personal_projects/ibm_stuff/ibmenv/lib/python3.6/site-packages/urllib3/poolmanager.py\u001b[0m in \u001b[0;36murlopen\u001b[0;34m(self, method, url, redirect, **kw)\u001b[0m\n\u001b[1;32m    324\u001b[0m             \u001b[0mresponse\u001b[0m \u001b[0;34m=\u001b[0m \u001b[0mconn\u001b[0m\u001b[0;34m.\u001b[0m\u001b[0murlopen\u001b[0m\u001b[0;34m(\u001b[0m\u001b[0mmethod\u001b[0m\u001b[0;34m,\u001b[0m \u001b[0murl\u001b[0m\u001b[0;34m,\u001b[0m \u001b[0;34m**\u001b[0m\u001b[0mkw\u001b[0m\u001b[0;34m)\u001b[0m\u001b[0;34m\u001b[0m\u001b[0;34m\u001b[0m\u001b[0m\n\u001b[1;32m    325\u001b[0m         \u001b[0;32melse\u001b[0m\u001b[0;34m:\u001b[0m\u001b[0;34m\u001b[0m\u001b[0;34m\u001b[0m\u001b[0m\n\u001b[0;32m--> 326\u001b[0;31m             \u001b[0mresponse\u001b[0m \u001b[0;34m=\u001b[0m \u001b[0mconn\u001b[0m\u001b[0;34m.\u001b[0m\u001b[0murlopen\u001b[0m\u001b[0;34m(\u001b[0m\u001b[0mmethod\u001b[0m\u001b[0;34m,\u001b[0m \u001b[0mu\u001b[0m\u001b[0;34m.\u001b[0m\u001b[0mrequest_uri\u001b[0m\u001b[0;34m,\u001b[0m \u001b[0;34m**\u001b[0m\u001b[0mkw\u001b[0m\u001b[0;34m)\u001b[0m\u001b[0;34m\u001b[0m\u001b[0;34m\u001b[0m\u001b[0m\n\u001b[0m\u001b[1;32m    327\u001b[0m \u001b[0;34m\u001b[0m\u001b[0m\n\u001b[1;32m    328\u001b[0m         \u001b[0mredirect_location\u001b[0m \u001b[0;34m=\u001b[0m \u001b[0mredirect\u001b[0m \u001b[0;32mand\u001b[0m \u001b[0mresponse\u001b[0m\u001b[0;34m.\u001b[0m\u001b[0mget_redirect_location\u001b[0m\u001b[0;34m(\u001b[0m\u001b[0;34m)\u001b[0m\u001b[0;34m\u001b[0m\u001b[0;34m\u001b[0m\u001b[0m\n",
      "\u001b[0;32m/mnt/c/Users/Gilang R Ilhami/Desktop/personal_projects/ibm_stuff/ibmenv/lib/python3.6/site-packages/urllib3/connectionpool.py\u001b[0m in \u001b[0;36murlopen\u001b[0;34m(self, method, url, body, headers, retries, redirect, assert_same_host, timeout, pool_timeout, release_conn, chunked, body_pos, **response_kw)\u001b[0m\n\u001b[1;32m    601\u001b[0m                                                   \u001b[0mtimeout\u001b[0m\u001b[0;34m=\u001b[0m\u001b[0mtimeout_obj\u001b[0m\u001b[0;34m,\u001b[0m\u001b[0;34m\u001b[0m\u001b[0;34m\u001b[0m\u001b[0m\n\u001b[1;32m    602\u001b[0m                                                   \u001b[0mbody\u001b[0m\u001b[0;34m=\u001b[0m\u001b[0mbody\u001b[0m\u001b[0;34m,\u001b[0m \u001b[0mheaders\u001b[0m\u001b[0;34m=\u001b[0m\u001b[0mheaders\u001b[0m\u001b[0;34m,\u001b[0m\u001b[0;34m\u001b[0m\u001b[0;34m\u001b[0m\u001b[0m\n\u001b[0;32m--> 603\u001b[0;31m                                                   chunked=chunked)\n\u001b[0m\u001b[1;32m    604\u001b[0m \u001b[0;34m\u001b[0m\u001b[0m\n\u001b[1;32m    605\u001b[0m             \u001b[0;31m# If we're going to release the connection in ``finally:``, then\u001b[0m\u001b[0;34m\u001b[0m\u001b[0;34m\u001b[0m\u001b[0;34m\u001b[0m\u001b[0m\n",
      "\u001b[0;32m/mnt/c/Users/Gilang R Ilhami/Desktop/personal_projects/ibm_stuff/ibmenv/lib/python3.6/site-packages/urllib3/connectionpool.py\u001b[0m in \u001b[0;36m_make_request\u001b[0;34m(self, conn, method, url, timeout, chunked, **httplib_request_kw)\u001b[0m\n\u001b[1;32m    381\u001b[0m                 \u001b[0;31m# Python 3\u001b[0m\u001b[0;34m\u001b[0m\u001b[0;34m\u001b[0m\u001b[0;34m\u001b[0m\u001b[0m\n\u001b[1;32m    382\u001b[0m                 \u001b[0;32mtry\u001b[0m\u001b[0;34m:\u001b[0m\u001b[0;34m\u001b[0m\u001b[0;34m\u001b[0m\u001b[0m\n\u001b[0;32m--> 383\u001b[0;31m                     \u001b[0mhttplib_response\u001b[0m \u001b[0;34m=\u001b[0m \u001b[0mconn\u001b[0m\u001b[0;34m.\u001b[0m\u001b[0mgetresponse\u001b[0m\u001b[0;34m(\u001b[0m\u001b[0;34m)\u001b[0m\u001b[0;34m\u001b[0m\u001b[0;34m\u001b[0m\u001b[0m\n\u001b[0m\u001b[1;32m    384\u001b[0m                 \u001b[0;32mexcept\u001b[0m \u001b[0mException\u001b[0m \u001b[0;32mas\u001b[0m \u001b[0me\u001b[0m\u001b[0;34m:\u001b[0m\u001b[0;34m\u001b[0m\u001b[0;34m\u001b[0m\u001b[0m\n\u001b[1;32m    385\u001b[0m                     \u001b[0;31m# Remove the TypeError from the exception chain in Python 3;\u001b[0m\u001b[0;34m\u001b[0m\u001b[0;34m\u001b[0m\u001b[0;34m\u001b[0m\u001b[0m\n",
      "\u001b[0;32m/usr/lib/python3.6/http/client.py\u001b[0m in \u001b[0;36mgetresponse\u001b[0;34m(self)\u001b[0m\n\u001b[1;32m   1329\u001b[0m         \u001b[0;32mtry\u001b[0m\u001b[0;34m:\u001b[0m\u001b[0;34m\u001b[0m\u001b[0;34m\u001b[0m\u001b[0m\n\u001b[1;32m   1330\u001b[0m             \u001b[0;32mtry\u001b[0m\u001b[0;34m:\u001b[0m\u001b[0;34m\u001b[0m\u001b[0;34m\u001b[0m\u001b[0m\n\u001b[0;32m-> 1331\u001b[0;31m                 \u001b[0mresponse\u001b[0m\u001b[0;34m.\u001b[0m\u001b[0mbegin\u001b[0m\u001b[0;34m(\u001b[0m\u001b[0;34m)\u001b[0m\u001b[0;34m\u001b[0m\u001b[0;34m\u001b[0m\u001b[0m\n\u001b[0m\u001b[1;32m   1332\u001b[0m             \u001b[0;32mexcept\u001b[0m \u001b[0mConnectionError\u001b[0m\u001b[0;34m:\u001b[0m\u001b[0;34m\u001b[0m\u001b[0;34m\u001b[0m\u001b[0m\n\u001b[1;32m   1333\u001b[0m                 \u001b[0mself\u001b[0m\u001b[0;34m.\u001b[0m\u001b[0mclose\u001b[0m\u001b[0;34m(\u001b[0m\u001b[0;34m)\u001b[0m\u001b[0;34m\u001b[0m\u001b[0;34m\u001b[0m\u001b[0m\n",
      "\u001b[0;32m/usr/lib/python3.6/http/client.py\u001b[0m in \u001b[0;36mbegin\u001b[0;34m(self)\u001b[0m\n\u001b[1;32m    295\u001b[0m         \u001b[0;31m# read until we get a non-100 response\u001b[0m\u001b[0;34m\u001b[0m\u001b[0;34m\u001b[0m\u001b[0;34m\u001b[0m\u001b[0m\n\u001b[1;32m    296\u001b[0m         \u001b[0;32mwhile\u001b[0m \u001b[0;32mTrue\u001b[0m\u001b[0;34m:\u001b[0m\u001b[0;34m\u001b[0m\u001b[0;34m\u001b[0m\u001b[0m\n\u001b[0;32m--> 297\u001b[0;31m             \u001b[0mversion\u001b[0m\u001b[0;34m,\u001b[0m \u001b[0mstatus\u001b[0m\u001b[0;34m,\u001b[0m \u001b[0mreason\u001b[0m \u001b[0;34m=\u001b[0m \u001b[0mself\u001b[0m\u001b[0;34m.\u001b[0m\u001b[0m_read_status\u001b[0m\u001b[0;34m(\u001b[0m\u001b[0;34m)\u001b[0m\u001b[0;34m\u001b[0m\u001b[0;34m\u001b[0m\u001b[0m\n\u001b[0m\u001b[1;32m    298\u001b[0m             \u001b[0;32mif\u001b[0m \u001b[0mstatus\u001b[0m \u001b[0;34m!=\u001b[0m \u001b[0mCONTINUE\u001b[0m\u001b[0;34m:\u001b[0m\u001b[0;34m\u001b[0m\u001b[0;34m\u001b[0m\u001b[0m\n\u001b[1;32m    299\u001b[0m                 \u001b[0;32mbreak\u001b[0m\u001b[0;34m\u001b[0m\u001b[0;34m\u001b[0m\u001b[0m\n",
      "\u001b[0;32m/usr/lib/python3.6/http/client.py\u001b[0m in \u001b[0;36m_read_status\u001b[0;34m(self)\u001b[0m\n\u001b[1;32m    256\u001b[0m \u001b[0;34m\u001b[0m\u001b[0m\n\u001b[1;32m    257\u001b[0m     \u001b[0;32mdef\u001b[0m \u001b[0m_read_status\u001b[0m\u001b[0;34m(\u001b[0m\u001b[0mself\u001b[0m\u001b[0;34m)\u001b[0m\u001b[0;34m:\u001b[0m\u001b[0;34m\u001b[0m\u001b[0;34m\u001b[0m\u001b[0m\n\u001b[0;32m--> 258\u001b[0;31m         \u001b[0mline\u001b[0m \u001b[0;34m=\u001b[0m \u001b[0mstr\u001b[0m\u001b[0;34m(\u001b[0m\u001b[0mself\u001b[0m\u001b[0;34m.\u001b[0m\u001b[0mfp\u001b[0m\u001b[0;34m.\u001b[0m\u001b[0mreadline\u001b[0m\u001b[0;34m(\u001b[0m\u001b[0m_MAXLINE\u001b[0m \u001b[0;34m+\u001b[0m \u001b[0;36m1\u001b[0m\u001b[0;34m)\u001b[0m\u001b[0;34m,\u001b[0m \u001b[0;34m\"iso-8859-1\"\u001b[0m\u001b[0;34m)\u001b[0m\u001b[0;34m\u001b[0m\u001b[0;34m\u001b[0m\u001b[0m\n\u001b[0m\u001b[1;32m    259\u001b[0m         \u001b[0;32mif\u001b[0m \u001b[0mlen\u001b[0m\u001b[0;34m(\u001b[0m\u001b[0mline\u001b[0m\u001b[0;34m)\u001b[0m \u001b[0;34m>\u001b[0m \u001b[0m_MAXLINE\u001b[0m\u001b[0;34m:\u001b[0m\u001b[0;34m\u001b[0m\u001b[0;34m\u001b[0m\u001b[0m\n\u001b[1;32m    260\u001b[0m             \u001b[0;32mraise\u001b[0m \u001b[0mLineTooLong\u001b[0m\u001b[0;34m(\u001b[0m\u001b[0;34m\"status line\"\u001b[0m\u001b[0;34m)\u001b[0m\u001b[0;34m\u001b[0m\u001b[0;34m\u001b[0m\u001b[0m\n",
      "\u001b[0;32m/usr/lib/python3.6/socket.py\u001b[0m in \u001b[0;36mreadinto\u001b[0;34m(self, b)\u001b[0m\n\u001b[1;32m    584\u001b[0m         \u001b[0;32mwhile\u001b[0m \u001b[0;32mTrue\u001b[0m\u001b[0;34m:\u001b[0m\u001b[0;34m\u001b[0m\u001b[0;34m\u001b[0m\u001b[0m\n\u001b[1;32m    585\u001b[0m             \u001b[0;32mtry\u001b[0m\u001b[0;34m:\u001b[0m\u001b[0;34m\u001b[0m\u001b[0;34m\u001b[0m\u001b[0m\n\u001b[0;32m--> 586\u001b[0;31m                 \u001b[0;32mreturn\u001b[0m \u001b[0mself\u001b[0m\u001b[0;34m.\u001b[0m\u001b[0m_sock\u001b[0m\u001b[0;34m.\u001b[0m\u001b[0mrecv_into\u001b[0m\u001b[0;34m(\u001b[0m\u001b[0mb\u001b[0m\u001b[0;34m)\u001b[0m\u001b[0;34m\u001b[0m\u001b[0;34m\u001b[0m\u001b[0m\n\u001b[0m\u001b[1;32m    587\u001b[0m             \u001b[0;32mexcept\u001b[0m \u001b[0mtimeout\u001b[0m\u001b[0;34m:\u001b[0m\u001b[0;34m\u001b[0m\u001b[0;34m\u001b[0m\u001b[0m\n\u001b[1;32m    588\u001b[0m                 \u001b[0mself\u001b[0m\u001b[0;34m.\u001b[0m\u001b[0m_timeout_occurred\u001b[0m \u001b[0;34m=\u001b[0m \u001b[0;32mTrue\u001b[0m\u001b[0;34m\u001b[0m\u001b[0;34m\u001b[0m\u001b[0m\n",
      "\u001b[0;31mKeyboardInterrupt\u001b[0m: "
     ]
    }
   ],
   "source": [
    "end_of_page = False\n",
    "all_links_list = []\n",
    "while not end_of_page:\n",
    "    \n",
    "    time.sleep(5)\n",
    "    driver.implicitly_wait(10)\n",
    "    news_list = driver.find_elements_by_tag_name(\"h1\")\n",
    "    link_list = [title.find_element_by_tag_name(\"a\") for title in news_list]\n",
    "    link_list = [link.get_attribute(\"href\") for link in link_list if link.get_attribute(\"href\") is not None]\n",
    "    all_links_list.extend(link_list)\n",
    "    \n",
    "    try:\n",
    "        next_page = driver.find_element_by_xpath(\"//*[@id='content_news']/div[2]/a[1]\")\n",
    "        next_page.click()\n",
    "        print(\"next page element found\")\n",
    "    except Exception as e:\n",
    "        end_of_page = True\n",
    "        print(e)\n",
    "        break"
   ]
  },
  {
   "cell_type": "code",
   "execution_count": 18,
   "metadata": {},
   "outputs": [
    {
     "data": {
      "text/plain": [
       "[]"
      ]
     },
     "execution_count": 18,
     "metadata": {},
     "output_type": "execute_result"
    }
   ],
   "source": [
    "all_links_list"
   ]
  },
  {
   "cell_type": "code",
   "execution_count": 10,
   "metadata": {},
   "outputs": [],
   "source": [
    "kontan_scraped = False\n",
    "\n",
    "while kontan_scraped is False:\n",
    "    try:\n",
    "        urls_kontan = kontan_scraper(driver)\n",
    "        kontan_scraped = True\n",
    "    except:\n",
    "        pass"
   ]
  },
  {
   "cell_type": "code",
   "execution_count": 11,
   "metadata": {},
   "outputs": [
    {
     "data": {
      "text/plain": [
       "['https://keuangan.kontan.co.id/news/begini-cara-bca-menyiapkan-bank-royal-untuk-bersaing-dengan-fintech-lending',\n",
       " 'https://insight.kontan.co.id/news/tiga-bank-besar-mencetak-untung-gede-laba-bersih-bca-naik-paling-kencang',\n",
       " 'https://keuangan.kontan.co.id/news/di-antara-tiga-bank-besar-laba-bank-bca-tumbuh-paling-tinggi',\n",
       " 'https://keuangan.kontan.co.id/news/antisipasi-persaingan-dengan-fintech-bca-pastikan-bank-royal-jadi-bank-digital',\n",
       " 'https://keuangan.kontan.co.id/news/deposito-bank-bca-tumbuh-181-di-semester-i-apa-dampaknya-terhadap-kinerja',\n",
       " 'https://keuangan.kontan.co.id/news/naik-126-laba-bank-bca-bbca-tembus-rp-129-triliun-di-semester-i-2019',\n",
       " 'https://keuangan.kontan.co.id/news/begini-strategi-bank-bca-hadapi-sektor-multifinance-yang-melandai',\n",
       " 'https://keuangan.kontan.co.id/news/intip-kurs-jual-dollar-as-terhadap-rupiah-di-bca-bank-mandiri-bni-selasa-167',\n",
       " 'https://keuangan.kontan.co.id/news/rupiah-menguat-ini-kurs-jual-dollar-di-bca-bni-dan-bank-mandiri-senin-pagi-157',\n",
       " 'https://insight.kontan.co.id/news/intip-kurs-jual-dollar-as-terhadap-rupiah-di-bca-bank-mandiri-dan-bni-jumat-127',\n",
       " 'https://keuangan.kontan.co.id/news/rupiah-menguat-kurs-jual-dollar-di-bca-bank-mandiri-dan-bni-turun',\n",
       " 'https://keuangan.kontan.co.id/news/intip-kurs-jual-dollar-terhadap-rupiah-di-bca-bank-mandiri-dan-bni-rabu-107',\n",
       " 'https://keuangan.kontan.co.id/news/ini-kurs-jual-beli-dollar-terhadap-rupiah-di-bca-bank-mandiri-dan-bni-selasa-97',\n",
       " 'https://english.kontan.co.id/news/bca-awaits-ojk-approval-to-acquire-bank-royal',\n",
       " 'https://nasional.kontan.co.id/news/ekonom-bank-bca-prediksi-bi-akan-turunkan-suku-bunga-acuan-dua-kali-tahun-ini',\n",
       " 'https://keuangan.kontan.co.id/news/pemegang-saham-bca-setujui-akusisi-bank-royal',\n",
       " 'https://keuangan.kontan.co.id/news/meski-harganya-melambat-bank-bca-tak-mengerem-kredit-di-sektor-kelapa-sawit',\n",
       " 'https://keuangan.kontan.co.id/news/bank-bca-buka-kemungkinan-turunkan-suku-bunga',\n",
       " 'https://keuangan.kontan.co.id/news/pasca-diakuisisi-bank-royal-bakal-dimerger-dengan-bca-syariah',\n",
       " 'https://keuangan.kontan.co.id/news/bank-bca-bbca-belum-akan-berhenti-cari-bank-untuk-diakuisisi',\n",
       " 'https://keuangan.kontan.co.id/news/sebanyak-28-dana-pensiun-kena-tegur-ojk-hingga-kuartal-i-2019-ada-apa-1',\n",
       " 'https://internasional.kontan.co.id/news/pemerintah-beijing-memerintahkan-logo-halal-dicopot-dari-restoran',\n",
       " 'https://insight.kontan.co.id/news/mau-dapat-layanan-publik-masyarakat-wajib-punya-npwp-dan-lapor-spt',\n",
       " 'https://insight.kontan.co.id/news/erick-thohir-beli-kembali-164-juta-saham-mahaka-media-abba-di-harga-rp-50-per-saham',\n",
       " 'https://internasional.kontan.co.id/news/kebiasaan-di-masa-kecil-yang-membuat-warren-buffet-menjadi-miliarder',\n",
       " 'https://investasi.kontan.co.id/news/saham-yg-entertainment-sm-entertainment-dan-yjp-entertainment-kompak-menguat',\n",
       " 'https://investasi.kontan.co.id/news/tujuh-saham-naik-ini-10-saham-lq45-dengan-per-terkecil-30-juli-2019',\n",
       " 'https://investasi.kontan.co.id/news/investor-asing-lebih-banyak-membeli-saham-bca-bbca-di-pasar-negosiasi',\n",
       " 'https://industri.kontan.co.id/news/pengemudi-sedot-saldo-ovo-milik-konsumen-begini-tips-dari-grab',\n",
       " 'https://nasional.kontan.co.id/news/walkot-surabaya-tri-rismaharini-senyum-saat-diminta-maju-jadi-gubernur-dki-jakarta',\n",
       " 'https://nasional.kontan.co.id/news/pemerintah-sepakati-usulan-kenaikan-premi-bpjs-kesehatan',\n",
       " 'https://industri.kontan.co.id/news/gedung-perkantoran-yang-dilalui-mrt-jakarta-lebih-disukai',\n",
       " 'https://lifestyle.kontan.co.id/news/mega-transfer-antara-mu-dan-juventus-segera-terwujud-1',\n",
       " 'https://insight.kontan.co.id/news/anthoni-salim-penjualan-dan-laba-bersih-indofood-cbp-icbp-tumbuh-double-digi',\n",
       " 'https://investasi.kontan.co.id/news/simak-enam-saham-rekomendasi-analis-profindo-sekuritas-untuk-diperdagangkan-hari-ini',\n",
       " 'https://investasi.kontan.co.id/news/ihsg-dibuka-melemah-jelang-pengumuman-hasil-pertemuan-the-fed',\n",
       " 'https://keuangan.kontan.co.id/news/sejumlah-bank-berpotensi-terpapar-gagal-bayar-duniatex-group',\n",
       " 'https://investasi.kontan.co.id/news/ihsg-mendaki-ini-10-saham-pencetak-untung-tertinggi-selasa-307',\n",
       " 'https://investasi.kontan.co.id/news/laba-bersih-japfa-comfeed-indonesia-jpfa-turun-2517-di-semester-i-2019',\n",
       " 'https://investasi.kontan.co.id/news/cermati-10-saham-yang-harganya-turun-dalam-saat-ihsg-menguat-selasa-307']"
      ]
     },
     "execution_count": 11,
     "metadata": {},
     "output_type": "execute_result"
    }
   ],
   "source": [
    "urls_kontan"
   ]
  },
  {
   "cell_type": "markdown",
   "metadata": {},
   "source": [
    "# CNN 6 Section"
   ]
  },
  {
   "cell_type": "code",
   "execution_count": 18,
   "metadata": {},
   "outputs": [],
   "source": [
    "\n",
    "chromedriver_path = \"/mnt/c/Users/Gilang R Ilhami/Desktop/personal_projects/ibm_stuff/chromedriver.exe\"\n",
    "driver = webdriver.Chrome(executable_path=chromedriver_path)"
   ]
  },
  {
   "cell_type": "code",
   "execution_count": 8,
   "metadata": {},
   "outputs": [],
   "source": [
    "def cnnindo_scraper(driver, first_year, second_year, keyword):\n",
    "    driver.get(\"https://www.cnnindonesia.com\")\n",
    "\n",
    "    button = driver.find_element_by_xpath(\"//*[@id='nav_search']/a\")\n",
    "    driver.implicitly_wait(10)\n",
    "    button.click()\n",
    "\n",
    "    driver.implicitly_wait(10)\n",
    "    input_search = driver.find_element_by_xpath(\"//*[@id='search_form']/input\")\n",
    "    input_search.send_keys(keyword.lower())\n",
    "    input_search.send_keys(Keys.RETURN)\n",
    "    \n",
    "    driver.implicitly_wait(10)\n",
    "    news_list = driver.find_elements_by_tag_name(\"article\")\n",
    "    link_list = [title.find_element_by_tag_name(\"a\") for title in news_list]\n",
    "    link_list = [link.get_attribute(\"href\") for link in link_list if link.get_attribute(\"href\") is not None]\n",
    "    \n",
    "    if bool(link_list) is False:\n",
    "            return None\n",
    "    \n",
    "    last_idx = -1\n",
    "    for _ in range(len(link_list)):\n",
    "        print(\"Last Index\", last_idx)\n",
    "        try:\n",
    "            last_news_year = get_date_year(link_list[last_idx], \"div\", \"class\", \"date\")\n",
    "            break\n",
    "        except Exception as e:\n",
    "            print(e)\n",
    "        last_idx -= 1\n",
    "\n",
    "    print(last_news_year)\n",
    "    page_height = driver.execute_script(\"return document.documentElement.scrollHeight\")\n",
    "\n",
    "    scrolling = 0\n",
    "\n",
    "    # Sroll to the desired number of contents\n",
    "    while last_news_year >= first_year:\n",
    "        print(\"Scrolling down\")\n",
    "\n",
    "        # Handling element when not loaded\n",
    "        cannot_click = True\n",
    "        attempt = 0\n",
    "\n",
    "        # While element is not clicked\n",
    "        while cannot_click:\n",
    "            try:\n",
    "                print(\"Looking for element.\")\n",
    "                element_xpath = \"//*[@id='content']/div/div[2]/div/div[2]/a\"\n",
    "\n",
    "                # Wait untill element exists\n",
    "                element = WebDriverWait(driver, 10).until(\n",
    "                        lambda driver : driver.find_element_by_xpath(element_xpath)\n",
    "                )\n",
    "\n",
    "                # Get element \n",
    "                next_page = driver.find_element_by_xpath(element_xpath)\n",
    "\n",
    "            except Exception as element_error:\n",
    "\n",
    "                print(\"Element checking failed. Something went wrong.\\n\", element_error)\n",
    "\n",
    "                attempt += 1\n",
    "\n",
    "                print(f\"Element failed. Repeating process. Currently attempt {attempt}\")\n",
    "\n",
    "            else:\n",
    "                print(\"Element found. Waiting to be clickable.\")\n",
    "                try:\n",
    "                    clickable = WebDriverWait(driver, 10).until(\n",
    "                        EC.element_to_be_clickable((By.XPATH, element_xpath))\n",
    "                    )\n",
    "                    next_page.click()\n",
    "                    cannot_click = False\n",
    "                except Exception as clickable_error:\n",
    "                    print(\"Clickalbe checking failed. Something went wrong.\\n\", clickable_error, end =\"\\n\\n\")\n",
    "                    attempt += 1\n",
    "                    print(f\"Clicking failed. Repeating process. Currently attempt {attempt}\")\n",
    "\n",
    "\n",
    "        # Wait to load page\n",
    "        time.sleep(5)\n",
    "\n",
    "        # Calculate new scroll height and compare with last scroll height\n",
    "#         new_height = driver.execute_script(\"return document.documentElement.scrollHeight\")\n",
    "#         if new_height == page_height:\n",
    "#             print(\"break\")\n",
    "#             break\n",
    "#         page_height = new_height\n",
    "\n",
    "        driver.implicitly_wait(10)\n",
    "        news_list = driver.find_elements_by_tag_name(\"article\")\n",
    "        link_list = [title.find_element_by_tag_name(\"a\") for title in news_list]\n",
    "        link_list = [link.get_attribute(\"href\") for link in link_list if link.get_attribute(\"href\") is not None]\n",
    "\n",
    "        last_idx = -1\n",
    "\n",
    "        for _ in range(len(link_list)):\n",
    "            try:\n",
    "                last_news_year = get_date_year(link_list[last_idx],\"div\", \"class\", \"date\")\n",
    "                print(last_news_year)\n",
    "                break\n",
    "            except Exception as e:\n",
    "                print(e)\n",
    "                pass\n",
    "            last_idx -= 1\n",
    "        scrolling += 1\n",
    "    driver.implicitly_wait(10)\n",
    "    news_list = driver.find_elements_by_tag_name(\"article\")\n",
    "    link_list = [title.find_element_by_tag_name(\"a\") for title in news_list]\n",
    "    link_list = [link.get_attribute(\"href\") for link in link_list if link.get_attribute(\"href\") is not None]\n",
    " \n",
    "    first_year_contents = []\n",
    "    second_year_contetns = []\n",
    "\n",
    "    all_index = set(map(link_list.index, link_list))\n",
    "\n",
    "    error_dates_index = set()\n",
    "\n",
    "    for link in tqdm(link_list):\n",
    "        try:\n",
    "            date = get_date_year(link,\"div\", \"class\", \"date\")\n",
    "        except Exception as e:\n",
    "            print(link)\n",
    "            print(e, end=\"\\n\\n\")\n",
    "            error_idx = link_list.index(link)\n",
    "            error_dates_index.add(error_idx)\n",
    "\n",
    "    can_get_dates_index = list(all_index - error_dates_index)\n",
    "\n",
    "    current_date = datetime.datetime.now()\n",
    "    current_year = current_date.year\n",
    "\n",
    "    for content_index in tqdm(can_get_dates_index):\n",
    "\n",
    "        # News Publish Date\n",
    "        content_date = get_date_year(link_list[content_index],\"div\", \"class\", \"date\")\n",
    "        print(content_date)\n",
    "\n",
    "        # First year news\n",
    "        if content_date >= first_year and content_date < second_year:\n",
    "            first_year_contents.append(link_list[content_index])\n",
    "        elif content_date >= second_year and content_date < current_year:\n",
    "            second_year_contetns.append(link_list[content_index])\n",
    "        else:\n",
    "            pass\n",
    "    return first_year_contents, second_year_contetns"
   ]
  },
  {
   "cell_type": "code",
   "execution_count": 24,
   "metadata": {
    "scrolled": true
   },
   "outputs": [
    {
     "name": "stdout",
     "output_type": "stream",
     "text": [
      "Last Index -1\n",
      "\n",
      "Dinda Audriene Muthmainah,  CNN Indonesia | Senin, 09/10/2017 09:55 WIB\n",
      "                \n",
      "2017\n",
      "Scrolling down\n",
      "Looking for element.\n",
      "Element found. Waiting to be clickable.\n",
      "Clickalbe checking failed. Something went wrong.\n",
      " Message: element click intercepted: Element <a href=\"https://www.cnnindonesia.com/search/?query=sawit sumbermas sarana&amp;kanal=&amp;date=Semua Tgl\" class=\"loading btn gtm_button_indeks\" d:query=\"sawit sumbermas sarana\" d:mode=\"click\" d:max=\"1000\">...</a> is not clickable at point (384, 207). Other element would receive the click: <div class=\"container clearfix\">...</div>\n",
      "  (Session info: chrome=76.0.3809.100)\n",
      "\n",
      "\n",
      "Clicking failed. Repeating process. Currently attempt 1\n",
      "Looking for element.\n",
      "Element found. Waiting to be clickable.\n",
      "\n",
      "Immanuel Giras Pasopati,  CNN Indonesia | Jumat, 16/10/2015 17:43 WIB\n",
      "                \n",
      "2015\n"
     ]
    },
    {
     "name": "stderr",
     "output_type": "stream",
     "text": [
      "  6%|▌         | 2/35 [00:00<00:04,  7.90it/s]"
     ]
    },
    {
     "name": "stdout",
     "output_type": "stream",
     "text": [
      "\n",
      "                     CNN Indonesia | Kamis, 15/08/2019 23:37 WIB\n",
      "                \n",
      "\n",
      "                     CNN Indonesia | Kamis, 15/08/2019 23:07 WIB\n",
      "                \n"
     ]
    },
    {
     "name": "stderr",
     "output_type": "stream",
     "text": [
      "\r",
      "  9%|▊         | 3/35 [00:00<00:04,  7.97it/s]"
     ]
    },
    {
     "name": "stdout",
     "output_type": "stream",
     "text": [
      "\n",
      "                     CNN Indonesia | Kamis, 15/08/2019 22:50 WIB\n",
      "                \n"
     ]
    },
    {
     "name": "stderr",
     "output_type": "stream",
     "text": [
      " 14%|█▍        | 5/35 [00:00<00:05,  5.52it/s]"
     ]
    },
    {
     "name": "stdout",
     "output_type": "stream",
     "text": [
      "\n",
      "                     CNN Indonesia | Kamis, 15/08/2019 20:21 WIB\n",
      "                \n",
      "\n",
      "AFP TV,  CNN Indonesia | Kamis, 15/08/2019 19:45 WIB\n",
      "                \n"
     ]
    },
    {
     "name": "stderr",
     "output_type": "stream",
     "text": [
      " 20%|██        | 7/35 [00:01<00:04,  6.41it/s]"
     ]
    },
    {
     "name": "stdout",
     "output_type": "stream",
     "text": [
      "\n",
      "                     CNN Indonesia | Kamis, 15/08/2019 19:05 WIB\n",
      "                \n",
      "\n",
      "                     CNN Indonesia | Kamis, 15/08/2019 20:32 WIB\n",
      "                \n"
     ]
    },
    {
     "name": "stderr",
     "output_type": "stream",
     "text": [
      " 26%|██▌       | 9/35 [00:01<00:03,  7.26it/s]"
     ]
    },
    {
     "name": "stdout",
     "output_type": "stream",
     "text": [
      "\n",
      "                     CNN Indonesia | Kamis, 15/08/2019 20:09 WIB\n",
      "                \n",
      "\n",
      "                     CNN Indonesia | Kamis, 15/08/2019 19:40 WIB\n",
      "                \n"
     ]
    },
    {
     "name": "stderr",
     "output_type": "stream",
     "text": [
      " 31%|███▏      | 11/35 [00:01<00:03,  7.91it/s]"
     ]
    },
    {
     "name": "stdout",
     "output_type": "stream",
     "text": [
      "\n",
      "                     CNN Indonesia | Kamis, 15/08/2019 21:29 WIB\n",
      "                \n",
      "\n",
      "                     CNN Indonesia | Kamis, 15/08/2019 21:01 WIB\n",
      "                \n"
     ]
    },
    {
     "name": "stderr",
     "output_type": "stream",
     "text": [
      " 37%|███▋      | 13/35 [00:01<00:02,  7.93it/s]"
     ]
    },
    {
     "name": "stdout",
     "output_type": "stream",
     "text": [
      "\n",
      "                     CNN Indonesia | Kamis, 15/08/2019 20:27 WIB\n",
      "                \n",
      "\n",
      "                     CNN Indonesia | Kamis, 15/08/2019 20:38 WIB\n",
      "                \n"
     ]
    },
    {
     "name": "stderr",
     "output_type": "stream",
     "text": [
      "\r",
      " 40%|████      | 14/35 [00:02<00:02,  7.95it/s]"
     ]
    },
    {
     "name": "stdout",
     "output_type": "stream",
     "text": [
      "\n",
      "                     CNN Indonesia | Kamis, 15/08/2019 20:05 WIB\n",
      "                \n"
     ]
    },
    {
     "name": "stderr",
     "output_type": "stream",
     "text": [
      " 46%|████▌     | 16/35 [00:02<00:04,  3.96it/s]"
     ]
    },
    {
     "name": "stdout",
     "output_type": "stream",
     "text": [
      "\n",
      "                     CNN Indonesia | Kamis, 15/08/2019 19:32 WIB\n",
      "                \n",
      "\n",
      "                     CNN Indonesia | Kamis, 15/08/2019 20:15 WIB\n",
      "                \n"
     ]
    },
    {
     "name": "stderr",
     "output_type": "stream",
     "text": [
      " 51%|█████▏    | 18/35 [00:03<00:03,  5.29it/s]"
     ]
    },
    {
     "name": "stdout",
     "output_type": "stream",
     "text": [
      "\n",
      "                     CNN Indonesia | Kamis, 15/08/2019 19:03 WIB\n",
      "                \n",
      "\n",
      "                     CNN Indonesia | Kamis, 15/08/2019 18:25 WIB\n",
      "                \n"
     ]
    },
    {
     "name": "stderr",
     "output_type": "stream",
     "text": [
      " 57%|█████▋    | 20/35 [00:03<00:02,  6.63it/s]"
     ]
    },
    {
     "name": "stdout",
     "output_type": "stream",
     "text": [
      "\n",
      "Tim,  CNN Indonesia | Kamis, 15/08/2019 20:37 WIB\n",
      "                \n",
      "\n",
      "                     CNN Indonesia | Kamis, 15/08/2019 19:41 WIB\n",
      "                \n"
     ]
    },
    {
     "name": "stderr",
     "output_type": "stream",
     "text": [
      "\r",
      " 60%|██████    | 21/35 [00:03<00:01,  7.08it/s]"
     ]
    },
    {
     "name": "stdout",
     "output_type": "stream",
     "text": [
      "\n",
      "                     CNN Indonesia | Kamis, 15/08/2019 19:01 WIB\n",
      "                \n"
     ]
    },
    {
     "name": "stderr",
     "output_type": "stream",
     "text": [
      "\r",
      " 63%|██████▎   | 22/35 [00:04<00:03,  3.27it/s]"
     ]
    },
    {
     "name": "stdout",
     "output_type": "stream",
     "text": [
      "\n",
      "                     CNN Indonesia | Selasa, 13/08/2019 06:57 WIB\n",
      "                \n"
     ]
    },
    {
     "name": "stderr",
     "output_type": "stream",
     "text": [
      "\r",
      " 66%|██████▌   | 23/35 [00:04<00:04,  2.79it/s]"
     ]
    },
    {
     "name": "stdout",
     "output_type": "stream",
     "text": [
      "\n",
      "                     CNN Indonesia | Senin, 04/02/2019 11:51 WIB\n",
      "                \n"
     ]
    },
    {
     "name": "stderr",
     "output_type": "stream",
     "text": [
      "\r",
      " 69%|██████▊   | 24/35 [00:05<00:05,  2.16it/s]"
     ]
    },
    {
     "name": "stdout",
     "output_type": "stream",
     "text": [
      "\n",
      "                     CNN Indonesia | Rabu, 30/01/2019 13:47 WIB\n",
      "                \n"
     ]
    },
    {
     "name": "stderr",
     "output_type": "stream",
     "text": [
      "\r",
      " 71%|███████▏  | 25/35 [00:05<00:04,  2.09it/s]"
     ]
    },
    {
     "name": "stdout",
     "output_type": "stream",
     "text": [
      "\n",
      "                     CNN Indonesia | Kamis, 13/12/2018 17:09 WIB\n",
      "                \n"
     ]
    },
    {
     "name": "stderr",
     "output_type": "stream",
     "text": [
      "\r",
      " 74%|███████▍  | 26/35 [00:06<00:04,  2.07it/s]"
     ]
    },
    {
     "name": "stdout",
     "output_type": "stream",
     "text": [
      "\n",
      "Tim,  CNN Indonesia | Jumat, 05/10/2018 10:30 WIB\n",
      "                \n"
     ]
    },
    {
     "name": "stderr",
     "output_type": "stream",
     "text": [
      " 80%|████████  | 28/35 [00:06<00:02,  2.64it/s]"
     ]
    },
    {
     "name": "stdout",
     "output_type": "stream",
     "text": [
      "\n",
      "Dinda Audriene Muthmainah,  CNN Indonesia | Selasa, 24/10/2017 08:07 WIB\n",
      "                \n",
      "\n",
      "Dinda Audriene Muthmainah,  CNN Indonesia | Senin, 09/10/2017 09:55 WIB\n",
      "                \n"
     ]
    },
    {
     "name": "stderr",
     "output_type": "stream",
     "text": [
      "\r",
      " 83%|████████▎ | 29/35 [00:07<00:02,  2.32it/s]"
     ]
    },
    {
     "name": "stdout",
     "output_type": "stream",
     "text": [
      "\n",
      "Dinda Audriene,  CNN Indonesia | Senin, 12/06/2017 11:33 WIB\n",
      "                \n"
     ]
    },
    {
     "name": "stderr",
     "output_type": "stream",
     "text": [
      "\r",
      " 86%|████████▌ | 30/35 [00:08<00:02,  2.22it/s]"
     ]
    },
    {
     "name": "stdout",
     "output_type": "stream",
     "text": [
      "\n",
      "Augstiyanti,  CNN Indonesia | Jumat, 02/06/2017 10:27 WIB\n",
      "                \n"
     ]
    },
    {
     "name": "stderr",
     "output_type": "stream",
     "text": [
      "\r",
      " 89%|████████▊ | 31/35 [00:08<00:01,  2.17it/s]"
     ]
    },
    {
     "name": "stdout",
     "output_type": "stream",
     "text": [
      "\n",
      "​Elisa Valenta Sari,  CNN Indonesia | Minggu, 15/01/2017 17:03 WIB\n",
      "                \n"
     ]
    },
    {
     "name": "stderr",
     "output_type": "stream",
     "text": [
      "\r",
      " 91%|█████████▏| 32/35 [00:08<00:01,  2.15it/s]"
     ]
    },
    {
     "name": "stdout",
     "output_type": "stream",
     "text": [
      "\n",
      "Safyra Primadhyta,  CNN Indonesia | Rabu, 17/02/2016 19:07 WIB\n",
      "                \n"
     ]
    },
    {
     "name": "stderr",
     "output_type": "stream",
     "text": [
      "\r",
      " 94%|█████████▍| 33/35 [00:09<00:00,  2.07it/s]"
     ]
    },
    {
     "name": "stdout",
     "output_type": "stream",
     "text": [
      "\n",
      "Giras Pasopati,  CNN Indonesia | Senin, 25/01/2016 17:30 WIB\n",
      "                \n"
     ]
    },
    {
     "name": "stderr",
     "output_type": "stream",
     "text": [
      "100%|██████████| 35/35 [00:10<00:00,  2.61it/s]\n",
      "  0%|          | 0/35 [00:00<?, ?it/s]"
     ]
    },
    {
     "name": "stdout",
     "output_type": "stream",
     "text": [
      "\n",
      "Antara & Augst Supriadi,  CNN Indonesia | Selasa, 10/11/2015 17:45 WIB\n",
      "                \n",
      "\n",
      "Immanuel Giras Pasopati,  CNN Indonesia | Jumat, 16/10/2015 17:43 WIB\n",
      "                \n"
     ]
    },
    {
     "name": "stderr",
     "output_type": "stream",
     "text": [
      "  6%|▌         | 2/35 [00:00<00:04,  7.43it/s]"
     ]
    },
    {
     "name": "stdout",
     "output_type": "stream",
     "text": [
      "\n",
      "                     CNN Indonesia | Kamis, 15/08/2019 23:37 WIB\n",
      "                \n",
      "2019\n",
      "\n",
      "                     CNN Indonesia | Kamis, 15/08/2019 23:07 WIB\n",
      "                \n",
      "2019\n"
     ]
    },
    {
     "name": "stderr",
     "output_type": "stream",
     "text": [
      " 11%|█▏        | 4/35 [00:00<00:04,  6.56it/s]"
     ]
    },
    {
     "name": "stdout",
     "output_type": "stream",
     "text": [
      "\n",
      "                     CNN Indonesia | Kamis, 15/08/2019 22:50 WIB\n",
      "                \n",
      "2019\n",
      "\n",
      "                     CNN Indonesia | Kamis, 15/08/2019 20:21 WIB\n",
      "                \n",
      "2019\n"
     ]
    },
    {
     "name": "stderr",
     "output_type": "stream",
     "text": [
      " 17%|█▋        | 6/35 [00:01<00:05,  5.35it/s]"
     ]
    },
    {
     "name": "stdout",
     "output_type": "stream",
     "text": [
      "\n",
      "AFP TV,  CNN Indonesia | Kamis, 15/08/2019 19:45 WIB\n",
      "                \n",
      "2019\n",
      "\n",
      "                     CNN Indonesia | Kamis, 15/08/2019 19:05 WIB\n",
      "                \n",
      "2019\n"
     ]
    },
    {
     "name": "stderr",
     "output_type": "stream",
     "text": [
      " 23%|██▎       | 8/35 [00:01<00:04,  5.81it/s]"
     ]
    },
    {
     "name": "stdout",
     "output_type": "stream",
     "text": [
      "\n",
      "                     CNN Indonesia | Kamis, 15/08/2019 20:32 WIB\n",
      "                \n",
      "2019\n",
      "\n",
      "                     CNN Indonesia | Kamis, 15/08/2019 20:09 WIB\n",
      "                \n",
      "2019\n"
     ]
    },
    {
     "name": "stderr",
     "output_type": "stream",
     "text": [
      " 29%|██▊       | 10/35 [00:01<00:04,  5.33it/s]"
     ]
    },
    {
     "name": "stdout",
     "output_type": "stream",
     "text": [
      "\n",
      "                     CNN Indonesia | Kamis, 15/08/2019 19:40 WIB\n",
      "                \n",
      "2019\n",
      "\n",
      "                     CNN Indonesia | Kamis, 15/08/2019 21:29 WIB\n",
      "                \n",
      "2019\n"
     ]
    },
    {
     "name": "stderr",
     "output_type": "stream",
     "text": [
      " 34%|███▍      | 12/35 [00:02<00:03,  6.41it/s]"
     ]
    },
    {
     "name": "stdout",
     "output_type": "stream",
     "text": [
      "\n",
      "                     CNN Indonesia | Kamis, 15/08/2019 21:01 WIB\n",
      "                \n",
      "2019\n",
      "\n",
      "                     CNN Indonesia | Kamis, 15/08/2019 20:27 WIB\n",
      "                \n",
      "2019\n"
     ]
    },
    {
     "name": "stderr",
     "output_type": "stream",
     "text": [
      " 40%|████      | 14/35 [00:02<00:03,  6.33it/s]"
     ]
    },
    {
     "name": "stdout",
     "output_type": "stream",
     "text": [
      "\n",
      "                     CNN Indonesia | Kamis, 15/08/2019 20:38 WIB\n",
      "                \n",
      "2019\n",
      "\n",
      "                     CNN Indonesia | Kamis, 15/08/2019 20:05 WIB\n",
      "                \n",
      "2019\n"
     ]
    },
    {
     "name": "stderr",
     "output_type": "stream",
     "text": [
      " 46%|████▌     | 16/35 [00:02<00:02,  7.37it/s]"
     ]
    },
    {
     "name": "stdout",
     "output_type": "stream",
     "text": [
      "\n",
      "                     CNN Indonesia | Kamis, 15/08/2019 19:32 WIB\n",
      "                \n",
      "2019\n",
      "\n",
      "                     CNN Indonesia | Kamis, 15/08/2019 20:15 WIB\n",
      "                \n",
      "2019\n"
     ]
    },
    {
     "name": "stderr",
     "output_type": "stream",
     "text": [
      " 51%|█████▏    | 18/35 [00:02<00:02,  7.41it/s]"
     ]
    },
    {
     "name": "stdout",
     "output_type": "stream",
     "text": [
      "\n",
      "                     CNN Indonesia | Kamis, 15/08/2019 19:03 WIB\n",
      "                \n",
      "2019\n",
      "\n",
      "                     CNN Indonesia | Kamis, 15/08/2019 18:25 WIB\n",
      "                \n",
      "2019\n"
     ]
    },
    {
     "name": "stderr",
     "output_type": "stream",
     "text": [
      " 57%|█████▋    | 20/35 [00:03<00:01,  7.88it/s]"
     ]
    },
    {
     "name": "stdout",
     "output_type": "stream",
     "text": [
      "\n",
      "Tim,  CNN Indonesia | Kamis, 15/08/2019 20:37 WIB\n",
      "                \n",
      "2019\n",
      "\n",
      "                     CNN Indonesia | Kamis, 15/08/2019 19:41 WIB\n",
      "                \n",
      "2019\n"
     ]
    },
    {
     "name": "stderr",
     "output_type": "stream",
     "text": [
      " 63%|██████▎   | 22/35 [00:03<00:01,  6.94it/s]"
     ]
    },
    {
     "name": "stdout",
     "output_type": "stream",
     "text": [
      "\n",
      "                     CNN Indonesia | Kamis, 15/08/2019 19:01 WIB\n",
      "                \n",
      "2019\n",
      "\n",
      "                     CNN Indonesia | Selasa, 13/08/2019 06:57 WIB\n",
      "                \n",
      "2019\n"
     ]
    },
    {
     "name": "stderr",
     "output_type": "stream",
     "text": [
      " 69%|██████▊   | 24/35 [00:03<00:01,  7.28it/s]"
     ]
    },
    {
     "name": "stdout",
     "output_type": "stream",
     "text": [
      "\n",
      "                     CNN Indonesia | Senin, 04/02/2019 11:51 WIB\n",
      "                \n",
      "2019\n",
      "\n",
      "                     CNN Indonesia | Rabu, 30/01/2019 13:47 WIB\n",
      "                \n",
      "2019\n"
     ]
    },
    {
     "name": "stderr",
     "output_type": "stream",
     "text": [
      " 74%|███████▍  | 26/35 [00:03<00:01,  7.85it/s]"
     ]
    },
    {
     "name": "stdout",
     "output_type": "stream",
     "text": [
      "\n",
      "                     CNN Indonesia | Kamis, 13/12/2018 17:09 WIB\n",
      "                \n",
      "2018\n",
      "\n",
      "Tim,  CNN Indonesia | Jumat, 05/10/2018 10:30 WIB\n",
      "                \n",
      "2018\n"
     ]
    },
    {
     "name": "stderr",
     "output_type": "stream",
     "text": [
      " 80%|████████  | 28/35 [00:04<00:00,  8.08it/s]"
     ]
    },
    {
     "name": "stdout",
     "output_type": "stream",
     "text": [
      "\n",
      "Dinda Audriene Muthmainah,  CNN Indonesia | Selasa, 24/10/2017 08:07 WIB\n",
      "                \n",
      "2017\n",
      "\n",
      "Dinda Audriene Muthmainah,  CNN Indonesia | Senin, 09/10/2017 09:55 WIB\n",
      "                \n",
      "2017\n"
     ]
    },
    {
     "name": "stderr",
     "output_type": "stream",
     "text": [
      " 86%|████████▌ | 30/35 [00:04<00:00,  8.17it/s]"
     ]
    },
    {
     "name": "stdout",
     "output_type": "stream",
     "text": [
      "\n",
      "Dinda Audriene,  CNN Indonesia | Senin, 12/06/2017 11:33 WIB\n",
      "                \n",
      "2017\n",
      "\n",
      "Augstiyanti,  CNN Indonesia | Jumat, 02/06/2017 10:27 WIB\n",
      "                \n",
      "2017\n"
     ]
    },
    {
     "name": "stderr",
     "output_type": "stream",
     "text": [
      " 91%|█████████▏| 32/35 [00:04<00:00,  8.36it/s]"
     ]
    },
    {
     "name": "stdout",
     "output_type": "stream",
     "text": [
      "\n",
      "​Elisa Valenta Sari,  CNN Indonesia | Minggu, 15/01/2017 17:03 WIB\n",
      "                \n",
      "2017\n",
      "\n",
      "Safyra Primadhyta,  CNN Indonesia | Rabu, 17/02/2016 19:07 WIB\n",
      "                \n",
      "2016\n"
     ]
    },
    {
     "name": "stderr",
     "output_type": "stream",
     "text": [
      " 97%|█████████▋| 34/35 [00:04<00:00,  8.31it/s]"
     ]
    },
    {
     "name": "stdout",
     "output_type": "stream",
     "text": [
      "\n",
      "Giras Pasopati,  CNN Indonesia | Senin, 25/01/2016 17:30 WIB\n",
      "                \n",
      "2016\n",
      "\n",
      "Antara & Augst Supriadi,  CNN Indonesia | Selasa, 10/11/2015 17:45 WIB\n",
      "                \n",
      "2015\n"
     ]
    },
    {
     "name": "stderr",
     "output_type": "stream",
     "text": [
      "\r",
      "100%|██████████| 35/35 [00:05<00:00,  8.51it/s]"
     ]
    },
    {
     "name": "stdout",
     "output_type": "stream",
     "text": [
      "\n",
      "Immanuel Giras Pasopati,  CNN Indonesia | Jumat, 16/10/2015 17:43 WIB\n",
      "                \n",
      "2015\n"
     ]
    },
    {
     "name": "stderr",
     "output_type": "stream",
     "text": [
      "\n"
     ]
    }
   ],
   "source": [
    "urls_cnnindo = cnnindo_scraper(driver, 2017, 2018, \"Sawit Sumbermas Sarana\")"
   ]
  },
  {
   "cell_type": "code",
   "execution_count": 25,
   "metadata": {},
   "outputs": [
    {
     "data": {
      "text/plain": [
       "(['https://www.cnnindonesia.com/ekonomi/20171024075752-92-250512/terpompa-sentimen-positif-ihsg-bertahan-di-zona-hijau',\n",
       "  'https://www.cnnindonesia.com/ekonomi/20171009083559-92-247054/sentimen-positif-sentuh-saham-cpo-dan-perbankan',\n",
       "  'https://www.cnnindonesia.com/ekonomi/20170612091716-92-221025/pasokan-cpo-melonjak-saham-agrikultur-melorot',\n",
       "  'https://www.cnnindonesia.com/ekonomi/20170602091414-78-218813/enam-bank-disebut-ikut-andil-rusak-hutan',\n",
       "  'https://www.cnnindonesia.com/ekonomi/20170115145011-78-186417/bni-kucurkan-kredit-rp6-t-ke-perusahaan-sawit-di-kalteng'],\n",
       " ['https://www.cnnindonesia.com/ekonomi/20181213161658-92-353458/bos-blue-bird-ditendang-dari-daftar-50-orang-terkaya-ri',\n",
       "  'https://www.cnnindonesia.com/ekonomi/20181004141906-92-335708/harga-sawit-anjlok-moodys-sebut-peringkat-produsen-berisiko'])"
      ]
     },
     "execution_count": 25,
     "metadata": {},
     "output_type": "execute_result"
    }
   ],
   "source": [
    "urls_cnnindo"
   ]
  },
  {
   "cell_type": "code",
   "execution_count": 13,
   "metadata": {},
   "outputs": [],
   "source": [
    "cnnindo_scraped = False\n",
    "\n",
    "while cnnindo_scraped is False:\n",
    "    try:\n",
    "        urls_cnnindo = cnnindo_scraper(driver)\n",
    "        cnnindo_scraped = True\n",
    "    except:\n",
    "        pass"
   ]
  },
  {
   "cell_type": "markdown",
   "metadata": {},
   "source": [
    "# TribunNews Section"
   ]
  },
  {
   "cell_type": "code",
   "execution_count": 93,
   "metadata": {},
   "outputs": [],
   "source": [
    "\n",
    "chromedriver_path = \"/mnt/c/Users/Gilang R Ilhami/Desktop/personal_projects/ibm_stuff/chromedriver.exe\"\n",
    "driver = webdriver.Chrome(executable_path=chromedriver_path)"
   ]
  },
  {
   "cell_type": "code",
   "execution_count": 9,
   "metadata": {},
   "outputs": [],
   "source": [
    "def tribunnews_scraper(driver, first_year, second_year, keyword):\n",
    "    driver.get(\"https://www.tribunnews.com/\")\n",
    "\n",
    "    button = driver.find_element_by_xpath(\"/html/body/div[2]/div/ul/li[2]\")\n",
    "    button.click()\n",
    "\n",
    "    input_search = driver.find_element_by_xpath(\"//*[@id='cse-search-box']/input[1]\")\n",
    "    input_search.send_keys(keyword.lower())\n",
    "    input_search.send_keys(Keys.RETURN)\n",
    "    \n",
    "    \n",
    "    try:\n",
    "        pagination_element = driver.find_element_by_tag_name(\"div[class*='gsc-cursor']\")\n",
    "        pages = pagination_element.find_elements_by_tag_name(\"div[class*='gsc-cursor-page']\")\n",
    "    except Exception as e:\n",
    "        print(\"No pagination element\")\n",
    "        \n",
    "        time.sleep(5)\n",
    "        news_list = driver.find_element_by_xpath(\"//*[@id='___gcse_0']/div/div/div/div[5]/div[2]/div[2]/div\")\n",
    "        link_list = news_list.find_elements_by_tag_name(\"a[class*='gs-title']\")\n",
    "        time.sleep(5)\n",
    "        link_list = [link.get_attribute(\"href\") for link in link_list if link.get_attribute(\"href\") is not None]\n",
    "        \n",
    "        pages = None\n",
    "        \n",
    "        if bool(link_list) is False:\n",
    "            return None\n",
    "        else:\n",
    "            all_link_list = link_list\n",
    "    \n",
    "    if pages is not None:\n",
    "        all_link_list = []\n",
    "        for page_idx in tqdm(range(1, len(pages) + 1)):\n",
    "\n",
    "            # If index is not 1, go to that page of the index\n",
    "            if page_idx != 1:\n",
    "\n",
    "                # Handling element when not loaded\n",
    "                cannot_click = True\n",
    "                attempt = 0\n",
    "\n",
    "                # While element is not clicked\n",
    "                while cannot_click:\n",
    "                    try:\n",
    "                        print(\"Looking for element.\")\n",
    "                        element_xpath = f\"//*[@id='___gcse_0']/div/div/div/div[5]/div[2]/div[2]/div/div[2]/div[11]/div/div[{page_idx}]\"\n",
    "\n",
    "                        # Wait untill element exists\n",
    "                        element = WebDriverWait(driver, 10).until(\n",
    "                                lambda driver : driver.find_element_by_xpath(element_xpath)\n",
    "                        )\n",
    "\n",
    "                        # Get element \n",
    "                        next_page = driver.find_element_by_xpath(element_xpath)\n",
    "\n",
    "                    except Exception as element_error:\n",
    "\n",
    "                        print(\"Element checking failed. Something went wrong.\\n\", element_error)\n",
    "\n",
    "                        attempt += 1\n",
    "\n",
    "                        print(f\"Element failed. Repeating process. Currently attempt {attempt}\")\n",
    "\n",
    "                    else:\n",
    "                        print(\"Element found. Waiting to be clickable.\")\n",
    "                        try:\n",
    "                            clickable = WebDriverWait(driver, 10).until(\n",
    "                                EC.element_to_be_clickable((By.XPATH, element_xpath))\n",
    "                            )\n",
    "                            next_page.click()\n",
    "                            cannot_click = False\n",
    "                        except Exception as clickable_error:\n",
    "                            print(\"Clickalbe checking failed. Something went wrong.\\n\", clickable_error, end =\"\\n\\n\")\n",
    "                            attempt += 1\n",
    "                            print(f\"Clicking failed. Repeating process. Currently attempt {attempt}\")\n",
    "\n",
    "\n",
    "\n",
    "            time.sleep(5)\n",
    "            news_list = driver.find_element_by_xpath(\"//*[@id='___gcse_0']/div/div/div/div[5]/div[2]/div[2]/div\")\n",
    "            link_list = news_list.find_elements_by_tag_name(\"a[class*='gs-title']\")\n",
    "            time.sleep(5)\n",
    "            link_list = [link.get_attribute(\"href\") for link in link_list if link.get_attribute(\"href\") is not None]\n",
    "\n",
    "            # Remove duplicates and none values\n",
    "            urls = list(set(link_list))\n",
    "            urls = list(filter(None, urls))\n",
    "\n",
    "            all_link_list.extend(urls)\n",
    "\n",
    "            pagination_check = driver.find_element_by_tag_name(\"div[class*='gsc-cursor']\")\n",
    "            pagination_check = pagination_check.find_elements_by_tag_name(\"div[class*='gsc-cursor-page']\")\n",
    "            if page_idx == len(pagination_check):\n",
    "                break\n",
    "            \n",
    "    link_list = all_link_list.copy()\n",
    "\n",
    "    first_year = 2017\n",
    "    second_year = 2018\n",
    "\n",
    "    first_year_contents = []\n",
    "    second_year_contents = []\n",
    "\n",
    "    all_index = set(map(link_list.index, link_list))\n",
    "\n",
    "    error_dates_index = set()\n",
    "\n",
    "    for link in tqdm(link_list):\n",
    "        try:\n",
    "            date = get_date_year(link,\"time\", \"class\", \"grey\")\n",
    "        except Exception as e:\n",
    "            print(link)\n",
    "            print(e, end=\"\\n\\n\")\n",
    "            error_idx = link_list.index(link)\n",
    "            error_dates_index.add(error_idx)\n",
    "\n",
    "    can_get_dates_index = list(all_index - error_dates_index)\n",
    "\n",
    "    current_date = datetime.datetime.now()\n",
    "    current_year = current_date.year\n",
    "\n",
    "    for content_index in tqdm(can_get_dates_index):\n",
    "\n",
    "        # News Publish Date\n",
    "        content_date = get_date_year(link_list[content_index],\"time\", \"class\", \"grey\")\n",
    "        print(content_date)\n",
    "\n",
    "        # First year news\n",
    "        if content_date >= first_year and content_date < second_year:\n",
    "            first_year_contents.append(link_list[content_index])\n",
    "        elif content_date >= second_year and content_date < current_year:\n",
    "            second_year_contents.append(link_list[content_index])\n",
    "        else:\n",
    "            pass\n",
    "    \n",
    "    return first_year_contents, second_year_contents"
   ]
  },
  {
   "cell_type": "code",
   "execution_count": 72,
   "metadata": {},
   "outputs": [
    {
     "name": "stdout",
     "output_type": "stream",
     "text": [
      "No pagination element\n"
     ]
    }
   ],
   "source": [
    "urls_tribunnews = tribunnews_scraper(driver, 2017, 2018, \"rv;ewo;goaergbr\")"
   ]
  },
  {
   "cell_type": "code",
   "execution_count": 74,
   "metadata": {},
   "outputs": [
    {
     "data": {
      "text/plain": [
       "NoneType"
      ]
     },
     "execution_count": 74,
     "metadata": {},
     "output_type": "execute_result"
    }
   ],
   "source": [
    "type(urls_tribunnews)"
   ]
  },
  {
   "cell_type": "code",
   "execution_count": 69,
   "metadata": {
    "scrolled": true
   },
   "outputs": [
    {
     "data": {
      "text/plain": [
       "(['https://www.tribunnews.com/bisnis/2017/12/08/dana-subsidi-lrt-selama-12-tahun-diambil-dari-apbn',\n",
       "  'https://www.tribunnews.com/metropolitan/2017/10/13/adhi-karya-bantah-tiang-lrt-bikin-ambles-di-depan-menara-saidah',\n",
       "  'https://www.tribunnews.com/bisnis/2017/12/12/apartmen-lrt-superblok-the-conexio-di-cikunir-dibanderol-mulai-rp-400-juta',\n",
       "  'https://www.tribunnews.com/bisnis/2017/12/07/ambruknya-saham-saham-emiten-bumn-konstruksi-di-lantai-bursa',\n",
       "  'https://www.tribunnews.com/bisnis/2017/12/08/investasi-lrt-ditekan-jadi-rp-299-triliun-dibiayai-rights-issue-adhi-karya-dan-pinjaman-3-bank',\n",
       "  'https://www.tribunnews.com/bisnis/2017/11/24/surat-menteri-rini-soemarno-soal-proyek-lrt-jabodetabek-ramai-jadi-perbincangan-investor',\n",
       "  'https://www.tribunnews.com/metropolitan/2017/08/02/proyek-lrt-terganjal-pembebasan-lahan',\n",
       "  'https://www.tribunnews.com/metropolitan/2017/08/04/begini-penampakan-lrt-jabodebek-progresnya-sudah-17-persen',\n",
       "  'https://www.tribunnews.com/metropolitan/2017/12/12/jakpro-bantah-proyek-lrt-jadi-penyebab-banjir-di-jalan-protokol-jakarta',\n",
       "  'https://www.tribunnews.com/bisnis/2017/03/22/adhi-karya-gandeng-perum-ppd-kembangkan-lrt-city',\n",
       "  'https://www.tribunnews.com/bisnis/2017/03/14/adhi-karya-beri-bantuan-kelistrikan-di-pulau-nias',\n",
       "  'http://www.tribunnews.com/bisnis/2017/03/22/adhi-karya-gandeng-perum-ppd-kembangkan-lrt-city?page=1',\n",
       "  'https://www.tribunnews.com/ramadan/2017/06/23/adhi-karya-beri-santunan-untuk-anak-yatim-piatu-yayasan-an-nurriah',\n",
       "  'https://www.tribunnews.com/metropolitan/2017/03/22/tokoh-paguyuban-ketoprak-adhi-karya-tidak-anggap-djarot-pencitraan',\n",
       "  'http://www.tribunnews.com/bisnis/2017/04/07/pekerjaan-proyek-lrt-jabodetabek-acak-acakan-adhi-karya-kena-tegur-bpjt?page=2',\n",
       "  'https://www.tribunnews.com/bisnis/2017/07/30/adhi-karya-hadirkan-apartemen-yang-berada-di-titik-nol-stasiun-lrt-sentul-segini-harganya',\n",
       "  'https://www.tribunnews.com/metropolitan/2017/04/07/bptj-tegur-adhi-karya-terkait-proyek-lrt',\n",
       "  'https://www.tribunnews.com/nasional/2017/04/13/masalah-anggaran-proyek-lrt-menemui-titik-terang-ini-yang-dilakukan-pemerintah',\n",
       "  'https://www.tribunnews.com/bisnis/2017/03/14/adhi-karya-bakal-terbitkan-obligasi-rp-35-triliun-semester-i-2017',\n",
       "  'https://www.tribunnews.com/bisnis/2017/01/08/adhi-karya-gelontorkan-rp-5-triliun-bangun-lrt',\n",
       "  'https://www.tribunnews.com/bisnis/2017/02/09/adhi-karya-terima-kunjungan-lapangan-delegasi-malaysia-sharing-knowledge-soal-lrt',\n",
       "  'https://www.tribunnews.com/bisnis/2017/01/08/menhub-budi-pembangunan-lrt-memakai-teknologi-mutakhir'],\n",
       " ['https://www.tribunnews.com/bisnis/2018/09/25/apartemen-lrt-city-bekasi-timur-green-avenue-dibanderol-mulai-rp-136-juta-per-meter',\n",
       "  'https://www.tribunnews.com/regional/2018/08/19/ribuan-warga-kota-balikpapan-antusias-ikuti-jalan-sehat-pesta-rakyat',\n",
       "  'https://www.tribunnews.com/nasional/2018/12/11/kpk-telusuri-peran-pt-adhi-karya-dan-pt-waskita-karya-dalam-kasus-pembangunan-gedung-ipdn',\n",
       "  'https://www.tribunnews.com/bisnis/2018/12/10/adhi-karya-bangun-640-unit-rumah-subsidi-nempel-stasiun-cisauk',\n",
       "  'https://www.tribunnews.com/bisnis/2018/09/09/adhi-karya-investasikan-rp-550-miliar-untuk-membangun-apartemen-di-dekat-ugm',\n",
       "  'https://www.tribunnews.com/tag/adhi-karya-persero',\n",
       "  'http://www.tribunnews.com/tag/apartemen-dhika-universe?url=bisnis/2018/09/09/adhi-karya-investasikan-rp-550-miliar-untuk-membangun-apartemen-di-dekat-ugm',\n",
       "  'https://www.tribunnews.com/nasional/2018/12/28/adhi-karya-kerahkan-alat-berat-untuk-bantu-evakuasi-pasca-tsunami-selat-sunda',\n",
       "  'https://www.tribunnews.com/bisnis/2018/11/29/hingga-september-2018-adhi-catat-laba-bersih-rp-335-miliar',\n",
       "  'https://www.tribunnews.com/bisnis/2018/03/15/pgn-dan-adhi-karya-tingkatkan-koordinasi-untuk-pengamanan-pipa-gas-di-proyek-lrt',\n",
       "  'https://www.tribunnews.com/bisnis/2018/04/02/adhi-karya-kejar-target-penyelesaian-80-persen-proyek-lrt-jabodebek-tahun-ini',\n",
       "  'https://www.tribunnews.com/metropolitan/2018/03/15/penampakan-rusaknya-pipa-gas-pgn-akibat-galian-proyek-lrt-di-cawang',\n",
       "  'https://www.tribunnews.com/bisnis/2018/07/11/adhi-karya-targetkan-pembangunan-lrt-jabodebek-capai-70-persen-hingga-akhir-tahun',\n",
       "  'https://www.tribunnews.com/bisnis/2018/07/23/spin-off-sukses-adhi-karya-kini-miliki-anak-usaha-di-bisnis-lrt-dan-kereta-commuter-line',\n",
       "  'https://www.tribunnews.com/bisnis/2018/07/22/anak-usaha-anyar-adhi-ini-fokus-garap-properti-berbasis-transit-oriented-development',\n",
       "  'https://www.tribunnews.com/metropolitan/2018/03/15/pipa-pgn-bocor-karena-pembangunan-lrt-menhub-minta-adhi-karya-tanggung-jawab',\n",
       "  'https://www.tribunnews.com/metropolitan/2018/05/04/pembangunan-lrt-jabodebek-tidak-terganggu-libur-lebaran',\n",
       "  'https://www.tribunnews.com/nasional/2018/03/27/jawaban-fadjroel-rachman-saat-ditanya-alasan-jarang-kritik-pemerintahan-jokowi',\n",
       "  'http://www.tribunnews.com/tag/proyek-properti-berbasis-transit-oriented-development-tod?url=bisnis/2018/07/23/spin-off-sukses-adhi-karya-kini-miliki-anak-usaha-di-bisnis-lrt-dan-kereta-commuter-line',\n",
       "  'https://www.tribunnews.com/bisnis/2018/03/09/adhi-karya-akhirnya-terima-pembayaran-pertama-dari-kai',\n",
       "  'https://www.tribunnews.com/bisnis/2018/02/08/pembebasan-lahan-jalur-lrt-jabodebek-sudah-90-persen',\n",
       "  'https://www.tribunnews.com/bisnis/2018/01/12/renovasi-stadion-gbk-dinyatakan-tuntas-100-persen',\n",
       "  'https://www.tribunnews.com/nasional/2018/03/15/pembangunan-konstruksi-lrt-jabodebek-sudah-34-persen',\n",
       "  'https://www.tribunnews.com/bisnis/2018/02/07/adhi-persada-properti-targetkan-nilai-penjualan-rp-28-triliun',\n",
       "  'https://www.tribunnews.com/bisnis/2018/02/09/satu-halte-lrt-jabodebek-belum-ditentukan-lokasinya',\n",
       "  'https://www.tribunnews.com/nasional/2018/02/01/proyek-infrastruktur-dorong-kinerja-adhi-karya',\n",
       "  'https://www.tribunnews.com/nasional/2018/01/13/uji-coba-stadion-gbk-menteri-pupr-main-bola',\n",
       "  'https://www.tribunnews.com/bisnis/2018/02/21/dirut-adhi-karya-bergabung-di-tim-evaluasi-proyek-infrastruktur-layang',\n",
       "  'https://www.tribunnews.com/bisnis/2018/01/04/adhi-karya-ajak-tni-au-tingkatkan-qhse-di-proyek-infrastruktur'])"
      ]
     },
     "execution_count": 69,
     "metadata": {},
     "output_type": "execute_result"
    }
   ],
   "source": [
    "urls_tribunnews = first_year_contents, second_year_contetns\n",
    "urls_tribunnews"
   ]
  },
  {
   "cell_type": "code",
   "execution_count": 16,
   "metadata": {},
   "outputs": [],
   "source": [
    "tribunnews_scraped = False\n",
    "\n",
    "while tribunnews_scraped is False:\n",
    "    try:\n",
    "        urls_tribunnews = tribunnews_scraper(driver)\n",
    "        tribunnews_scraped = True\n",
    "    except:\n",
    "        pass"
   ]
  },
  {
   "cell_type": "markdown",
   "metadata": {},
   "source": [
    "# The Jakarta Post Section"
   ]
  },
  {
   "cell_type": "code",
   "execution_count": 10,
   "metadata": {},
   "outputs": [],
   "source": [
    "def thejakartapost_scraper(driver, first_year, second_year, keyword):\n",
    "    driver.get(\"https://thejakartapost.com/\")\n",
    "\n",
    "    button = driver.find_element_by_xpath(\"/html/body/div[4]/div/div[3]/div/div[2]/div[1]/div/div[2]/a[3]\")\n",
    "    button.click()\n",
    "\n",
    "    input_search = driver.find_element_by_xpath(\"//*[@id='autocomplete']\")\n",
    "    input_search.send_keys(keyword.lower())\n",
    "    input_search.send_keys(Keys.RETURN)\n",
    "    \n",
    "    try:\n",
    "        pagination_element = driver.find_element_by_tag_name(\"div[class*='gsc-cursor']\")\n",
    "        pages = pagination_element.find_elements_by_tag_name(\"div[class*='gsc-cursor-page']\")\n",
    "    except Exception as e:\n",
    "        print(\"No pagination element\")\n",
    "        \n",
    "        time.sleep(5)\n",
    "        news_list = driver.find_element_by_xpath(\"//*[@id='___gcse_0']/div/div/div/div[5]/div[2]/div/div\")\n",
    "        link_list = news_list.find_elements_by_tag_name(\"a[class*='gs-title']\")\n",
    "        time.sleep(5)\n",
    "        link_list = [link.get_attribute(\"href\") for link in link_list if link.get_attribute(\"href\") is not None]\n",
    "        \n",
    "        pages = None\n",
    "        \n",
    "        if bool(link_list) is False:\n",
    "            return None\n",
    "        else:\n",
    "            all_link_list = link_list\n",
    "    \n",
    "    if pages is not None:\n",
    "        all_links_list = []\n",
    "        for page_idx in tqdm(range(1, len(pages) + 1)):\n",
    "\n",
    "            if page_idx != 1:\n",
    "                # Handling element when not loaded\n",
    "                cannot_click = True\n",
    "                attempt = 0\n",
    "\n",
    "                # While element is not clicked\n",
    "                while cannot_click:\n",
    "                    try:\n",
    "                        print(\"Looking for element.\")\n",
    "                        element_xpath = f\"//*[@id='___gcse_0']/div/div/div/div[5]/div[2]/div/div/div[2]/div[11]/div/div[{page_idx}]\"\n",
    "\n",
    "                        # Wait untill element exists\n",
    "                        element = WebDriverWait(driver, 10).until(\n",
    "                                lambda driver : driver.find_element_by_xpath(element_xpath)\n",
    "                        )\n",
    "\n",
    "                        # Get element \n",
    "                        next_page = driver.find_element_by_xpath(element_xpath)\n",
    "\n",
    "                    except Exception as element_error:\n",
    "\n",
    "                        print(\"Element checking failed. Something went wrong.\\n\", element_error)\n",
    "\n",
    "                        attempt += 1\n",
    "\n",
    "                        print(f\"Element failed. Repeating process. Currently attempt {attempt}\")\n",
    "\n",
    "                    else:\n",
    "                        print(\"Element found. Waiting to be clickable.\")\n",
    "                        try:\n",
    "                            clickable = WebDriverWait(driver, 10).until(\n",
    "                                EC.element_to_be_clickable((By.XPATH, element_xpath))\n",
    "                            )\n",
    "                            next_page.click()\n",
    "                            cannot_click = False\n",
    "                        except Exception as clickable_error:\n",
    "                            print(\"Clickalbe checking failed. Something went wrong.\\n\", clickable_error, end =\"\\n\\n\")\n",
    "                            attempt += 1\n",
    "                            print(f\"Clicking failed. Repeating process. Currently attempt {attempt}\")\n",
    "            time.sleep(5)\n",
    "            news_list = driver.find_element_by_xpath(\"//*[@id='___gcse_0']/div/div/div/div[5]/div[2]/div/div\")\n",
    "            link_list = news_list.find_elements_by_tag_name(\"a[class*='gs-title']\")\n",
    "            time.sleep(5)\n",
    "            link_list = [link.get_attribute(\"href\") for link in link_list if link.get_attribute(\"href\") is not None]\n",
    "            urls = list(set(link_list))\n",
    "            urls = list(filter(None, urls))\n",
    "\n",
    "            all_links_list.extend(urls)\n",
    "\n",
    "            pagination_check = driver.find_element_by_tag_name(\"div[class*='gsc-cursor']\")\n",
    "            pagination_check = pagination_check.find_elements_by_tag_name(\"div[class*='gsc-cursor-page']\")\n",
    "            if page_idx == len(pagination_check):\n",
    "                break\n",
    "            \n",
    "            \n",
    "    link_list = all_links_list.copy()\n",
    "    \n",
    "    first_year_contents = []\n",
    "    second_year_contetns = []\n",
    "\n",
    "    all_index = set(map(link_list.index, link_list))\n",
    "\n",
    "    error_dates_index = set()\n",
    "\n",
    "    for link in tqdm(link_list):\n",
    "        try:\n",
    "            date = get_date_year(link,\"span\", \"class\", \"day\")\n",
    "        except Exception as e:\n",
    "            print(link)\n",
    "            print(e, end=\"\\n\\n\")\n",
    "            error_idx = link_list.index(link)\n",
    "            error_dates_index.add(error_idx)\n",
    "\n",
    "    can_get_dates_index = list(all_index - error_dates_index)\n",
    "\n",
    "    current_date = datetime.datetime.now()\n",
    "    current_year = current_date.year\n",
    "\n",
    "    for content_index in tqdm(can_get_dates_index):\n",
    "\n",
    "        # News Publish Date\n",
    "        content_date = get_date_year(link_list[content_index],\"span\", \"class\", \"day\")\n",
    "        print(content_date)\n",
    "\n",
    "        # First year news\n",
    "        if content_date >= first_year and content_date < second_year:\n",
    "            first_year_contents.append(link_list[content_index])\n",
    "        elif content_date >= second_year and content_date < current_year:\n",
    "            second_year_contetns.append(link_list[content_index])\n",
    "        else:\n",
    "            pass\n",
    "    return first_year_contents, second_year_contetns"
   ]
  },
  {
   "cell_type": "code",
   "execution_count": 79,
   "metadata": {},
   "outputs": [
    {
     "name": "stdout",
     "output_type": "stream",
     "text": [
      "No pagination element\n"
     ]
    }
   ],
   "source": [
    "url_thejakartapost = thejakartapost_scraper(driver, 2017, 2018, \"ergvervarvarevaerg\")"
   ]
  },
  {
   "cell_type": "code",
   "execution_count": 80,
   "metadata": {},
   "outputs": [],
   "source": [
    "url_thejakartapost"
   ]
  },
  {
   "cell_type": "code",
   "execution_count": 18,
   "metadata": {},
   "outputs": [],
   "source": [
    "thejakartapost_scraped = False\n",
    "\n",
    "while thejakartapost_scraped is False:\n",
    "    try:\n",
    "        urls_thejakartapost = thejakartapost_scraper(driver)\n",
    "        thejakartapost_scraped = True\n",
    "    except:\n",
    "        pass"
   ]
  },
  {
   "cell_type": "markdown",
   "metadata": {},
   "source": [
    "# All Scraper"
   ]
  },
  {
   "cell_type": "code",
   "execution_count": 11,
   "metadata": {
    "scrolled": true
   },
   "outputs": [],
   "source": [
    "scraper_functions = [\n",
    "    detik_scraper, liputan6_scraper, kompas_scraper, \n",
    "    cnnindo_scraper, tribunnews_scraper, thejakartapost_scraper\n",
    "]"
   ]
  },
  {
   "cell_type": "code",
   "execution_count": 12,
   "metadata": {},
   "outputs": [],
   "source": [
    "chromedriver_path = \"/mnt/c/Users/Gilang R Ilhami/Desktop/personal_projects/ibm_stuff/chromedriver.exe\"\n",
    "driver = webdriver.Chrome(executable_path=chromedriver_path)"
   ]
  },
  {
   "cell_type": "code",
   "execution_count": 13,
   "metadata": {
    "scrolled": true
   },
   "outputs": [],
   "source": [
    "def all_scraper(driver, scraper_list, first_year, second_year, keyword):\n",
    "    \n",
    "    all_first_year_contents = []\n",
    "    all_second_year_contents = []\n",
    "    \n",
    "    for scraper in scraper_list:\n",
    "        urls = scraper(driver, first_year, second_year, keyword)\n",
    "        \n",
    "        if urls is not None:\n",
    "            all_first_year_contents.extend(urls[0])\n",
    "            all_second_year_contents.extend(urls[1])\n",
    "        else:\n",
    "            continue\n",
    "    return all_first_year_contents, all_second_year_contents"
   ]
  },
  {
   "cell_type": "code",
   "execution_count": 36,
   "metadata": {
    "scrolled": true
   },
   "outputs": [
    {
     "name": "stdout",
     "output_type": "stream",
     "text": [
      "Last Index -1\n",
      "Senin, 05 Dec 2016 13:31 WIB\n"
     ]
    },
    {
     "name": "stderr",
     "output_type": "stream",
     "text": [
      "/mnt/c/Users/Gilang R Ilhami/Desktop/personal_projects/ibm_stuff/ibmenv/lib/python3.6/site-packages/dateutil/parser/_parser.py:1206: UnknownTimezoneWarning: tzname WIB identified but not understood.  Pass `tzinfos` argument in order to correctly return a timezone-aware datetime.  In a future version, this will raise an exception.\n",
      "  category=UnknownTimezoneWarning)\n"
     ]
    },
    {
     "name": "stdout",
     "output_type": "stream",
     "text": [
      "Rabu, 30 Jan 2019 21:13 WIB\n",
      "Rabu, 25 Jul 2018 19:02 WIB\n",
      "Kamis, 25 Jan 2018 16:36 WIB\n",
      "Senin, 16 Oct 2017 18:07 WIB\n",
      "Senin, 16 Oct 2017 16:43 WIB\n",
      "Jumat, 09 Jun 2017 08:55 WIB\n",
      "Jumat, 13 Jan 2017 22:07 WIB\n",
      "Jumat, 13 May  2016 20:37 WIB\n",
      "Jumat, 13 May  2016 10:13 WIB\n",
      "Kamis, 12 May  2016 09:49 WIB\n",
      "Rabu, 11 May  2016 20:04 WIB\n",
      "Jumat, 03 Feb 2017 09:41 WIB\n",
      "Rabu, 25 Jan 2017 16:01 WIB\n",
      "Senin, 05 Dec 2016 13:31 WIB\n",
      "Rabu, 30 Jan 2019 21:13 WIB\n",
      "2019\n",
      "Rabu, 25 Jul 2018 19:02 WIB\n",
      "2018\n",
      "Kamis, 25 Jan 2018 16:36 WIB\n",
      "2018\n",
      "Senin, 16 Oct 2017 18:07 WIB\n",
      "2017\n",
      "Senin, 16 Oct 2017 16:43 WIB\n",
      "2017\n",
      "Jumat, 09 Jun 2017 08:55 WIB\n",
      "2017\n",
      "Jumat, 13 Jan 2017 22:07 WIB\n",
      "2017\n",
      "Jumat, 13 May  2016 20:37 WIB\n",
      "2016\n",
      "Jumat, 13 May  2016 10:13 WIB\n",
      "2016\n",
      "Kamis, 12 May  2016 09:49 WIB\n",
      "2016\n",
      "Rabu, 11 May  2016 20:04 WIB\n",
      "2016\n",
      "Jumat, 03 Feb 2017 09:41 WIB\n",
      "2017\n",
      "Rabu, 25 Jan 2017 16:01 WIB\n",
      "2017\n",
      "Senin, 05 Dec 2016 13:31 WIB\n",
      "2016\n",
      "Last Index -1\n",
      "06 Nov 2013, 10:39 WIB\n",
      "21 Jan 2019, 14:31 WIB\n",
      "21 Jan 2019, 12:12 WIB\n",
      "13 Dec 2018, 21:01 WIB\n",
      "16 Nov 2018, 06:20 WIB\n",
      "07 Nov 2018, 06:20 WIB\n",
      "27 Jul 2018, 06:30 WIB\n",
      "17 Oct 2017, 06:30 WIB\n",
      "16 Oct 2017, 17:01 WIB\n",
      "16 Oct 2017, 16:15 WIB\n",
      "15 Jan 2017, 14:24 WIB\n",
      "09 Dec 2016, 07:00 WIB\n",
      "05 Aug 2016, 15:09 WIB\n",
      "19 Apr 2016, 06:20 WIB\n",
      "11 Jan 2016, 11:30 WIB\n",
      "16 Sep 2015, 06:20 WIB\n",
      "26 Aug 2015, 06:25 WIB\n",
      "25 Aug 2015, 06:20 WIB\n",
      "24 Aug 2015, 06:40 WIB\n",
      "31 Jul 2015, 06:30 WIB\n",
      "10 Jul 2015, 16:17 WIB\n",
      "23 Jun 2015, 13:31 WIB\n",
      "13 May 2015, 15:25 WIB\n",
      "12 May 2015, 16:13 WIB\n",
      "23 Apr 2015, 19:55 WIB\n",
      "22 Apr 2015, 10:33 WIB\n",
      "02 Feb 2015, 10:56 WIB\n",
      "30 Dec 2014, 08:32 WIB\n",
      "04 Dec 2014, 14:04 WIB\n",
      "19 Nov 2014, 21:37 WIB\n",
      "30 Oct 2014, 16:13 WIB\n",
      "18 Sep 2014, 06:20 WIB\n",
      "28 Aug 2014, 16:18 WIB\n",
      "07 Jan 2014, 13:17 WIB\n",
      "01 Jan 2014, 14:50 WIB\n",
      "12 Dec 2013, 14:30 WIB\n",
      "12 Dec 2013, 09:27 WIB\n",
      "12 Dec 2013, 08:01 WIB\n",
      "09 Dec 2013, 14:05 WIB\n",
      "28 Nov 2013, 08:09 WIB\n",
      "21 Nov 2013, 07:03 WIB\n",
      "07 Nov 2013, 16:30 WIB\n",
      "07 Nov 2013, 13:45 WIB\n",
      "06 Nov 2013, 10:39 WIB\n",
      "21 Jan 2019, 14:31 WIB\n",
      "2019\n",
      "21 Jan 2019, 12:12 WIB\n",
      "2019\n",
      "13 Dec 2018, 21:01 WIB\n",
      "2018\n",
      "16 Nov 2018, 06:20 WIB\n",
      "2018\n",
      "07 Nov 2018, 06:20 WIB\n",
      "2018\n",
      "27 Jul 2018, 06:30 WIB\n",
      "2018\n",
      "17 Oct 2017, 06:30 WIB\n",
      "2017\n",
      "16 Oct 2017, 17:01 WIB\n",
      "2017\n",
      "16 Oct 2017, 16:15 WIB\n",
      "2017\n",
      "15 Jan 2017, 14:24 WIB\n",
      "2017\n",
      "09 Dec 2016, 07:00 WIB\n",
      "2016\n",
      "05 Aug 2016, 15:09 WIB\n",
      "2016\n",
      "19 Apr 2016, 06:20 WIB\n",
      "2016\n",
      "11 Jan 2016, 11:30 WIB\n",
      "2016\n",
      "16 Sep 2015, 06:20 WIB\n",
      "2015\n",
      "26 Aug 2015, 06:25 WIB\n",
      "2015\n",
      "25 Aug 2015, 06:20 WIB\n",
      "2015\n",
      "24 Aug 2015, 06:40 WIB\n",
      "2015\n",
      "31 Jul 2015, 06:30 WIB\n",
      "2015\n",
      "10 Jul 2015, 16:17 WIB\n",
      "2015\n",
      "23 Jun 2015, 13:31 WIB\n",
      "2015\n",
      "13 May 2015, 15:25 WIB\n",
      "2015\n",
      "12 May 2015, 16:13 WIB\n",
      "2015\n",
      "23 Apr 2015, 19:55 WIB\n",
      "2015\n",
      "22 Apr 2015, 10:33 WIB\n",
      "2015\n",
      "02 Feb 2015, 10:56 WIB\n",
      "2015\n",
      "30 Dec 2014, 08:32 WIB\n",
      "2014\n",
      "04 Dec 2014, 14:04 WIB\n",
      "2014\n",
      "19 Nov 2014, 21:37 WIB\n",
      "2014\n",
      "30 Oct 2014, 16:13 WIB\n",
      "2014\n",
      "18 Sep 2014, 06:20 WIB\n",
      "2014\n",
      "28 Aug 2014, 16:18 WIB\n",
      "2014\n",
      "07 Jan 2014, 13:17 WIB\n",
      "2014\n",
      "01 Jan 2014, 14:50 WIB\n",
      "2014\n",
      "12 Dec 2013, 14:30 WIB\n",
      "2013\n",
      "12 Dec 2013, 09:27 WIB\n",
      "2013\n",
      "12 Dec 2013, 08:01 WIB\n",
      "2013\n",
      "09 Dec 2013, 14:05 WIB\n",
      "2013\n",
      "28 Nov 2013, 08:09 WIB\n",
      "2013\n",
      "21 Nov 2013, 07:03 WIB\n",
      "2013\n",
      "07 Nov 2013, 16:30 WIB\n",
      "2013\n",
      "07 Nov 2013, 13:45 WIB\n",
      "2013\n",
      "06 Nov 2013, 10:39 WIB\n",
      "2013\n"
     ]
    },
    {
     "name": "stderr",
     "output_type": "stream",
     "text": [
      " 12%|█▎        | 1/8 [00:10<01:11, 10.22s/it]"
     ]
    },
    {
     "name": "stdout",
     "output_type": "stream",
     "text": [
      "Looking for element.\n",
      "Element found. Waiting to be clickable.\n"
     ]
    },
    {
     "name": "stderr",
     "output_type": "stream",
     "text": [
      "\r",
      " 25%|██▌       | 2/8 [00:20<01:01, 10.30s/it]"
     ]
    },
    {
     "name": "stdout",
     "output_type": "stream",
     "text": [
      "Looking for element.\n",
      "Element found. Waiting to be clickable.\n"
     ]
    },
    {
     "name": "stderr",
     "output_type": "stream",
     "text": [
      "\r",
      " 38%|███▊      | 3/8 [00:31<00:51, 10.35s/it]"
     ]
    },
    {
     "name": "stdout",
     "output_type": "stream",
     "text": [
      "Looking for element.\n",
      "Element found. Waiting to be clickable.\n"
     ]
    },
    {
     "name": "stderr",
     "output_type": "stream",
     "text": [
      "\r",
      " 50%|█████     | 4/8 [00:41<00:41, 10.39s/it]"
     ]
    },
    {
     "name": "stdout",
     "output_type": "stream",
     "text": [
      "Looking for element.\n",
      "Element found. Waiting to be clickable.\n"
     ]
    },
    {
     "name": "stderr",
     "output_type": "stream",
     "text": [
      "\n",
      "  0%|          | 0/46 [00:00<?, ?it/s]\u001b[A\n",
      "  2%|▏         | 1/46 [00:01<00:52,  1.16s/it]\u001b[A"
     ]
    },
    {
     "name": "stdout",
     "output_type": "stream",
     "text": [
      "https://ekonomi.kompas.com/read/2016/12/21/171140926/asian.agri.beri.insentif.rp.2.6.miliar.kepada.kud.petani.sawit\n",
      "Exceeded 30 redirects.\n",
      "\n"
     ]
    },
    {
     "name": "stderr",
     "output_type": "stream",
     "text": [
      "\n",
      "  4%|▍         | 2/46 [00:02<00:49,  1.12s/it]\u001b[A"
     ]
    },
    {
     "name": "stdout",
     "output_type": "stream",
     "text": [
      "https://money.kompas.com/read/2016/08/31/140920226/sawit.sumbermas.sarana.umumkan.pergantian.direksi\n",
      "Exceeded 30 redirects.\n",
      "\n"
     ]
    },
    {
     "name": "stderr",
     "output_type": "stream",
     "text": [
      "\n",
      "  7%|▋         | 3/46 [00:02<00:37,  1.16it/s]\u001b[A"
     ]
    },
    {
     "name": "stdout",
     "output_type": "stream",
     "text": [
      "Kompas.com - 28/12/2017, 18:12 WIB\n"
     ]
    },
    {
     "name": "stderr",
     "output_type": "stream",
     "text": [
      "\n",
      "  9%|▊         | 4/46 [00:03<00:37,  1.11it/s]\u001b[A"
     ]
    },
    {
     "name": "stdout",
     "output_type": "stream",
     "text": [
      "https://money.kompas.com/read/2016/08/04/151019426/terhantam.cuaca.laba.bersih.emiten.sawit.ini.turun.39.persen\n",
      "Exceeded 30 redirects.\n",
      "\n"
     ]
    },
    {
     "name": "stderr",
     "output_type": "stream",
     "text": [
      "\n",
      " 11%|█         | 5/46 [00:04<00:41,  1.01s/it]\u001b[A"
     ]
    },
    {
     "name": "stdout",
     "output_type": "stream",
     "text": [
      "https://money.kompas.com/read/2016/10/20/112734226/riset.ekonomi.rapuh.para.petani.kelapa.sawit\n",
      "Exceeded 30 redirects.\n",
      "\n"
     ]
    },
    {
     "name": "stderr",
     "output_type": "stream",
     "text": [
      "\n",
      " 13%|█▎        | 6/46 [00:05<00:40,  1.00s/it]\u001b[A"
     ]
    },
    {
     "name": "stdout",
     "output_type": "stream",
     "text": [
      "https://money.kompas.com/read/2016/12/14/125144926/sawit.sumbermas.sarana.bangun.dua.pabrik.kelapa.sawit.tahun.depan\n",
      "Exceeded 30 redirects.\n",
      "\n"
     ]
    },
    {
     "name": "stderr",
     "output_type": "stream",
     "text": [
      "\n",
      " 15%|█▌        | 7/46 [00:05<00:30,  1.28it/s]\u001b[A"
     ]
    },
    {
     "name": "stdout",
     "output_type": "stream",
     "text": [
      "Kompas.com - 28/12/2017, 13:15 WIB\n"
     ]
    },
    {
     "name": "stderr",
     "output_type": "stream",
     "text": [
      "\n",
      " 17%|█▋        | 8/46 [00:06<00:24,  1.55it/s]\u001b[A"
     ]
    },
    {
     "name": "stdout",
     "output_type": "stream",
     "text": [
      "https://www.kompas.com/tag/pt.sawit.sumbermas.sarana.tbk\n",
      "'NoneType' object has no attribute 'text'\n",
      "\n"
     ]
    },
    {
     "name": "stderr",
     "output_type": "stream",
     "text": [
      "\n",
      " 20%|█▉        | 9/46 [00:07<00:27,  1.33it/s]\u001b[A"
     ]
    },
    {
     "name": "stdout",
     "output_type": "stream",
     "text": [
      "https://money.kompas.com/read/2016/08/31/170104326/melalui.akuisisi.sawit.sumbermas.sarana.tambah.luas.tanam.sawit\n",
      "Exceeded 30 redirects.\n",
      "\n"
     ]
    },
    {
     "name": "stderr",
     "output_type": "stream",
     "text": [
      "\n",
      " 22%|██▏       | 10/46 [00:07<00:21,  1.67it/s]\u001b[A"
     ]
    },
    {
     "name": "stdout",
     "output_type": "stream",
     "text": [
      "Kompas.com - 28/12/2017, 14:43 WIB\n"
     ]
    },
    {
     "name": "stderr",
     "output_type": "stream",
     "text": [
      "\n",
      " 24%|██▍       | 11/46 [00:07<00:17,  2.05it/s]\u001b[A"
     ]
    },
    {
     "name": "stdout",
     "output_type": "stream",
     "text": [
      "Kompas.com - 24/10/2014, 09:35 WIB\n"
     ]
    },
    {
     "name": "stderr",
     "output_type": "stream",
     "text": [
      "\n",
      " 26%|██▌       | 12/46 [00:08<00:14,  2.41it/s]\u001b[A"
     ]
    },
    {
     "name": "stdout",
     "output_type": "stream",
     "text": [
      "Kompas.com - 28/12/2015, 16:30 WIB\n"
     ]
    },
    {
     "name": "stderr",
     "output_type": "stream",
     "text": [
      "\n",
      " 28%|██▊       | 13/46 [00:08<00:12,  2.74it/s]\u001b[A"
     ]
    },
    {
     "name": "stdout",
     "output_type": "stream",
     "text": [
      "Kompas.com - 20/08/2018, 12:42 WIB\n"
     ]
    },
    {
     "name": "stderr",
     "output_type": "stream",
     "text": [
      "\n",
      " 30%|███       | 14/46 [00:08<00:10,  3.11it/s]\u001b[A"
     ]
    },
    {
     "name": "stdout",
     "output_type": "stream",
     "text": [
      "Kompas.com - 12/08/2014, 09:28 WIB\n"
     ]
    },
    {
     "name": "stderr",
     "output_type": "stream",
     "text": [
      "\n",
      " 33%|███▎      | 15/46 [00:09<00:16,  1.87it/s]\u001b[A"
     ]
    },
    {
     "name": "stdout",
     "output_type": "stream",
     "text": [
      "https://money.kompas.com/read/2016/12/14/191210526/pengusaha.kelapa.sawit.nasional.dukung.pengesahan.ruu.perkelapasawitan\n",
      "Exceeded 30 redirects.\n",
      "\n"
     ]
    },
    {
     "name": "stderr",
     "output_type": "stream",
     "text": [
      "\n",
      " 35%|███▍      | 16/46 [00:09<00:13,  2.25it/s]\u001b[A\n",
      " 37%|███▋      | 17/46 [00:09<00:10,  2.70it/s]\u001b[A"
     ]
    },
    {
     "name": "stdout",
     "output_type": "stream",
     "text": [
      "Kompas.com - 10/01/2017, 20:30 WIB\n",
      "Kompas.com - 10/01/2017, 20:30 WIB\n"
     ]
    },
    {
     "name": "stderr",
     "output_type": "stream",
     "text": [
      "\n",
      " 39%|███▉      | 18/46 [00:10<00:15,  1.79it/s]\u001b[A"
     ]
    },
    {
     "name": "stdout",
     "output_type": "stream",
     "text": [
      "https://money.kompas.com/read/2016/12/23/213049126/rajawali.group.jual.37.persen.saham.ehp.ke.felda.malaysia.\n",
      "Exceeded 30 redirects.\n",
      "\n"
     ]
    },
    {
     "name": "stderr",
     "output_type": "stream",
     "text": [
      "\n",
      " 41%|████▏     | 19/46 [00:11<00:13,  2.01it/s]\u001b[A"
     ]
    },
    {
     "name": "stdout",
     "output_type": "stream",
     "text": [
      "Kamis, 7 June 2018 | 17:38 WIB\n"
     ]
    },
    {
     "name": "stderr",
     "output_type": "stream",
     "text": [
      "\n",
      " 43%|████▎     | 20/46 [00:11<00:10,  2.37it/s]\u001b[A"
     ]
    },
    {
     "name": "stdout",
     "output_type": "stream",
     "text": [
      "Selasa, 3 July 2018 | 13:42 WIB\n"
     ]
    },
    {
     "name": "stderr",
     "output_type": "stream",
     "text": [
      "\n",
      " 46%|████▌     | 21/46 [00:11<00:09,  2.75it/s]\u001b[A"
     ]
    },
    {
     "name": "stdout",
     "output_type": "stream",
     "text": [
      "Kompas.com - 14/10/2014, 09:36 WIB\n"
     ]
    },
    {
     "name": "stderr",
     "output_type": "stream",
     "text": [
      "\n",
      " 48%|████▊     | 22/46 [00:12<00:14,  1.68it/s]\u001b[A"
     ]
    },
    {
     "name": "stdout",
     "output_type": "stream",
     "text": [
      "https://money.kompas.com/read/2017/02/02/133000626/ini.solusi.menko.darmin.agar.produk.sawit.tak.selalu.disudutkan\n",
      "Exceeded 30 redirects.\n",
      "\n"
     ]
    },
    {
     "name": "stderr",
     "output_type": "stream",
     "text": [
      "\n",
      " 50%|█████     | 23/46 [00:13<00:11,  2.04it/s]\u001b[A"
     ]
    },
    {
     "name": "stdout",
     "output_type": "stream",
     "text": [
      "Kompas.com - 05/05/2014, 09:31 WIB\n"
     ]
    },
    {
     "name": "stderr",
     "output_type": "stream",
     "text": [
      "\n",
      " 52%|█████▏    | 24/46 [00:14<00:17,  1.24it/s]\u001b[A"
     ]
    },
    {
     "name": "stdout",
     "output_type": "stream",
     "text": [
      "https://ekonomi.kompas.com/read/2017/01/17/133603926/sesi.i.ihsg.berakhir.naik.0.22.persen\n",
      "Exceeded 30 redirects.\n",
      "\n"
     ]
    },
    {
     "name": "stderr",
     "output_type": "stream",
     "text": [
      "\n",
      " 54%|█████▍    | 25/46 [00:15<00:14,  1.44it/s]\u001b[A"
     ]
    },
    {
     "name": "stdout",
     "output_type": "stream",
     "text": [
      "Kompas.com - 03/06/2014, 09:25 WIB\n"
     ]
    },
    {
     "name": "stderr",
     "output_type": "stream",
     "text": [
      "\n",
      " 57%|█████▋    | 26/46 [00:16<00:19,  1.02it/s]\u001b[A"
     ]
    },
    {
     "name": "stdout",
     "output_type": "stream",
     "text": [
      "Kompas.com - 30/06/2014, 09:34 WIB\n"
     ]
    },
    {
     "name": "stderr",
     "output_type": "stream",
     "text": [
      "\n",
      " 59%|█████▊    | 27/46 [00:16<00:14,  1.32it/s]\u001b[A"
     ]
    },
    {
     "name": "stdout",
     "output_type": "stream",
     "text": [
      "Jumat, 23 October 2015 | 11:52 WIB\n"
     ]
    },
    {
     "name": "stderr",
     "output_type": "stream",
     "text": [
      "\n",
      " 61%|██████    | 28/46 [00:17<00:10,  1.67it/s]\u001b[A"
     ]
    },
    {
     "name": "stdout",
     "output_type": "stream",
     "text": [
      "Kompas.com - 22/08/2014, 16:26 WIB\n"
     ]
    },
    {
     "name": "stderr",
     "output_type": "stream",
     "text": [
      "\n",
      " 63%|██████▎   | 29/46 [00:17<00:08,  1.99it/s]\u001b[A"
     ]
    },
    {
     "name": "stdout",
     "output_type": "stream",
     "text": [
      "Kompas.com - 20/11/2014, 09:35 WIB\n"
     ]
    },
    {
     "name": "stderr",
     "output_type": "stream",
     "text": [
      "\n",
      " 65%|██████▌   | 30/46 [00:17<00:06,  2.35it/s]\u001b[A"
     ]
    },
    {
     "name": "stdout",
     "output_type": "stream",
     "text": [
      "Kompas.com - 19/12/2013, 09:32 WIB\n"
     ]
    },
    {
     "name": "stderr",
     "output_type": "stream",
     "text": [
      "\n",
      " 67%|██████▋   | 31/46 [00:18<00:09,  1.54it/s]\u001b[A"
     ]
    },
    {
     "name": "stdout",
     "output_type": "stream",
     "text": [
      "https://ekonomi.kompas.com/read/2016/04/19/072746826/IHSG.Berpotensi.Menguat.Ini.Saham-saham.yang.Bisa.Dipertimbangkan\n",
      "Exceeded 30 redirects.\n",
      "\n"
     ]
    },
    {
     "name": "stderr",
     "output_type": "stream",
     "text": [
      "\n",
      " 70%|██████▉   | 32/46 [00:19<00:07,  1.90it/s]\u001b[A"
     ]
    },
    {
     "name": "stdout",
     "output_type": "stream",
     "text": [
      "Kompas.com - 12/12/2013, 12:22 WIB\n"
     ]
    },
    {
     "name": "stderr",
     "output_type": "stream",
     "text": [
      "\n",
      " 72%|███████▏  | 33/46 [00:19<00:05,  2.23it/s]\u001b[A"
     ]
    },
    {
     "name": "stdout",
     "output_type": "stream",
     "text": [
      "Kompas.com - 15/07/2014, 09:18 WIB\n"
     ]
    },
    {
     "name": "stderr",
     "output_type": "stream",
     "text": [
      "\n",
      " 74%|███████▍  | 34/46 [00:20<00:07,  1.58it/s]\u001b[A"
     ]
    },
    {
     "name": "stdout",
     "output_type": "stream",
     "text": [
      "https://money.kompas.com/read/2016/12/14/161800326/dpr.ruu.perkelapasawitan.akan.akomodasi.semua.pihak\n",
      "Exceeded 30 redirects.\n",
      "\n"
     ]
    },
    {
     "name": "stderr",
     "output_type": "stream",
     "text": [
      "\n",
      " 76%|███████▌  | 35/46 [00:20<00:05,  1.93it/s]\u001b[A"
     ]
    },
    {
     "name": "stdout",
     "output_type": "stream",
     "text": [
      "Kompas.com - 19/11/2014, 09:32 WIB\n"
     ]
    },
    {
     "name": "stderr",
     "output_type": "stream",
     "text": [
      "\n",
      " 78%|███████▊  | 36/46 [00:21<00:04,  2.22it/s]\u001b[A"
     ]
    },
    {
     "name": "stdout",
     "output_type": "stream",
     "text": [
      "Kompas.com - 18/11/2014, 16:18 WIB\n"
     ]
    },
    {
     "name": "stderr",
     "output_type": "stream",
     "text": [
      "\n",
      " 80%|████████  | 37/46 [00:21<00:03,  2.55it/s]\u001b[A"
     ]
    },
    {
     "name": "stdout",
     "output_type": "stream",
     "text": [
      "Kompas.com - 05/12/2014, 17:00 WIB\n"
     ]
    },
    {
     "name": "stderr",
     "output_type": "stream",
     "text": [
      "\n",
      " 83%|████████▎ | 38/46 [00:21<00:02,  2.87it/s]\u001b[A"
     ]
    },
    {
     "name": "stdout",
     "output_type": "stream",
     "text": [
      "Kompas.com - 09/11/2009, 20:03 WIB\n"
     ]
    },
    {
     "name": "stderr",
     "output_type": "stream",
     "text": [
      "\n",
      " 85%|████████▍ | 39/46 [00:21<00:02,  3.10it/s]\u001b[A"
     ]
    },
    {
     "name": "stdout",
     "output_type": "stream",
     "text": [
      "Kompas.com - 25/07/2019, 15:20 WIB\n"
     ]
    },
    {
     "name": "stderr",
     "output_type": "stream",
     "text": [
      "\n",
      " 87%|████████▋ | 40/46 [00:22<00:01,  3.37it/s]\u001b[A"
     ]
    },
    {
     "name": "stdout",
     "output_type": "stream",
     "text": [
      "Kompas.com - 19/06/2014, 16:22 WIB\n"
     ]
    },
    {
     "name": "stderr",
     "output_type": "stream",
     "text": [
      "\n",
      " 89%|████████▉ | 41/46 [00:22<00:01,  3.51it/s]\u001b[A"
     ]
    },
    {
     "name": "stdout",
     "output_type": "stream",
     "text": [
      "Kompas.com - 22/06/2017, 07:30 WIB\n"
     ]
    },
    {
     "name": "stderr",
     "output_type": "stream",
     "text": [
      "\n",
      " 91%|█████████▏| 42/46 [00:22<00:01,  3.66it/s]\u001b[A"
     ]
    },
    {
     "name": "stdout",
     "output_type": "stream",
     "text": [
      "Kompas.com - 09/02/2018, 21:18 WIB\n"
     ]
    },
    {
     "name": "stderr",
     "output_type": "stream",
     "text": [
      "\n",
      " 93%|█████████▎| 43/46 [00:22<00:00,  3.87it/s]\u001b[A"
     ]
    },
    {
     "name": "stdout",
     "output_type": "stream",
     "text": [
      "Kompas.com - 22/05/2017, 16:19 WIB\n"
     ]
    },
    {
     "name": "stderr",
     "output_type": "stream",
     "text": [
      "\n",
      " 96%|█████████▌| 44/46 [00:22<00:00,  4.00it/s]\u001b[A"
     ]
    },
    {
     "name": "stdout",
     "output_type": "stream",
     "text": [
      "Kompas.com - 03/07/2018, 13:42 WIB\n"
     ]
    },
    {
     "name": "stderr",
     "output_type": "stream",
     "text": [
      "\n",
      " 98%|█████████▊| 45/46 [00:23<00:00,  3.88it/s]\u001b[A"
     ]
    },
    {
     "name": "stdout",
     "output_type": "stream",
     "text": [
      "Kompas.com - 24/03/2019, 15:20 WIB\n"
     ]
    },
    {
     "name": "stderr",
     "output_type": "stream",
     "text": [
      "\n",
      "100%|██████████| 46/46 [00:23<00:00,  3.88it/s]\u001b[A\n",
      "  0%|          | 0/33 [00:00<?, ?it/s]\u001b[A"
     ]
    },
    {
     "name": "stdout",
     "output_type": "stream",
     "text": [
      "Kompas.com - 23/10/2015, 11:52 WIB\n"
     ]
    },
    {
     "name": "stderr",
     "output_type": "stream",
     "text": [
      "\n",
      "  3%|▎         | 1/33 [00:00<00:07,  4.52it/s]\u001b[A"
     ]
    },
    {
     "name": "stdout",
     "output_type": "stream",
     "text": [
      "Kompas.com - 28/12/2017, 18:12 WIB\n",
      "2017\n"
     ]
    },
    {
     "name": "stderr",
     "output_type": "stream",
     "text": [
      "\n",
      "  6%|▌         | 2/33 [00:00<00:07,  4.28it/s]\u001b[A"
     ]
    },
    {
     "name": "stdout",
     "output_type": "stream",
     "text": [
      "Kompas.com - 28/12/2017, 13:15 WIB\n",
      "2017\n"
     ]
    },
    {
     "name": "stderr",
     "output_type": "stream",
     "text": [
      "\n",
      "  9%|▉         | 3/33 [00:00<00:06,  4.46it/s]\u001b[A\n",
      " 12%|█▏        | 4/33 [00:00<00:05,  4.86it/s]\u001b[A"
     ]
    },
    {
     "name": "stdout",
     "output_type": "stream",
     "text": [
      "Kompas.com - 28/12/2017, 14:43 WIB\n",
      "2017\n",
      "Kompas.com - 24/10/2014, 09:35 WIB\n",
      "2014\n"
     ]
    },
    {
     "name": "stderr",
     "output_type": "stream",
     "text": [
      "\n",
      " 15%|█▌        | 5/33 [00:01<00:08,  3.48it/s]\u001b[A\n",
      " 18%|█▊        | 6/33 [00:01<00:06,  3.86it/s]\u001b[A"
     ]
    },
    {
     "name": "stdout",
     "output_type": "stream",
     "text": [
      "Kompas.com - 28/12/2015, 16:30 WIB\n",
      "2015\n",
      "Kompas.com - 20/08/2018, 12:42 WIB\n",
      "2018\n"
     ]
    },
    {
     "name": "stderr",
     "output_type": "stream",
     "text": [
      "\n",
      " 21%|██        | 7/33 [00:01<00:05,  4.36it/s]\u001b[A\n",
      " 24%|██▍       | 8/33 [00:01<00:05,  4.80it/s]\u001b[A"
     ]
    },
    {
     "name": "stdout",
     "output_type": "stream",
     "text": [
      "Kompas.com - 12/08/2014, 09:28 WIB\n",
      "2014\n",
      "Kompas.com - 10/01/2017, 20:30 WIB\n",
      "2017\n"
     ]
    },
    {
     "name": "stderr",
     "output_type": "stream",
     "text": [
      "\n",
      " 27%|██▋       | 9/33 [00:01<00:04,  5.19it/s]\u001b[A\n",
      " 30%|███       | 10/33 [00:02<00:03,  5.83it/s]\u001b[A"
     ]
    },
    {
     "name": "stdout",
     "output_type": "stream",
     "text": [
      "Kompas.com - 10/01/2017, 20:30 WIB\n",
      "2017\n",
      "Kamis, 7 June 2018 | 17:38 WIB\n",
      "2018\n"
     ]
    },
    {
     "name": "stderr",
     "output_type": "stream",
     "text": [
      "\n",
      " 33%|███▎      | 11/33 [00:02<00:03,  6.31it/s]\u001b[A\n",
      " 36%|███▋      | 12/33 [00:02<00:03,  6.27it/s]\u001b[A"
     ]
    },
    {
     "name": "stdout",
     "output_type": "stream",
     "text": [
      "Selasa, 3 July 2018 | 13:42 WIB\n",
      "2018\n",
      "Kompas.com - 14/10/2014, 09:36 WIB\n",
      "2014\n"
     ]
    },
    {
     "name": "stderr",
     "output_type": "stream",
     "text": [
      "\n",
      " 39%|███▉      | 13/33 [00:02<00:03,  5.86it/s]\u001b[A\n",
      " 42%|████▏     | 14/33 [00:02<00:03,  5.94it/s]\u001b[A"
     ]
    },
    {
     "name": "stdout",
     "output_type": "stream",
     "text": [
      "Kompas.com - 05/05/2014, 09:31 WIB\n",
      "2014\n",
      "Kompas.com - 03/06/2014, 09:25 WIB\n",
      "2014\n"
     ]
    },
    {
     "name": "stderr",
     "output_type": "stream",
     "text": [
      "\n",
      " 45%|████▌     | 15/33 [00:02<00:02,  6.04it/s]\u001b[A\n",
      " 48%|████▊     | 16/33 [00:03<00:02,  6.53it/s]\u001b[A"
     ]
    },
    {
     "name": "stdout",
     "output_type": "stream",
     "text": [
      "Kompas.com - 30/06/2014, 09:34 WIB\n",
      "2014\n",
      "Jumat, 23 October 2015 | 11:52 WIB\n",
      "2015\n"
     ]
    },
    {
     "name": "stderr",
     "output_type": "stream",
     "text": [
      "\n",
      " 52%|█████▏    | 17/33 [00:03<00:02,  6.39it/s]\u001b[A"
     ]
    },
    {
     "name": "stdout",
     "output_type": "stream",
     "text": [
      "Kompas.com - 22/08/2014, 16:26 WIB\n",
      "2014\n"
     ]
    },
    {
     "name": "stderr",
     "output_type": "stream",
     "text": [
      "\n",
      " 55%|█████▍    | 18/33 [00:03<00:02,  5.57it/s]\u001b[A\n",
      " 58%|█████▊    | 19/33 [00:03<00:02,  5.79it/s]\u001b[A"
     ]
    },
    {
     "name": "stdout",
     "output_type": "stream",
     "text": [
      "Kompas.com - 20/11/2014, 09:35 WIB\n",
      "2014\n",
      "Kompas.com - 19/12/2013, 09:32 WIB\n",
      "2013\n"
     ]
    },
    {
     "name": "stderr",
     "output_type": "stream",
     "text": [
      "\n",
      " 61%|██████    | 20/33 [00:03<00:02,  5.92it/s]\u001b[A"
     ]
    },
    {
     "name": "stdout",
     "output_type": "stream",
     "text": [
      "Kompas.com - 12/12/2013, 12:22 WIB\n",
      "2013\n"
     ]
    },
    {
     "name": "stderr",
     "output_type": "stream",
     "text": [
      "\n",
      " 64%|██████▎   | 21/33 [00:03<00:02,  5.52it/s]\u001b[A\n",
      " 67%|██████▋   | 22/33 [00:04<00:01,  5.72it/s]\u001b[A"
     ]
    },
    {
     "name": "stdout",
     "output_type": "stream",
     "text": [
      "Kompas.com - 15/07/2014, 09:18 WIB\n",
      "2014\n",
      "Kompas.com - 19/11/2014, 09:32 WIB\n",
      "2014\n"
     ]
    },
    {
     "name": "stderr",
     "output_type": "stream",
     "text": [
      "\n",
      " 70%|██████▉   | 23/33 [00:04<00:01,  5.83it/s]\u001b[A\n",
      " 73%|███████▎  | 24/33 [00:04<00:01,  5.94it/s]\u001b[A"
     ]
    },
    {
     "name": "stdout",
     "output_type": "stream",
     "text": [
      "Kompas.com - 18/11/2014, 16:18 WIB\n",
      "2014\n",
      "Kompas.com - 05/12/2014, 17:00 WIB\n",
      "2014\n"
     ]
    },
    {
     "name": "stderr",
     "output_type": "stream",
     "text": [
      "\n",
      " 76%|███████▌  | 25/33 [00:04<00:01,  5.96it/s]\u001b[A\n",
      " 79%|███████▉  | 26/33 [00:04<00:01,  5.95it/s]\u001b[A"
     ]
    },
    {
     "name": "stdout",
     "output_type": "stream",
     "text": [
      "Kompas.com - 09/11/2009, 20:03 WIB\n",
      "2009\n",
      "Kompas.com - 25/07/2019, 15:20 WIB\n",
      "2019\n"
     ]
    },
    {
     "name": "stderr",
     "output_type": "stream",
     "text": [
      "\n",
      " 82%|████████▏ | 27/33 [00:04<00:01,  5.97it/s]\u001b[A\n",
      " 85%|████████▍ | 28/33 [00:05<00:00,  6.02it/s]\u001b[A"
     ]
    },
    {
     "name": "stdout",
     "output_type": "stream",
     "text": [
      "Kompas.com - 19/06/2014, 16:22 WIB\n",
      "2014\n",
      "Kompas.com - 22/06/2017, 07:30 WIB\n",
      "2017\n"
     ]
    },
    {
     "name": "stderr",
     "output_type": "stream",
     "text": [
      "\n",
      " 88%|████████▊ | 29/33 [00:05<00:00,  6.09it/s]\u001b[A"
     ]
    },
    {
     "name": "stdout",
     "output_type": "stream",
     "text": [
      "Kompas.com - 09/02/2018, 21:18 WIB\n",
      "2018\n"
     ]
    },
    {
     "name": "stderr",
     "output_type": "stream",
     "text": [
      "\n",
      " 91%|█████████ | 30/33 [00:05<00:00,  3.91it/s]\u001b[A"
     ]
    },
    {
     "name": "stdout",
     "output_type": "stream",
     "text": [
      "Kompas.com - 22/05/2017, 16:19 WIB\n",
      "2017\n"
     ]
    },
    {
     "name": "stderr",
     "output_type": "stream",
     "text": [
      "\n",
      " 94%|█████████▍| 31/33 [00:05<00:00,  4.04it/s]\u001b[A\n",
      " 97%|█████████▋| 32/33 [00:06<00:00,  4.44it/s]\u001b[A"
     ]
    },
    {
     "name": "stdout",
     "output_type": "stream",
     "text": [
      "Kompas.com - 03/07/2018, 13:42 WIB\n",
      "2018\n",
      "Kompas.com - 24/03/2019, 15:20 WIB\n",
      "2019\n"
     ]
    },
    {
     "name": "stderr",
     "output_type": "stream",
     "text": [
      "\n",
      "100%|██████████| 33/33 [00:06<00:00,  4.85it/s]\u001b[A"
     ]
    },
    {
     "name": "stdout",
     "output_type": "stream",
     "text": [
      "Kompas.com - 23/10/2015, 11:52 WIB\n",
      "2015\n",
      "Last Index -1\n",
      "\n",
      "Dinda Audriene Muthmainah,  CNN Indonesia | Senin, 09/10/2017 09:55 WIB\n",
      "                \n",
      "2017\n",
      "Scrolling down\n",
      "Looking for element.\n",
      "Element found. Waiting to be clickable.\n",
      "Clickalbe checking failed. Something went wrong.\n",
      " Message: element click intercepted: Element <a href=\"https://www.cnnindonesia.com/search/?query=sawit sumbermas sarana&amp;kanal=&amp;date=Semua Tgl\" class=\"loading btn gtm_button_indeks\" d:query=\"sawit sumbermas sarana\" d:mode=\"click\" d:max=\"1000\">...</a> is not clickable at point (384, 507). Other element would receive the click: <div class=\"container clearfix\">...</div>\n",
      "  (Session info: chrome=76.0.3809.100)\n",
      "\n",
      "\n",
      "Clicking failed. Repeating process. Currently attempt 1\n",
      "Looking for element.\n",
      "Element found. Waiting to be clickable.\n",
      "\n",
      "Immanuel Giras Pasopati,  CNN Indonesia | Jumat, 16/10/2015 17:43 WIB\n",
      "                \n",
      "2015\n"
     ]
    },
    {
     "name": "stderr",
     "output_type": "stream",
     "text": [
      "\n",
      "  0%|          | 0/35 [00:00<?, ?it/s]\u001b[A"
     ]
    },
    {
     "name": "stdout",
     "output_type": "stream",
     "text": [
      "\n",
      "                     CNN Indonesia | Senin, 19/08/2019 01:04 WIB\n",
      "                \n"
     ]
    },
    {
     "name": "stderr",
     "output_type": "stream",
     "text": [
      "\n",
      "  6%|▌         | 2/35 [00:00<00:06,  4.95it/s]\u001b[A\n",
      " 11%|█▏        | 4/35 [00:00<00:05,  5.94it/s]\u001b[A"
     ]
    },
    {
     "name": "stdout",
     "output_type": "stream",
     "text": [
      "\n",
      "                     CNN Indonesia | Senin, 19/08/2019 00:02 WIB\n",
      "                \n",
      "\n",
      "                     CNN Indonesia | Minggu, 18/08/2019 23:35 WIB\n",
      "                \n",
      "\n",
      "                     CNN Indonesia | Minggu, 18/08/2019 23:55 WIB\n",
      "                \n"
     ]
    },
    {
     "name": "stderr",
     "output_type": "stream",
     "text": [
      "\n",
      " 14%|█▍        | 5/35 [00:00<00:05,  5.97it/s]\u001b[A"
     ]
    },
    {
     "name": "stdout",
     "output_type": "stream",
     "text": [
      "\n",
      "Associated Press,  CNN Indonesia | Minggu, 18/08/2019 20:59 WIB\n",
      "                \n",
      "\n",
      "                     CNN Indonesia | Minggu, 18/08/2019 17:02 WIB\n",
      "                \n"
     ]
    },
    {
     "name": "stderr",
     "output_type": "stream",
     "text": [
      "\n",
      " 20%|██        | 7/35 [00:01<00:04,  5.79it/s]\u001b[A\n",
      " 26%|██▌       | 9/35 [00:01<00:03,  6.76it/s]\u001b[A"
     ]
    },
    {
     "name": "stdout",
     "output_type": "stream",
     "text": [
      "\n",
      "                     CNN Indonesia | Minggu, 18/08/2019 11:35 WIB\n",
      "                \n",
      "\n",
      "                     CNN Indonesia | Minggu, 18/08/2019 11:07 WIB\n",
      "                \n",
      "\n",
      "                     CNN Indonesia | Minggu, 18/08/2019 10:35 WIB\n",
      "                \n"
     ]
    },
    {
     "name": "stderr",
     "output_type": "stream",
     "text": [
      "\n",
      " 29%|██▊       | 10/35 [00:01<00:03,  7.40it/s]\u001b[A"
     ]
    },
    {
     "name": "stdout",
     "output_type": "stream",
     "text": [
      "\n",
      "                     CNN Indonesia | Senin, 19/08/2019 00:25 WIB\n",
      "                \n",
      "\n",
      "                     CNN Indonesia | Minggu, 18/08/2019 23:19 WIB\n",
      "                \n"
     ]
    },
    {
     "name": "stderr",
     "output_type": "stream",
     "text": [
      "\n",
      " 34%|███▍      | 12/35 [00:01<00:03,  6.50it/s]\u001b[A\n",
      " 40%|████      | 14/35 [00:01<00:02,  7.58it/s]\u001b[A"
     ]
    },
    {
     "name": "stdout",
     "output_type": "stream",
     "text": [
      "\n",
      "                     CNN Indonesia | Minggu, 18/08/2019 22:40 WIB\n",
      "                \n",
      "\n",
      "                     CNN Indonesia | Minggu, 18/08/2019 23:23 WIB\n",
      "                \n",
      "\n",
      "                     CNN Indonesia | Minggu, 18/08/2019 22:05 WIB\n",
      "                \n"
     ]
    },
    {
     "name": "stderr",
     "output_type": "stream",
     "text": [
      "\n",
      " 46%|████▌     | 16/35 [00:02<00:02,  8.44it/s]\u001b[A"
     ]
    },
    {
     "name": "stdout",
     "output_type": "stream",
     "text": [
      "\n",
      "AFPTV,  CNN Indonesia | Minggu, 18/08/2019 19:46 WIB\n",
      "                \n",
      "\n",
      "                     CNN Indonesia | Minggu, 18/08/2019 23:01 WIB\n",
      "                \n",
      "\n",
      "                     CNN Indonesia | Minggu, 18/08/2019 22:52 WIB\n",
      "                \n"
     ]
    },
    {
     "name": "stderr",
     "output_type": "stream",
     "text": [
      "\n",
      " 51%|█████▏    | 18/35 [00:02<00:02,  7.04it/s]\u001b[A\n",
      " 57%|█████▋    | 20/35 [00:02<00:01,  7.96it/s]\u001b[A"
     ]
    },
    {
     "name": "stdout",
     "output_type": "stream",
     "text": [
      "\n",
      "                     CNN Indonesia | Minggu, 18/08/2019 20:52 WIB\n",
      "                \n",
      "\n",
      "                     CNN Indonesia | Minggu, 18/08/2019 21:39 WIB\n",
      "                \n",
      "https://www.cnnindonesia.com/gaya-hidup/20190817115221-525-422215/infashion-kekal\n",
      "'NoneType' object has no attribute 'text'\n",
      "\n"
     ]
    },
    {
     "name": "stderr",
     "output_type": "stream",
     "text": [
      "\n",
      " 60%|██████    | 21/35 [00:02<00:01,  8.38it/s]\u001b[A"
     ]
    },
    {
     "name": "stdout",
     "output_type": "stream",
     "text": [
      "\n",
      "ANTARA FOTO,  CNN Indonesia | Minggu, 18/08/2019 20:41 WIB\n",
      "                \n"
     ]
    },
    {
     "name": "stderr",
     "output_type": "stream",
     "text": [
      "\n",
      " 63%|██████▎   | 22/35 [00:03<00:03,  4.10it/s]\u001b[A"
     ]
    },
    {
     "name": "stdout",
     "output_type": "stream",
     "text": [
      "\n",
      "                     CNN Indonesia | Selasa, 13/08/2019 06:57 WIB\n",
      "                \n"
     ]
    },
    {
     "name": "stderr",
     "output_type": "stream",
     "text": [
      "\n",
      " 66%|██████▌   | 23/35 [00:03<00:03,  3.25it/s]\u001b[A"
     ]
    },
    {
     "name": "stdout",
     "output_type": "stream",
     "text": [
      "\n",
      "                     CNN Indonesia | Senin, 04/02/2019 11:51 WIB\n",
      "                \n"
     ]
    },
    {
     "name": "stderr",
     "output_type": "stream",
     "text": [
      "\n",
      " 69%|██████▊   | 24/35 [00:04<00:04,  2.23it/s]\u001b[A"
     ]
    },
    {
     "name": "stdout",
     "output_type": "stream",
     "text": [
      "\n",
      "                     CNN Indonesia | Rabu, 30/01/2019 13:47 WIB\n",
      "                \n"
     ]
    },
    {
     "name": "stderr",
     "output_type": "stream",
     "text": [
      "\n",
      " 71%|███████▏  | 25/35 [00:05<00:04,  2.26it/s]\u001b[A"
     ]
    },
    {
     "name": "stdout",
     "output_type": "stream",
     "text": [
      "\n",
      "                     CNN Indonesia | Kamis, 13/12/2018 17:09 WIB\n",
      "                \n"
     ]
    },
    {
     "name": "stderr",
     "output_type": "stream",
     "text": [
      "\n",
      " 74%|███████▍  | 26/35 [00:05<00:04,  1.88it/s]\u001b[A"
     ]
    },
    {
     "name": "stdout",
     "output_type": "stream",
     "text": [
      "\n",
      "Tim,  CNN Indonesia | Jumat, 05/10/2018 10:30 WIB\n",
      "                \n"
     ]
    },
    {
     "name": "stderr",
     "output_type": "stream",
     "text": [
      "\n",
      " 77%|███████▋  | 27/35 [00:06<00:04,  1.97it/s]\u001b[A"
     ]
    },
    {
     "name": "stdout",
     "output_type": "stream",
     "text": [
      "\n",
      "Dinda Audriene Muthmainah,  CNN Indonesia | Selasa, 24/10/2017 08:07 WIB\n",
      "                \n",
      "\n",
      "Dinda Audriene Muthmainah,  CNN Indonesia | Senin, 09/10/2017 09:55 WIB\n",
      "                \n"
     ]
    },
    {
     "name": "stderr",
     "output_type": "stream",
     "text": [
      "\n",
      " 83%|████████▎ | 29/35 [00:06<00:02,  2.29it/s]\u001b[A"
     ]
    },
    {
     "name": "stdout",
     "output_type": "stream",
     "text": [
      "\n",
      "Dinda Audriene,  CNN Indonesia | Senin, 12/06/2017 11:33 WIB\n",
      "                \n"
     ]
    },
    {
     "name": "stderr",
     "output_type": "stream",
     "text": [
      "\n",
      " 86%|████████▌ | 30/35 [00:07<00:02,  1.89it/s]\u001b[A"
     ]
    },
    {
     "name": "stdout",
     "output_type": "stream",
     "text": [
      "\n",
      "Augstiyanti,  CNN Indonesia | Jumat, 02/06/2017 10:27 WIB\n",
      "                \n"
     ]
    },
    {
     "name": "stderr",
     "output_type": "stream",
     "text": [
      "\n",
      " 89%|████████▊ | 31/35 [00:08<00:02,  1.71it/s]\u001b[A"
     ]
    },
    {
     "name": "stdout",
     "output_type": "stream",
     "text": [
      "\n",
      "​Elisa Valenta Sari,  CNN Indonesia | Minggu, 15/01/2017 17:03 WIB\n",
      "                \n"
     ]
    },
    {
     "name": "stderr",
     "output_type": "stream",
     "text": [
      "\n",
      " 91%|█████████▏| 32/35 [00:09<00:02,  1.38it/s]\u001b[A"
     ]
    },
    {
     "name": "stdout",
     "output_type": "stream",
     "text": [
      "\n",
      "Safyra Primadhyta,  CNN Indonesia | Rabu, 17/02/2016 19:07 WIB\n",
      "                \n"
     ]
    },
    {
     "name": "stderr",
     "output_type": "stream",
     "text": [
      "\n",
      " 94%|█████████▍| 33/35 [00:09<00:01,  1.55it/s]\u001b[A"
     ]
    },
    {
     "name": "stdout",
     "output_type": "stream",
     "text": [
      "\n",
      "Giras Pasopati,  CNN Indonesia | Senin, 25/01/2016 17:30 WIB\n",
      "                \n"
     ]
    },
    {
     "name": "stderr",
     "output_type": "stream",
     "text": [
      "\n",
      " 97%|█████████▋| 34/35 [00:10<00:00,  1.47it/s]\u001b[A\n",
      "100%|██████████| 35/35 [00:10<00:00,  3.31it/s]\u001b[A\n",
      "  0%|          | 0/34 [00:00<?, ?it/s]\u001b[A"
     ]
    },
    {
     "name": "stdout",
     "output_type": "stream",
     "text": [
      "\n",
      "Antara & Augst Supriadi,  CNN Indonesia | Selasa, 10/11/2015 17:45 WIB\n",
      "                \n",
      "\n",
      "Immanuel Giras Pasopati,  CNN Indonesia | Jumat, 16/10/2015 17:43 WIB\n",
      "                \n"
     ]
    },
    {
     "name": "stderr",
     "output_type": "stream",
     "text": [
      "\n",
      "  3%|▎         | 1/34 [00:00<00:06,  5.49it/s]\u001b[A\n",
      "  9%|▉         | 3/34 [00:00<00:04,  6.45it/s]\u001b[A"
     ]
    },
    {
     "name": "stdout",
     "output_type": "stream",
     "text": [
      "\n",
      "                     CNN Indonesia | Senin, 19/08/2019 01:04 WIB\n",
      "                \n",
      "2019\n",
      "\n",
      "                     CNN Indonesia | Senin, 19/08/2019 00:02 WIB\n",
      "                \n",
      "2019\n",
      "\n",
      "                     CNN Indonesia | Minggu, 18/08/2019 23:35 WIB\n",
      "                \n",
      "2019\n"
     ]
    },
    {
     "name": "stderr",
     "output_type": "stream",
     "text": [
      "\n",
      " 12%|█▏        | 4/34 [00:00<00:05,  5.92it/s]\u001b[A"
     ]
    },
    {
     "name": "stdout",
     "output_type": "stream",
     "text": [
      "\n",
      "                     CNN Indonesia | Minggu, 18/08/2019 23:55 WIB\n",
      "                \n",
      "2019\n"
     ]
    },
    {
     "name": "stderr",
     "output_type": "stream",
     "text": [
      "\n",
      " 15%|█▍        | 5/34 [00:00<00:05,  5.51it/s]\u001b[A\n",
      " 18%|█▊        | 6/34 [00:00<00:05,  5.37it/s]\u001b[A"
     ]
    },
    {
     "name": "stdout",
     "output_type": "stream",
     "text": [
      "\n",
      "Associated Press,  CNN Indonesia | Minggu, 18/08/2019 20:59 WIB\n",
      "                \n",
      "2019\n",
      "\n",
      "                     CNN Indonesia | Minggu, 18/08/2019 17:02 WIB\n",
      "                \n",
      "2019\n",
      "\n",
      "                     CNN Indonesia | Minggu, 18/08/2019 11:35 WIB\n",
      "                \n",
      "2019\n"
     ]
    },
    {
     "name": "stderr",
     "output_type": "stream",
     "text": [
      "\n",
      " 24%|██▎       | 8/34 [00:01<00:04,  5.67it/s]\u001b[A\n",
      " 29%|██▉       | 10/34 [00:01<00:03,  6.65it/s]\u001b[A"
     ]
    },
    {
     "name": "stdout",
     "output_type": "stream",
     "text": [
      "\n",
      "                     CNN Indonesia | Minggu, 18/08/2019 11:07 WIB\n",
      "                \n",
      "2019\n",
      "\n",
      "                     CNN Indonesia | Minggu, 18/08/2019 10:35 WIB\n",
      "                \n",
      "2019\n",
      "\n",
      "                     CNN Indonesia | Senin, 19/08/2019 00:25 WIB\n",
      "                \n",
      "2019\n"
     ]
    },
    {
     "name": "stderr",
     "output_type": "stream",
     "text": [
      "\n",
      " 32%|███▏      | 11/34 [00:01<00:03,  7.38it/s]\u001b[A\n",
      " 35%|███▌      | 12/34 [00:01<00:03,  6.66it/s]\u001b[A"
     ]
    },
    {
     "name": "stdout",
     "output_type": "stream",
     "text": [
      "\n",
      "                     CNN Indonesia | Minggu, 18/08/2019 23:19 WIB\n",
      "                \n",
      "2019\n",
      "\n",
      "                     CNN Indonesia | Minggu, 18/08/2019 22:40 WIB\n",
      "                \n",
      "2019\n"
     ]
    },
    {
     "name": "stderr",
     "output_type": "stream",
     "text": [
      "\n",
      " 38%|███▊      | 13/34 [00:01<00:03,  5.96it/s]\u001b[A\n",
      " 44%|████▍     | 15/34 [00:02<00:02,  6.97it/s]\u001b[A"
     ]
    },
    {
     "name": "stdout",
     "output_type": "stream",
     "text": [
      "\n",
      "                     CNN Indonesia | Minggu, 18/08/2019 23:23 WIB\n",
      "                \n",
      "2019\n",
      "\n",
      "                     CNN Indonesia | Minggu, 18/08/2019 22:05 WIB\n",
      "                \n",
      "2019\n",
      "\n",
      "AFPTV,  CNN Indonesia | Minggu, 18/08/2019 19:46 WIB\n",
      "                \n",
      "2019\n"
     ]
    },
    {
     "name": "stderr",
     "output_type": "stream",
     "text": [
      "\n",
      " 50%|█████     | 17/34 [00:02<00:02,  7.87it/s]\u001b[A"
     ]
    },
    {
     "name": "stdout",
     "output_type": "stream",
     "text": [
      "\n",
      "                     CNN Indonesia | Minggu, 18/08/2019 23:01 WIB\n",
      "                \n",
      "2019\n",
      "\n",
      "                     CNN Indonesia | Minggu, 18/08/2019 22:52 WIB\n",
      "                \n",
      "2019\n",
      "\n",
      "                     CNN Indonesia | Minggu, 18/08/2019 20:52 WIB\n",
      "                \n",
      "2019\n"
     ]
    },
    {
     "name": "stderr",
     "output_type": "stream",
     "text": [
      "\n",
      " 56%|█████▌    | 19/34 [00:02<00:01,  8.66it/s]\u001b[A\n",
      " 62%|██████▏   | 21/34 [00:02<00:01,  9.36it/s]\u001b[A"
     ]
    },
    {
     "name": "stdout",
     "output_type": "stream",
     "text": [
      "\n",
      "                     CNN Indonesia | Minggu, 18/08/2019 21:39 WIB\n",
      "                \n",
      "2019\n",
      "\n",
      "ANTARA FOTO,  CNN Indonesia | Minggu, 18/08/2019 20:41 WIB\n",
      "                \n",
      "2019\n",
      "\n",
      "                     CNN Indonesia | Selasa, 13/08/2019 06:57 WIB\n",
      "                \n",
      "2019\n"
     ]
    },
    {
     "name": "stderr",
     "output_type": "stream",
     "text": [
      "\n",
      " 68%|██████▊   | 23/34 [00:02<00:01,  9.91it/s]\u001b[A"
     ]
    },
    {
     "name": "stdout",
     "output_type": "stream",
     "text": [
      "\n",
      "                     CNN Indonesia | Senin, 04/02/2019 11:51 WIB\n",
      "                \n",
      "2019\n",
      "\n",
      "                     CNN Indonesia | Rabu, 30/01/2019 13:47 WIB\n",
      "                \n",
      "2019\n",
      "\n",
      "                     CNN Indonesia | Kamis, 13/12/2018 17:09 WIB\n",
      "                \n",
      "2018\n"
     ]
    },
    {
     "name": "stderr",
     "output_type": "stream",
     "text": [
      "\n",
      " 74%|███████▎  | 25/34 [00:03<00:00, 10.19it/s]\u001b[A\n",
      " 79%|███████▉  | 27/34 [00:03<00:00, 10.48it/s]\u001b[A"
     ]
    },
    {
     "name": "stdout",
     "output_type": "stream",
     "text": [
      "\n",
      "Tim,  CNN Indonesia | Jumat, 05/10/2018 10:30 WIB\n",
      "                \n",
      "2018\n",
      "\n",
      "Dinda Audriene Muthmainah,  CNN Indonesia | Selasa, 24/10/2017 08:07 WIB\n",
      "                \n",
      "2017\n",
      "\n",
      "Dinda Audriene Muthmainah,  CNN Indonesia | Senin, 09/10/2017 09:55 WIB\n",
      "                \n",
      "2017\n"
     ]
    },
    {
     "name": "stderr",
     "output_type": "stream",
     "text": [
      "\n",
      " 85%|████████▌ | 29/34 [00:03<00:00, 10.75it/s]\u001b[A"
     ]
    },
    {
     "name": "stdout",
     "output_type": "stream",
     "text": [
      "\n",
      "Dinda Audriene,  CNN Indonesia | Senin, 12/06/2017 11:33 WIB\n",
      "                \n",
      "2017\n",
      "\n",
      "Augstiyanti,  CNN Indonesia | Jumat, 02/06/2017 10:27 WIB\n",
      "                \n",
      "2017\n",
      "\n",
      "​Elisa Valenta Sari,  CNN Indonesia | Minggu, 15/01/2017 17:03 WIB\n",
      "                \n",
      "2017\n"
     ]
    },
    {
     "name": "stderr",
     "output_type": "stream",
     "text": [
      "\n",
      " 91%|█████████ | 31/34 [00:03<00:00, 10.93it/s]\u001b[A\n",
      " 97%|█████████▋| 33/34 [00:03<00:00, 11.22it/s]\u001b[A"
     ]
    },
    {
     "name": "stdout",
     "output_type": "stream",
     "text": [
      "\n",
      "Safyra Primadhyta,  CNN Indonesia | Rabu, 17/02/2016 19:07 WIB\n",
      "                \n",
      "2016\n",
      "\n",
      "Giras Pasopati,  CNN Indonesia | Senin, 25/01/2016 17:30 WIB\n",
      "                \n",
      "2016\n",
      "\n",
      "Antara & Augst Supriadi,  CNN Indonesia | Selasa, 10/11/2015 17:45 WIB\n",
      "                \n",
      "2015\n"
     ]
    },
    {
     "name": "stderr",
     "output_type": "stream",
     "text": [
      "\n",
      "100%|██████████| 34/34 [00:03<00:00,  8.93it/s]\u001b[A"
     ]
    },
    {
     "name": "stdout",
     "output_type": "stream",
     "text": [
      "\n",
      "Immanuel Giras Pasopati,  CNN Indonesia | Jumat, 16/10/2015 17:43 WIB\n",
      "                \n",
      "2015\n"
     ]
    },
    {
     "name": "stderr",
     "output_type": "stream",
     "text": [
      "\n",
      "  0%|          | 0/10 [00:00<?, ?it/s]\u001b[A\n",
      " 10%|█         | 1/10 [00:10<01:32, 10.24s/it]\u001b[A"
     ]
    },
    {
     "name": "stdout",
     "output_type": "stream",
     "text": [
      "Looking for element.\n",
      "Element found. Waiting to be clickable.\n",
      "Clickalbe checking failed. Something went wrong.\n",
      " Message: element click intercepted: Element <div class=\"gsc-cursor-page\" aria-label=\"Halaman ...\" role=\"link\" tabindex=\"0\">2</div> is not clickable at point (109, 501). Other element would receive the click: <div class=\"gsc-control-cse gsc-control-cse-in\">...</div>\n",
      "  (Session info: chrome=76.0.3809.100)\n",
      "\n",
      "\n",
      "Clicking failed. Repeating process. Currently attempt 1\n",
      "Looking for element.\n",
      "Element found. Waiting to be clickable.\n"
     ]
    },
    {
     "name": "stderr",
     "output_type": "stream",
     "text": [
      "\n",
      " 20%|██        | 2/10 [00:20<01:22, 10.36s/it]\u001b[A"
     ]
    },
    {
     "name": "stdout",
     "output_type": "stream",
     "text": [
      "Looking for element.\n",
      "Element found. Waiting to be clickable.\n"
     ]
    },
    {
     "name": "stderr",
     "output_type": "stream",
     "text": [
      "\n",
      " 30%|███       | 3/10 [00:31<01:12, 10.41s/it]\u001b[A"
     ]
    },
    {
     "name": "stdout",
     "output_type": "stream",
     "text": [
      "Looking for element.\n",
      "Element found. Waiting to be clickable.\n"
     ]
    },
    {
     "name": "stderr",
     "output_type": "stream",
     "text": [
      "\n",
      "\n",
      "  0%|          | 0/39 [00:00<?, ?it/s]\u001b[A\u001b[A\n",
      "\n",
      "  3%|▎         | 1/39 [00:00<00:18,  2.07it/s]\u001b[A\u001b[A"
     ]
    },
    {
     "name": "stdout",
     "output_type": "stream",
     "text": [
      "Kamis, 12 December 2013 10:02 WIB\n"
     ]
    },
    {
     "name": "stderr",
     "output_type": "stream",
     "text": [
      "\n",
      "\n",
      "  5%|▌         | 2/39 [00:00<00:15,  2.42it/s]\u001b[A\u001b[A"
     ]
    },
    {
     "name": "stdout",
     "output_type": "stream",
     "text": [
      "Kamis, 12 December 2013 \n"
     ]
    },
    {
     "name": "stderr",
     "output_type": "stream",
     "text": [
      "\n",
      "\n",
      "  8%|▊         | 3/39 [00:01<00:20,  1.79it/s]\u001b[A\u001b[A"
     ]
    },
    {
     "name": "stdout",
     "output_type": "stream",
     "text": [
      "Minggu, 10 January 2016 20:20 WIB\n"
     ]
    },
    {
     "name": "stderr",
     "output_type": "stream",
     "text": [
      "\n",
      "\n",
      " 10%|█         | 4/39 [00:02<00:18,  1.85it/s]\u001b[A\u001b[A"
     ]
    },
    {
     "name": "stdout",
     "output_type": "stream",
     "text": [
      "Senin, 16 January 2017 08:33 WIB\n"
     ]
    },
    {
     "name": "stderr",
     "output_type": "stream",
     "text": [
      "\n",
      "\n",
      " 13%|█▎        | 5/39 [00:02<00:15,  2.26it/s]\u001b[A\u001b[A"
     ]
    },
    {
     "name": "stdout",
     "output_type": "stream",
     "text": [
      "Selasa, 1 September 2015 \n"
     ]
    },
    {
     "name": "stderr",
     "output_type": "stream",
     "text": [
      "\n",
      "\n",
      " 15%|█▌        | 6/39 [00:02<00:15,  2.15it/s]\u001b[A\u001b[A"
     ]
    },
    {
     "name": "stdout",
     "output_type": "stream",
     "text": [
      "Rabu, 25 May 2016 16:30 WIB\n"
     ]
    },
    {
     "name": "stderr",
     "output_type": "stream",
     "text": [
      "\n",
      "\n",
      " 18%|█▊        | 7/39 [00:03<00:14,  2.21it/s]\u001b[A\u001b[A"
     ]
    },
    {
     "name": "stdout",
     "output_type": "stream",
     "text": [
      "Kamis, 7 November 2013 14:59 WIB\n"
     ]
    },
    {
     "name": "stderr",
     "output_type": "stream",
     "text": [
      "\n",
      "\n",
      " 21%|██        | 8/39 [00:03<00:14,  2.14it/s]\u001b[A\u001b[A"
     ]
    },
    {
     "name": "stdout",
     "output_type": "stream",
     "text": [
      "Kamis, 4 August 2016 15:49 WIB\n"
     ]
    },
    {
     "name": "stderr",
     "output_type": "stream",
     "text": [
      "\n",
      "\n",
      " 23%|██▎       | 9/39 [00:04<00:13,  2.16it/s]\u001b[A\u001b[A"
     ]
    },
    {
     "name": "stdout",
     "output_type": "stream",
     "text": [
      "Sabtu, 5 March 2016 16:00 WIB\n"
     ]
    },
    {
     "name": "stderr",
     "output_type": "stream",
     "text": [
      "\n",
      "\n",
      " 26%|██▌       | 10/39 [00:04<00:14,  2.06it/s]\u001b[A\u001b[A"
     ]
    },
    {
     "name": "stdout",
     "output_type": "stream",
     "text": [
      "Kamis, 12 December 2013 11:36 WIB\n"
     ]
    },
    {
     "name": "stderr",
     "output_type": "stream",
     "text": [
      "\n",
      "\n",
      " 28%|██▊       | 11/39 [00:05<00:11,  2.38it/s]\u001b[A\u001b[A"
     ]
    },
    {
     "name": "stdout",
     "output_type": "stream",
     "text": [
      "Jumat, 17 May 2019 09:43 WIB\n"
     ]
    },
    {
     "name": "stderr",
     "output_type": "stream",
     "text": [
      "\n",
      "\n",
      " 31%|███       | 12/39 [00:05<00:12,  2.10it/s]\u001b[A\u001b[A"
     ]
    },
    {
     "name": "stdout",
     "output_type": "stream",
     "text": [
      "Rabu, 11 November 2015 08:15 WIB\n"
     ]
    },
    {
     "name": "stderr",
     "output_type": "stream",
     "text": [
      "\n",
      "\n",
      " 33%|███▎      | 13/39 [00:11<00:51,  1.99s/it]\u001b[A\u001b[A"
     ]
    },
    {
     "name": "stdout",
     "output_type": "stream",
     "text": [
      "Selasa, 19 April 2016 07:42 WIB\n"
     ]
    },
    {
     "name": "stderr",
     "output_type": "stream",
     "text": [
      "\n",
      "\n",
      " 36%|███▌      | 14/39 [00:11<00:38,  1.53s/it]\u001b[A\u001b[A"
     ]
    },
    {
     "name": "stdout",
     "output_type": "stream",
     "text": [
      "Senin, 1 September 2014 07:13 WIB\n"
     ]
    },
    {
     "name": "stderr",
     "output_type": "stream",
     "text": [
      "\n",
      "\n",
      " 38%|███▊      | 15/39 [00:12<00:30,  1.26s/it]\u001b[A\u001b[A"
     ]
    },
    {
     "name": "stdout",
     "output_type": "stream",
     "text": [
      "Kamis, 7 November 2013 17:35 WIB\n"
     ]
    },
    {
     "name": "stderr",
     "output_type": "stream",
     "text": [
      "\n",
      "\n",
      " 41%|████      | 16/39 [00:12<00:21,  1.06it/s]\u001b[A\u001b[A"
     ]
    },
    {
     "name": "stdout",
     "output_type": "stream",
     "text": [
      "Minggu, 3 April 2016 \n"
     ]
    },
    {
     "name": "stderr",
     "output_type": "stream",
     "text": [
      "\n",
      "\n",
      " 44%|████▎     | 17/39 [00:13<00:18,  1.22it/s]\u001b[A\u001b[A"
     ]
    },
    {
     "name": "stdout",
     "output_type": "stream",
     "text": [
      "Selasa, 3 July 2018 13:25 WIB\n"
     ]
    },
    {
     "name": "stderr",
     "output_type": "stream",
     "text": [
      "\n",
      "\n",
      " 46%|████▌     | 18/39 [00:13<00:15,  1.35it/s]\u001b[A\u001b[A"
     ]
    },
    {
     "name": "stdout",
     "output_type": "stream",
     "text": [
      "Selasa, 1 September 2015 05:04 WIB\n"
     ]
    },
    {
     "name": "stderr",
     "output_type": "stream",
     "text": [
      "\n",
      "\n",
      " 49%|████▊     | 19/39 [00:15<00:21,  1.10s/it]\u001b[A\u001b[A"
     ]
    },
    {
     "name": "stdout",
     "output_type": "stream",
     "text": [
      "Rabu, 26 August 2015 08:04 WIB\n"
     ]
    },
    {
     "name": "stderr",
     "output_type": "stream",
     "text": [
      "\n",
      "\n",
      " 51%|█████▏    | 20/39 [00:16<00:17,  1.06it/s]\u001b[A\u001b[A"
     ]
    },
    {
     "name": "stdout",
     "output_type": "stream",
     "text": [
      "Senin, 29 October 2018 17:13 WIB\n"
     ]
    },
    {
     "name": "stderr",
     "output_type": "stream",
     "text": [
      "\n",
      "\n",
      " 54%|█████▍    | 21/39 [00:16<00:14,  1.21it/s]\u001b[A\u001b[A"
     ]
    },
    {
     "name": "stdout",
     "output_type": "stream",
     "text": [
      "Rabu, 16 September 2015 08:58 WIB\n"
     ]
    },
    {
     "name": "stderr",
     "output_type": "stream",
     "text": [
      "\n",
      "\n",
      " 56%|█████▋    | 22/39 [00:17<00:12,  1.37it/s]\u001b[A\u001b[A"
     ]
    },
    {
     "name": "stdout",
     "output_type": "stream",
     "text": [
      "Selasa, 16 January 2018 05:56 WIB\n"
     ]
    },
    {
     "name": "stderr",
     "output_type": "stream",
     "text": [
      "\n",
      "\n",
      " 59%|█████▉    | 23/39 [00:17<00:10,  1.54it/s]\u001b[A\u001b[A"
     ]
    },
    {
     "name": "stdout",
     "output_type": "stream",
     "text": [
      "Rabu, 16 May 2018 09:41 WIB\n"
     ]
    },
    {
     "name": "stderr",
     "output_type": "stream",
     "text": [
      "\n",
      "\n",
      " 62%|██████▏   | 24/39 [00:18<00:09,  1.63it/s]\u001b[A\u001b[A"
     ]
    },
    {
     "name": "stdout",
     "output_type": "stream",
     "text": [
      "Kamis, 21 February 2019 23:56 WIB\n"
     ]
    },
    {
     "name": "stderr",
     "output_type": "stream",
     "text": [
      "\n",
      "\n",
      " 64%|██████▍   | 25/39 [00:18<00:08,  1.73it/s]\u001b[A\u001b[A"
     ]
    },
    {
     "name": "stdout",
     "output_type": "stream",
     "text": [
      "Selasa, 18 November 2014 16:27 WIB\n"
     ]
    },
    {
     "name": "stderr",
     "output_type": "stream",
     "text": [
      "\n",
      "\n",
      " 67%|██████▋   | 26/39 [00:19<00:07,  1.76it/s]\u001b[A\u001b[A"
     ]
    },
    {
     "name": "stdout",
     "output_type": "stream",
     "text": [
      "Selasa, 29 September 2015 08:44 WIB\n"
     ]
    },
    {
     "name": "stderr",
     "output_type": "stream",
     "text": [
      "\n",
      "\n",
      " 69%|██████▉   | 27/39 [00:19<00:06,  1.75it/s]\u001b[A\u001b[A"
     ]
    },
    {
     "name": "stdout",
     "output_type": "stream",
     "text": [
      "Rabu, 22 April 2015 11:08 WIB\n"
     ]
    },
    {
     "name": "stderr",
     "output_type": "stream",
     "text": [
      "\n",
      "\n",
      " 72%|███████▏  | 28/39 [00:19<00:05,  2.16it/s]\u001b[A\u001b[A"
     ]
    },
    {
     "name": "stdout",
     "output_type": "stream",
     "text": [
      "Kamis, 12 December 2013 \n"
     ]
    },
    {
     "name": "stderr",
     "output_type": "stream",
     "text": [
      "\n",
      "\n",
      " 74%|███████▍  | 29/39 [00:20<00:04,  2.05it/s]\u001b[A\u001b[A"
     ]
    },
    {
     "name": "stdout",
     "output_type": "stream",
     "text": [
      "Rabu, 28 October 2015 07:21 WIB\n"
     ]
    },
    {
     "name": "stderr",
     "output_type": "stream",
     "text": [
      "\n",
      "\n",
      " 77%|███████▋  | 30/39 [00:21<00:04,  2.02it/s]\u001b[A\u001b[A"
     ]
    },
    {
     "name": "stdout",
     "output_type": "stream",
     "text": [
      "Jumat, 1 April 2016 08:24 WIB\n"
     ]
    },
    {
     "name": "stderr",
     "output_type": "stream",
     "text": [
      "\n",
      "\n",
      " 79%|███████▉  | 31/39 [00:21<00:03,  2.07it/s]\u001b[A\u001b[A"
     ]
    },
    {
     "name": "stdout",
     "output_type": "stream",
     "text": [
      "Jumat, 25 September 2015 08:25 WIB\n"
     ]
    },
    {
     "name": "stderr",
     "output_type": "stream",
     "text": [
      "\n",
      "\n",
      " 82%|████████▏ | 32/39 [00:21<00:03,  2.02it/s]\u001b[A\u001b[A"
     ]
    },
    {
     "name": "stdout",
     "output_type": "stream",
     "text": [
      "Jumat, 10 July 2015 07:37 WIB\n"
     ]
    },
    {
     "name": "stderr",
     "output_type": "stream",
     "text": [
      "\n",
      "\n",
      " 85%|████████▍ | 33/39 [00:22<00:02,  2.06it/s]\u001b[A\u001b[A"
     ]
    },
    {
     "name": "stdout",
     "output_type": "stream",
     "text": [
      "Kamis, 9 June 2016 09:24 WIB\n"
     ]
    },
    {
     "name": "stderr",
     "output_type": "stream",
     "text": [
      "\n",
      "\n",
      " 87%|████████▋ | 34/39 [00:22<00:02,  2.01it/s]\u001b[A\u001b[A"
     ]
    },
    {
     "name": "stdout",
     "output_type": "stream",
     "text": [
      "Senin, 25 January 2016 17:26 WIB\n"
     ]
    },
    {
     "name": "stderr",
     "output_type": "stream",
     "text": [
      "\n",
      "\n",
      " 90%|████████▉ | 35/39 [00:23<00:02,  1.94it/s]\u001b[A\u001b[A"
     ]
    },
    {
     "name": "stdout",
     "output_type": "stream",
     "text": [
      "Jumat, 5 December 2014 11:02 WIB\n"
     ]
    },
    {
     "name": "stderr",
     "output_type": "stream",
     "text": [
      "\n",
      "\n",
      " 92%|█████████▏| 36/39 [00:24<00:01,  1.97it/s]\u001b[A\u001b[A"
     ]
    },
    {
     "name": "stdout",
     "output_type": "stream",
     "text": [
      "Jumat, 15 January 2016 09:19 WIB\n"
     ]
    },
    {
     "name": "stderr",
     "output_type": "stream",
     "text": [
      "\n",
      "\n",
      " 95%|█████████▍| 37/39 [00:24<00:01,  1.98it/s]\u001b[A\u001b[A"
     ]
    },
    {
     "name": "stdout",
     "output_type": "stream",
     "text": [
      "Kamis, 24 March 2016 07:28 WIB\n"
     ]
    },
    {
     "name": "stderr",
     "output_type": "stream",
     "text": [
      "\n",
      "\n",
      " 97%|█████████▋| 38/39 [00:24<00:00,  2.04it/s]\u001b[A\u001b[A"
     ]
    },
    {
     "name": "stdout",
     "output_type": "stream",
     "text": [
      "Selasa, 6 March 2018 13:42 WIB\n"
     ]
    },
    {
     "name": "stderr",
     "output_type": "stream",
     "text": [
      "\n",
      "\n",
      "100%|██████████| 39/39 [00:25<00:00,  2.00it/s]\u001b[A\u001b[A\n",
      "\n",
      "  0%|          | 0/39 [00:00<?, ?it/s]\u001b[A\u001b[A\n",
      "\n",
      "  3%|▎         | 1/39 [00:00<00:05,  6.88it/s]\u001b[A\u001b[A"
     ]
    },
    {
     "name": "stdout",
     "output_type": "stream",
     "text": [
      "Jumat, 21 March 2014 07:57 WIB\n",
      "Kamis, 12 December 2013 10:02 WIB\n",
      "2013\n"
     ]
    },
    {
     "name": "stderr",
     "output_type": "stream",
     "text": [
      "\n",
      "\n",
      "  5%|▌         | 2/39 [00:00<00:05,  7.01it/s]\u001b[A\u001b[A\n",
      "\n",
      "  8%|▊         | 3/39 [00:00<00:05,  6.85it/s]\u001b[A\u001b[A"
     ]
    },
    {
     "name": "stdout",
     "output_type": "stream",
     "text": [
      "Kamis, 12 December 2013 \n",
      "2013\n",
      "Minggu, 10 January 2016 20:20 WIB\n",
      "2016\n"
     ]
    },
    {
     "name": "stderr",
     "output_type": "stream",
     "text": [
      "\n",
      "\n",
      " 10%|█         | 4/39 [00:00<00:05,  6.70it/s]\u001b[A\u001b[A\n",
      "\n",
      " 13%|█▎        | 5/39 [00:00<00:04,  6.81it/s]\u001b[A\u001b[A"
     ]
    },
    {
     "name": "stdout",
     "output_type": "stream",
     "text": [
      "Senin, 16 January 2017 08:33 WIB\n",
      "2017\n",
      "Selasa, 1 September 2015 \n",
      "2015\n"
     ]
    },
    {
     "name": "stderr",
     "output_type": "stream",
     "text": [
      "\n",
      "\n",
      " 15%|█▌        | 6/39 [00:00<00:04,  6.77it/s]\u001b[A\u001b[A"
     ]
    },
    {
     "name": "stdout",
     "output_type": "stream",
     "text": [
      "Rabu, 25 May 2016 16:30 WIB\n",
      "2016\n"
     ]
    },
    {
     "name": "stderr",
     "output_type": "stream",
     "text": [
      "\n",
      "\n",
      " 18%|█▊        | 7/39 [00:01<00:05,  5.97it/s]\u001b[A\u001b[A"
     ]
    },
    {
     "name": "stdout",
     "output_type": "stream",
     "text": [
      "Kamis, 7 November 2013 14:59 WIB\n",
      "2013\n"
     ]
    },
    {
     "name": "stderr",
     "output_type": "stream",
     "text": [
      "\n",
      "\n",
      " 21%|██        | 8/39 [00:01<00:07,  3.91it/s]\u001b[A\u001b[A\n",
      "\n",
      " 23%|██▎       | 9/39 [00:01<00:06,  4.46it/s]\u001b[A\u001b[A"
     ]
    },
    {
     "name": "stdout",
     "output_type": "stream",
     "text": [
      "Kamis, 4 August 2016 15:49 WIB\n",
      "2016\n",
      "Sabtu, 5 March 2016 16:00 WIB\n",
      "2016\n"
     ]
    },
    {
     "name": "stderr",
     "output_type": "stream",
     "text": [
      "\n",
      "\n",
      " 26%|██▌       | 10/39 [00:01<00:05,  4.97it/s]\u001b[A\u001b[A\n",
      "\n",
      " 28%|██▊       | 11/39 [00:02<00:05,  5.06it/s]\u001b[A\u001b[A"
     ]
    },
    {
     "name": "stdout",
     "output_type": "stream",
     "text": [
      "Kamis, 12 December 2013 11:36 WIB\n",
      "2013\n",
      "Jumat, 17 May 2019 09:43 WIB\n",
      "2019\n"
     ]
    },
    {
     "name": "stderr",
     "output_type": "stream",
     "text": [
      "\n",
      "\n",
      " 31%|███       | 12/39 [00:02<00:05,  5.00it/s]\u001b[A\u001b[A\n",
      "\n",
      " 33%|███▎      | 13/39 [00:02<00:05,  5.01it/s]"
     ]
    },
    {
     "name": "stdout",
     "output_type": "stream",
     "text": [
      "Rabu, 11 November 2015 08:15 WIB\n",
      "2015\n",
      "Selasa, 19 April 2016 07:42 WIB\n",
      "2016\n"
     ]
    },
    {
     "name": "stderr",
     "output_type": "stream",
     "text": [
      "\u001b[A\u001b[A\n",
      "\n",
      " 36%|███▌      | 14/39 [00:02<00:04,  5.38it/s]\u001b[A\u001b[A\n",
      "\n",
      " 38%|███▊      | 15/39 [00:02<00:04,  5.71it/s]\u001b[A\u001b[A"
     ]
    },
    {
     "name": "stdout",
     "output_type": "stream",
     "text": [
      "Senin, 1 September 2014 07:13 WIB\n",
      "2014\n",
      "Kamis, 7 November 2013 17:35 WIB\n",
      "2013\n"
     ]
    },
    {
     "name": "stderr",
     "output_type": "stream",
     "text": [
      "\n",
      "\n",
      " 41%|████      | 16/39 [00:02<00:03,  6.01it/s]\u001b[A\u001b[A\n",
      "\n",
      " 44%|████▎     | 17/39 [00:03<00:03,  5.72it/s]\u001b[A\u001b[A"
     ]
    },
    {
     "name": "stdout",
     "output_type": "stream",
     "text": [
      "Minggu, 3 April 2016 \n",
      "2016\n",
      "Selasa, 3 July 2018 13:25 WIB\n",
      "2018\n"
     ]
    },
    {
     "name": "stderr",
     "output_type": "stream",
     "text": [
      "\n",
      "\n",
      " 46%|████▌     | 18/39 [00:03<00:03,  5.98it/s]\u001b[A\u001b[A"
     ]
    },
    {
     "name": "stdout",
     "output_type": "stream",
     "text": [
      "Selasa, 1 September 2015 05:04 WIB\n",
      "2015\n"
     ]
    },
    {
     "name": "stderr",
     "output_type": "stream",
     "text": [
      "\n",
      "\n",
      " 49%|████▊     | 19/39 [00:03<00:03,  5.62it/s]\u001b[A\u001b[A\n",
      "\n"
     ]
    },
    {
     "name": "stdout",
     "output_type": "stream",
     "text": [
      "Rabu, 26 August 2015 08:04 WIB\n",
      "2015\n",
      "Senin, 29 October 2018 17:13 WIB\n",
      "2018\n"
     ]
    },
    {
     "name": "stderr",
     "output_type": "stream",
     "text": [
      " 51%|█████▏    | 20/39 [00:03<00:03,  5.42it/s]\u001b[A\u001b[A\n",
      "\n",
      " 54%|█████▍    | 21/39 [00:03<00:03,  5.20it/s]\u001b[A\u001b[A\n",
      "\n",
      " 56%|█████▋    | 22/39 [00:04<00:03,  5.51it/s]\u001b[A\u001b[A"
     ]
    },
    {
     "name": "stdout",
     "output_type": "stream",
     "text": [
      "Rabu, 16 September 2015 08:58 WIB\n",
      "2015\n",
      "Selasa, 16 January 2018 05:56 WIB\n",
      "2018\n"
     ]
    },
    {
     "name": "stderr",
     "output_type": "stream",
     "text": [
      "\n",
      "\n",
      " 59%|█████▉    | 23/39 [00:04<00:02,  5.65it/s]\u001b[A\u001b[A\n",
      "\n",
      " 62%|██████▏   | 24/39 [00:04<00:02,  5.89it/s]\u001b[A\u001b[A"
     ]
    },
    {
     "name": "stdout",
     "output_type": "stream",
     "text": [
      "Rabu, 16 May 2018 09:41 WIB\n",
      "2018\n",
      "Kamis, 21 February 2019 23:56 WIB\n",
      "2019\n"
     ]
    },
    {
     "name": "stderr",
     "output_type": "stream",
     "text": [
      "\n",
      "\n",
      " 64%|██████▍   | 25/39 [00:04<00:02,  5.42it/s]\u001b[A\u001b[A\n",
      "\n"
     ]
    },
    {
     "name": "stdout",
     "output_type": "stream",
     "text": [
      "Selasa, 18 November 2014 16:27 WIB\n",
      "2014\n",
      "Selasa, 29 September 2015 08:44 WIB\n",
      "2015\n"
     ]
    },
    {
     "name": "stderr",
     "output_type": "stream",
     "text": [
      " 67%|██████▋   | 26/39 [00:04<00:02,  5.30it/s]\u001b[A\u001b[A\n",
      "\n",
      " 69%|██████▉   | 27/39 [00:04<00:02,  5.25it/s]\u001b[A\u001b[A\n",
      "\n",
      " 72%|███████▏  | 28/39 [00:05<00:01,  5.72it/s]\u001b[A\u001b[A"
     ]
    },
    {
     "name": "stdout",
     "output_type": "stream",
     "text": [
      "Rabu, 22 April 2015 11:08 WIB\n",
      "2015\n",
      "Kamis, 12 December 2013 \n",
      "2013\n"
     ]
    },
    {
     "name": "stderr",
     "output_type": "stream",
     "text": [
      "\n",
      "\n",
      " 74%|███████▍  | 29/39 [00:06<00:05,  1.99it/s]\u001b[A\u001b[A"
     ]
    },
    {
     "name": "stdout",
     "output_type": "stream",
     "text": [
      "Rabu, 28 October 2015 07:21 WIB\n",
      "2015\n"
     ]
    },
    {
     "name": "stderr",
     "output_type": "stream",
     "text": [
      "\n",
      "\n",
      " 77%|███████▋  | 30/39 [00:07<00:06,  1.41it/s]\u001b[A\u001b[A\n",
      "\n",
      " 79%|███████▉  | 31/39 [00:07<00:04,  1.85it/s]\u001b[A\u001b[A"
     ]
    },
    {
     "name": "stdout",
     "output_type": "stream",
     "text": [
      "Jumat, 1 April 2016 08:24 WIB\n",
      "2016\n",
      "Jumat, 25 September 2015 08:25 WIB\n",
      "2015\n"
     ]
    },
    {
     "name": "stderr",
     "output_type": "stream",
     "text": [
      "\n",
      "\n",
      " 82%|████████▏ | 32/39 [00:07<00:03,  2.28it/s]\u001b[A\u001b[A\n",
      "\n",
      " 85%|████████▍ | 33/39 [00:08<00:02,  2.84it/s]\u001b[A\u001b[A"
     ]
    },
    {
     "name": "stdout",
     "output_type": "stream",
     "text": [
      "Jumat, 10 July 2015 07:37 WIB\n",
      "2015\n",
      "Kamis, 9 June 2016 09:24 WIB\n",
      "2016\n"
     ]
    },
    {
     "name": "stderr",
     "output_type": "stream",
     "text": [
      "\n",
      "\n",
      " 87%|████████▋ | 34/39 [00:08<00:01,  3.26it/s]\u001b[A\u001b[A"
     ]
    },
    {
     "name": "stdout",
     "output_type": "stream",
     "text": [
      "Senin, 25 January 2016 17:26 WIB\n",
      "2016\n",
      "Jumat, 5 December 2014 11:02 WIB\n"
     ]
    },
    {
     "name": "stderr",
     "output_type": "stream",
     "text": [
      "\n",
      "\n",
      " 90%|████████▉ | 35/39 [00:08<00:01,  3.63it/s]\u001b[A\u001b[A"
     ]
    },
    {
     "name": "stdout",
     "output_type": "stream",
     "text": [
      "2014\n"
     ]
    },
    {
     "name": "stderr",
     "output_type": "stream",
     "text": [
      "\n",
      "\n",
      " 92%|█████████▏| 36/39 [00:08<00:00,  3.94it/s]\u001b[A\u001b[A"
     ]
    },
    {
     "name": "stdout",
     "output_type": "stream",
     "text": [
      "Jumat, 15 January 2016 09:19 WIB\n",
      "2016\n"
     ]
    },
    {
     "name": "stderr",
     "output_type": "stream",
     "text": [
      "\n",
      "\n",
      " 95%|█████████▍| 37/39 [00:08<00:00,  4.17it/s]\u001b[A\u001b[A\n",
      "\n",
      " 97%|█████████▋| 38/39 [00:09<00:00,  4.67it/s]\u001b[A\u001b[A"
     ]
    },
    {
     "name": "stdout",
     "output_type": "stream",
     "text": [
      "Kamis, 24 March 2016 07:28 WIB\n",
      "2016\n",
      "Selasa, 6 March 2018 13:42 WIB\n",
      "2018\n"
     ]
    },
    {
     "name": "stderr",
     "output_type": "stream",
     "text": [
      "\n",
      "\n",
      "100%|██████████| 39/39 [00:09<00:00,  4.79it/s]\u001b[A\u001b[A"
     ]
    },
    {
     "name": "stdout",
     "output_type": "stream",
     "text": [
      "Jumat, 21 March 2014 07:57 WIB\n",
      "2014\n"
     ]
    },
    {
     "name": "stderr",
     "output_type": "stream",
     "text": [
      "\n",
      "\n",
      "  0%|          | 0/3 [00:00<?, ?it/s]\u001b[A\u001b[A\n",
      "\n",
      " 33%|███▎      | 1/3 [00:10<00:20, 10.24s/it]\u001b[A\u001b[A"
     ]
    },
    {
     "name": "stdout",
     "output_type": "stream",
     "text": [
      "Looking for element.\n",
      "Element found. Waiting to be clickable.\n"
     ]
    },
    {
     "name": "stderr",
     "output_type": "stream",
     "text": [
      "\n",
      "\n",
      " 67%|██████▋   | 2/3 [00:20<00:10, 10.30s/it]\u001b[A\u001b[A"
     ]
    },
    {
     "name": "stdout",
     "output_type": "stream",
     "text": [
      "Looking for element.\n",
      "Element found. Waiting to be clickable.\n"
     ]
    },
    {
     "name": "stderr",
     "output_type": "stream",
     "text": [
      "\n",
      "\n",
      "\n",
      "  0%|          | 0/22 [00:00<?, ?it/s]\u001b[A\u001b[A\u001b[A\n",
      "\n",
      "\n",
      "  5%|▍         | 1/22 [00:00<00:05,  3.74it/s]\u001b[A\u001b[A\u001b[A"
     ]
    },
    {
     "name": "stdout",
     "output_type": "stream",
     "text": [
      "Wed, June 24, 2015\n"
     ]
    },
    {
     "name": "stderr",
     "output_type": "stream",
     "text": [
      "\n",
      "\n",
      "\n",
      "  9%|▉         | 2/22 [00:00<00:05,  3.94it/s]\u001b[A\u001b[A\u001b[A"
     ]
    },
    {
     "name": "stdout",
     "output_type": "stream",
     "text": [
      "Tue, October 23 2018\n"
     ]
    },
    {
     "name": "stderr",
     "output_type": "stream",
     "text": [
      "\n",
      "\n",
      "\n",
      " 14%|█▎        | 3/22 [00:00<00:04,  4.03it/s]\u001b[A\u001b[A\u001b[A"
     ]
    },
    {
     "name": "stdout",
     "output_type": "stream",
     "text": [
      "Mon, January 18, 2016\n"
     ]
    },
    {
     "name": "stderr",
     "output_type": "stream",
     "text": [
      "\n",
      "\n",
      "\n",
      " 18%|█▊        | 4/22 [00:00<00:04,  3.94it/s]\u001b[A\u001b[A\u001b[A"
     ]
    },
    {
     "name": "stdout",
     "output_type": "stream",
     "text": [
      "http://www.thejakartapost.com/tag/Sawit-Sumbermas-Sarana\n",
      "'NoneType' object has no attribute 'text'\n",
      "\n"
     ]
    },
    {
     "name": "stderr",
     "output_type": "stream",
     "text": [
      "\n",
      "\n",
      "\n",
      " 23%|██▎       | 5/22 [00:01<00:05,  3.33it/s]\u001b[A\u001b[A\u001b[A"
     ]
    },
    {
     "name": "stdout",
     "output_type": "stream",
     "text": [
      "Fri, August 5, 2016\n"
     ]
    },
    {
     "name": "stderr",
     "output_type": "stream",
     "text": [
      "\n",
      "\n",
      "\n",
      " 27%|██▋       | 6/22 [00:01<00:04,  3.29it/s]\u001b[A\u001b[A\u001b[A"
     ]
    },
    {
     "name": "stdout",
     "output_type": "stream",
     "text": [
      "Fri, December 29 2017\n"
     ]
    },
    {
     "name": "stderr",
     "output_type": "stream",
     "text": [
      "\n",
      "\n",
      "\n",
      " 32%|███▏      | 7/22 [00:01<00:04,  3.46it/s]\u001b[A\u001b[A\u001b[A"
     ]
    },
    {
     "name": "stdout",
     "output_type": "stream",
     "text": [
      "Thu, November 20, 2014\n"
     ]
    },
    {
     "name": "stderr",
     "output_type": "stream",
     "text": [
      "\n",
      "\n",
      "\n",
      " 36%|███▋      | 8/22 [00:02<00:03,  3.57it/s]\u001b[A\u001b[A\u001b[A"
     ]
    },
    {
     "name": "stdout",
     "output_type": "stream",
     "text": [
      "Fri, November 8, 2013\n"
     ]
    },
    {
     "name": "stderr",
     "output_type": "stream",
     "text": [
      "\n",
      "\n",
      "\n",
      " 41%|████      | 9/22 [00:02<00:03,  3.59it/s]\u001b[A\u001b[A\u001b[A"
     ]
    },
    {
     "name": "stdout",
     "output_type": "stream",
     "text": [
      "Wed, December 14, 2016\n"
     ]
    },
    {
     "name": "stderr",
     "output_type": "stream",
     "text": [
      "\n",
      "\n",
      "\n",
      " 45%|████▌     | 10/22 [00:02<00:03,  3.72it/s]\u001b[A\u001b[A\u001b[A"
     ]
    },
    {
     "name": "stdout",
     "output_type": "stream",
     "text": [
      "Tue, July 18 2017\n"
     ]
    },
    {
     "name": "stderr",
     "output_type": "stream",
     "text": [
      "\n",
      "\n",
      "\n",
      " 50%|█████     | 11/22 [00:03<00:03,  2.98it/s]\u001b[A\u001b[A\u001b[A\n",
      "\n",
      "\n",
      " 55%|█████▍    | 12/22 [00:03<00:02,  3.47it/s]\u001b[A\u001b[A\u001b[A"
     ]
    },
    {
     "name": "stdout",
     "output_type": "stream",
     "text": [
      "https://www.thejakartapost.com/news/index/page/890\n",
      "'NoneType' object has no attribute 'text'\n",
      "\n",
      "https://www.thejakartapost.com/amp/news/2014/06/30/jci-rises-only-2-points-morning-trade.html\n",
      "'NoneType' object has no attribute 'text'\n",
      "\n"
     ]
    },
    {
     "name": "stderr",
     "output_type": "stream",
     "text": [
      "\n",
      "\n",
      "\n",
      " 59%|█████▉    | 13/22 [00:03<00:02,  3.06it/s]\u001b[A\u001b[A\u001b[A"
     ]
    },
    {
     "name": "stdout",
     "output_type": "stream",
     "text": [
      "https://www.thejakartapost.com/tag/CPO/page/4\n",
      "'NoneType' object has no attribute 'text'\n",
      "\n"
     ]
    },
    {
     "name": "stderr",
     "output_type": "stream",
     "text": [
      "\n",
      "\n",
      "\n",
      " 64%|██████▎   | 14/22 [00:04<00:02,  3.25it/s]\u001b[A\u001b[A\u001b[A"
     ]
    },
    {
     "name": "stdout",
     "output_type": "stream",
     "text": [
      "Wed, September 6, 2017\n"
     ]
    },
    {
     "name": "stderr",
     "output_type": "stream",
     "text": [
      "\n",
      "\n",
      "\n",
      " 68%|██████▊   | 15/22 [00:04<00:02,  3.41it/s]\u001b[A\u001b[A\u001b[A"
     ]
    },
    {
     "name": "stdout",
     "output_type": "stream",
     "text": [
      "Thu, May 4, 2017\n"
     ]
    },
    {
     "name": "stderr",
     "output_type": "stream",
     "text": [
      "\n",
      "\n",
      "\n",
      " 73%|███████▎  | 16/22 [00:05<00:02,  2.02it/s]\u001b[A\u001b[A\u001b[A"
     ]
    },
    {
     "name": "stdout",
     "output_type": "stream",
     "text": [
      "http://www.thejakartapost.com/tag/palm-oil/page/9\n",
      "'NoneType' object has no attribute 'text'\n",
      "\n"
     ]
    },
    {
     "name": "stderr",
     "output_type": "stream",
     "text": [
      "\n",
      "\n",
      "\n",
      " 77%|███████▋  | 17/22 [00:05<00:02,  2.20it/s]\u001b[A\u001b[A\u001b[A"
     ]
    },
    {
     "name": "stdout",
     "output_type": "stream",
     "text": [
      "Thu, December 15 2016\n"
     ]
    },
    {
     "name": "stderr",
     "output_type": "stream",
     "text": [
      "\n",
      "\n",
      "\n",
      " 82%|████████▏ | 18/22 [00:05<00:01,  2.56it/s]\u001b[A\u001b[A\u001b[A"
     ]
    },
    {
     "name": "stdout",
     "output_type": "stream",
     "text": [
      "Tue, January 13, 2015\n"
     ]
    },
    {
     "name": "stderr",
     "output_type": "stream",
     "text": [
      "\n",
      "\n",
      "\n",
      " 86%|████████▋ | 19/22 [00:06<00:01,  2.55it/s]\u001b[A\u001b[A\u001b[A"
     ]
    },
    {
     "name": "stdout",
     "output_type": "stream",
     "text": [
      "http://www.thejakartapost.com/tag/financial-performance\n",
      "'NoneType' object has no attribute 'text'\n",
      "\n"
     ]
    },
    {
     "name": "stderr",
     "output_type": "stream",
     "text": [
      "\n",
      "\n",
      "\n",
      " 91%|█████████ | 20/22 [00:07<00:01,  1.64it/s]\u001b[A\u001b[A\u001b[A"
     ]
    },
    {
     "name": "stdout",
     "output_type": "stream",
     "text": [
      "http://www.thejakartapost.com/news/index/page/2324\n",
      "'NoneType' object has no attribute 'text'\n",
      "\n"
     ]
    },
    {
     "name": "stderr",
     "output_type": "stream",
     "text": [
      "\n",
      "\n",
      "\n",
      " 95%|█████████▌| 21/22 [00:08<00:00,  1.20it/s]\u001b[A\u001b[A\u001b[A"
     ]
    },
    {
     "name": "stdout",
     "output_type": "stream",
     "text": [
      "https://www.thejakartapost.com/index/page/2224\n",
      "'NoneType' object has no attribute 'text'\n",
      "\n"
     ]
    },
    {
     "name": "stderr",
     "output_type": "stream",
     "text": [
      "\n",
      "\n",
      "\n",
      "100%|██████████| 22/22 [00:09<00:00,  1.52it/s]\u001b[A\u001b[A\u001b[A\n",
      "\n",
      "\n",
      "  0%|          | 0/14 [00:00<?, ?it/s]\u001b[A\u001b[A\u001b[A"
     ]
    },
    {
     "name": "stdout",
     "output_type": "stream",
     "text": [
      "Fri, December 5, 2014\n"
     ]
    },
    {
     "name": "stderr",
     "output_type": "stream",
     "text": [
      "\n",
      "\n",
      "\n",
      "  7%|▋         | 1/14 [00:00<00:03,  4.28it/s]\u001b[A\u001b[A\u001b[A"
     ]
    },
    {
     "name": "stdout",
     "output_type": "stream",
     "text": [
      "Wed, June 24, 2015\n",
      "2015\n"
     ]
    },
    {
     "name": "stderr",
     "output_type": "stream",
     "text": [
      "\n",
      "\n",
      "\n",
      " 14%|█▍        | 2/14 [00:00<00:03,  3.69it/s]\u001b[A\u001b[A\u001b[A"
     ]
    },
    {
     "name": "stdout",
     "output_type": "stream",
     "text": [
      "Tue, October 23 2018\n",
      "2018\n"
     ]
    },
    {
     "name": "stderr",
     "output_type": "stream",
     "text": [
      "\n",
      "\n",
      "\n",
      " 21%|██▏       | 3/14 [00:00<00:03,  3.23it/s]\u001b[A\u001b[A\u001b[A"
     ]
    },
    {
     "name": "stdout",
     "output_type": "stream",
     "text": [
      "Mon, January 18, 2016\n",
      "2016\n"
     ]
    },
    {
     "name": "stderr",
     "output_type": "stream",
     "text": [
      "\n",
      "\n",
      "\n",
      " 29%|██▊       | 4/14 [00:01<00:03,  2.94it/s]\u001b[A\u001b[A\u001b[A"
     ]
    },
    {
     "name": "stdout",
     "output_type": "stream",
     "text": [
      "Fri, August 5, 2016\n",
      "2016\n"
     ]
    },
    {
     "name": "stderr",
     "output_type": "stream",
     "text": [
      "\n",
      "\n",
      "\n",
      " 36%|███▌      | 5/14 [00:01<00:03,  2.80it/s]\u001b[A\u001b[A\u001b[A"
     ]
    },
    {
     "name": "stdout",
     "output_type": "stream",
     "text": [
      "Fri, December 29 2017\n",
      "2017\n"
     ]
    },
    {
     "name": "stderr",
     "output_type": "stream",
     "text": [
      "\n",
      "\n",
      "\n",
      " 43%|████▎     | 6/14 [00:02<00:02,  2.70it/s]\u001b[A\u001b[A\u001b[A"
     ]
    },
    {
     "name": "stdout",
     "output_type": "stream",
     "text": [
      "Thu, November 20, 2014\n",
      "2014\n"
     ]
    },
    {
     "name": "stderr",
     "output_type": "stream",
     "text": [
      "\n",
      "\n",
      "\n",
      " 50%|█████     | 7/14 [00:02<00:02,  2.65it/s]\u001b[A\u001b[A\u001b[A"
     ]
    },
    {
     "name": "stdout",
     "output_type": "stream",
     "text": [
      "Fri, November 8, 2013\n",
      "2013\n"
     ]
    },
    {
     "name": "stderr",
     "output_type": "stream",
     "text": [
      "\n",
      "\n",
      "\n",
      " 57%|█████▋    | 8/14 [00:02<00:02,  2.63it/s]\u001b[A\u001b[A\u001b[A"
     ]
    },
    {
     "name": "stdout",
     "output_type": "stream",
     "text": [
      "Wed, December 14, 2016\n",
      "2016\n"
     ]
    },
    {
     "name": "stderr",
     "output_type": "stream",
     "text": [
      "\n",
      "\n",
      "\n",
      " 64%|██████▍   | 9/14 [00:03<00:01,  2.99it/s]\u001b[A\u001b[A\u001b[A"
     ]
    },
    {
     "name": "stdout",
     "output_type": "stream",
     "text": [
      "Tue, July 18 2017\n",
      "2017\n"
     ]
    },
    {
     "name": "stderr",
     "output_type": "stream",
     "text": [
      "\n",
      "\n",
      "\n",
      " 71%|███████▏  | 10/14 [00:03<00:01,  2.84it/s]\u001b[A\u001b[A\u001b[A"
     ]
    },
    {
     "name": "stdout",
     "output_type": "stream",
     "text": [
      "Wed, September 6, 2017\n",
      "2017\n"
     ]
    },
    {
     "name": "stderr",
     "output_type": "stream",
     "text": [
      "\n",
      "\n",
      "\n",
      " 79%|███████▊  | 11/14 [00:04<00:01,  2.74it/s]\u001b[A\u001b[A\u001b[A"
     ]
    },
    {
     "name": "stdout",
     "output_type": "stream",
     "text": [
      "Thu, May 4, 2017\n",
      "2017\n"
     ]
    },
    {
     "name": "stderr",
     "output_type": "stream",
     "text": [
      "\n",
      "\n",
      "\n",
      " 86%|████████▌ | 12/14 [00:04<00:00,  2.63it/s]\u001b[A\u001b[A\u001b[A"
     ]
    },
    {
     "name": "stdout",
     "output_type": "stream",
     "text": [
      "Thu, December 15 2016\n",
      "2016\n"
     ]
    },
    {
     "name": "stderr",
     "output_type": "stream",
     "text": [
      "\n",
      "\n",
      "\n",
      " 93%|█████████▎| 13/14 [00:04<00:00,  2.62it/s]\u001b[A\u001b[A\u001b[A"
     ]
    },
    {
     "name": "stdout",
     "output_type": "stream",
     "text": [
      "Tue, January 13, 2015\n",
      "2015\n"
     ]
    },
    {
     "name": "stderr",
     "output_type": "stream",
     "text": [
      "\n",
      "\n",
      "\n",
      "100%|██████████| 14/14 [00:05<00:00,  2.57it/s]\u001b[A\u001b[A\u001b[A"
     ]
    },
    {
     "name": "stdout",
     "output_type": "stream",
     "text": [
      "Fri, December 5, 2014\n",
      "2014\n"
     ]
    }
   ],
   "source": [
    "results = all_scraper(driver, scraper_functions, 2017, 2018, \"Sawit Sumbermas Sarana\")"
   ]
  },
  {
   "cell_type": "code",
   "execution_count": 88,
   "metadata": {},
   "outputs": [
    {
     "data": {
      "text/plain": [
       "2"
      ]
     },
     "execution_count": 88,
     "metadata": {},
     "output_type": "execute_result"
    }
   ],
   "source": [
    "len(results)"
   ]
  },
  {
   "cell_type": "code",
   "execution_count": 23,
   "metadata": {},
   "outputs": [
    {
     "data": {
      "text/plain": [
       "(21, 15)"
      ]
     },
     "execution_count": 23,
     "metadata": {},
     "output_type": "execute_result"
    }
   ],
   "source": [
    "len(all_first_year_contents), len(all_second_year_contents)"
   ]
  },
  {
   "cell_type": "code",
   "execution_count": 84,
   "metadata": {},
   "outputs": [],
   "source": [
    "with open('lq45/discovery/all_first_year_contents_MNC.txt', 'w') as f:\n",
    "    for url in all_first_year_contents:\n",
    "        f.write(\"%s\\n\" % url)"
   ]
  },
  {
   "cell_type": "code",
   "execution_count": 85,
   "metadata": {},
   "outputs": [],
   "source": [
    "with open('lq45/discovery/all_second_year_contents_MNC.txt', 'w') as f:\n",
    "    for url in all_second_year_contents:\n",
    "        f.write(\"%s\\n\" % url)"
   ]
  },
  {
   "cell_type": "code",
   "execution_count": 1,
   "metadata": {},
   "outputs": [],
   "source": [
    "import pandas as pd"
   ]
  },
  {
   "cell_type": "code",
   "execution_count": 2,
   "metadata": {},
   "outputs": [],
   "source": [
    "df = pd.read_csv(\"files/list_lq45_market_structure.csv\", index_col=False)\n",
    "\n",
    "with_social_df = df[df['Social Media Account'] != \"zonk\"]\n",
    "\n",
    "import re\n",
    "companies = with_social_df.Company.values.tolist()\n",
    "companies = list(map(lambda x : re.sub(r'\\([^)]*\\)', '', x).replace(\".\", \"\").replace(\"Tbk\", \"\").strip(), companies))"
   ]
  },
  {
   "cell_type": "code",
   "execution_count": 3,
   "metadata": {},
   "outputs": [
    {
     "data": {
      "text/plain": [
       "['Adhi Karya',\n",
       " 'Indika Energy',\n",
       " 'Jasa Marga',\n",
       " 'Aneka Tambang',\n",
       " 'Vale Indonesia',\n",
       " 'Indika Energy',\n",
       " 'Bank Central Asia',\n",
       " 'Bank Negara Indonesia',\n",
       " 'Bank Rakyat Indonesia',\n",
       " 'Bank Mandiri',\n",
       " 'Indofood CBP Sukses Makmur',\n",
       " 'Indofood Sukses Makmur',\n",
       " 'Unilever Indonesia',\n",
       " 'Sri Rejeki Isman',\n",
       " 'XL Axiata',\n",
       " 'Media Nusantara Citra',\n",
       " 'Astra International',\n",
       " 'Charoen Pokphand Indonesia']"
      ]
     },
     "execution_count": 3,
     "metadata": {},
     "output_type": "execute_result"
    }
   ],
   "source": [
    "companies"
   ]
  },
  {
   "cell_type": "code",
   "execution_count": 39,
   "metadata": {
    "scrolled": true
   },
   "outputs": [
    {
     "name": "stdout",
     "output_type": "stream",
     "text": [
      "Last Index -1\n",
      "Rabu, 31 Jul 2019 17:43 WIB\n",
      "Getting links...\n",
      "Rabu, 31 Jul 2019 17:43 WIB\n",
      "Getting links...\n",
      "Kamis, 25 Jul 2019 20:01 WIB\n",
      "Getting links...\n",
      "Kamis, 11 Jul 2019 22:33 WIB\n",
      "Getting links...\n",
      "Selasa, 28 May  2019 19:56 WIB\n",
      "Getting links...\n",
      "Senin 29 April 2019, 15:42 WIB\n",
      "Getting links...\n",
      "Senin 22 April 2019, 18:25 WIB\n",
      "Getting links...\n",
      "Jumat, 05 Apr 2019 10:38 WIB\n",
      "Getting links...\n",
      "Jumat, 29 Mar 2019 11:01 WIB\n",
      "Getting links...\n",
      "Senin 11 March 2019, 13:49 WIB\n",
      "Getting links...\n",
      "Kamis, 21 Feb 2019 18:13 WIB\n",
      "Getting links...\n",
      "Jumat, 15 Feb 2019 13:34 WIB\n",
      "Getting links...\n",
      "Minggu 03 February 2019, 21:45 WIB\n",
      "Getting links...\n",
      "Kamis, 24 Jan 2019 12:13 WIB\n",
      "Getting links...\n",
      "Senin, 14 Jan 2019 19:28 WIB\n",
      "Getting links...\n",
      "Senin, 14 Jan 2019 15:34 WIB\n",
      "Getting links...\n",
      "Selasa 08 January 2019, 16:35 WIB\n",
      "Getting links...\n",
      "Senin, 31 Dec 2018 11:50 WIB\n",
      "Getting links...\n",
      "Senin 10 December 2018, 18:17 WIB\n",
      "Getting links...\n",
      "Selasa, 27 Nov 2018 13:49 WIB\n",
      "Getting links...\n",
      "Rabu, 21 Nov 2018 15:54 WIB\n",
      "Getting links...\n",
      "Senin, 15 Oct 2018 16:08 WIB\n",
      "Getting links...\n",
      "Rabu 19 September 2018, 11:18 WIB\n",
      "Getting links...\n",
      "Jumat, 31 Aug 2018 14:01 WIB\n",
      "Getting links...\n",
      "Jumat, 17 Aug 2018 20:42 WIB\n",
      "Getting links...\n",
      "Sabtu, 21 Jul 2018 21:54 WIB\n",
      "Getting links...\n",
      "Rabu, 11 Jul 2018 14:17 WIB\n",
      "Getting links...\n",
      "Selasa, 26 Jun 2018 13:13 WIB\n",
      "Getting links...\n",
      "Minggu, 03 Jun 2018 16:50 WIB\n",
      "Getting links...\n",
      "Rabu, 16 May  2018 17:48 WIB\n",
      "Getting links...\n",
      "Selasa, 15 May  2018 16:00 WIB\n",
      "Getting links...\n",
      "Minggu, 29 Apr 2018 19:28 WIB\n",
      "Getting links...\n",
      "Senin, 16 Apr 2018 16:20 WIB\n",
      "Getting links...\n",
      "Jumat, 13 Apr 2018 17:28 WIB\n",
      "Getting links...\n",
      "Senin, 02 Apr 2018 19:05 WIB\n",
      "Getting links...\n",
      "Jumat, 16 Mar 2018 17:47 WIB\n",
      "Getting links...\n",
      "Kamis 15 March 2018, 10:48 WIB\n",
      "Getting links...\n",
      "Rabu, 14 Mar 2018 10:53 WIB\n",
      "Getting links...\n",
      "Jumat 09 March 2018, 18:13 WIB\n",
      "Getting links...\n",
      "Selasa, 20 Feb 2018 17:27 WIB\n",
      "Getting links...\n",
      "Sabtu, 17 Feb 2018 14:22 WIB\n",
      "Getting links...\n",
      "Sabtu 27 January 2018, 09:11 WIB\n",
      "Getting links...\n",
      "Jumat, 12 Jan 2018 13:42 WIB\n",
      "Getting links...\n",
      "Selasa, 09 Jan 2018 07:53 WIB\n",
      "Getting links...\n",
      "Jumat, 29 Dec 2017 14:19 WIB\n",
      "Getting links...\n",
      "Selasa, 19 Dec 2017 21:32 WIB\n",
      "Getting links...\n",
      "Minggu, 10 Dec 2017 17:45 WIB\n",
      "Getting links...\n",
      "Jumat, 08 Dec 2017 14:15 WIB\n",
      "Getting links...\n",
      "Sabtu, 25 Nov 2017 13:11 WIB\n",
      "Getting links...\n",
      "Kamis, 23 Nov 2017 11:49 WIB\n",
      "Getting links...\n",
      "Rabu, 15 Nov 2017 14:31 WIB\n",
      "Getting links...\n",
      "Rabu 01 November 2017, 17:56 WIB\n",
      "Getting links...\n",
      "Rabu, 25 Oct 2017 12:36 WIB\n",
      "Getting links...\n",
      "Rabu, 18 Oct 2017 18:27 WIB\n",
      "Getting links...\n",
      "Kamis, 05 Oct 2017 22:10 WIB\n",
      "Getting links...\n",
      "Jumat, 15 Sep 2017 20:00 WIB\n",
      "Getting links...\n",
      "Senin, 19 Aug 2019 16:20 WIB\n",
      "Getting links...\n",
      "Jumat 25 August 2017, 06:01 WIB\n",
      "Getting links...\n",
      "Rabu, 09 Aug 2017 00:25 WIB\n",
      "Getting links...\n",
      "Rabu, 02 Aug 2017 14:10 WIB\n",
      "Getting links...\n",
      "Jumat, 28 Jul 2017 16:45 WIB\n",
      "Getting links...\n",
      "Senin, 17 Jul 2017 12:51 WIB\n",
      "Getting links...\n",
      "Jumat, 07 Jul 2017 18:05 WIB\n",
      "Getting links...\n",
      "Kamis, 15 Jun 2017 20:59 WIB\n",
      "Getting links...\n",
      "Sabtu, 03 Jun 2017 12:28 WIB\n",
      "Getting links...\n",
      "Rabu, 24 May  2017 17:06 WIB\n",
      "Getting links...\n",
      "Jumat, 19 May  2017 14:47 WIB\n",
      "Getting links...\n",
      "Kamis 04 May 2017, 19:03 WIB\n",
      "Getting links...\n",
      "Senin 17 April 2017, 21:22 WIB\n",
      "Getting links...\n",
      "Selasa, 11 Apr 2017 21:10 WIB\n",
      "Getting links...\n",
      "Minggu, 26 Mar 2017 13:51 WIB\n",
      "Getting links...\n",
      "Selasa, 21 Mar 2017 18:56 WIB\n",
      "Getting links...\n",
      "Senin, 06 Mar 2017 17:11 WIB\n",
      "Getting links...\n",
      "Selasa, 21 Feb 2017 21:06 WIB\n",
      "Getting links...\n",
      "Senin, 13 Feb 2017 19:12 WIB\n",
      "Getting links...\n",
      "Jumat, 10 Feb 2017 21:03 WIB\n",
      "Getting links...\n",
      "Rabu, 08 Feb 2017 14:37 WIB\n",
      "Getting links...\n",
      "Selasa, 07 Feb 2017 19:20 WIB\n",
      "Getting links...\n",
      "Rabu, 25 Jan 2017 16:01 WIB\n",
      "Getting links...\n",
      "Minggu, 08 Jan 2017 17:37 WIB\n",
      "Getting links...\n",
      "Sabtu 17 December 2016, 18:25 WIB\n",
      "Senin, 19 Aug 2019 13:39 WIB\n",
      "Kamis, 15 Aug 2019 16:12 WIB\n",
      "https://hot.detik.com/book/d-4666522/keluarga-pram-sebut-ada-adegan-di-novel-bumi-manusia-yang-diperjelas-di-film\n",
      "'NoneType' object has no attribute 'text'\n",
      "\n",
      "https://20.detik.com/detikflash/20190311-190311082/-gmbi-minta-adhi-karya-kembalikan-uang-dp-proyek-hambalang\n",
      "'NoneType' object has no attribute 'text'\n",
      "\n",
      "Kamis, 15 Aug 2019 11:11 WIB\n",
      "https://hot.detik.com/spotlight/d-4656397/keluarga-pram-tak-masalah-bumi-manusia-tuai-kontroversi\n",
      "'NoneType' object has no attribute 'text'\n",
      "\n",
      "Rabu 07 August 2019, 14:56 WIB\n",
      "Kamis 04 April 2019, 09:43 WIB\n",
      "Jumat, 29 Mar 2019 18:54 WIB\n",
      "Kamis, 29 Nov 2018 17:52 WIB\n",
      "Senin, 24 Sep 2018 17:50 WIB\n",
      "Rabu, 19/09/2018 10:00 WIB\n",
      "Senin, 05 Aug 2019 23:00 WIB\n",
      "Jumat, 02 Aug 2019 17:01 WIB\n",
      "Rabu, 31 Jul 2019 17:43 WIB\n",
      "Selasa, 30 Jul 2019 07:50 WIB\n",
      "Senin, 29 Jul 2019 14:35 WIB\n",
      "Senin, 29 Jul 2019 14:05 WIB\n",
      "https://20.detik.com/detikflash/20190311-190311065/ada-unjuk-rasa-lalin-di-depan-kantor-adhi-karya-lancar\n",
      "'NoneType' object has no attribute 'text'\n",
      "\n",
      "Minggu, 28 Jul 2019 08:34 WIB\n",
      "Sabtu, 27 Jul 2019 21:45 WIB\n",
      "Sabtu, 27 Jul 2019 15:00 WIB\n",
      "Selasa 10 June 2014, 13:27 WIB\n",
      "Selasa 06 May 2014, 17:39 WIB\n",
      "Senin 21 April 2014, 18:42 WIB\n",
      "Selasa 08 April 2014, 13:59 WIB\n",
      "Jumat 23 August 2013, 11:30 WIB\n",
      "Sabtu, 27 Jul 2019 14:10 WIB\n",
      "Jumat, 26 Jul 2019 12:30 WIB\n",
      "Kamis, 25 Jul 2019 20:01 WIB\n",
      "Rabu, 24 Jul 2019 20:23 WIB\n",
      "Minggu 21 July 2019, 12:30 WIB\n",
      "Sabtu 20 July 2019, 13:15 WIB\n",
      "https://20.detik.com/blak-blakan/20190114-190114006/blak-blakan-dirut-adhi-karya-lrt-terhambat-dukuh-atas\n",
      "'NoneType' object has no attribute 'text'\n",
      "\n",
      "Kamis 18 July 2019, 10:59 WIB\n",
      "Rabu 17 July 2019, 20:53 WIB\n",
      "Rabu 17 July 2019, 20:40 WIB\n",
      "Rabu 17 July 2019, 19:36 WIB\n",
      "Rabu 17 July 2019, 18:18 WIB\n",
      "Kamis, 11 Jul 2019 22:33 WIB\n",
      "Senin 08 July 2019, 17:30 WIB\n",
      "Kamis, 04 Jul 2019 11:39 WIB\n",
      "Selasa, 02 Jul 2019 16:37 WIB\n",
      "https://20.detik.com/promo-/20190114-190114004/tonton-blak-blakan-dirut-adhi-karya-lrt-terhambat-dukuh-atas\n",
      "'NoneType' object has no attribute 'text'\n",
      "\n",
      "Jumat 28 June 2019, 10:23 WIB\n",
      "Senin, 03 Jun 2019 17:02 WIB\n",
      "Minggu 02 June 2019, 15:17 WIB\n",
      "Selasa, 28 May  2019 22:32 WIB\n",
      "Selasa, 28 May  2019 20:45 WIB\n",
      "Selasa, 28 May  2019 19:56 WIB\n",
      "Rabu, 15 May  2019 20:19 WIB\n",
      "Rabu 15 May 2019, 19:46 WIB\n",
      "Rabu 15 May 2019, 18:50 WIB\n",
      "https://20.detik.com/detikflash/20180314-180314016/adhi-karya-moratorium-proyek-konstruksi-layang-jadi-evaluasi-diri\n",
      "'NoneType' object has no attribute 'text'\n",
      "\n",
      "https://finance.detik.com/detiktv/d-4550832/pembangunan-jalan-tol-solo-yogyakarta-dimulai-tahun-depan\n",
      "'NoneType' object has no attribute 'text'\n",
      "\n",
      "Jumat 10 May 2019, 13:05 WIB\n",
      "Selasa, 07 May  2019 10:19 WIB\n",
      "Senin, 19 Aug 2019 16:20 WIB\n",
      "Senin, 19 Aug 2019 16:20 WIB\n",
      "Senin 29 April 2019, 15:42 WIB\n",
      "Senin 29 April 2019, 14:44 WIB\n",
      "Minggu, 28 Apr 2019 15:34 WIB\n",
      "Minggu, 28 Apr 2019 14:00 WIB\n",
      "https://20.detik.com/video-news/20140617-140617042/dituduh-rugikan-negara-4-m-teuku-bagus-m-noor-dituntut-7-tahun-penjara\n",
      "'NoneType' object has no attribute 'text'\n",
      "\n",
      "Jumat 26 April 2019, 21:12 WIB\n",
      "Jumat 26 April 2019, 20:57 WIB\n",
      "Jumat 26 April 2019, 20:38 WIB\n",
      "Jumat 26 April 2019, 12:10 WIB\n",
      "Jumat 26 April 2019, 12:07 WIB\n",
      "Senin 22 April 2019, 18:25 WIB\n",
      "Minggu, 14 Apr 2019 15:56 WIB\n",
      "Minggu, 14 Apr 2019 12:58 WIB\n",
      "Minggu, 07 Apr 2019 16:29 WIB\n",
      "https://20.detik.com/video-news/20130719-130719035/andi-malarangeng-mengaku-tak-kenal-direktur-pt-adhi-karya-\n",
      "'NoneType' object has no attribute 'text'\n",
      "\n",
      "Sabtu, 06 Apr 2019 16:05 WIB\n",
      "Sabtu, 06 Apr 2019 08:30 WIB\n",
      "Jumat, 05 Apr 2019 16:27 WIB\n",
      "Jumat, 05 Apr 2019 15:05 WIB\n",
      "Jumat, 05 Apr 2019 13:19 WIB\n",
      "Jumat, 05 Apr 2019 10:38 WIB\n",
      "Kamis 04 April 2019, 08:42 WIB\n",
      "Selasa, 02 Apr 2019 15:00 WIB\n",
      "Selasa, 02 Apr 2019 14:18 WIB\n",
      "https://20.detik.com/bisnis/20100311-100311181/adhi-karya-luncurkan-teknologi-baru--\n",
      "'NoneType' object has no attribute 'text'\n",
      "\n",
      "Selasa, 02 Apr 2019 14:00 WIB\n",
      "Selasa, 02 Apr 2019 12:54 WIB\n",
      "Senin, 01 Apr 2019 14:42 WIB\n",
      "Senin, 01 Apr 2019 14:05 WIB\n",
      "Jumat, 29 Mar 2019 13:38 WIB\n",
      "Jumat, 29 Mar 2019 11:01 WIB\n",
      "Jumat, 29 Mar 2019 10:05 WIB\n",
      "Kamis, 28 Mar 2019 16:43 WIB\n",
      "Rabu 20 March 2019, 21:01 WIB\n",
      "Rabu, 20 Mar 2019 13:45 WIB\n",
      "Sabtu 16 March 2019, 16:13 WIB\n",
      "Rabu, 13 Mar 2019 18:03 WIB\n",
      "Rabu 13 March 2019, 09:21 WIB\n",
      "Senin 11 March 2019, 16:38 WIB\n",
      "Senin 11 March 2019, 13:49 WIB\n",
      "Senin 11 March 2019, 12:41 WIB\n",
      "Minggu, 10 Mar 2019 16:32 WIB\n",
      "Minggu, 10 Mar 2019 08:45 WIB\n",
      "Selasa 05 March 2019, 15:22 WIB\n",
      "Rabu, 27 Feb 2019 22:00 WIB\n"
     ]
    },
    {
     "name": "stdout",
     "output_type": "stream",
     "text": [
      "Selasa, 26 Feb 2019 22:37 WIB\n",
      "Senin, 25 Feb 2019 13:47 WIB\n",
      "Minggu, 24 Feb 2019 17:02 WIB\n",
      "Kamis, 21 Feb 2019 18:13 WIB\n",
      "Rabu, 20 Feb 2019 16:17 WIB\n",
      "Rabu, 20 Feb 2019 14:55 WIB\n",
      "Selasa, 19 Feb 2019 14:29 WIB\n",
      "Jumat, 15 Feb 2019 16:47 WIB\n",
      "Jumat, 15 Feb 2019 15:09 WIB\n",
      "Jumat, 15 Feb 2019 14:38 WIB\n",
      "Jumat, 15 Feb 2019 14:20 WIB\n",
      "Jumat, 15 Feb 2019 14:12 WIB\n",
      "Jumat, 15 Feb 2019 13:34 WIB\n",
      "Jumat, 15 Feb 2019 13:08 WIB\n",
      "Jumat, 15 Feb 2019 11:16 WIB\n",
      "Jumat, 15 Feb 2019 10:37 WIB\n",
      "Jumat, 15 Feb 2019 10:11 WIB\n",
      "Kamis 14 February 2019, 21:07 WIB\n",
      "Rabu 13 February 2019, 19:20 WIB\n",
      "Rabu 13 February 2019, 18:51 WIB\n",
      "Rabu 13 February 2019, 18:40 WIB\n",
      "Minggu 03 February 2019, 21:45 WIB\n",
      "Sabtu, 02 Feb 2019 09:55 WIB\n",
      "Jumat, 01 Feb 2019 18:35 WIB\n",
      "Jumat, 01 Feb 2019 17:32 WIB\n",
      "Jumat, 01 Feb 2019 17:02 WIB\n",
      "Kamis, 31 Jan 2019 18:56 WIB\n",
      "Kamis, 31 Jan 2019 18:30 WIB\n",
      "Kamis, 31 Jan 2019 17:02 WIB\n",
      "Senin, 28 Jan 2019 13:35 WIB\n",
      "Kamis, 24 Jan 2019 12:13 WIB\n",
      "Rabu, 23 Jan 2019 15:48 WIB\n",
      "Selasa, 22 Jan 2019 14:42 WIB\n",
      "Senin 21 January 2019, 10:34 WIB\n",
      "https://hot.detik.com/movie/d-4392090/keluarga-cemara-raih-piala-terbanyak-ini-daftar-pemenang-piala-maya-ke-7\n",
      "'NoneType' object has no attribute 'text'\n",
      "\n",
      "Kamis, 17 Jan 2019 11:03 WIB\n",
      "Rabu, 16 Jan 2019 22:06 WIB\n",
      "Selasa, 15 Jan 2019 09:30 WIB\n",
      "Senin, 14 Jan 2019 19:52 WIB\n",
      "Senin, 14 Jan 2019 19:28 WIB\n",
      "Senin, 14 Jan 2019 19:14 WIB\n",
      "Senin, 14 Jan 2019 18:47 WIB\n",
      "Senin, 14 Jan 2019 18:30 WIB\n",
      "Senin, 14 Jan 2019 17:45 WIB\n",
      "Senin, 14 Jan 2019 17:18 WIB\n",
      "Senin, 14 Jan 2019 16:58 WIB\n",
      "Senin 14 January 2019, 16:46 WIB\n",
      "Senin, 14 Jan 2019 15:53 WIB\n",
      "Senin, 14 Jan 2019 15:34 WIB\n",
      "Senin, 14 Jan 2019 14:53 WIB\n",
      "Senin, 14 Jan 2019 14:24 WIB\n",
      "Senin, 14 Jan 2019 12:58 WIB\n",
      "Senin, 14 Jan 2019 11:19 WIB\n",
      "Senin, 14 Jan 2019 11:00 WIB\n",
      "Senin, 14 Jan 2019 10:35 WIB\n",
      "Senin, 14 Jan 2019 06:56 WIB\n",
      "Sabtu, 12 Jan 2019 12:34 WIB\n",
      "Selasa 08 January 2019, 16:35 WIB\n",
      "Selasa 08 January 2019, 09:32 WIB\n",
      "Senin, 07 Jan 2019 20:33 WIB\n",
      "Minggu 06 January 2019, 20:37 WIB\n",
      "Sabtu 05 January 2019, 15:24 WIB\n",
      "Sabtu 05 January 2019, 15:05 WIB\n",
      "Senin, 31 Dec 2018 14:30 WIB\n",
      "Senin, 31 Dec 2018 13:47 WIB\n",
      "Senin, 31 Dec 2018 13:46 WIB\n",
      "Senin, 31 Dec 2018 11:50 WIB\n",
      "Kamis, 27 Dec 2018 11:33 WIB\n",
      "Rabu, 26 Dec 2018 17:00 WIB\n",
      "Senin, 24 Dec 2018 16:05 WIB\n",
      "Kamis 20 December 2018, 11:29 WIB\n",
      "Rabu, 19 Dec 2018 20:27 WIB\n",
      "Selasa, 11 Dec 2018 15:47 WIB\n",
      "Selasa, 11 Dec 2018 07:18 WIB\n",
      "Senin 10 December 2018, 19:27 WIB\n",
      "Senin 10 December 2018, 18:17 WIB\n",
      "Senin, 10 Dec 2018 13:29 WIB\n",
      "Senin, 10 Dec 2018 13:20 WIB\n",
      "Senin, 10 Dec 2018 13:05 WIB\n",
      "Senin, 10 Dec 2018 11:29 WIB\n",
      "Kamis, 29 Nov 2018 18:13 WIB\n",
      "Kamis, 29 Nov 2018 14:52 WIB\n",
      "Kamis, 29 Nov 2018 14:29 WIB\n",
      "Kamis, 29 Nov 2018 12:26 WIB\n",
      "Selasa, 27 Nov 2018 13:49 WIB\n",
      "Senin, 26 Nov 2018 09:59 WIB\n",
      "Sabtu, 24 Nov 2018 20:10 WIB\n",
      "Jumat, 23 Nov 2018 15:47 WIB\n",
      "Jumat, 23 Nov 2018 14:55 WIB\n",
      "Jumat, 23 Nov 2018 11:25 WIB\n",
      "Kamis, 22 Nov 2018 18:54 WIB\n",
      "Kamis, 22 Nov 2018 15:51 WIB\n",
      "Rabu, 21 Nov 2018 18:44 WIB\n",
      "Rabu, 21 Nov 2018 15:54 WIB\n",
      "Rabu, 21 Nov 2018 14:40 WIB\n",
      "Rabu, 21 Nov 2018 13:35 WIB\n",
      "Jumat, 16 Nov 2018 08:03 WIB\n",
      "Kamis, 15 Nov 2018 17:39 WIB\n",
      "Senin, 12 Nov 2018 16:22 WIB\n",
      "Rabu, 31 Oct 2018 10:49 WIB\n",
      "Selasa, 30 Oct 2018 19:23 WIB\n",
      "Minggu, 21 Oct 2018 18:38 WIB\n",
      "Senin, 15 Oct 2018 16:08 WIB\n",
      "Sabtu, 13 Oct 2018 15:57 WIB\n",
      "Senin, 08 Oct 2018 23:52 WIB\n",
      "Senin 08 October 2018, 09:37 WIB\n",
      "Minggu, 07 Oct 2018 08:47 WIB\n",
      "Selasa, 02 Oct 2018 12:02 WIB\n",
      "Rabu 26 September 2018, 13:34 WIB\n",
      "Sabtu, 22 Sep 2018 19:22 WIB\n",
      "Sabtu, 22 Sep 2018 11:31 WIB\n",
      "Rabu 19 September 2018, 11:18 WIB\n",
      "Rabu 19 September 2018, 01:30 WIB\n",
      "Selasa 18 September 2018, 21:25 WIB\n",
      "Jumat, 14 Sep 2018 11:19 WIB\n",
      "Jumat, 14 Sep 2018 10:10 WIB\n",
      "Kamis 13 September 2018, 17:30 WIB\n",
      "Senin, 10 Sep 2018 15:45 WIB\n",
      "Jumat, 31 Aug 2018 17:36 WIB\n",
      "Jumat, 31 Aug 2018 15:25 WIB\n",
      "Jumat, 31 Aug 2018 14:01 WIB\n",
      "Kamis, 30 Aug 2018 12:55 WIB\n",
      "Kamis, 30 Aug 2018 10:53 WIB\n",
      "Sabtu 25 August 2018, 00:00 WIB\n",
      "Kamis, 23 Aug 2018 14:00 WIB\n",
      "Selasa, 21 Aug 2018 12:15 WIB\n",
      "Selasa, 21 Aug 2018 10:39 WIB\n",
      "Senin, 20 Aug 2018 15:08 WIB\n",
      "Senin, 20 Aug 2018 11:14 WIB\n",
      "Jumat, 17 Aug 2018 20:42 WIB\n",
      "Senin 13 August 2018, 13:29 WIB\n",
      "Senin 13 August 2018, 09:08 WIB\n",
      "https://hot.detik.com/art/d-4160076/pendiri-studiklub-teater-bandung-meriahkan-sipfest-2018\n",
      "'NoneType' object has no attribute 'text'\n",
      "\n",
      "Jumat, 03 Aug 2018 10:33 WIB\n",
      "Jumat, 27 Jul 2018 21:20 WIB\n",
      "Kamis 26 July 2018, 17:27 WIB\n",
      "Rabu, 25 Jul 2018 19:02 WIB\n",
      "Minggu, 22 Jul 2018 09:35 WIB\n",
      "Sabtu, 21 Jul 2018 21:54 WIB\n",
      "Sabtu, 21 Jul 2018 18:19 WIB\n",
      "Sabtu, 21 Jul 2018 17:02 WIB\n",
      "Senin, 16 Jul 2018 20:21 WIB\n",
      "Senin, 16 Jul 2018 19:21 WIB\n",
      "Senin, 16 Jul 2018 18:46 WIB\n",
      "Senin, 16 Jul 2018 11:15 WIB\n",
      "Sabtu 14 July 2018, 02:44 WIB\n",
      "Kamis, 12 Jul 2018 08:04 WIB\n",
      "Rabu, 11 Jul 2018 14:17 WIB\n",
      "Rabu, 11 Jul 2018 13:54 WIB\n",
      "Rabu, 11 Jul 2018 10:35 WIB\n",
      "Minggu 08 July 2018, 13:11 WIB\n",
      "Kamis 05 July 2018, 18:31 WIB\n",
      "Sabtu, 30 Jun 2018 12:21 WIB\n",
      "Selasa, 26 Jun 2018 19:11 WIB\n",
      "Selasa, 26 Jun 2018 18:35 WIB\n",
      "Selasa, 26 Jun 2018 17:14 WIB\n",
      "Selasa, 26 Jun 2018 13:13 WIB\n",
      "Sabtu, 09 Jun 2018 10:30 WIB\n",
      "Jumat 08 June 2018, 19:23 WIB\n",
      "Jumat 08 June 2018, 17:26 WIB\n",
      "Jumat 08 June 2018, 15:38 WIB\n",
      "https://hot.detik.com/art/d-4057446/sipfest-2018-gaet-seniman-dari-prancis-hingga-belgia\n",
      "'NoneType' object has no attribute 'text'\n",
      "\n",
      "Rabu, 06 Jun 2018 21:21 WIB\n",
      "Rabu, 06 Jun 2018 21:05 WIB\n",
      "Rabu, 06 Jun 2018 14:31 WIB\n",
      "Minggu, 03 Jun 2018 16:50 WIB\n",
      "Minggu, 03 Jun 2018 14:03 WIB\n",
      "Senin, 28 May  2018 15:05 WIB\n",
      "Minggu 27 May 2018, 00:33 WIB\n",
      "Jumat, 25 May  2018 06:02 WIB\n",
      "Jumat 25 May 2018, 01:16 WIB\n",
      "Kamis 24 May 2018, 19:36 WIB\n",
      "https://finance.detik.com/infrastruktur/d-4035074/pembebasan-lahan-untuk-proyek-lrt-jabodebek-capai-80\n",
      "'NoneType' object has no attribute 'text'\n",
      "\n",
      "Selasa, 22 May  2018 19:00 WIB\n",
      "Rabu, 16 May  2018 17:48 WIB\n",
      "Rabu, 16 May  2018 14:48 WIB\n",
      "Rabu, 16 May  2018 12:05 WIB\n",
      "Rabu, 16 May  2018 12:04 WIB\n",
      "Rabu, 16 May  2018 11:05 WIB\n",
      "Rabu, 16 May  2018 10:35 WIB\n",
      "Rabu, 16 May  2018 07:46 WIB\n",
      "Selasa, 15 May  2018 18:20 WIB\n",
      "Selasa, 15 May  2018 17:18 WIB\n",
      "Selasa, 15 May  2018 16:00 WIB\n",
      "Selasa, 15 May  2018 15:37 WIB\n",
      "Selasa, 15 May  2018 15:15 WIB\n",
      "Selasa, 15 May  2018 14:20 WIB\n",
      "Jumat, 11 May  2018 12:15 WIB\n",
      "Rabu, 09 May  2018 10:17 WIB\n",
      "Senin, 07 May  2018 12:55 WIB\n",
      "Jumat, 04 May  2018 20:00 WIB\n",
      "Jumat, 04 May  2018 18:56 WIB\n",
      "Minggu, 29 Apr 2018 19:28 WIB\n",
      "Minggu 29 April 2018, 18:42 WIB\n",
      "Minggu, 29 Apr 2018 14:10 WIB\n",
      "Sabtu, 28 Apr 2018 20:45 WIB\n",
      "Sabtu 28 April 2018, 13:11 WIB\n",
      "Rabu 25 April 2018, 09:26 WIB\n",
      "Sabtu, 21 Apr 2018 18:36 WIB\n",
      "Rabu, 18 Apr 2018 15:25 WIB\n",
      "Senin, 16 Apr 2018 17:02 WIB\n",
      "Senin, 16 Apr 2018 16:20 WIB\n",
      "Senin, 16 Apr 2018 15:24 WIB\n",
      "Senin, 16 Apr 2018 14:20 WIB\n",
      "Senin, 16 Apr 2018 13:50 WIB\n",
      "Sabtu, 14 Apr 2018 09:30 WIB\n",
      "Jumat, 13 Apr 2018 21:30 WIB\n",
      "Jumat, 13 Apr 2018 19:43 WIB\n",
      "Jumat, 13 Apr 2018 19:38 WIB\n",
      "Jumat, 13 Apr 2018 18:38 WIB\n",
      "Jumat, 13 Apr 2018 17:28 WIB\n",
      "Rabu 11 April 2018, 18:41 WIB\n",
      "Rabu, 11 Apr 2018 18:30 WIB\n",
      "https://finance.detik.com/infrastruktur/d-3966188/luhut-gelar-rapat-update-proyek-lrt-jabodebek-ini-hasilnya\n",
      "'NoneType' object has no attribute 'text'\n",
      "\n",
      "Senin, 09 Apr 2018 12:07 WIB\n",
      "Senin, 09 Apr 2018 11:29 WIB\n",
      "Minggu, 08 Apr 2018 15:18 WIB\n",
      "Minggu, 08 Apr 2018 12:43 WIB\n",
      "Jumat, 06 Apr 2018 17:13 WIB\n",
      "Senin, 02 Apr 2018 19:05 WIB\n",
      "Sabtu 31 March 2018, 18:53 WIB\n",
      "Kamis, 29 Mar 2018 18:28 WIB\n",
      "Kamis, 29 Mar 2018 16:22 WIB\n",
      "Kamis, 22 Mar 2018 12:20 WIB\n",
      "Rabu, 21 Mar 2018 18:51 WIB\n",
      "Senin, 19 Mar 2018 17:57 WIB\n",
      "Jumat 16 March 2018, 23:46 WIB\n",
      "Jumat, 16 Mar 2018 18:28 WIB\n",
      "Jumat, 16 Mar 2018 17:47 WIB\n",
      "Jumat, 16 Mar 2018 15:27 WIB\n",
      "Jumat, 16 Mar 2018 15:09 WIB\n",
      "Jumat, 16 Mar 2018 13:35 WIB\n",
      "Kamis 15 March 2018, 20:15 WIB\n",
      "Kamis, 15 Mar 2018 17:30 WIB\n",
      "Kamis 15 March 2018, 15:53 WIB\n",
      "Kamis, 15 Mar 2018 15:01 WIB\n",
      "Kamis, 15 Mar 2018 12:58 WIB\n",
      "Kamis 15 March 2018, 10:48 WIB\n",
      "Kamis 15 March 2018, 07:42 WIB\n",
      "Kamis 15 March 2018, 00:55 WIB\n",
      "Rabu 14 March 2018, 23:56 WIB\n",
      "Rabu, 14 Mar 2018 18:10 WIB\n",
      "Rabu, 14 Mar 2018 17:12 WIB\n",
      "Rabu, 14 Mar 2018 15:18 WIB\n",
      "Rabu, 14 Mar 2018 15:03 WIB\n",
      "Rabu, 14 Mar 2018 12:50 WIB\n",
      "Rabu, 14 Mar 2018 10:53 WIB\n",
      "Rabu, 14 Mar 2018 08:56 WIB\n",
      "Selasa, 13 Mar 2018 18:55 WIB\n",
      "Selasa, 13 Mar 2018 18:38 WIB\n",
      "Selasa 13 March 2018, 17:15 WIB\n",
      "Selasa 13 March 2018, 15:24 WIB\n",
      "Senin 12 March 2018, 13:02 WIB\n",
      "Sabtu, 10 Mar 2018 12:58 WIB\n",
      "Jumat, 09 Mar 2018 19:32 WIB\n",
      "Jumat 09 March 2018, 18:13 WIB\n",
      "Jumat, 09 Mar 2018 17:01 WIB\n"
     ]
    },
    {
     "name": "stdout",
     "output_type": "stream",
     "text": [
      "Jumat, 02 Mar 2018 20:33 WIB\n",
      "Kamis, 22 Feb 2018 19:03 WIB\n",
      "Kamis, 22 Feb 2018 17:08 WIB\n",
      "Kamis, 22 Feb 2018 12:37 WIB\n",
      "Kamis, 22 Feb 2018 11:51 WIB\n",
      "Selasa, 20 Feb 2018 21:22 WIB\n",
      "Selasa, 20 Feb 2018 18:30 WIB\n",
      "Selasa, 20 Feb 2018 17:27 WIB\n",
      "Selasa, 20 Feb 2018 13:40 WIB\n",
      "Senin, 19 Feb 2018 10:46 WIB\n",
      "Minggu, 18 Feb 2018 09:15 WIB\n",
      "Sabtu, 17 Feb 2018 19:23 WIB\n",
      "Sabtu, 17 Feb 2018 17:35 WIB\n",
      "Sabtu, 17 Feb 2018 17:02 WIB\n",
      "Sabtu, 17 Feb 2018 16:00 WIB\n",
      "Sabtu, 17 Feb 2018 14:45 WIB\n",
      "Sabtu, 17 Feb 2018 14:22 WIB\n",
      "Sabtu, 17 Feb 2018 13:23 WIB\n",
      "Sabtu, 17 Feb 2018 11:45 WIB\n",
      "Kamis, 08 Feb 2018 19:38 WIB\n",
      "Kamis 08 February 2018, 17:55 WIB\n",
      "Kamis, 01 Feb 2018 10:58 WIB\n",
      "Kamis, 01 Feb 2018 10:43 WIB\n",
      "Kamis, 01 Feb 2018 08:38 WIB\n",
      "Kamis, 01 Feb 2018 08:11 WIB\n",
      "Sabtu 27 January 2018, 09:11 WIB\n",
      "Kamis, 25 Jan 2018 16:36 WIB\n",
      "Rabu, 24 Jan 2018 16:56 WIB\n",
      "Rabu, 24 Jan 2018 13:03 WIB\n",
      "Kamis, 18 Jan 2018 11:21 WIB\n",
      "Minggu, 14 Jan 2018 13:50 WIB\n",
      "Sabtu, 13 Jan 2018 16:27 WIB\n",
      "Sabtu, 13 Jan 2018 14:05 WIB\n",
      "Jumat, 12 Jan 2018 13:55 WIB\n",
      "Jumat, 12 Jan 2018 13:42 WIB\n",
      "Jumat, 12 Jan 2018 13:09 WIB\n",
      "Jumat, 12 Jan 2018 13:09 WIB\n",
      "Jumat, 12 Jan 2018 12:09 WIB\n",
      "Jumat, 12 Jan 2018 08:53 WIB\n",
      "Selasa, 09 Jan 2018 13:53 WIB\n",
      "Selasa, 09 Jan 2018 12:50 WIB\n",
      "Selasa, 09 Jan 2018 09:10 WIB\n",
      "Selasa, 09 Jan 2018 08:50 WIB\n",
      "Selasa, 09 Jan 2018 07:53 WIB\n",
      "Minggu, 07 Jan 2018 19:33 WIB\n",
      "Minggu, 07 Jan 2018 18:00 WIB\n",
      "Minggu, 07 Jan 2018 16:45 WIB\n",
      "Sabtu, 06 Jan 2018 20:02 WIB\n",
      "Kamis, 04 Jan 2018 16:03 WIB\n",
      "Selasa, 02 Jan 2018 10:28 WIB\n",
      "Selasa 02 January 2018, 09:36 WIB\n",
      "Jumat, 29 Dec 2017 15:30 WIB\n",
      "Jumat, 29 Dec 2017 14:19 WIB\n",
      "Jumat, 29 Dec 2017 14:12 WIB\n",
      "Jumat, 29 Dec 2017 13:34 WIB\n",
      "Jumat, 29 Dec 2017 12:47 WIB\n",
      "Kamis, 28 Dec 2017 02:33 WIB\n",
      "Kamis 21 December 2017, 00:00 WIB\n",
      "Rabu, 20 Dec 2017 12:44 WIB\n",
      "Rabu, 20 Dec 2017 10:08 WIB\n",
      "Rabu, 20 Dec 2017 09:34 WIB\n",
      "Selasa, 19 Dec 2017 21:32 WIB\n",
      "Selasa, 19 Dec 2017 19:22 WIB\n",
      "Jumat, 15 Dec 2017 17:18 WIB\n",
      "Kamis 14 December 2017, 12:01 WIB\n",
      "Kamis 14 December 2017, 11:21 WIB\n",
      "Kamis, 14 Dec 2017 09:50 WIB\n",
      "Kamis 14 December 2017, 06:55 WIB\n",
      "Minggu, 10 Dec 2017 19:38 WIB\n",
      "Minggu, 10 Dec 2017 18:32 WIB\n",
      "Minggu, 10 Dec 2017 17:45 WIB\n",
      "Minggu, 10 Dec 2017 17:12 WIB\n",
      "Sabtu, 09 Dec 2017 10:07 WIB\n",
      "Jumat, 08 Dec 2017 23:35 WIB\n",
      "Jumat, 08 Dec 2017 22:50 WIB\n",
      "Jumat, 08 Dec 2017 22:39 WIB\n",
      "Jumat, 08 Dec 2017 22:21 WIB\n",
      "Jumat, 08 Dec 2017 22:11 WIB\n",
      "Jumat, 08 Dec 2017 20:55 WIB\n",
      "Jumat, 08 Dec 2017 14:15 WIB\n",
      "Jumat, 08 Dec 2017 07:54 WIB\n",
      "Jumat, 08 Dec 2017 07:42 WIB\n",
      "Jumat 08 December 2017, 00:00 WIB\n",
      "Jumat 08 December 2017, 00:00 WIB\n",
      "Selasa, 28 Nov 2017 20:23 WIB\n",
      "Selasa, 28 Nov 2017 20:01 WIB\n",
      "Selasa, 28 Nov 2017 14:21 WIB\n",
      "Sabtu, 25 Nov 2017 19:51 WIB\n",
      "Sabtu, 25 Nov 2017 13:11 WIB\n",
      "Jumat, 24 Nov 2017 15:51 WIB\n",
      "Jumat, 24 Nov 2017 14:12 WIB\n",
      "Jumat, 24 Nov 2017 13:36 WIB\n",
      "Jumat, 24 Nov 2017 11:47 WIB\n",
      "Jumat, 24 Nov 2017 11:20 WIB\n",
      "Jumat 24 November 2017, 08:44 WIB\n",
      "Kamis, 23 Nov 2017 19:49 WIB\n",
      "Kamis, 23 Nov 2017 14:33 WIB\n",
      "Kamis, 23 Nov 2017 11:49 WIB\n",
      "Kamis, 23 Nov 2017 11:42 WIB\n",
      "Selasa 21 November 2017, 09:37 WIB\n",
      "Senin, 20 Nov 2017 20:41 WIB\n",
      "Senin, 20 Nov 2017 17:42 WIB\n",
      "Senin, 20 Nov 2017 17:05 WIB\n",
      "Senin 20 November 2017, 08:58 WIB\n",
      "Rabu, 15 Nov 2017 18:55 WIB\n",
      "Rabu, 15 Nov 2017 18:07 WIB\n",
      "Rabu, 15 Nov 2017 14:31 WIB\n",
      "Kamis 09 November 2017, 23:07 WIB\n",
      "Kamis, 09 Nov 2017 12:35 WIB\n",
      "Senin 06 November 2017, 00:00 WIB\n",
      "Sabtu, 04 Nov 2017 15:13 WIB\n",
      "Sabtu, 04 Nov 2017 11:35 WIB\n",
      "Jumat, 03 Nov 2017 16:13 WIB\n",
      "Kamis 02 November 2017, 15:04 WIB\n",
      "Rabu 01 November 2017, 19:32 WIB\n",
      "Rabu 01 November 2017, 17:56 WIB\n",
      "Rabu, 01 Nov 2017 17:00 WIB\n",
      "Rabu 01 November 2017, 13:16 WIB\n",
      "Senin 30 October 2017, 16:55 WIB\n",
      "Senin, 30 Oct 2017 16:18 WIB\n",
      "Jumat, 27 Oct 2017 18:03 WIB\n",
      "Kamis, 26 Oct 2017 10:37 WIB\n",
      "Kamis 26 October 2017, 10:23 WIB\n"
     ]
    },
    {
     "ename": "KeyboardInterrupt",
     "evalue": "",
     "output_type": "error",
     "traceback": [
      "\u001b[0;31m---------------------------------------------------------------------------\u001b[0m",
      "\u001b[0;31mTypeError\u001b[0m                                 Traceback (most recent call last)",
      "\u001b[0;32m/mnt/c/Users/Gilang R Ilhami/Desktop/personal_projects/ibm_stuff/ibmenv/lib/python3.6/site-packages/urllib3/connectionpool.py\u001b[0m in \u001b[0;36m_make_request\u001b[0;34m(self, conn, method, url, timeout, chunked, **httplib_request_kw)\u001b[0m\n\u001b[1;32m    378\u001b[0m                 \u001b[0;31m# Python 2.7, use buffering of HTTP responses\u001b[0m\u001b[0;34m\u001b[0m\u001b[0;34m\u001b[0m\u001b[0;34m\u001b[0m\u001b[0m\n\u001b[0;32m--> 379\u001b[0;31m                 \u001b[0mhttplib_response\u001b[0m \u001b[0;34m=\u001b[0m \u001b[0mconn\u001b[0m\u001b[0;34m.\u001b[0m\u001b[0mgetresponse\u001b[0m\u001b[0;34m(\u001b[0m\u001b[0mbuffering\u001b[0m\u001b[0;34m=\u001b[0m\u001b[0;32mTrue\u001b[0m\u001b[0;34m)\u001b[0m\u001b[0;34m\u001b[0m\u001b[0;34m\u001b[0m\u001b[0m\n\u001b[0m\u001b[1;32m    380\u001b[0m             \u001b[0;32mexcept\u001b[0m \u001b[0mTypeError\u001b[0m\u001b[0;34m:\u001b[0m\u001b[0;34m\u001b[0m\u001b[0;34m\u001b[0m\u001b[0m\n",
      "\u001b[0;31mTypeError\u001b[0m: getresponse() got an unexpected keyword argument 'buffering'",
      "\nDuring handling of the above exception, another exception occurred:\n",
      "\u001b[0;31mKeyboardInterrupt\u001b[0m                         Traceback (most recent call last)",
      "\u001b[0;32m<ipython-input-39-2f292cf02e60>\u001b[0m in \u001b[0;36m<module>\u001b[0;34m\u001b[0m\n\u001b[1;32m      3\u001b[0m     \u001b[0mfile_name\u001b[0m \u001b[0;34m=\u001b[0m \u001b[0;34m\"_\"\u001b[0m\u001b[0;34m.\u001b[0m\u001b[0mjoin\u001b[0m\u001b[0;34m(\u001b[0m\u001b[0mcompany_name\u001b[0m\u001b[0;34m.\u001b[0m\u001b[0msplit\u001b[0m\u001b[0;34m(\u001b[0m\u001b[0;34m)\u001b[0m\u001b[0;34m)\u001b[0m \u001b[0;34m+\u001b[0m \u001b[0;34m\".txt\"\u001b[0m\u001b[0;34m\u001b[0m\u001b[0;34m\u001b[0m\u001b[0m\n\u001b[1;32m      4\u001b[0m \u001b[0;34m\u001b[0m\u001b[0m\n\u001b[0;32m----> 5\u001b[0;31m     \u001b[0mfirst_year_urls\u001b[0m\u001b[0;34m,\u001b[0m \u001b[0msecond_year_urls\u001b[0m \u001b[0;34m=\u001b[0m \u001b[0mall_scraper\u001b[0m\u001b[0;34m(\u001b[0m\u001b[0mdriver\u001b[0m\u001b[0;34m,\u001b[0m \u001b[0mscraper_functions\u001b[0m\u001b[0;34m,\u001b[0m \u001b[0;36m2017\u001b[0m\u001b[0;34m,\u001b[0m \u001b[0;36m2018\u001b[0m\u001b[0;34m,\u001b[0m \u001b[0mcompany\u001b[0m\u001b[0;34m)\u001b[0m\u001b[0;34m\u001b[0m\u001b[0;34m\u001b[0m\u001b[0m\n\u001b[0m\u001b[1;32m      6\u001b[0m \u001b[0;34m\u001b[0m\u001b[0m\n\u001b[1;32m      7\u001b[0m     \u001b[0;32mwith\u001b[0m \u001b[0mopen\u001b[0m\u001b[0;34m(\u001b[0m\u001b[0;34m'lq45/first_year_urls/all_first_year_contents_'\u001b[0m \u001b[0;34m+\u001b[0m \u001b[0mfile_name\u001b[0m\u001b[0;34m,\u001b[0m \u001b[0;34m'w'\u001b[0m\u001b[0;34m)\u001b[0m \u001b[0;32mas\u001b[0m \u001b[0mf\u001b[0m\u001b[0;34m:\u001b[0m\u001b[0;34m\u001b[0m\u001b[0;34m\u001b[0m\u001b[0m\n",
      "\u001b[0;32m<ipython-input-13-0a9b79da7476>\u001b[0m in \u001b[0;36mall_scraper\u001b[0;34m(driver, scraper_list, first_year, second_year, keyword)\u001b[0m\n\u001b[1;32m      5\u001b[0m \u001b[0;34m\u001b[0m\u001b[0m\n\u001b[1;32m      6\u001b[0m     \u001b[0;32mfor\u001b[0m \u001b[0mscraper\u001b[0m \u001b[0;32min\u001b[0m \u001b[0mscraper_list\u001b[0m\u001b[0;34m:\u001b[0m\u001b[0;34m\u001b[0m\u001b[0;34m\u001b[0m\u001b[0m\n\u001b[0;32m----> 7\u001b[0;31m         \u001b[0murls\u001b[0m \u001b[0;34m=\u001b[0m \u001b[0mscraper\u001b[0m\u001b[0;34m(\u001b[0m\u001b[0mdriver\u001b[0m\u001b[0;34m,\u001b[0m \u001b[0mfirst_year\u001b[0m\u001b[0;34m,\u001b[0m \u001b[0msecond_year\u001b[0m\u001b[0;34m,\u001b[0m \u001b[0mkeyword\u001b[0m\u001b[0;34m)\u001b[0m\u001b[0;34m\u001b[0m\u001b[0;34m\u001b[0m\u001b[0m\n\u001b[0m\u001b[1;32m      8\u001b[0m \u001b[0;34m\u001b[0m\u001b[0m\n\u001b[1;32m      9\u001b[0m         \u001b[0;32mif\u001b[0m \u001b[0murls\u001b[0m \u001b[0;32mis\u001b[0m \u001b[0;32mnot\u001b[0m \u001b[0;32mNone\u001b[0m\u001b[0;34m:\u001b[0m\u001b[0;34m\u001b[0m\u001b[0;34m\u001b[0m\u001b[0m\n",
      "\u001b[0;32m<ipython-input-5-2b620a8fd4a3>\u001b[0m in \u001b[0;36mdetik_scraper\u001b[0;34m(driver, first_year, second_year, keyword)\u001b[0m\n\u001b[1;32m     68\u001b[0m     \u001b[0;32mfor\u001b[0m \u001b[0mlink\u001b[0m \u001b[0;32min\u001b[0m \u001b[0mlink_list\u001b[0m\u001b[0;34m:\u001b[0m\u001b[0;34m\u001b[0m\u001b[0;34m\u001b[0m\u001b[0m\n\u001b[1;32m     69\u001b[0m         \u001b[0;32mtry\u001b[0m\u001b[0;34m:\u001b[0m\u001b[0;34m\u001b[0m\u001b[0;34m\u001b[0m\u001b[0m\n\u001b[0;32m---> 70\u001b[0;31m             \u001b[0mdate\u001b[0m \u001b[0;34m=\u001b[0m \u001b[0mget_date_year\u001b[0m\u001b[0;34m(\u001b[0m\u001b[0mlink\u001b[0m\u001b[0;34m,\u001b[0m\u001b[0;34m\"div\"\u001b[0m\u001b[0;34m,\u001b[0m \u001b[0;34m\"class\"\u001b[0m\u001b[0;34m,\u001b[0m \u001b[0;34m\"date\"\u001b[0m\u001b[0;34m)\u001b[0m\u001b[0;34m\u001b[0m\u001b[0;34m\u001b[0m\u001b[0m\n\u001b[0m\u001b[1;32m     71\u001b[0m         \u001b[0;32mexcept\u001b[0m \u001b[0mException\u001b[0m \u001b[0;32mas\u001b[0m \u001b[0me\u001b[0m\u001b[0;34m:\u001b[0m\u001b[0;34m\u001b[0m\u001b[0;34m\u001b[0m\u001b[0m\n\u001b[1;32m     72\u001b[0m             \u001b[0mprint\u001b[0m\u001b[0;34m(\u001b[0m\u001b[0mlink\u001b[0m\u001b[0;34m)\u001b[0m\u001b[0;34m\u001b[0m\u001b[0;34m\u001b[0m\u001b[0m\n",
      "\u001b[0;32m<ipython-input-3-1e047ca4c185>\u001b[0m in \u001b[0;36mget_date_year\u001b[0;34m(url, html_tag, attribute, element)\u001b[0m\n\u001b[1;32m      9\u001b[0m     \u001b[0msession\u001b[0m\u001b[0;34m.\u001b[0m\u001b[0mmount\u001b[0m\u001b[0;34m(\u001b[0m\u001b[0;34m'http://'\u001b[0m\u001b[0;34m,\u001b[0m \u001b[0madapter\u001b[0m\u001b[0;34m)\u001b[0m\u001b[0;34m\u001b[0m\u001b[0;34m\u001b[0m\u001b[0m\n\u001b[1;32m     10\u001b[0m \u001b[0;34m\u001b[0m\u001b[0m\n\u001b[0;32m---> 11\u001b[0;31m     \u001b[0mr\u001b[0m \u001b[0;34m=\u001b[0m \u001b[0msession\u001b[0m\u001b[0;34m.\u001b[0m\u001b[0mget\u001b[0m\u001b[0;34m(\u001b[0m\u001b[0murl\u001b[0m\u001b[0;34m,\u001b[0m \u001b[0mheaders\u001b[0m\u001b[0;34m=\u001b[0m\u001b[0mheaders\u001b[0m\u001b[0;34m)\u001b[0m\u001b[0;34m\u001b[0m\u001b[0;34m\u001b[0m\u001b[0m\n\u001b[0m\u001b[1;32m     12\u001b[0m \u001b[0;34m\u001b[0m\u001b[0m\n\u001b[1;32m     13\u001b[0m     month_dict = {'Januari': 'January',\n",
      "\u001b[0;32m/mnt/c/Users/Gilang R Ilhami/Desktop/personal_projects/ibm_stuff/ibmenv/lib/python3.6/site-packages/requests/sessions.py\u001b[0m in \u001b[0;36mget\u001b[0;34m(self, url, **kwargs)\u001b[0m\n\u001b[1;32m    544\u001b[0m \u001b[0;34m\u001b[0m\u001b[0m\n\u001b[1;32m    545\u001b[0m         \u001b[0mkwargs\u001b[0m\u001b[0;34m.\u001b[0m\u001b[0msetdefault\u001b[0m\u001b[0;34m(\u001b[0m\u001b[0;34m'allow_redirects'\u001b[0m\u001b[0;34m,\u001b[0m \u001b[0;32mTrue\u001b[0m\u001b[0;34m)\u001b[0m\u001b[0;34m\u001b[0m\u001b[0;34m\u001b[0m\u001b[0m\n\u001b[0;32m--> 546\u001b[0;31m         \u001b[0;32mreturn\u001b[0m \u001b[0mself\u001b[0m\u001b[0;34m.\u001b[0m\u001b[0mrequest\u001b[0m\u001b[0;34m(\u001b[0m\u001b[0;34m'GET'\u001b[0m\u001b[0;34m,\u001b[0m \u001b[0murl\u001b[0m\u001b[0;34m,\u001b[0m \u001b[0;34m**\u001b[0m\u001b[0mkwargs\u001b[0m\u001b[0;34m)\u001b[0m\u001b[0;34m\u001b[0m\u001b[0;34m\u001b[0m\u001b[0m\n\u001b[0m\u001b[1;32m    547\u001b[0m \u001b[0;34m\u001b[0m\u001b[0m\n\u001b[1;32m    548\u001b[0m     \u001b[0;32mdef\u001b[0m \u001b[0moptions\u001b[0m\u001b[0;34m(\u001b[0m\u001b[0mself\u001b[0m\u001b[0;34m,\u001b[0m \u001b[0murl\u001b[0m\u001b[0;34m,\u001b[0m \u001b[0;34m**\u001b[0m\u001b[0mkwargs\u001b[0m\u001b[0;34m)\u001b[0m\u001b[0;34m:\u001b[0m\u001b[0;34m\u001b[0m\u001b[0;34m\u001b[0m\u001b[0m\n",
      "\u001b[0;32m/mnt/c/Users/Gilang R Ilhami/Desktop/personal_projects/ibm_stuff/ibmenv/lib/python3.6/site-packages/requests/sessions.py\u001b[0m in \u001b[0;36mrequest\u001b[0;34m(self, method, url, params, data, headers, cookies, files, auth, timeout, allow_redirects, proxies, hooks, stream, verify, cert, json)\u001b[0m\n\u001b[1;32m    531\u001b[0m         }\n\u001b[1;32m    532\u001b[0m         \u001b[0msend_kwargs\u001b[0m\u001b[0;34m.\u001b[0m\u001b[0mupdate\u001b[0m\u001b[0;34m(\u001b[0m\u001b[0msettings\u001b[0m\u001b[0;34m)\u001b[0m\u001b[0;34m\u001b[0m\u001b[0;34m\u001b[0m\u001b[0m\n\u001b[0;32m--> 533\u001b[0;31m         \u001b[0mresp\u001b[0m \u001b[0;34m=\u001b[0m \u001b[0mself\u001b[0m\u001b[0;34m.\u001b[0m\u001b[0msend\u001b[0m\u001b[0;34m(\u001b[0m\u001b[0mprep\u001b[0m\u001b[0;34m,\u001b[0m \u001b[0;34m**\u001b[0m\u001b[0msend_kwargs\u001b[0m\u001b[0;34m)\u001b[0m\u001b[0;34m\u001b[0m\u001b[0;34m\u001b[0m\u001b[0m\n\u001b[0m\u001b[1;32m    534\u001b[0m \u001b[0;34m\u001b[0m\u001b[0m\n\u001b[1;32m    535\u001b[0m         \u001b[0;32mreturn\u001b[0m \u001b[0mresp\u001b[0m\u001b[0;34m\u001b[0m\u001b[0;34m\u001b[0m\u001b[0m\n",
      "\u001b[0;32m/mnt/c/Users/Gilang R Ilhami/Desktop/personal_projects/ibm_stuff/ibmenv/lib/python3.6/site-packages/requests/sessions.py\u001b[0m in \u001b[0;36msend\u001b[0;34m(self, request, **kwargs)\u001b[0m\n\u001b[1;32m    644\u001b[0m \u001b[0;34m\u001b[0m\u001b[0m\n\u001b[1;32m    645\u001b[0m         \u001b[0;31m# Send the request\u001b[0m\u001b[0;34m\u001b[0m\u001b[0;34m\u001b[0m\u001b[0;34m\u001b[0m\u001b[0m\n\u001b[0;32m--> 646\u001b[0;31m         \u001b[0mr\u001b[0m \u001b[0;34m=\u001b[0m \u001b[0madapter\u001b[0m\u001b[0;34m.\u001b[0m\u001b[0msend\u001b[0m\u001b[0;34m(\u001b[0m\u001b[0mrequest\u001b[0m\u001b[0;34m,\u001b[0m \u001b[0;34m**\u001b[0m\u001b[0mkwargs\u001b[0m\u001b[0;34m)\u001b[0m\u001b[0;34m\u001b[0m\u001b[0;34m\u001b[0m\u001b[0m\n\u001b[0m\u001b[1;32m    647\u001b[0m \u001b[0;34m\u001b[0m\u001b[0m\n\u001b[1;32m    648\u001b[0m         \u001b[0;31m# Total elapsed time of the request (approximately)\u001b[0m\u001b[0;34m\u001b[0m\u001b[0;34m\u001b[0m\u001b[0;34m\u001b[0m\u001b[0m\n",
      "\u001b[0;32m/mnt/c/Users/Gilang R Ilhami/Desktop/personal_projects/ibm_stuff/ibmenv/lib/python3.6/site-packages/requests/adapters.py\u001b[0m in \u001b[0;36msend\u001b[0;34m(self, request, stream, timeout, verify, cert, proxies)\u001b[0m\n\u001b[1;32m    447\u001b[0m                     \u001b[0mdecode_content\u001b[0m\u001b[0;34m=\u001b[0m\u001b[0;32mFalse\u001b[0m\u001b[0;34m,\u001b[0m\u001b[0;34m\u001b[0m\u001b[0;34m\u001b[0m\u001b[0m\n\u001b[1;32m    448\u001b[0m                     \u001b[0mretries\u001b[0m\u001b[0;34m=\u001b[0m\u001b[0mself\u001b[0m\u001b[0;34m.\u001b[0m\u001b[0mmax_retries\u001b[0m\u001b[0;34m,\u001b[0m\u001b[0;34m\u001b[0m\u001b[0;34m\u001b[0m\u001b[0m\n\u001b[0;32m--> 449\u001b[0;31m                     \u001b[0mtimeout\u001b[0m\u001b[0;34m=\u001b[0m\u001b[0mtimeout\u001b[0m\u001b[0;34m\u001b[0m\u001b[0;34m\u001b[0m\u001b[0m\n\u001b[0m\u001b[1;32m    450\u001b[0m                 )\n\u001b[1;32m    451\u001b[0m \u001b[0;34m\u001b[0m\u001b[0m\n",
      "\u001b[0;32m/mnt/c/Users/Gilang R Ilhami/Desktop/personal_projects/ibm_stuff/ibmenv/lib/python3.6/site-packages/urllib3/connectionpool.py\u001b[0m in \u001b[0;36murlopen\u001b[0;34m(self, method, url, body, headers, retries, redirect, assert_same_host, timeout, pool_timeout, release_conn, chunked, body_pos, **response_kw)\u001b[0m\n\u001b[1;32m    601\u001b[0m                                                   \u001b[0mtimeout\u001b[0m\u001b[0;34m=\u001b[0m\u001b[0mtimeout_obj\u001b[0m\u001b[0;34m,\u001b[0m\u001b[0;34m\u001b[0m\u001b[0;34m\u001b[0m\u001b[0m\n\u001b[1;32m    602\u001b[0m                                                   \u001b[0mbody\u001b[0m\u001b[0;34m=\u001b[0m\u001b[0mbody\u001b[0m\u001b[0;34m,\u001b[0m \u001b[0mheaders\u001b[0m\u001b[0;34m=\u001b[0m\u001b[0mheaders\u001b[0m\u001b[0;34m,\u001b[0m\u001b[0;34m\u001b[0m\u001b[0;34m\u001b[0m\u001b[0m\n\u001b[0;32m--> 603\u001b[0;31m                                                   chunked=chunked)\n\u001b[0m\u001b[1;32m    604\u001b[0m \u001b[0;34m\u001b[0m\u001b[0m\n\u001b[1;32m    605\u001b[0m             \u001b[0;31m# If we're going to release the connection in ``finally:``, then\u001b[0m\u001b[0;34m\u001b[0m\u001b[0;34m\u001b[0m\u001b[0;34m\u001b[0m\u001b[0m\n",
      "\u001b[0;32m/mnt/c/Users/Gilang R Ilhami/Desktop/personal_projects/ibm_stuff/ibmenv/lib/python3.6/site-packages/urllib3/connectionpool.py\u001b[0m in \u001b[0;36m_make_request\u001b[0;34m(self, conn, method, url, timeout, chunked, **httplib_request_kw)\u001b[0m\n\u001b[1;32m    381\u001b[0m                 \u001b[0;31m# Python 3\u001b[0m\u001b[0;34m\u001b[0m\u001b[0;34m\u001b[0m\u001b[0;34m\u001b[0m\u001b[0m\n\u001b[1;32m    382\u001b[0m                 \u001b[0;32mtry\u001b[0m\u001b[0;34m:\u001b[0m\u001b[0;34m\u001b[0m\u001b[0;34m\u001b[0m\u001b[0m\n\u001b[0;32m--> 383\u001b[0;31m                     \u001b[0mhttplib_response\u001b[0m \u001b[0;34m=\u001b[0m \u001b[0mconn\u001b[0m\u001b[0;34m.\u001b[0m\u001b[0mgetresponse\u001b[0m\u001b[0;34m(\u001b[0m\u001b[0;34m)\u001b[0m\u001b[0;34m\u001b[0m\u001b[0;34m\u001b[0m\u001b[0m\n\u001b[0m\u001b[1;32m    384\u001b[0m                 \u001b[0;32mexcept\u001b[0m \u001b[0mException\u001b[0m \u001b[0;32mas\u001b[0m \u001b[0me\u001b[0m\u001b[0;34m:\u001b[0m\u001b[0;34m\u001b[0m\u001b[0;34m\u001b[0m\u001b[0m\n\u001b[1;32m    385\u001b[0m                     \u001b[0;31m# Remove the TypeError from the exception chain in Python 3;\u001b[0m\u001b[0;34m\u001b[0m\u001b[0;34m\u001b[0m\u001b[0;34m\u001b[0m\u001b[0m\n",
      "\u001b[0;32m/usr/lib/python3.6/http/client.py\u001b[0m in \u001b[0;36mgetresponse\u001b[0;34m(self)\u001b[0m\n\u001b[1;32m   1329\u001b[0m         \u001b[0;32mtry\u001b[0m\u001b[0;34m:\u001b[0m\u001b[0;34m\u001b[0m\u001b[0;34m\u001b[0m\u001b[0m\n\u001b[1;32m   1330\u001b[0m             \u001b[0;32mtry\u001b[0m\u001b[0;34m:\u001b[0m\u001b[0;34m\u001b[0m\u001b[0;34m\u001b[0m\u001b[0m\n\u001b[0;32m-> 1331\u001b[0;31m                 \u001b[0mresponse\u001b[0m\u001b[0;34m.\u001b[0m\u001b[0mbegin\u001b[0m\u001b[0;34m(\u001b[0m\u001b[0;34m)\u001b[0m\u001b[0;34m\u001b[0m\u001b[0;34m\u001b[0m\u001b[0m\n\u001b[0m\u001b[1;32m   1332\u001b[0m             \u001b[0;32mexcept\u001b[0m \u001b[0mConnectionError\u001b[0m\u001b[0;34m:\u001b[0m\u001b[0;34m\u001b[0m\u001b[0;34m\u001b[0m\u001b[0m\n\u001b[1;32m   1333\u001b[0m                 \u001b[0mself\u001b[0m\u001b[0;34m.\u001b[0m\u001b[0mclose\u001b[0m\u001b[0;34m(\u001b[0m\u001b[0;34m)\u001b[0m\u001b[0;34m\u001b[0m\u001b[0;34m\u001b[0m\u001b[0m\n",
      "\u001b[0;32m/usr/lib/python3.6/http/client.py\u001b[0m in \u001b[0;36mbegin\u001b[0;34m(self)\u001b[0m\n\u001b[1;32m    295\u001b[0m         \u001b[0;31m# read until we get a non-100 response\u001b[0m\u001b[0;34m\u001b[0m\u001b[0;34m\u001b[0m\u001b[0;34m\u001b[0m\u001b[0m\n\u001b[1;32m    296\u001b[0m         \u001b[0;32mwhile\u001b[0m \u001b[0;32mTrue\u001b[0m\u001b[0;34m:\u001b[0m\u001b[0;34m\u001b[0m\u001b[0;34m\u001b[0m\u001b[0m\n\u001b[0;32m--> 297\u001b[0;31m             \u001b[0mversion\u001b[0m\u001b[0;34m,\u001b[0m \u001b[0mstatus\u001b[0m\u001b[0;34m,\u001b[0m \u001b[0mreason\u001b[0m \u001b[0;34m=\u001b[0m \u001b[0mself\u001b[0m\u001b[0;34m.\u001b[0m\u001b[0m_read_status\u001b[0m\u001b[0;34m(\u001b[0m\u001b[0;34m)\u001b[0m\u001b[0;34m\u001b[0m\u001b[0;34m\u001b[0m\u001b[0m\n\u001b[0m\u001b[1;32m    298\u001b[0m             \u001b[0;32mif\u001b[0m \u001b[0mstatus\u001b[0m \u001b[0;34m!=\u001b[0m \u001b[0mCONTINUE\u001b[0m\u001b[0;34m:\u001b[0m\u001b[0;34m\u001b[0m\u001b[0;34m\u001b[0m\u001b[0m\n\u001b[1;32m    299\u001b[0m                 \u001b[0;32mbreak\u001b[0m\u001b[0;34m\u001b[0m\u001b[0;34m\u001b[0m\u001b[0m\n",
      "\u001b[0;32m/usr/lib/python3.6/http/client.py\u001b[0m in \u001b[0;36m_read_status\u001b[0;34m(self)\u001b[0m\n\u001b[1;32m    256\u001b[0m \u001b[0;34m\u001b[0m\u001b[0m\n\u001b[1;32m    257\u001b[0m     \u001b[0;32mdef\u001b[0m \u001b[0m_read_status\u001b[0m\u001b[0;34m(\u001b[0m\u001b[0mself\u001b[0m\u001b[0;34m)\u001b[0m\u001b[0;34m:\u001b[0m\u001b[0;34m\u001b[0m\u001b[0;34m\u001b[0m\u001b[0m\n\u001b[0;32m--> 258\u001b[0;31m         \u001b[0mline\u001b[0m \u001b[0;34m=\u001b[0m \u001b[0mstr\u001b[0m\u001b[0;34m(\u001b[0m\u001b[0mself\u001b[0m\u001b[0;34m.\u001b[0m\u001b[0mfp\u001b[0m\u001b[0;34m.\u001b[0m\u001b[0mreadline\u001b[0m\u001b[0;34m(\u001b[0m\u001b[0m_MAXLINE\u001b[0m \u001b[0;34m+\u001b[0m \u001b[0;36m1\u001b[0m\u001b[0;34m)\u001b[0m\u001b[0;34m,\u001b[0m \u001b[0;34m\"iso-8859-1\"\u001b[0m\u001b[0;34m)\u001b[0m\u001b[0;34m\u001b[0m\u001b[0;34m\u001b[0m\u001b[0m\n\u001b[0m\u001b[1;32m    259\u001b[0m         \u001b[0;32mif\u001b[0m \u001b[0mlen\u001b[0m\u001b[0;34m(\u001b[0m\u001b[0mline\u001b[0m\u001b[0;34m)\u001b[0m \u001b[0;34m>\u001b[0m \u001b[0m_MAXLINE\u001b[0m\u001b[0;34m:\u001b[0m\u001b[0;34m\u001b[0m\u001b[0;34m\u001b[0m\u001b[0m\n\u001b[1;32m    260\u001b[0m             \u001b[0;32mraise\u001b[0m \u001b[0mLineTooLong\u001b[0m\u001b[0;34m(\u001b[0m\u001b[0;34m\"status line\"\u001b[0m\u001b[0;34m)\u001b[0m\u001b[0;34m\u001b[0m\u001b[0;34m\u001b[0m\u001b[0m\n",
      "\u001b[0;32m/usr/lib/python3.6/socket.py\u001b[0m in \u001b[0;36mreadinto\u001b[0;34m(self, b)\u001b[0m\n\u001b[1;32m    584\u001b[0m         \u001b[0;32mwhile\u001b[0m \u001b[0;32mTrue\u001b[0m\u001b[0;34m:\u001b[0m\u001b[0;34m\u001b[0m\u001b[0;34m\u001b[0m\u001b[0m\n\u001b[1;32m    585\u001b[0m             \u001b[0;32mtry\u001b[0m\u001b[0;34m:\u001b[0m\u001b[0;34m\u001b[0m\u001b[0;34m\u001b[0m\u001b[0m\n\u001b[0;32m--> 586\u001b[0;31m                 \u001b[0;32mreturn\u001b[0m \u001b[0mself\u001b[0m\u001b[0;34m.\u001b[0m\u001b[0m_sock\u001b[0m\u001b[0;34m.\u001b[0m\u001b[0mrecv_into\u001b[0m\u001b[0;34m(\u001b[0m\u001b[0mb\u001b[0m\u001b[0;34m)\u001b[0m\u001b[0;34m\u001b[0m\u001b[0;34m\u001b[0m\u001b[0m\n\u001b[0m\u001b[1;32m    587\u001b[0m             \u001b[0;32mexcept\u001b[0m \u001b[0mtimeout\u001b[0m\u001b[0;34m:\u001b[0m\u001b[0;34m\u001b[0m\u001b[0;34m\u001b[0m\u001b[0m\n\u001b[1;32m    588\u001b[0m                 \u001b[0mself\u001b[0m\u001b[0;34m.\u001b[0m\u001b[0m_timeout_occurred\u001b[0m \u001b[0;34m=\u001b[0m \u001b[0;32mTrue\u001b[0m\u001b[0;34m\u001b[0m\u001b[0;34m\u001b[0m\u001b[0m\n",
      "\u001b[0;32m/usr/lib/python3.6/ssl.py\u001b[0m in \u001b[0;36mrecv_into\u001b[0;34m(self, buffer, nbytes, flags)\u001b[0m\n\u001b[1;32m   1010\u001b[0m                   \u001b[0;34m\"non-zero flags not allowed in calls to recv_into() on %s\"\u001b[0m \u001b[0;34m%\u001b[0m\u001b[0;34m\u001b[0m\u001b[0;34m\u001b[0m\u001b[0m\n\u001b[1;32m   1011\u001b[0m                   self.__class__)\n\u001b[0;32m-> 1012\u001b[0;31m             \u001b[0;32mreturn\u001b[0m \u001b[0mself\u001b[0m\u001b[0;34m.\u001b[0m\u001b[0mread\u001b[0m\u001b[0;34m(\u001b[0m\u001b[0mnbytes\u001b[0m\u001b[0;34m,\u001b[0m \u001b[0mbuffer\u001b[0m\u001b[0;34m)\u001b[0m\u001b[0;34m\u001b[0m\u001b[0;34m\u001b[0m\u001b[0m\n\u001b[0m\u001b[1;32m   1013\u001b[0m         \u001b[0;32melse\u001b[0m\u001b[0;34m:\u001b[0m\u001b[0;34m\u001b[0m\u001b[0;34m\u001b[0m\u001b[0m\n\u001b[1;32m   1014\u001b[0m             \u001b[0;32mreturn\u001b[0m \u001b[0msocket\u001b[0m\u001b[0;34m.\u001b[0m\u001b[0mrecv_into\u001b[0m\u001b[0;34m(\u001b[0m\u001b[0mself\u001b[0m\u001b[0;34m,\u001b[0m \u001b[0mbuffer\u001b[0m\u001b[0;34m,\u001b[0m \u001b[0mnbytes\u001b[0m\u001b[0;34m,\u001b[0m \u001b[0mflags\u001b[0m\u001b[0;34m)\u001b[0m\u001b[0;34m\u001b[0m\u001b[0;34m\u001b[0m\u001b[0m\n",
      "\u001b[0;32m/usr/lib/python3.6/ssl.py\u001b[0m in \u001b[0;36mread\u001b[0;34m(self, len, buffer)\u001b[0m\n\u001b[1;32m    872\u001b[0m             \u001b[0;32mraise\u001b[0m \u001b[0mValueError\u001b[0m\u001b[0;34m(\u001b[0m\u001b[0;34m\"Read on closed or unwrapped SSL socket.\"\u001b[0m\u001b[0;34m)\u001b[0m\u001b[0;34m\u001b[0m\u001b[0;34m\u001b[0m\u001b[0m\n\u001b[1;32m    873\u001b[0m         \u001b[0;32mtry\u001b[0m\u001b[0;34m:\u001b[0m\u001b[0;34m\u001b[0m\u001b[0;34m\u001b[0m\u001b[0m\n\u001b[0;32m--> 874\u001b[0;31m             \u001b[0;32mreturn\u001b[0m \u001b[0mself\u001b[0m\u001b[0;34m.\u001b[0m\u001b[0m_sslobj\u001b[0m\u001b[0;34m.\u001b[0m\u001b[0mread\u001b[0m\u001b[0;34m(\u001b[0m\u001b[0mlen\u001b[0m\u001b[0;34m,\u001b[0m \u001b[0mbuffer\u001b[0m\u001b[0;34m)\u001b[0m\u001b[0;34m\u001b[0m\u001b[0;34m\u001b[0m\u001b[0m\n\u001b[0m\u001b[1;32m    875\u001b[0m         \u001b[0;32mexcept\u001b[0m \u001b[0mSSLError\u001b[0m \u001b[0;32mas\u001b[0m \u001b[0mx\u001b[0m\u001b[0;34m:\u001b[0m\u001b[0;34m\u001b[0m\u001b[0;34m\u001b[0m\u001b[0m\n\u001b[1;32m    876\u001b[0m             \u001b[0;32mif\u001b[0m \u001b[0mx\u001b[0m\u001b[0;34m.\u001b[0m\u001b[0margs\u001b[0m\u001b[0;34m[\u001b[0m\u001b[0;36m0\u001b[0m\u001b[0;34m]\u001b[0m \u001b[0;34m==\u001b[0m \u001b[0mSSL_ERROR_EOF\u001b[0m \u001b[0;32mand\u001b[0m \u001b[0mself\u001b[0m\u001b[0;34m.\u001b[0m\u001b[0msuppress_ragged_eofs\u001b[0m\u001b[0;34m:\u001b[0m\u001b[0;34m\u001b[0m\u001b[0;34m\u001b[0m\u001b[0m\n",
      "\u001b[0;32m/usr/lib/python3.6/ssl.py\u001b[0m in \u001b[0;36mread\u001b[0;34m(self, len, buffer)\u001b[0m\n\u001b[1;32m    629\u001b[0m         \"\"\"\n\u001b[1;32m    630\u001b[0m         \u001b[0;32mif\u001b[0m \u001b[0mbuffer\u001b[0m \u001b[0;32mis\u001b[0m \u001b[0;32mnot\u001b[0m \u001b[0;32mNone\u001b[0m\u001b[0;34m:\u001b[0m\u001b[0;34m\u001b[0m\u001b[0;34m\u001b[0m\u001b[0m\n\u001b[0;32m--> 631\u001b[0;31m             \u001b[0mv\u001b[0m \u001b[0;34m=\u001b[0m \u001b[0mself\u001b[0m\u001b[0;34m.\u001b[0m\u001b[0m_sslobj\u001b[0m\u001b[0;34m.\u001b[0m\u001b[0mread\u001b[0m\u001b[0;34m(\u001b[0m\u001b[0mlen\u001b[0m\u001b[0;34m,\u001b[0m \u001b[0mbuffer\u001b[0m\u001b[0;34m)\u001b[0m\u001b[0;34m\u001b[0m\u001b[0;34m\u001b[0m\u001b[0m\n\u001b[0m\u001b[1;32m    632\u001b[0m         \u001b[0;32melse\u001b[0m\u001b[0;34m:\u001b[0m\u001b[0;34m\u001b[0m\u001b[0;34m\u001b[0m\u001b[0m\n\u001b[1;32m    633\u001b[0m             \u001b[0mv\u001b[0m \u001b[0;34m=\u001b[0m \u001b[0mself\u001b[0m\u001b[0;34m.\u001b[0m\u001b[0m_sslobj\u001b[0m\u001b[0;34m.\u001b[0m\u001b[0mread\u001b[0m\u001b[0;34m(\u001b[0m\u001b[0mlen\u001b[0m\u001b[0;34m)\u001b[0m\u001b[0;34m\u001b[0m\u001b[0;34m\u001b[0m\u001b[0m\n",
      "\u001b[0;31mKeyboardInterrupt\u001b[0m: "
     ]
    }
   ],
   "source": [
    "for company in companies:\n",
    "    company_name = company.lower()\n",
    "    file_name = \"_\".join(company_name.split()) + \".txt\"\n",
    "    \n",
    "    first_year_urls, second_year_urls = all_scraper(driver, scraper_functions, 2017, 2018, company)\n",
    "    \n",
    "    with open('lq45/first_year_urls/all_first_year_contents_' + file_name, 'w') as f:\n",
    "        for url in first_year_urls:\n",
    "            f.write(\"%s\\n\" % url)\n",
    "    \n",
    "    with open('lq45/second_year_urls/all_second_year_contents_' + file_name, 'w') as f:\n",
    "        for url in second_year_urls:\n",
    "            f.write(\"%s\\n\" % url)\n",
    "    "
   ]
  },
  {
   "cell_type": "code",
   "execution_count": 21,
   "metadata": {},
   "outputs": [
    {
     "ename": "TypeError",
     "evalue": "can only concatenate list (not \"NoneType\") to list",
     "output_type": "error",
     "traceback": [
      "\u001b[0;31m---------------------------------------------------------------------------\u001b[0m",
      "\u001b[0;31mTypeError\u001b[0m                                 Traceback (most recent call last)",
      "\u001b[0;32m<ipython-input-21-2e0851b75986>\u001b[0m in \u001b[0;36m<module>\u001b[0;34m\u001b[0m\n\u001b[1;32m      1\u001b[0m \u001b[0mtry_list\u001b[0m \u001b[0;34m=\u001b[0m \u001b[0;34m[\u001b[0m\u001b[0;34m]\u001b[0m\u001b[0;34m\u001b[0m\u001b[0;34m\u001b[0m\u001b[0m\n\u001b[0;32m----> 2\u001b[0;31m \u001b[0mtry_list\u001b[0m \u001b[0;34m+\u001b[0m \u001b[0;32mNone\u001b[0m\u001b[0;34m\u001b[0m\u001b[0;34m\u001b[0m\u001b[0m\n\u001b[0m",
      "\u001b[0;31mTypeError\u001b[0m: can only concatenate list (not \"NoneType\") to list"
     ]
    }
   ],
   "source": [
    "try_list = []\n",
    "try_list + None"
   ]
  },
  {
   "cell_type": "code",
   "execution_count": null,
   "metadata": {},
   "outputs": [],
   "source": []
  }
 ],
 "metadata": {
  "kernelspec": {
   "display_name": "ibmenv",
   "language": "python",
   "name": "ibmenv"
  },
  "language_info": {
   "codemirror_mode": {
    "name": "ipython",
    "version": 3
   },
   "file_extension": ".py",
   "mimetype": "text/x-python",
   "name": "python",
   "nbconvert_exporter": "python",
   "pygments_lexer": "ipython3",
   "version": "3.6.8"
  }
 },
 "nbformat": 4,
 "nbformat_minor": 2
}
